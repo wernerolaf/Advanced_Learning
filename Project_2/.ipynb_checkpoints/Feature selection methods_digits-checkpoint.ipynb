{
 "cells": [
  {
   "cell_type": "markdown",
   "metadata": {},
   "source": [
    "# Digits dataset"
   ]
  },
  {
   "cell_type": "code",
   "execution_count": 1,
   "metadata": {},
   "outputs": [],
   "source": [
    "import pandas as pd\n",
    "import numpy as np\n",
    "from sklearn.preprocessing import MinMaxScaler\n",
    "from sklearn.linear_model import LogisticRegression\n",
    "from sklearn.ensemble import RandomForestClassifier\n",
    "from sklearn.decomposition import PCA\n",
    "from sklearn.metrics import balanced_accuracy_score\n",
    "from sklearn.feature_selection import VarianceThreshold\n",
    "from sklearn.feature_selection import SelectKBest\n",
    "from sklearn.feature_selection import chi2\n",
    "from sklearn.feature_selection import SequentialFeatureSelector, SelectFromModel\n",
    "from sklearn.linear_model import LassoCV\n",
    "from boruta import BorutaPy"
   ]
  },
  {
   "cell_type": "code",
   "execution_count": 2,
   "metadata": {},
   "outputs": [],
   "source": [
    "x_train_digits=pd.read_csv(\"data/digits_train.data\",header=None, sep=\" \")\n",
    "\n",
    "x_train_digits=x_train_digits.drop(columns=[5000])\n",
    "\n",
    "y_train_digits=pd.read_csv(\"data/digits_train.labels\",header=None, sep=\" \")\n",
    "\n",
    "y_train_digits=y_train_digits.to_numpy().reshape(-1)\n",
    "\n",
    "x_val_digits=pd.read_csv(\"data/digits_valid.data\",header=None, sep=\" \").iloc[:,:5000]\n",
    "\n",
    "scaler = MinMaxScaler()\n",
    "scaler.fit(x_train_digits)\n",
    "x_train=scaler.transform(x_train_digits)\n",
    "x_val=scaler.transform(x_val_digits)"
   ]
  },
  {
   "cell_type": "code",
   "execution_count": 3,
   "metadata": {},
   "outputs": [],
   "source": [
    "kbest = SelectKBest(chi2, k=3500)\n",
    "kbest.fit(x_train_digits, y_train_digits)\n",
    "x_digits_kbest = kbest.transform(x_train_digits)\n",
    "x_val = kbest.transform(x_train_digits)"
   ]
  },
  {
   "cell_type": "code",
   "execution_count": null,
   "metadata": {},
   "outputs": [
    {
     "name": "stdout",
     "output_type": "stream",
     "text": [
      "Iteration: \t1 / 3000\n",
      "Confirmed: \t0\n",
      "Tentative: \t3500\n",
      "Rejected: \t0\n",
      "Iteration: \t2 / 3000\n",
      "Confirmed: \t0\n",
      "Tentative: \t3500\n",
      "Rejected: \t0\n",
      "Iteration: \t3 / 3000\n",
      "Confirmed: \t0\n",
      "Tentative: \t3500\n",
      "Rejected: \t0\n",
      "Iteration: \t4 / 3000\n",
      "Confirmed: \t0\n",
      "Tentative: \t3500\n",
      "Rejected: \t0\n",
      "Iteration: \t5 / 3000\n",
      "Confirmed: \t0\n",
      "Tentative: \t3500\n",
      "Rejected: \t0\n",
      "Iteration: \t6 / 3000\n",
      "Confirmed: \t0\n",
      "Tentative: \t3500\n",
      "Rejected: \t0\n",
      "Iteration: \t7 / 3000\n",
      "Confirmed: \t0\n",
      "Tentative: \t3500\n",
      "Rejected: \t0\n",
      "Iteration: \t8 / 3000\n",
      "Confirmed: \t1073\n",
      "Tentative: \t588\n",
      "Rejected: \t1839\n",
      "Iteration: \t9 / 3000\n",
      "Confirmed: \t1073\n",
      "Tentative: \t588\n",
      "Rejected: \t1839\n",
      "Iteration: \t10 / 3000\n",
      "Confirmed: \t1073\n",
      "Tentative: \t588\n",
      "Rejected: \t1839\n",
      "Iteration: \t11 / 3000\n",
      "Confirmed: \t1073\n",
      "Tentative: \t588\n",
      "Rejected: \t1839\n",
      "Iteration: \t12 / 3000\n",
      "Confirmed: \t1125\n",
      "Tentative: \t536\n",
      "Rejected: \t1839\n"
     ]
    }
   ],
   "source": [
    "rf_digits = RandomForestClassifier(n_jobs=-1, class_weight='balanced', max_depth=5)\n",
    "feat_selector_digits = BorutaPy(rf_digits, n_estimators='auto', verbose=2, random_state=1, max_iter = 3000)\n",
    "feat_selector_digits.fit(x_digits_kbest, y_train_digits)"
   ]
  },
  {
   "cell_type": "code",
   "execution_count": 5,
   "metadata": {},
   "outputs": [],
   "source": [
    "x_digits_boruta = feat_selector_digits.transform(x_digits_kbest)\n",
    "x_val = feat_selector_digits.transform(x_val)"
   ]
  },
  {
   "cell_type": "code",
   "execution_count": 62,
   "metadata": {},
   "outputs": [],
   "source": [
    "pca = PCA(n_components=40)\n",
    "\n",
    "pca.fit(x_digits_boruta)\n",
    "\n",
    "x_train_pca=pca.transform(x_digits_boruta)\n",
    "x_val_pca=pca.transform(x_val)"
   ]
  },
  {
   "cell_type": "code",
   "execution_count": 63,
   "metadata": {},
   "outputs": [
    {
     "data": {
      "text/plain": [
       "1.0"
      ]
     },
     "execution_count": 63,
     "metadata": {},
     "output_type": "execute_result"
    }
   ],
   "source": [
    "forest=RandomForestClassifier().fit(x_train_pca, y_train_digits)\n",
    "\n",
    "pred = forest.predict(x_train_pca)\n",
    "\n",
    "balanced_accuracy_score(y_train_digits, pred)"
   ]
  },
  {
   "cell_type": "code",
   "execution_count": 64,
   "metadata": {},
   "outputs": [
    {
     "name": "stdout",
     "output_type": "stream",
     "text": [
      "Forest:  [0.9725453408380238, 0.9699986666074047, 0.964577376250292, 0.9650253489825682, 0.962230697176502]\n",
      "Logistic regression:  [0.9572441109026475, 0.9583425930041335, 0.9511648994759621, 0.9574623237724842, 0.9523785628261743]\n"
     ]
    }
   ],
   "source": [
    "acc_reg=[0 for x in range(5)]\n",
    "acc_forest=[0 for x in range(5)]\n",
    "for i in range(5):\n",
    "    mask = np.zeros(x_train_pca.shape[0], dtype=bool)\n",
    "    mask[i::5] = True\n",
    "\n",
    "    x_test = x_train_pca[mask]\n",
    "    x_fold = x_train_pca[~mask]\n",
    "    \n",
    "    y_test = y_train_digits[mask]\n",
    "    y_fold = y_train_digits[~mask]\n",
    "    \n",
    "    reg = LogisticRegression().fit(x_fold, y_fold)\n",
    "    pred = reg.predict(x_test)\n",
    "    acc_reg[i]=balanced_accuracy_score(y_test, pred)\n",
    "    \n",
    "    forest=RandomForestClassifier().fit(x_fold, y_fold)\n",
    "    pred = forest.predict(x_test)\n",
    "    acc_forest[i]=balanced_accuracy_score(y_test, pred)\n",
    "print('Forest: ', acc_forest)\n",
    "print('Logistic regression: ', acc_reg)"
   ]
  },
  {
   "cell_type": "code",
   "execution_count": 65,
   "metadata": {},
   "outputs": [
    {
     "data": {
      "text/plain": [
       "0.9668754859709582"
      ]
     },
     "execution_count": 65,
     "metadata": {},
     "output_type": "execute_result"
    }
   ],
   "source": [
    "sum(acc_forest)/5"
   ]
  },
  {
   "cell_type": "code",
   "execution_count": 66,
   "metadata": {},
   "outputs": [
    {
     "data": {
      "text/plain": [
       "array([0.94, 0.06, 0.92, ..., 0.02, 0.02, 0.11])"
      ]
     },
     "execution_count": 66,
     "metadata": {},
     "output_type": "execute_result"
    }
   ],
   "source": [
    "posterior_probs = forest.predict_proba(x_val_pca)[:,1]\n",
    "posterior_probs"
   ]
  },
  {
   "cell_type": "code",
   "execution_count": 67,
   "metadata": {},
   "outputs": [],
   "source": [
    "pd.DataFrame({'MATSZY': posterior_probs}).to_csv('MATSZY_digits_prediction.txt', index = None)"
   ]
  },
  {
   "cell_type": "code",
   "execution_count": 102,
   "metadata": {},
   "outputs": [],
   "source": [
    "vars_kbest = np.where(kbest.get_support())[0]"
   ]
  },
  {
   "cell_type": "code",
   "execution_count": 111,
   "metadata": {},
   "outputs": [
    {
     "data": {
      "text/plain": [
       "array([   2,    6,    7, ..., 4994, 4997, 4999], dtype=int64)"
      ]
     },
     "execution_count": 111,
     "metadata": {},
     "output_type": "execute_result"
    }
   ],
   "source": [
    "vars_kbest"
   ]
  },
  {
   "cell_type": "code",
   "execution_count": 116,
   "metadata": {},
   "outputs": [],
   "source": [
    "vars_indexes = vars_kbest[feat_selector_digits.support_]\n",
    "pd.DataFrame({'MATSZY': vars_indexes + 1}).to_csv('MATSZY_digits_features.txt', index = None)"
   ]
  }
 ],
 "metadata": {
  "kernelspec": {
   "display_name": "Python 3",
   "language": "python",
   "name": "python3"
  },
  "language_info": {
   "codemirror_mode": {
    "name": "ipython",
    "version": 3
   },
   "file_extension": ".py",
   "mimetype": "text/x-python",
   "name": "python",
   "nbconvert_exporter": "python",
   "pygments_lexer": "ipython3",
   "version": "3.8.5"
  }
 },
 "nbformat": 4,
 "nbformat_minor": 4
}
