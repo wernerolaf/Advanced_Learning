{
 "cells": [
  {
   "cell_type": "code",
   "execution_count": 93,
   "metadata": {},
   "outputs": [],
   "source": [
    "import pandas as pd\n",
    "import numpy as np\n",
    "from sklearn.linear_model import LogisticRegression\n",
    "from sklearn.ensemble import RandomForestClassifier\n",
    "from sklearn.decomposition import PCA\n",
    "from sklearn.metrics import balanced_accuracy_score"
   ]
  },
  {
   "cell_type": "code",
   "execution_count": 94,
   "metadata": {},
   "outputs": [],
   "source": [
    "x_train=pd.read_csv(\"data/artificial_train.data\",header=None, sep=\" \")"
   ]
  },
  {
   "cell_type": "code",
   "execution_count": 95,
   "metadata": {},
   "outputs": [],
   "source": [
    "x_train=x_train.drop(columns=[500])"
   ]
  },
  {
   "cell_type": "code",
   "execution_count": 96,
   "metadata": {},
   "outputs": [],
   "source": [
    "y_train=pd.read_csv(\"data/artificial_train.labels\",header=None, sep=\" \")"
   ]
  },
  {
   "cell_type": "code",
   "execution_count": 97,
   "metadata": {},
   "outputs": [],
   "source": [
    "y_train=y_train.rename(columns = {0:'y'})"
   ]
  },
  {
   "cell_type": "code",
   "execution_count": 98,
   "metadata": {},
   "outputs": [],
   "source": [
    "pca = PCA(n_components=10)"
   ]
  },
  {
   "cell_type": "code",
   "execution_count": 99,
   "metadata": {},
   "outputs": [
    {
     "data": {
      "text/plain": [
       "PCA(n_components=10)"
      ]
     },
     "execution_count": 99,
     "metadata": {},
     "output_type": "execute_result"
    }
   ],
   "source": [
    "pca.fit(x_train)"
   ]
  },
  {
   "cell_type": "code",
   "execution_count": 100,
   "metadata": {},
   "outputs": [],
   "source": [
    "x_train=pca.transform(x_train)"
   ]
  },
  {
   "cell_type": "code",
   "execution_count": 101,
   "metadata": {},
   "outputs": [
    {
     "data": {
      "text/plain": [
       "(2000, 10)"
      ]
     },
     "execution_count": 101,
     "metadata": {},
     "output_type": "execute_result"
    }
   ],
   "source": [
    "x_train.shape"
   ]
  },
  {
   "cell_type": "code",
   "execution_count": 102,
   "metadata": {},
   "outputs": [],
   "source": [
    "reg = LogisticRegression().fit(x_train, y_train.to_numpy().reshape(-1))\n",
    "\n",
    "pred = reg.predict(x_train)\n",
    "\n",
    "balanced_accuracy_score(y_train, pred)"
   ]
  },
  {
   "cell_type": "code",
   "execution_count": 109,
   "metadata": {},
   "outputs": [],
   "source": [
    "forest=RandomForestClassifier().fit(x_train, y_train.to_numpy().reshape(-1))\n",
    "\n",
    "pred = forest.predict(x_train)\n",
    "\n",
    "balanced_accuracy_score(y_train, pred)"
   ]
  },
  {
   "cell_type": "code",
   "execution_count": null,
   "metadata": {},
   "outputs": [],
   "source": [
    "sum(pca.explained_variance_ratio_)"
   ]
  },
  {
   "cell_type": "code",
   "execution_count": 113,
   "metadata": {},
   "outputs": [
    {
     "data": {
      "text/plain": [
       "array([[ 244.79417885, -157.89263961,  -14.27752663, ...,  -43.12728089,\n",
       "           4.61581382,   80.15195047],\n",
       "       [ -78.54720669, -317.84607987,  106.09666065, ...,  -78.16062008,\n",
       "          10.27588287,  100.69783874],\n",
       "       [-144.99267469,  127.86061219, -288.71015659, ...,   14.00807946,\n",
       "         -21.82871079,   -7.76193485],\n",
       "       ...,\n",
       "       [-154.62796816,  169.47901309,  132.99864798, ...,   83.45591149,\n",
       "          20.29488694,    0.86163305],\n",
       "       [-279.04939447,  258.2374467 ,   32.58506282, ...,   14.15902391,\n",
       "          24.24657543,  -16.32870432],\n",
       "       [-376.82786032,   84.81547175,  -97.07825194, ...,  -22.63241917,\n",
       "         -47.10880295,   20.07366526]])"
      ]
     },
     "execution_count": 113,
     "metadata": {},
     "output_type": "execute_result"
    }
   ],
   "source": [
    "x_train[1::4]"
   ]
  },
  {
   "cell_type": "code",
   "execution_count": 119,
   "metadata": {},
   "outputs": [],
   "source": [
    "acc_reg=[0 for x in range(5)]\n",
    "acc_forest=[0 for x in range(5)]\n",
    "for i in range(5):\n",
    "    mask = np.zeros(x_train.shape[0], dtype=bool)\n",
    "    mask[i::5] = True\n",
    "\n",
    "    x_test = x_train[mask]\n",
    "    x_fold = x_train[~mask]\n",
    "    \n",
    "    y_test = y_train[mask]\n",
    "    y_fold = y_train[~mask]\n",
    "    \n",
    "    reg = LogisticRegression().fit(x_fold, y_fold.to_numpy().reshape(-1))\n",
    "    pred = reg.predict(x_test)\n",
    "    acc_reg[i]=balanced_accuracy_score(y_test, pred)\n",
    "    \n",
    "    forest=RandomForestClassifier().fit(x_fold, y_fold.to_numpy().reshape(-1))\n",
    "    pred = forest.predict(x_test)\n",
    "    acc_forest[i]=balanced_accuracy_score(y_test, pred)\n",
    "    "
   ]
  },
  {
   "cell_type": "code",
   "execution_count": 121,
   "metadata": {},
   "outputs": [
    {
     "data": {
      "text/plain": [
       "[0.840617869053888,\n",
       " 0.833024722250025,\n",
       " 0.8151629072681704,\n",
       " 0.8073057305730573,\n",
       " 0.8554924858093071]"
      ]
     },
     "execution_count": 121,
     "metadata": {},
     "output_type": "execute_result"
    }
   ],
   "source": [
    "acc_forest"
   ]
  },
  {
   "cell_type": "code",
   "execution_count": 122,
   "metadata": {},
   "outputs": [
    {
     "data": {
      "text/plain": [
       "array([ 1, -1, -1,  1, -1, -1,  1,  1, -1, -1, -1,  1, -1,  1,  1, -1, -1,\n",
       "       -1, -1, -1,  1,  1,  1,  1,  1, -1,  1,  1, -1, -1, -1, -1,  1, -1,\n",
       "        1, -1, -1,  1, -1,  1, -1, -1, -1,  1, -1,  1, -1, -1, -1, -1, -1,\n",
       "        1,  1, -1,  1, -1,  1, -1, -1,  1,  1,  1,  1,  1,  1, -1, -1,  1,\n",
       "       -1, -1, -1, -1, -1,  1,  1,  1, -1, -1,  1,  1, -1,  1, -1,  1,  1,\n",
       "       -1,  1, -1,  1,  1, -1, -1,  1,  1,  1, -1, -1, -1,  1, -1,  1,  1,\n",
       "        1, -1, -1,  1, -1, -1, -1, -1, -1,  1,  1,  1, -1, -1, -1, -1,  1,\n",
       "        1,  1,  1,  1,  1, -1, -1, -1,  1, -1,  1,  1, -1,  1, -1, -1,  1,\n",
       "        1, -1, -1,  1, -1,  1, -1,  1, -1,  1, -1,  1,  1, -1, -1, -1,  1,\n",
       "       -1, -1,  1, -1,  1, -1,  1, -1,  1,  1,  1,  1,  1,  1,  1,  1, -1,\n",
       "       -1,  1,  1, -1,  1,  1, -1,  1, -1, -1,  1,  1,  1,  1,  1,  1, -1,\n",
       "        1, -1,  1,  1,  1, -1, -1,  1,  1,  1,  1, -1,  1,  1, -1, -1,  1,\n",
       "        1,  1, -1,  1,  1,  1, -1, -1, -1,  1, -1,  1,  1,  1, -1,  1, -1,\n",
       "       -1, -1,  1,  1, -1,  1,  1, -1, -1,  1,  1, -1, -1,  1,  1,  1,  1,\n",
       "        1,  1,  1,  1,  1,  1,  1, -1,  1,  1, -1,  1,  1, -1, -1,  1, -1,\n",
       "        1, -1, -1,  1,  1,  1, -1,  1, -1, -1,  1, -1, -1, -1,  1, -1, -1,\n",
       "        1,  1,  1, -1, -1,  1, -1,  1, -1,  1, -1, -1, -1, -1,  1,  1,  1,\n",
       "       -1,  1,  1, -1, -1, -1, -1, -1,  1,  1, -1, -1,  1,  1, -1, -1,  1,\n",
       "        1,  1,  1,  1, -1,  1,  1, -1, -1,  1,  1,  1,  1,  1,  1,  1, -1,\n",
       "       -1, -1, -1, -1,  1, -1,  1, -1, -1,  1, -1,  1, -1, -1, -1, -1,  1,\n",
       "       -1, -1, -1,  1,  1,  1,  1, -1,  1,  1, -1,  1,  1, -1,  1,  1, -1,\n",
       "       -1,  1, -1,  1,  1,  1,  1,  1, -1,  1,  1, -1,  1,  1, -1, -1, -1,\n",
       "       -1, -1,  1, -1, -1,  1, -1, -1,  1, -1, -1,  1,  1, -1,  1,  1,  1,\n",
       "       -1,  1,  1, -1, -1,  1,  1, -1,  1])"
      ]
     },
     "execution_count": 122,
     "metadata": {},
     "output_type": "execute_result"
    }
   ],
   "source": [
    "acc_reg"
   ]
  },
  {
   "cell_type": "code",
   "execution_count": null,
   "metadata": {},
   "outputs": [],
   "source": []
  }
 ],
 "metadata": {
  "kernelspec": {
   "display_name": "Python 3",
   "language": "python",
   "name": "python3"
  },
  "language_info": {
   "codemirror_mode": {
    "name": "ipython",
    "version": 3
   },
   "file_extension": ".py",
   "mimetype": "text/x-python",
   "name": "python",
   "nbconvert_exporter": "python",
   "pygments_lexer": "ipython3",
   "version": "3.8.5"
  }
 },
 "nbformat": 4,
 "nbformat_minor": 4
}
