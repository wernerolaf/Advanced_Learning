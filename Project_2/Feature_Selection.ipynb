{
 "cells": [
  {
   "cell_type": "code",
   "execution_count": 1,
   "metadata": {},
   "outputs": [],
   "source": [
    "import pandas as pd\n",
    "import numpy as np\n",
    "from sklearn.preprocessing import MinMaxScaler\n",
    "from sklearn.linear_model import LogisticRegression\n",
    "from sklearn.ensemble import RandomForestClassifier\n",
    "from sklearn.decomposition import PCA\n",
    "from sklearn.metrics import balanced_accuracy_score\n",
    "from sklearn.feature_selection import VarianceThreshold\n",
    "from sklearn.feature_selection import SelectKBest\n",
    "from sklearn.feature_selection import chi2\n",
    "from sklearn.feature_selection import SequentialFeatureSelector\n",
    "from sklearn.linear_model import LassoCV"
   ]
  },
  {
   "cell_type": "markdown",
   "metadata": {},
   "source": [
    "# Data preparation"
   ]
  },
  {
   "cell_type": "code",
   "execution_count": 60,
   "metadata": {},
   "outputs": [],
   "source": [
    "x_train=pd.read_csv(\"data/artificial_train.data\",header=None, sep=\" \")\n",
    "\n",
    "x_train=x_train.drop(columns=[500])\n",
    "\n",
    "y_train=pd.read_csv(\"data/artificial_train.labels\",header=None, sep=\" \")\n",
    "\n",
    "y_train=y_train.to_numpy().reshape(-1)\n",
    "\n",
    "scaler = MinMaxScaler()\n",
    "scaler.fit(x_train)\n",
    "x_train=scaler.transform(x_train)"
   ]
  },
  {
   "cell_type": "markdown",
   "metadata": {},
   "source": [
    "# PCA"
   ]
  },
  {
   "cell_type": "code",
   "execution_count": 65,
   "metadata": {},
   "outputs": [],
   "source": [
    "#pca = PCA(n_components=10)\n",
    "\n",
    "#pca.fit(x_train)\n",
    "\n",
    "#sum(pca.explained_variance_ratio_)\n",
    "\n",
    "#x_train=pca.transform(x_train)"
   ]
  },
  {
   "cell_type": "markdown",
   "metadata": {},
   "source": [
    "# Univariate feature selection"
   ]
  },
  {
   "cell_type": "code",
   "execution_count": 66,
   "metadata": {},
   "outputs": [],
   "source": [
    "#x_train = SelectKBest(chi2, k=10).fit_transform(x_train, y_train)"
   ]
  },
  {
   "cell_type": "markdown",
   "metadata": {},
   "source": [
    "# Removing features with low variance"
   ]
  },
  {
   "cell_type": "code",
   "execution_count": 67,
   "metadata": {},
   "outputs": [],
   "source": [
    "#sel = VarianceThreshold(threshold=0.025)\n",
    "#x_train=sel.fit_transform(x_train)"
   ]
  },
  {
   "cell_type": "markdown",
   "metadata": {},
   "source": [
    "# Selecting features based on importance"
   ]
  },
  {
   "cell_type": "code",
   "execution_count": null,
   "metadata": {},
   "outputs": [],
   "source": [
    "lasso = LassoCV().fit(x_train, y_train)\n",
    "importance = np.abs(lasso.coef_)\n",
    "threshold = np.sort(importance)[-11] + 0.01\n",
    "sfm = SelectFromModel(lasso, threshold=threshold).fit(x_train, y_train)\n",
    "x_train=sfm.transform(x_train)"
   ]
  },
  {
   "cell_type": "markdown",
   "metadata": {},
   "source": [
    "# Sequential Feature Selection (is very slow) (lasso can be replaced with reg or forest)"
   ]
  },
  {
   "cell_type": "code",
   "execution_count": null,
   "metadata": {},
   "outputs": [],
   "source": [
    "#lasso = LassoCV().fit(x_train, y_train)\n",
    "#importance = np.abs(lasso.coef_)\n",
    "\n",
    "#sfs_forward = SequentialFeatureSelector(lasso, n_features_to_select=4,\n",
    "                                        direction='forward').fit(x_train, y_train)\n",
    "\n",
    "#sfs_forward.get_support()\n",
    "\n",
    "#x_train=sfs_forward.transform(x_train)"
   ]
  },
  {
   "cell_type": "markdown",
   "metadata": {},
   "source": [
    "# Models"
   ]
  },
  {
   "cell_type": "code",
   "execution_count": 189,
   "metadata": {},
   "outputs": [
    {
     "data": {
      "text/plain": [
       "0.612"
      ]
     },
     "execution_count": 189,
     "metadata": {},
     "output_type": "execute_result"
    }
   ],
   "source": [
    "reg = LogisticRegression().fit(x_train, y_train.to_numpy().reshape(-1))\n",
    "\n",
    "pred = reg.predict(x_train)\n",
    "\n",
    "balanced_accuracy_score(y_train, pred)"
   ]
  },
  {
   "cell_type": "code",
   "execution_count": 190,
   "metadata": {},
   "outputs": [
    {
     "data": {
      "text/plain": [
       "1.0"
      ]
     },
     "execution_count": 190,
     "metadata": {},
     "output_type": "execute_result"
    }
   ],
   "source": [
    "forest=RandomForestClassifier().fit(x_train, y_train.to_numpy().reshape(-1))\n",
    "\n",
    "pred = forest.predict(x_train)\n",
    "\n",
    "balanced_accuracy_score(y_train, pred)"
   ]
  },
  {
   "cell_type": "markdown",
   "metadata": {},
   "source": [
    "# 5 cross validation"
   ]
  },
  {
   "cell_type": "code",
   "execution_count": 192,
   "metadata": {},
   "outputs": [],
   "source": [
    "acc_reg=[0 for x in range(5)]\n",
    "acc_forest=[0 for x in range(5)]\n",
    "for i in range(5):\n",
    "    mask = np.zeros(x_train.shape[0], dtype=bool)\n",
    "    mask[i::5] = True\n",
    "\n",
    "    x_test = x_train[mask]\n",
    "    x_fold = x_train[~mask]\n",
    "    \n",
    "    y_test = y_train[mask]\n",
    "    y_fold = y_train[~mask]\n",
    "    \n",
    "    reg = LogisticRegression().fit(x_fold, y_fold)\n",
    "    pred = reg.predict(x_test)\n",
    "    acc_reg[i]=balanced_accuracy_score(y_test, pred)\n",
    "    \n",
    "    forest=RandomForestClassifier().fit(x_fold, y_fold)\n",
    "    pred = forest.predict(x_test)\n",
    "    acc_forest[i]=balanced_accuracy_score(y_test, pred)\n",
    "    "
   ]
  },
  {
   "cell_type": "code",
   "execution_count": 193,
   "metadata": {},
   "outputs": [
    {
     "data": {
      "text/plain": [
       "[0.8688908949572457,\n",
       " 0.8104293864478029,\n",
       " 0.8523809523809525,\n",
       " 0.8322082208220822,\n",
       " 0.8522792628341377]"
      ]
     },
     "execution_count": 193,
     "metadata": {},
     "output_type": "execute_result"
    }
   ],
   "source": [
    "acc_forest"
   ]
  },
  {
   "cell_type": "code",
   "execution_count": 194,
   "metadata": {},
   "outputs": [
    {
     "data": {
      "text/plain": [
       "[0.6132300208129592,\n",
       " 0.588104293864478,\n",
       " 0.6213032581453635,\n",
       " 0.60996099609961,\n",
       " 0.6042359530894451]"
      ]
     },
     "execution_count": 194,
     "metadata": {},
     "output_type": "execute_result"
    }
   ],
   "source": [
    "acc_reg"
   ]
  },
  {
   "cell_type": "code",
   "execution_count": null,
   "metadata": {},
   "outputs": [],
   "source": []
  }
 ],
 "metadata": {
  "kernelspec": {
   "display_name": "Python 3",
   "language": "python",
   "name": "python3"
  },
  "language_info": {
   "codemirror_mode": {
    "name": "ipython",
    "version": 3
   },
   "file_extension": ".py",
   "mimetype": "text/x-python",
   "name": "python",
   "nbconvert_exporter": "python",
   "pygments_lexer": "ipython3",
   "version": "3.8.5"
  }
 },
 "nbformat": 4,
 "nbformat_minor": 4
}
