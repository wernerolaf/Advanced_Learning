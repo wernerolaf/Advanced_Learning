{
 "cells": [
  {
   "cell_type": "code",
   "execution_count": 1,
   "metadata": {},
   "outputs": [],
   "source": [
    "import numpy as np\n",
    "import pandas as pd\n",
    "import sklearn.linear_model\n",
    "from sklearn.model_selection import train_test_split\n",
    "import matplotlib.pyplot as plt\n",
    "from scipy.optimize import minimize, fmin_tnc\n",
    "from sklearn.discriminant_analysis import LinearDiscriminantAnalysis, QuadraticDiscriminantAnalysis\n",
    "from sklearn.neighbors import KNeighborsClassifier\n",
    "from sklearn.metrics import r2_score"
   ]
  },
  {
   "cell_type": "markdown",
   "metadata": {},
   "source": [
    "**Titanic**"
   ]
  },
  {
   "cell_type": "code",
   "execution_count": 2,
   "metadata": {},
   "outputs": [],
   "source": [
    "Titanic=pd.read_csv(\"Titanic/tested.csv\")"
   ]
  },
  {
   "cell_type": "code",
   "execution_count": 3,
   "metadata": {},
   "outputs": [],
   "source": [
    "Titanic=Titanic.drop(columns=[\"PassengerId\",\"Ticket\",\"Name\"])"
   ]
  },
  {
   "cell_type": "code",
   "execution_count": 4,
   "metadata": {},
   "outputs": [],
   "source": [
    "Titanic.loc[pd.isna(Titanic.Cabin)==False,\"Cabin\"]=1"
   ]
  },
  {
   "cell_type": "code",
   "execution_count": 5,
   "metadata": {},
   "outputs": [],
   "source": [
    "Titanic.loc[pd.isna(Titanic.Cabin)==True,\"Cabin\"]=0"
   ]
  },
  {
   "cell_type": "code",
   "execution_count": 6,
   "metadata": {},
   "outputs": [],
   "source": [
    "Titanic.loc[:,\"Sex\"]=(Titanic.Sex==\"male\").astype(int)"
   ]
  },
  {
   "cell_type": "code",
   "execution_count": 7,
   "metadata": {},
   "outputs": [],
   "source": [
    "Titanic.loc[pd.isna(Titanic.Age)==True,\"Age\"]=Titanic.Age.median()"
   ]
  },
  {
   "cell_type": "code",
   "execution_count": 8,
   "metadata": {},
   "outputs": [],
   "source": [
    "Titanic=pd.get_dummies(Titanic,columns=[\"Embarked\"], drop_first = True)"
   ]
  },
  {
   "cell_type": "code",
   "execution_count": 9,
   "metadata": {},
   "outputs": [],
   "source": [
    "Titanic.loc[:,\"Cabin\"]=Titanic.loc[:,\"Cabin\"].astype(int)"
   ]
  },
  {
   "cell_type": "code",
   "execution_count": 10,
   "metadata": {},
   "outputs": [],
   "source": [
    "Titanic = Titanic[~Titanic.isnull().any(axis = 1)]"
   ]
  },
  {
   "cell_type": "code",
   "execution_count": 11,
   "metadata": {},
   "outputs": [],
   "source": [
    "Titanic = Titanic.drop(columns = ['Sex'])"
   ]
  },
  {
   "cell_type": "markdown",
   "metadata": {},
   "source": [
    "**Diabets**"
   ]
  },
  {
   "cell_type": "code",
   "execution_count": 12,
   "metadata": {},
   "outputs": [],
   "source": [
    "Diabetes=pd.read_csv(\"diabetes/dataset_37_diabetes.csv\")"
   ]
  },
  {
   "cell_type": "code",
   "execution_count": 13,
   "metadata": {},
   "outputs": [],
   "source": [
    "Diabetes.loc[:,\"class\"]=(Diabetes[\"class\"]==\"tested_positive\").astype(int)"
   ]
  },
  {
   "cell_type": "markdown",
   "metadata": {},
   "source": [
    "**Pokemon**"
   ]
  },
  {
   "cell_type": "code",
   "execution_count": 14,
   "metadata": {},
   "outputs": [],
   "source": [
    "Pokemon=pd.read_csv(\"Pokemon/pokemon.csv\")"
   ]
  },
  {
   "cell_type": "code",
   "execution_count": 15,
   "metadata": {},
   "outputs": [],
   "source": [
    "Pokemon=Pokemon.filter(regex='^(?!against).*')"
   ]
  },
  {
   "cell_type": "code",
   "execution_count": 16,
   "metadata": {},
   "outputs": [],
   "source": [
    "Pokemon=Pokemon.drop(columns=[\"abilities\",\"classfication\",\"pokedex_number\",\"japanese_name\",\"name\"])"
   ]
  },
  {
   "cell_type": "code",
   "execution_count": 17,
   "metadata": {},
   "outputs": [],
   "source": [
    "Pokemon.loc[pd.isna(Pokemon.height_m),\"height_m\"]=0"
   ]
  },
  {
   "cell_type": "code",
   "execution_count": 18,
   "metadata": {},
   "outputs": [],
   "source": [
    "Pokemon.loc[pd.isna(Pokemon.percentage_male),\"percentage_male\"]=0"
   ]
  },
  {
   "cell_type": "code",
   "execution_count": 19,
   "metadata": {},
   "outputs": [],
   "source": [
    "Pokemon.loc[pd.isna(Pokemon.weight_kg),\"weight_kg\"]=0"
   ]
  },
  {
   "cell_type": "code",
   "execution_count": 20,
   "metadata": {},
   "outputs": [],
   "source": [
    "Pokemon.capture_rate=pd.to_numeric(Pokemon.capture_rate,errors=\"coerce\")"
   ]
  },
  {
   "cell_type": "code",
   "execution_count": 21,
   "metadata": {},
   "outputs": [],
   "source": [
    "Pokemon.loc[pd.isna(Pokemon.capture_rate),\"capture_rate\"]=255"
   ]
  },
  {
   "cell_type": "code",
   "execution_count": 22,
   "metadata": {},
   "outputs": [],
   "source": [
    "types1=pd.get_dummies(Pokemon[\"type1\"],columns=[\"type1\"], drop_first = True)"
   ]
  },
  {
   "cell_type": "code",
   "execution_count": 23,
   "metadata": {},
   "outputs": [],
   "source": [
    "types2=pd.get_dummies(Pokemon[\"type2\"],columns=[\"type2\"], drop_first = True)"
   ]
  },
  {
   "cell_type": "code",
   "execution_count": 24,
   "metadata": {},
   "outputs": [],
   "source": [
    "Pokemon=Pokemon.drop(columns=[\"type1\",\"type2\"])"
   ]
  },
  {
   "cell_type": "code",
   "execution_count": 25,
   "metadata": {},
   "outputs": [],
   "source": [
    "Pokemon=pd.concat([Pokemon,types2+types1], axis=1)"
   ]
  },
  {
   "cell_type": "code",
   "execution_count": 26,
   "metadata": {},
   "outputs": [],
   "source": [
    "Pokemon=Pokemon[['base_egg_steps', 'base_happiness', 'base_total',\n",
    "                'percentage_male', 'sp_attack', 'is_legendary']]"
   ]
  },
  {
   "cell_type": "markdown",
   "metadata": {},
   "source": [
    "**Cancer**"
   ]
  },
  {
   "cell_type": "code",
   "execution_count": 27,
   "metadata": {},
   "outputs": [],
   "source": [
    "Cancer=pd.read_csv(\"cancer/wdbc.data\",header=None)"
   ]
  },
  {
   "cell_type": "code",
   "execution_count": 28,
   "metadata": {},
   "outputs": [],
   "source": [
    "Cancer.iloc[:,1]=(Cancer[1]==\"M\").astype(int)"
   ]
  },
  {
   "cell_type": "code",
   "execution_count": 29,
   "metadata": {},
   "outputs": [],
   "source": [
    "Cancer=Cancer.drop(columns=[0])"
   ]
  },
  {
   "cell_type": "markdown",
   "metadata": {},
   "source": [
    "**Bank**"
   ]
  },
  {
   "cell_type": "code",
   "execution_count": 30,
   "metadata": {},
   "outputs": [],
   "source": [
    "Bank=pd.read_csv(\"bank/bank.csv\",sep=\";\")"
   ]
  },
  {
   "cell_type": "code",
   "execution_count": 31,
   "metadata": {},
   "outputs": [],
   "source": [
    "Bank.loc[:,\"default\"]=(Bank.default==\"yes\").astype(int)"
   ]
  },
  {
   "cell_type": "code",
   "execution_count": 32,
   "metadata": {},
   "outputs": [],
   "source": [
    "Bank.loc[:,\"housing\"]=(Bank.housing==\"yes\").astype(int)"
   ]
  },
  {
   "cell_type": "code",
   "execution_count": 33,
   "metadata": {},
   "outputs": [],
   "source": [
    "Bank.loc[:,\"loan\"]=(Bank.loan==\"yes\").astype(int)"
   ]
  },
  {
   "cell_type": "code",
   "execution_count": 34,
   "metadata": {},
   "outputs": [],
   "source": [
    "Bank.loc[:,\"y\"]=(Bank.y==\"yes\").astype(int)"
   ]
  },
  {
   "cell_type": "code",
   "execution_count": 35,
   "metadata": {},
   "outputs": [],
   "source": [
    "Bank=pd.get_dummies(Bank, drop_first = True)"
   ]
  },
  {
   "cell_type": "markdown",
   "metadata": {},
   "source": [
    "**Model assessement**"
   ]
  },
  {
   "cell_type": "code",
   "execution_count": 36,
   "metadata": {},
   "outputs": [],
   "source": [
    "def accuracy(Y,Y_hat):\n",
    "    temp=Y==Y_hat\n",
    "    return np.mean(temp)"
   ]
  },
  {
   "cell_type": "code",
   "execution_count": 37,
   "metadata": {},
   "outputs": [],
   "source": [
    "def precision(Y,Y_hat):\n",
    "    tp=np.logical_and(Y,Y_hat)\n",
    "    fp=np.logical_and(np.logical_not(Y),Y_hat)\n",
    "    return np.sum(tp)/(np.sum(tp)+np.sum(fp))"
   ]
  },
  {
   "cell_type": "code",
   "execution_count": 38,
   "metadata": {},
   "outputs": [],
   "source": [
    "def recall(Y,Y_hat):\n",
    "    tp=np.logical_and(Y,Y_hat)\n",
    "    fn=np.logical_and(Y,np.logical_not(Y_hat))\n",
    "    return np.sum(tp)/(np.sum(tp)+np.sum(fn))"
   ]
  },
  {
   "cell_type": "code",
   "execution_count": 39,
   "metadata": {},
   "outputs": [],
   "source": [
    "def F_measure(Y,Y_hat):\n",
    "    pre=precision(Y,Y_hat)\n",
    "    re=recall(Y,Y_hat)\n",
    "    return 2*pre*re/(pre+re)"
   ]
  },
  {
   "cell_type": "code",
   "execution_count": 40,
   "metadata": {},
   "outputs": [],
   "source": [
    "def assess(Y, Y_hat):\n",
    "    print('Acccuracy: ', accuracy(Y, Y_hat))\n",
    "    print('Precision: ', precision(Y, Y_hat))\n",
    "    print('Recall: ', recall(Y, Y_hat))\n",
    "    print('F_measure: ', F_measure(Y, Y_hat))\n",
    "    print('R2_score: ', r2_score(Y, Y_hat))"
   ]
  },
  {
   "cell_type": "markdown",
   "metadata": {},
   "source": [
    "**Auxiliary Gradient Descent Functions**"
   ]
  },
  {
   "cell_type": "code",
   "execution_count": 41,
   "metadata": {},
   "outputs": [],
   "source": [
    "def MSE(Y,Y_hat):\n",
    "    return np.sum((Y-Y_hat)**2)\n",
    "\n",
    "def MSE_grad(Y,Y_hat):\n",
    "     return Y_hat-Y\n",
    "\n",
    "def sigmoid(x):\n",
    "    return(1/(1 + np.exp(np.clip(-x,-100,100))))\n",
    "\n",
    "def sigmoid_grad(x):\n",
    "    return(sigmoid(x)*(1-sigmoid(x)))\n",
    "\n",
    "def cross_entropy(Y, Y_hat,  epsilon=1e-10):\n",
    "    Y_hat = np.clip(Y_hat, epsilon, 1-epsilon)\n",
    "    return np.sum(np.log(Y_hat) * Y + np.log((1 - Y_hat)) * (1 - Y))\n",
    "\n",
    "def cross_entropy_grad(Y,Y_hat,eps=10**-10):\n",
    "    Y_hat=Y_hat+eps\n",
    "    return (Y_hat-eps-Y)/Y_hat/(1-Y_hat)"
   ]
  },
  {
   "cell_type": "code",
   "execution_count": 42,
   "metadata": {},
   "outputs": [],
   "source": [
    "class LogisticRegression:\n",
    "    \n",
    "    def __init__(self, solver: str, intercept: bool = True, iterations: int = 1000, \n",
    "                 alpha: int = None, batch_size: int = None, eps = 10**-8,\n",
    "                 normalize: bool = False, tol = 0.0001):\n",
    "        \n",
    "        \n",
    "        self.solver = solver\n",
    "        self.intercept = intercept\n",
    "        self.iterations = iterations\n",
    "        self.batch_size = batch_size\n",
    "        self.alpha = alpha\n",
    "        self.normalize = normalize\n",
    "        self.tolerance = tol\n",
    "        self.epsilon = eps\n",
    "        \n",
    "    def fit(self, X, Y, verbose = False, save_errors = False):\n",
    "\n",
    "        if self.normalize:\n",
    "            X = (X-X.mean(0))/X.std(0)\n",
    "            \n",
    "        if self.intercept:\n",
    "            X = np.insert(X, 0, values=1, axis=1)\n",
    "            \n",
    "        self.Beta=np.zeros(X.shape[1])\n",
    "        \n",
    "        if self.solver == 'gd':\n",
    "            self._gradient_descent(X, Y, X.shape[0], verbose, save_errors)\n",
    "        elif self.solver == 'sgd':\n",
    "            self._gradient_descent(X, Y, self.batch_size, verbose, save_errors)\n",
    "        elif self.solver == 'powell':\n",
    "            self._powell(X, Y)\n",
    "        else:\n",
    "            self._iwls(X, Y, verbose, save_errors)\n",
    "    \n",
    "    def _gradient_descent(self, X, Y, batch_size, verbose, save_errors):\n",
    "        \n",
    "        batches = np.linspace(0,X.shape[0],int(X.shape[0]/batch_size)+1).astype(int)\n",
    "        \n",
    "        if save_errors:\n",
    "            self.errors = [cross_entropy(Y, sigmoid(X @ self.Beta))]\n",
    "        \n",
    "        for epoch in range(self.iterations):\n",
    "            s = np.arange(0, X.shape[0], 1)\n",
    "            np.random.shuffle(s)\n",
    "            \n",
    "            X = X[s,:]\n",
    "            Y = Y[s]\n",
    "            \n",
    "            for b in range(len(batches)-1):\n",
    "                X_b=X[batches[b]:batches[b+1],:]\n",
    "                Y_b=Y[batches[b]:batches[b+1]]\n",
    "                \n",
    "                pred=sigmoid(X_b @ self.Beta)\n",
    "                error=cross_entropy(Y_b,pred)\n",
    "                \n",
    "                delta = self.alpha * (X_b*(cross_entropy_grad(Y_b,pred) * sigmoid_grad(X_b @ self.Beta)).reshape(-1,1)).mean(axis=0)\n",
    "                if abs(delta.max()) < self.tolerance:\n",
    "                    return\n",
    "\n",
    "                self.Beta = self.Beta - delta\n",
    "                \n",
    "            pred=sigmoid(X @ self.Beta)\n",
    "            error=cross_entropy(Y,pred)\n",
    "            \n",
    "            if save_errors:\n",
    "                self.errors.append(error)\n",
    "            \n",
    "            if verbose: \n",
    "                print('Iteration no.', epoch+1, ':', error)\n",
    "                \n",
    "    \n",
    "    def _iwls(self, X, Y, verbose, save_errors):\n",
    "        \n",
    "        W = np.ones(X.shape[0])*0.5\n",
    "        X1 = X[:,1:] if self.intercept else X\n",
    "        \n",
    "        if save_errors:\n",
    "            self.errors = [cross_entropy(Y, sigmoid(X @ self.Beta))]\n",
    "        \n",
    "        for i in range(self.iterations):\n",
    "            \n",
    "            delta = np.linalg.inv((X.T * W[:,None].T) @ X) @ X.T @ (Y-self.predict(X1))\n",
    "            if abs(delta.max()) < self.tolerance:\n",
    "                return\n",
    "            \n",
    "            self.Beta += delta\n",
    "\n",
    "            W = (1-self.predict(X1)) * self.predict(X1) + self.epsilon\n",
    "            \n",
    "            pred = sigmoid(X @ self.Beta)\n",
    "            error = cross_entropy(Y, pred)\n",
    "            \n",
    "            if save_errors:\n",
    "                self.errors.append(error)\n",
    "            \n",
    "            if verbose: \n",
    "                print('Iteration no.', i+1, ':', error)\n",
    "\n",
    "    def _powell(self, X, Y):\n",
    "        self.Beta = minimize(fun = lambda x: -cross_entropy(Y, sigmoid(X @ x)), x0 = self.Beta, \n",
    "                             method = 'Powell',options={'xtol': self.tolerance, 'maxiter': self.iterations}).x\n",
    "    \n",
    "    def predict(self, X, rounding = False):\n",
    "        \n",
    "        if self.normalize:\n",
    "            X = (X-X.mean(0))/X.std(0)\n",
    "            \n",
    "        if self.intercept:\n",
    "            X = np.insert(X, 0, values=1, axis=1)\n",
    "            \n",
    "        ret = np.exp(np.clip(X @ self.Beta, -100, 100))/(1+np.exp(np.clip(X @ self.Beta, -100, 100)))\n",
    "        \n",
    "        if rounding:\n",
    "            ret = ret.round()\n",
    "\n",
    "        return ret\n",
    "    "
   ]
  },
  {
   "cell_type": "markdown",
   "metadata": {},
   "source": [
    "**Cancer**"
   ]
  },
  {
   "cell_type": "code",
   "execution_count": 43,
   "metadata": {},
   "outputs": [],
   "source": [
    "np.random.seed(111)\n",
    "Y = Cancer[1].to_numpy()\n",
    "X = Cancer.loc[:,2:].to_numpy()\n",
    "X_train, X_test, Y_train, Y_test = train_test_split(X, Y, test_size = 0.2)"
   ]
  },
  {
   "cell_type": "code",
   "execution_count": 44,
   "metadata": {},
   "outputs": [
    {
     "name": "stdout",
     "output_type": "stream",
     "text": [
      "Iteration no. 1 : -158.88853543873998\n",
      "Iteration no. 2 : -122.54836267002526\n",
      "Iteration no. 3 : -104.79193869519422\n",
      "Iteration no. 4 : -93.67644596285164\n",
      "Iteration no. 5 : -85.90976234839403\n",
      "Iteration no. 6 : -80.08481651554258\n",
      "Iteration no. 7 : -75.51958904525705\n",
      "Iteration no. 8 : -71.82854021656377\n",
      "Iteration no. 9 : -68.76492051604058\n",
      "Iteration no. 10 : -66.17791351147598\n",
      "Iteration no. 11 : -63.957563323457165\n",
      "Iteration no. 12 : -62.025690029425036\n",
      "Iteration no. 13 : -60.32466785811319\n",
      "Iteration no. 14 : -58.81309073005618\n",
      "Iteration no. 15 : -57.46085282318394\n",
      "Iteration no. 16 : -56.239009970225396\n",
      "Iteration no. 17 : -55.130403575841626\n",
      "Iteration no. 18 : -54.11913544449864\n",
      "Iteration no. 19 : -53.19089326194663\n",
      "Iteration no. 20 : -52.33531202889323\n",
      "Iteration no. 21 : -51.54382643547268\n",
      "Iteration no. 22 : -50.80868885532784\n",
      "Iteration no. 23 : -50.123008388711874\n",
      "Iteration no. 24 : -49.482976662357835\n",
      "Iteration no. 25 : -48.882784359175496\n",
      "Iteration no. 26 : -48.31781844764684\n",
      "Iteration no. 27 : -47.78605109731272\n",
      "Iteration no. 28 : -47.28379347317855\n",
      "Iteration no. 29 : -46.80854051732853\n",
      "Iteration no. 30 : -46.35797929820963\n",
      "Iteration no. 31 : -45.92995887796056\n",
      "Iteration no. 32 : -45.52263259943247\n",
      "Iteration no. 33 : -45.13421853806069\n",
      "Iteration no. 34 : -44.763755847539\n",
      "Iteration no. 35 : -44.40934613261547\n",
      "Iteration no. 36 : -44.07032541307764\n",
      "Iteration no. 37 : -43.74583520320395\n",
      "Iteration no. 38 : -43.43373848870146\n",
      "Iteration no. 39 : -43.13439528323365\n",
      "Iteration no. 40 : -42.846555247262074\n",
      "Iteration no. 41 : -42.569331786070244\n",
      "Iteration no. 42 : -42.302032398219794\n",
      "Iteration no. 43 : -42.04432126820049\n",
      "Iteration no. 44 : -41.79585611062568\n",
      "Iteration no. 45 : -41.55537452229906\n",
      "Iteration no. 46 : -41.32303875880235\n",
      "Iteration no. 47 : -41.098153462220836\n",
      "Iteration no. 48 : -40.88018803205321\n",
      "Iteration no. 49 : -40.668810112085495\n",
      "Iteration no. 50 : -40.46409883318488\n",
      "Iteration no. 51 : -40.26547142784037\n",
      "Iteration no. 52 : -40.07266202440728\n",
      "Iteration no. 53 : -39.88510301679128\n",
      "Iteration no. 54 : -39.70298098163855\n",
      "Iteration no. 55 : -39.525831849487986\n",
      "Iteration no. 56 : -39.35331529534153\n",
      "Iteration no. 57 : -39.18538793970385\n",
      "Iteration no. 58 : -39.02180521182778\n",
      "Iteration no. 59 : -38.862437501425525\n",
      "Iteration no. 60 : -38.70685146327489\n",
      "Iteration no. 61 : -38.55503573286947\n",
      "Iteration no. 62 : -38.40695869143216\n",
      "Iteration no. 63 : -38.2622978038264\n",
      "Iteration no. 64 : -38.120759982545394\n",
      "Iteration no. 65 : -37.98290391982049\n",
      "Iteration no. 66 : -37.84793504148232\n",
      "Iteration no. 67 : -37.71615343040932\n",
      "Iteration no. 68 : -37.58704317614605\n",
      "Iteration no. 69 : -37.46062804982979\n",
      "Iteration no. 70 : -37.3370518255894\n",
      "Iteration no. 71 : -37.21611332359532\n",
      "Iteration no. 72 : -37.097588750214996\n",
      "Iteration no. 73 : -36.98122024024416\n",
      "Iteration no. 74 : -36.86738549593585\n",
      "Iteration no. 75 : -36.75567827056725\n",
      "Iteration no. 76 : -36.646191911458054\n",
      "Iteration no. 77 : -36.53882926324088\n",
      "Iteration no. 78 : -36.43341056911429\n",
      "Iteration no. 79 : -36.329966874758526\n",
      "Iteration no. 80 : -36.22842217105635\n",
      "Iteration no. 81 : -36.12859114936175\n",
      "Iteration no. 82 : -36.03064377950906\n",
      "Iteration no. 83 : -35.93433155361105\n",
      "Iteration no. 84 : -35.839785406474995\n",
      "Iteration no. 85 : -35.746925434910864\n",
      "Iteration no. 86 : -35.65551107594161\n",
      "Iteration no. 87 : -35.56566402688253\n",
      "Iteration no. 88 : -35.477333395153366\n",
      "Iteration no. 89 : -35.39042984907021\n",
      "Iteration no. 90 : -35.304813913906415\n",
      "Iteration no. 91 : -35.22064046397456\n",
      "Iteration no. 92 : -35.137805889480234\n",
      "Iteration no. 93 : -35.05624966836436\n",
      "Iteration no. 94 : -34.97599659591418\n",
      "Iteration no. 95 : -34.896873864420925\n",
      "Iteration no. 96 : -34.8189654832168\n",
      "Iteration no. 97 : -34.74216746613662\n",
      "Iteration no. 98 : -34.66657284316031\n",
      "Iteration no. 99 : -34.591996060920664\n",
      "Iteration no. 100 : -34.5186098660337\n",
      "Iteration no. 101 : -34.44619733232203\n",
      "Iteration no. 102 : -34.37491611948732\n",
      "Iteration no. 103 : -34.30449146788662\n",
      "Iteration no. 104 : -34.23511570450209\n",
      "Iteration no. 105 : -34.16664567947402\n",
      "Iteration no. 106 : -34.09909164880303\n",
      "Iteration no. 107 : -34.0325551318949\n",
      "Iteration no. 108 : -33.96681961135874\n",
      "Iteration no. 109 : -33.90194660601243\n",
      "Iteration no. 110 : -33.83780478573351\n",
      "Iteration no. 111 : -33.774589130370614\n",
      "Iteration no. 112 : -33.712153003909926\n",
      "Iteration no. 113 : -33.65053162126851\n",
      "Iteration no. 114 : -33.58972097857844\n",
      "Iteration no. 115 : -33.529609945345165\n",
      "Iteration no. 116 : -33.47022437243219\n",
      "Iteration no. 117 : -33.411606133892825\n",
      "Iteration no. 118 : -33.35366415150398\n",
      "Iteration no. 119 : -33.29650317839817\n",
      "Iteration no. 120 : -33.23995698718102\n",
      "Iteration no. 121 : -33.18410491653576\n",
      "Iteration no. 122 : -33.128881229777235\n",
      "Iteration no. 123 : -33.07432491874985\n",
      "Iteration no. 124 : -33.02037225909969\n",
      "Iteration no. 125 : -32.967119387801816\n",
      "Iteration no. 126 : -32.91441707207611\n",
      "Iteration no. 127 : -32.86227487574847\n",
      "Iteration no. 128 : -32.81071992731016\n",
      "Iteration no. 129 : -32.759705780704046\n",
      "Iteration no. 130 : -32.70921807539892\n",
      "Iteration no. 131 : -32.659351632632394\n",
      "Iteration no. 132 : -32.60997148518909\n",
      "Iteration no. 133 : -32.561175483240774\n",
      "Iteration no. 134 : -32.5128547462633\n",
      "Iteration no. 135 : -32.46510792600603\n",
      "Iteration no. 136 : -32.417774890394945\n",
      "Iteration no. 137 : -32.37099478421772\n",
      "Iteration no. 138 : -32.32459041098787\n",
      "Iteration no. 139 : -32.278767333520754\n",
      "Iteration no. 140 : -32.23339780195833\n",
      "Iteration no. 141 : -32.18845502576734\n",
      "Iteration no. 142 : -32.14399435566142\n",
      "Iteration no. 143 : -32.09998584617973\n",
      "Iteration no. 144 : -32.056378148132126\n",
      "Iteration no. 145 : -32.013230980462865\n"
     ]
    }
   ],
   "source": [
    "mod_sgd = LogisticRegression('sgd', alpha = 0.1, batch_size = 100, normalize = True)\n",
    "mod_sgd.fit(X_train, Y_train, verbose = True, save_errors = True)\n",
    "Y_hat_sgd = mod_sgd.predict(X_test, rounding = True)"
   ]
  },
  {
   "cell_type": "code",
   "execution_count": 45,
   "metadata": {},
   "outputs": [
    {
     "name": "stdout",
     "output_type": "stream",
     "text": [
      "Acccuracy:  0.9736842105263158\n",
      "Precision:  0.9767441860465116\n",
      "Recall:  0.9545454545454546\n",
      "F_measure:  0.9655172413793104\n",
      "R2_score:  0.888961038961039\n"
     ]
    }
   ],
   "source": [
    "assess(Y_test, Y_hat_sgd)"
   ]
  },
  {
   "cell_type": "code",
   "execution_count": 46,
   "metadata": {},
   "outputs": [
    {
     "name": "stdout",
     "output_type": "stream",
     "text": [
      "Iteration no. 1 : -238.39442025702206\n",
      "Iteration no. 2 : -199.18382755670152\n",
      "Iteration no. 3 : -175.15119005756748\n",
      "Iteration no. 4 : -158.58534542023475\n",
      "Iteration no. 5 : -146.30025239474062\n",
      "Iteration no. 6 : -136.7273345412594\n",
      "Iteration no. 7 : -128.99689483808535\n",
      "Iteration no. 8 : -122.58426869926275\n",
      "Iteration no. 9 : -117.15231184289806\n",
      "Iteration no. 10 : -112.47346058728111\n",
      "Iteration no. 11 : -108.38793270588329\n",
      "Iteration no. 12 : -104.77984191943087\n",
      "Iteration no. 13 : -101.56282830820658\n",
      "Iteration no. 14 : -98.67103678245003\n",
      "Iteration no. 15 : -96.05324545738671\n",
      "Iteration no. 16 : -93.6689243421358\n",
      "Iteration no. 17 : -91.48551795602972\n",
      "Iteration no. 18 : -89.47652731507092\n",
      "Iteration no. 19 : -87.62012776469848\n",
      "Iteration no. 20 : -85.89815438732809\n",
      "Iteration no. 21 : -84.29534479927878\n",
      "Iteration no. 22 : -82.79876554582755\n",
      "Iteration no. 23 : -81.39737166563633\n",
      "Iteration no. 24 : -80.08166432418673\n",
      "Iteration no. 25 : -78.84342167415966\n",
      "Iteration no. 26 : -77.67548509092961\n",
      "Iteration no. 27 : -76.57158777397484\n",
      "Iteration no. 28 : -75.52621611114694\n",
      "Iteration no. 29 : -74.53449663228204\n",
      "Iteration no. 30 : -73.59210313416503\n",
      "Iteration no. 31 : -72.69517984269882\n",
      "Iteration no. 32 : -71.84027742756791\n",
      "Iteration no. 33 : -71.02429939417746\n",
      "Iteration no. 34 : -70.24445691302171\n",
      "Iteration no. 35 : -69.49823055432054\n",
      "Iteration no. 36 : -68.78333770887994\n",
      "Iteration no. 37 : -68.09770471855873\n",
      "Iteration no. 38 : -67.43944292884584\n",
      "Iteration no. 39 : -66.80682802464567\n",
      "Iteration no. 40 : -66.19828212791276\n",
      "Iteration no. 41 : -65.61235822934904\n",
      "Iteration no. 42 : -65.0477266013248\n",
      "Iteration no. 43 : -64.50316289955387\n",
      "Iteration no. 44 : -63.97753770995273\n",
      "Iteration no. 45 : -63.4698073369227\n",
      "Iteration no. 46 : -62.97900566186836\n",
      "Iteration no. 47 : -62.50423692754329\n",
      "Iteration no. 48 : -62.04466932592757\n",
      "Iteration no. 49 : -61.599529285681875\n",
      "Iteration no. 50 : -61.16809637049729\n",
      "Iteration no. 51 : -60.7496987124308\n",
      "Iteration no. 52 : -60.3437089150355\n",
      "Iteration no. 53 : -59.94954037012317\n",
      "Iteration no. 54 : -59.566643939630225\n",
      "Iteration no. 55 : -59.19450496053098\n",
      "Iteration no. 56 : -58.832640536251475\n",
      "Iteration no. 57 : -58.48059708273899\n",
      "Iteration no. 58 : -58.13794810136804\n",
      "Iteration no. 59 : -57.80429215432034\n",
      "Iteration no. 60 : -57.47925102105239\n",
      "Iteration no. 61 : -57.16246801703342\n",
      "Iteration no. 62 : -56.85360645816126\n",
      "Iteration no. 63 : -56.5523482561927\n",
      "Iteration no. 64 : -56.25839263220407\n",
      "Iteration no. 65 : -55.97145493656157\n",
      "Iteration no. 66 : -55.691265565159256\n",
      "Iteration no. 67 : -55.41756896280324\n",
      "Iteration no. 68 : -55.15012270560322\n",
      "Iteration no. 69 : -54.888696655097036\n",
      "Iteration no. 70 : -54.633072177595395\n",
      "Iteration no. 71 : -54.383041422906615\n",
      "Iteration no. 72 : -54.13840665719562\n",
      "Iteration no. 73 : -53.89897964525832\n",
      "Iteration no. 74 : -53.66458107796062\n",
      "Iteration no. 75 : -53.43504004100629\n",
      "Iteration no. 76 : -53.21019352156929\n",
      "Iteration no. 77 : -52.9898859496553\n",
      "Iteration no. 78 : -52.77396877135319\n",
      "Iteration no. 79 : -52.56230005140038\n",
      "Iteration no. 80 : -52.354744102723245\n",
      "Iteration no. 81 : -52.15117114082526\n",
      "Iteration no. 82 : -51.95145696108664\n",
      "Iteration no. 83 : -51.755482637210235\n",
      "Iteration no. 84 : -51.563134239201865\n",
      "Iteration no. 85 : -51.37430256940053\n",
      "Iteration no. 86 : -51.18888290724715\n",
      "Iteration no. 87 : -51.006774810193996\n",
      "Iteration no. 88 : -50.827881846617096\n",
      "Iteration no. 89 : -50.65211142540497\n",
      "Iteration no. 90 : -50.47937459570515\n",
      "Iteration no. 91 : -50.309585866775926\n",
      "Iteration no. 92 : -50.14266303852226\n",
      "Iteration no. 93 : -49.978527041991725\n",
      "Iteration no. 94 : -49.81710178915114\n",
      "Iteration no. 95 : -49.658314031316166\n",
      "Iteration no. 96 : -49.502093225654434\n",
      "Iteration no. 97 : -49.348371409226175\n",
      "Iteration no. 98 : -49.19708308006777\n",
      "Iteration no. 99 : -49.048165084859654\n",
      "Iteration no. 100 : -48.90155651275455\n",
      "Iteration no. 101 : -48.75719859497275\n",
      "Iteration no. 102 : -48.615034609799864\n",
      "Iteration no. 103 : -48.47500979264884\n",
      "Iteration no. 104 : -48.33707125087173\n",
      "Iteration no. 105 : -48.20116788302935\n",
      "Iteration no. 106 : -48.06725030234713\n",
      "Iteration no. 107 : -47.935270764104416\n",
      "Iteration no. 108 : -47.80518309672183\n",
      "Iteration no. 109 : -47.67694263632718\n",
      "Iteration no. 110 : -47.550506164595674\n",
      "Iteration no. 111 : -47.425831849673216\n",
      "Iteration no. 112 : -47.30287919000493\n",
      "Iteration no. 113 : -47.18160896090221\n",
      "Iteration no. 114 : -47.06198316369287\n",
      "Iteration no. 115 : -46.94396497730878\n",
      "Iteration no. 116 : -46.82751871217475\n",
      "Iteration no. 117 : -46.71260976627137\n",
      "Iteration no. 118 : -46.599204583252046\n",
      "Iteration no. 119 : -46.4872706125024\n",
      "Iteration no. 120 : -46.37677627103708\n",
      "Iteration no. 121 : -46.267690907135204\n",
      "Iteration no. 122 : -46.1599847656221\n",
      "Iteration no. 123 : -46.053628954710334\n",
      "Iteration no. 124 : -45.94859541431832\n",
      "Iteration no. 125 : -45.844856885789724\n",
      "Iteration no. 126 : -45.74238688294153\n",
      "Iteration no. 127 : -45.64115966437242\n",
      "Iteration no. 128 : -45.54115020696781\n",
      "Iteration no. 129 : -45.442334180540996\n",
      "Iteration no. 130 : -45.34468792355358\n",
      "Iteration no. 131 : -45.248188419861606\n",
      "Iteration no. 132 : -45.15281327643679\n",
      "Iteration no. 133 : -45.05854070201501\n",
      "Iteration no. 134 : -44.96534948662735\n",
      "Iteration no. 135 : -44.87321898197065\n",
      "Iteration no. 136 : -44.78212908257758\n",
      "Iteration no. 137 : -44.69206020774836\n",
      "Iteration no. 138 : -44.602993284207784\n",
      "Iteration no. 139 : -44.51490972945386\n",
      "Iteration no. 140 : -44.42779143576571\n",
      "Iteration no. 141 : -44.341620754840264\n",
      "Iteration no. 142 : -44.25638048302879\n",
      "Iteration no. 143 : -44.172053847146124\n",
      "Iteration no. 144 : -44.08862449082628\n",
      "Iteration no. 145 : -44.006076461400255\n",
      "Iteration no. 146 : -43.924394197272385\n",
      "Iteration no. 147 : -43.84356251577324\n",
      "Iteration no. 148 : -43.76356660146799\n",
      "Iteration no. 149 : -43.684391994900324\n",
      "Iteration no. 150 : -43.606024581752905\n",
      "Iteration no. 151 : -43.52845058240637\n",
      "Iteration no. 152 : -43.45165654187979\n",
      "Iteration no. 153 : -43.37562932013613\n",
      "Iteration no. 154 : -43.30035608273749\n",
      "Iteration no. 155 : -43.22582429183504\n",
      "Iteration no. 156 : -43.15202169748002\n",
      "Iteration no. 157 : -43.078936329242\n",
      "Iteration no. 158 : -43.00655648812209\n",
      "Iteration no. 159 : -42.9348707387486\n",
      "Iteration no. 160 : -42.86386790184403\n",
      "Iteration no. 161 : -42.793537046951826\n",
      "Iteration no. 162 : -42.723867485412924\n",
      "Iteration no. 163 : -42.654848763581775\n",
      "Iteration no. 164 : -42.58647065627231\n",
      "Iteration no. 165 : -42.518723160424805\n",
      "Iteration no. 166 : -42.45159648898495\n",
      "Iteration no. 167 : -42.385081064986636\n",
      "Iteration no. 168 : -42.319167515830756\n",
      "Iteration no. 169 : -42.25384666775227\n",
      "Iteration no. 170 : -42.189109540468266\n",
      "Iteration no. 171 : -42.12494734200022\n",
      "Iteration no. 172 : -42.06135146366375\n",
      "Iteration no. 173 : -41.99831347521936\n",
      "Iteration no. 174 : -41.93582512017855\n",
      "Iteration no. 175 : -41.873878311258856\n",
      "Iteration no. 176 : -41.81246512598291\n",
      "Iteration no. 177 : -41.75157780241569\n",
      "Iteration no. 178 : -41.69120873503516\n",
      "Iteration no. 179 : -41.63135047073134\n",
      "Iteration no. 180 : -41.57199570492908\n",
      "Iteration no. 181 : -41.51313727783008\n",
      "Iteration no. 182 : -41.45476817076996\n",
      "Iteration no. 183 : -41.39688150268605\n",
      "Iteration no. 184 : -41.33947052669223\n",
      "Iteration no. 185 : -41.28252862675675\n",
      "Iteration no. 186 : -41.22604931447958\n",
      "Iteration no. 187 : -41.17002622596574\n",
      "Iteration no. 188 : -41.11445311879126\n",
      "Iteration no. 189 : -41.05932386905859\n",
      "Iteration no. 190 : -41.004632468538254\n",
      "Iteration no. 191 : -40.95037302189405\n",
      "Iteration no. 192 : -40.896539743988534\n",
      "Iteration no. 193 : -40.84312695726651\n",
      "Iteration no. 194 : -40.79012908921352\n",
      "Iteration no. 195 : -40.73754066988706\n",
      "Iteration no. 196 : -40.68535632951789\n",
      "Iteration no. 197 : -40.6335707961793\n",
      "Iteration no. 198 : -40.58217889352193\n",
      "Iteration no. 199 : -40.53117553857197\n",
      "Iteration no. 200 : -40.4805557395909\n",
      "Iteration no. 201 : -40.43031459399435\n",
      "Iteration no. 202 : -40.380447286328604\n",
      "Iteration no. 203 : -40.330949086302496\n",
      "Iteration no. 204 : -40.28181534687327\n",
      "Iteration no. 205 : -40.233041502384296\n",
      "Iteration no. 206 : -40.184623066753346\n",
      "Iteration no. 207 : -40.1365556317096\n",
      "Iteration no. 208 : -40.08883486507796\n",
      "Iteration no. 209 : -40.04145650910904\n",
      "Iteration no. 210 : -39.994416378853614\n",
      "Iteration no. 211 : -39.94771036057999\n",
      "Iteration no. 212 : -39.90133441023295\n",
      "Iteration no. 213 : -39.85528455193317\n",
      "Iteration no. 214 : -39.80955687651563\n",
      "Iteration no. 215 : -39.764147540105945\n",
      "Iteration no. 216 : -39.71905276273357\n",
      "Iteration no. 217 : -39.67426882698048\n",
      "Iteration no. 218 : -39.629792076664486\n",
      "Iteration no. 219 : -39.58561891555601\n",
      "Iteration no. 220 : -39.54174580612721\n",
      "Iteration no. 221 : -39.49816926833214\n",
      "Iteration no. 222 : -39.45488587841564\n",
      "Iteration no. 223 : -39.411892267739276\n",
      "Iteration no. 224 : -39.36918512097365\n",
      "Iteration no. 225 : -39.326761178162904\n",
      "Iteration no. 226 : -39.28461722839935\n",
      "Iteration no. 227 : -39.242750112637644\n",
      "Iteration no. 228 : -39.201156721560025\n",
      "Iteration no. 229 : -39.159833994605094\n",
      "Iteration no. 230 : -39.11877891899857\n",
      "Iteration no. 231 : -39.07798852880448\n",
      "Iteration no. 232 : -39.037459903998624\n",
      "Iteration no. 233 : -38.99719016956399\n",
      "Iteration no. 234 : -38.9571764946076\n",
      "Iteration no. 235 : -38.91741609149848\n",
      "Iteration no. 236 : -38.87790621502575\n",
      "Iteration no. 237 : -38.83864416157677\n",
      "Iteration no. 238 : -38.79962726833438\n",
      "Iteration no. 239 : -38.76085291249302\n",
      "Iteration no. 240 : -38.722318510493004\n",
      "Iteration no. 241 : -38.68402151727255\n",
      "Iteration no. 242 : -38.645959425537086\n"
     ]
    },
    {
     "name": "stdout",
     "output_type": "stream",
     "text": [
      "Iteration no. 243 : -38.60812976504535\n",
      "Iteration no. 244 : -38.570530101911814\n",
      "Iteration no. 245 : -38.533158037924935\n",
      "Iteration no. 246 : -38.49601120988109\n",
      "Iteration no. 247 : -38.459087288933304\n",
      "Iteration no. 248 : -38.42238397995486\n",
      "Iteration no. 249 : -38.385899020917066\n",
      "Iteration no. 250 : -38.34963018228096\n",
      "Iteration no. 251 : -38.31357526640254\n",
      "Iteration no. 252 : -38.277732106951234\n",
      "Iteration no. 253 : -38.2420985683411\n",
      "Iteration no. 254 : -38.20667254517463\n",
      "Iteration no. 255 : -38.1714519616987\n",
      "Iteration no. 256 : -38.13643477127242\n",
      "Iteration no. 257 : -38.10161895584652\n",
      "Iteration no. 258 : -38.06700252545396\n",
      "Iteration no. 259 : -38.03258351771171\n",
      "Iteration no. 260 : -37.998359997333026\n",
      "Iteration no. 261 : -37.96433005565028\n",
      "Iteration no. 262 : -37.93049181014798\n",
      "Iteration no. 263 : -37.89684340400561\n",
      "Iteration no. 264 : -37.863383005650284\n",
      "Iteration no. 265 : -37.83010880831873\n",
      "Iteration no. 266 : -37.79701902962853\n",
      "Iteration no. 267 : -37.76411191115827\n",
      "Iteration no. 268 : -37.73138571803655\n",
      "Iteration no. 269 : -37.69883873853945\n",
      "Iteration no. 270 : -37.66646928369635\n",
      "Iteration no. 271 : -37.63427568690389\n",
      "Iteration no. 272 : -37.602256303547875\n",
      "Iteration no. 273 : -37.57040951063287\n",
      "Iteration no. 274 : -37.53873370641942\n",
      "Iteration no. 275 : -37.50722731006861\n",
      "Iteration no. 276 : -37.4758887612938\n",
      "Iteration no. 277 : -37.444716520019455\n",
      "Iteration no. 278 : -37.41370906604676\n",
      "Iteration no. 279 : -37.38286489872603\n",
      "Iteration no. 280 : -37.35218253663551\n",
      "Iteration no. 281 : -37.321660517266814\n",
      "Iteration no. 282 : -37.29129739671628\n",
      "Iteration no. 283 : -37.261091749382715\n",
      "Iteration no. 284 : -37.231042167670935\n",
      "Iteration no. 285 : -37.201147261701124\n",
      "Iteration no. 286 : -37.171405659023996\n",
      "Iteration no. 287 : -37.14181600434132\n",
      "Iteration no. 288 : -37.11237695923206\n",
      "Iteration no. 289 : -37.08308720188367\n",
      "Iteration no. 290 : -37.053945426828705\n",
      "Iteration no. 291 : -37.0249503446863\n",
      "Iteration no. 292 : -36.996100681908885\n",
      "Iteration no. 293 : -36.96739518053343\n",
      "Iteration no. 294 : -36.93883259793765\n",
      "Iteration no. 295 : -36.910411706600726\n",
      "Iteration no. 296 : -36.882131293868575\n",
      "Iteration no. 297 : -36.85399016172356\n",
      "Iteration no. 298 : -36.82598712655847\n",
      "Iteration no. 299 : -36.79812101895479\n",
      "Iteration no. 300 : -36.77039068346505\n",
      "Iteration no. 301 : -36.74279497839932\n",
      "Iteration no. 302 : -36.7153327756155\n",
      "Iteration no. 303 : -36.68800296031367\n",
      "Iteration no. 304 : -36.660804430834006\n",
      "Iteration no. 305 : -36.63373609845868\n",
      "Iteration no. 306 : -36.606796887217136\n",
      "Iteration no. 307 : -36.579985733695004\n",
      "Iteration no. 308 : -36.55330158684656\n",
      "Iteration no. 309 : -36.52674340781046\n",
      "Iteration no. 310 : -36.50031016972888\n",
      "Iteration no. 311 : -36.474000857569905\n",
      "Iteration no. 312 : -36.44781446795305\n",
      "Iteration no. 313 : -36.421750008977995\n",
      "Iteration no. 314 : -36.39580650005627\n",
      "Iteration no. 315 : -36.369982971746\n",
      "Iteration no. 316 : -36.344278465589554\n",
      "Iteration no. 317 : -36.3186920339541\n",
      "Iteration no. 318 : -36.29322273987488\n",
      "Iteration no. 319 : -36.267869656901325\n",
      "Iteration no. 320 : -36.24263186894581\n",
      "Iteration no. 321 : -36.21750847013507\n",
      "Iteration no. 322 : -36.1924985646642\n",
      "Iteration no. 323 : -36.16760126665318\n",
      "Iteration no. 324 : -36.14281570000585\n",
      "Iteration no. 325 : -36.1181409982714\n",
      "Iteration no. 326 : -36.093576304508154\n",
      "Iteration no. 327 : -36.0691207711497\n",
      "Iteration no. 328 : -36.044773559873335\n",
      "Iteration no. 329 : -36.020533841470794\n",
      "Iteration no. 330 : -35.99640079572102\n",
      "Iteration no. 331 : -35.97237361126526\n",
      "Iteration no. 332 : -35.94845148548416\n",
      "Iteration no. 333 : -35.92463362437696\n",
      "Iteration no. 334 : -35.900919242442754\n",
      "Iteration no. 335 : -35.877307562563615\n",
      "Iteration no. 336 : -35.85379781588986\n",
      "Iteration no. 337 : -35.83038924172701\n",
      "Iteration no. 338 : -35.807081087424805\n",
      "Iteration no. 339 : -35.78387260826791\n",
      "Iteration no. 340 : -35.760763067368565\n",
      "Iteration no. 341 : -35.737751735560835\n",
      "Iteration no. 342 : -35.71483789129674\n",
      "Iteration no. 343 : -35.692020820544016\n",
      "Iteration no. 344 : -35.669299816685495\n",
      "Iteration no. 345 : -35.64667418042025\n",
      "Iteration no. 346 : -35.6241432196662\n",
      "Iteration no. 347 : -35.601706249464364\n",
      "Iteration no. 348 : -35.57936259188466\n",
      "Iteration no. 349 : -35.55711157593317\n",
      "Iteration no. 350 : -35.53495253746097\n",
      "Iteration no. 351 : -35.5128848190743\n",
      "Iteration no. 352 : -35.49090777004628\n",
      "Iteration no. 353 : -35.469020746229965\n",
      "Iteration no. 354 : -35.44722310997277\n",
      "Iteration no. 355 : -35.42551423003227\n",
      "Iteration no. 356 : -35.40389348149337\n",
      "Iteration no. 357 : -35.38236024568665\n",
      "Iteration no. 358 : -35.360913910108124\n",
      "Iteration no. 359 : -35.33955386834016\n",
      "Iteration no. 360 : -35.318279519973665\n",
      "Iteration no. 361 : -35.297090270531555\n",
      "Iteration no. 362 : -35.275985531393204\n",
      "Iteration no. 363 : -35.25496471972026\n",
      "Iteration no. 364 : -35.234027258383584\n",
      "Iteration no. 365 : -35.21317257589116\n",
      "Iteration no. 366 : -35.19240010631725\n",
      "Iteration no. 367 : -35.17170928923265\n",
      "Iteration no. 368 : -35.151099569635846\n",
      "Iteration no. 369 : -35.13057039788541\n",
      "Iteration no. 370 : -35.11012122963327\n",
      "Iteration no. 371 : -35.08975152575911\n",
      "Iteration no. 372 : -35.06946075230561\n",
      "Iteration no. 373 : -35.049248380414866\n",
      "Iteration no. 374 : -35.02911388626553\n",
      "Iteration no. 375 : -35.0090567510111\n",
      "Iteration no. 376 : -34.98907646071896\n",
      "Iteration no. 377 : -34.96917250631048\n",
      "Iteration no. 378 : -34.949344383501845\n",
      "Iteration no. 379 : -34.92959159274592\n",
      "Iteration no. 380 : -34.909913639174846\n",
      "Iteration no. 381 : -34.89031003254354\n",
      "Iteration no. 382 : -34.87078028717406\n",
      "Iteration no. 383 : -34.851323921900644\n",
      "Iteration no. 384 : -34.83194046001576\n",
      "Iteration no. 385 : -34.81262942921676\n",
      "Iteration no. 386 : -34.793390361553406\n",
      "Iteration no. 387 : -34.77422279337611\n",
      "Iteration no. 388 : -34.75512626528497\n",
      "Iteration no. 389 : -34.736100322079494\n",
      "Iteration no. 390 : -34.71714451270907\n",
      "Iteration no. 391 : -34.69825839022416\n",
      "Iteration no. 392 : -34.679441511728136\n",
      "Iteration no. 393 : -34.66069343832989\n",
      "Iteration no. 394 : -34.642013735097024\n",
      "Iteration no. 395 : -34.62340197100982\n",
      "Iteration no. 396 : -34.60485771891568\n",
      "Iteration no. 397 : -34.58638055548445\n",
      "Iteration no. 398 : -34.56797006116413\n",
      "Iteration no. 399 : -34.549625820137386\n",
      "Iteration no. 400 : -34.53134742027855\n",
      "Iteration no. 401 : -34.51313445311128\n",
      "Iteration no. 402 : -34.49498651376671\n",
      "Iteration no. 403 : -34.476903200942274\n",
      "Iteration no. 404 : -34.458884116860865\n",
      "Iteration no. 405 : -34.44092886723044\n",
      "Iteration no. 406 : -34.423037061203715\n",
      "Iteration no. 407 : -34.40520831133665\n",
      "Iteration no. 408 : -34.3874422335395\n",
      "Iteration no. 409 : -34.369738446918205\n",
      "Iteration no. 410 : -34.35209657444077\n",
      "Iteration no. 411 : -34.33451624203797\n",
      "Iteration no. 412 : -34.31699707829932\n",
      "Iteration no. 413 : -34.299538715531575\n",
      "Iteration no. 414 : -34.28214078912231\n",
      "Iteration no. 415 : -34.26480293756296\n",
      "Iteration no. 416 : -34.24752480242174\n",
      "Iteration no. 417 : -34.23030602831166\n",
      "Iteration no. 418 : -34.21314626285776\n",
      "Iteration no. 419 : -34.19604515666442\n",
      "Iteration no. 420 : -34.179002363282855\n",
      "Iteration no. 421 : -34.1620175391791\n",
      "Iteration no. 422 : -34.14509034370225\n",
      "Iteration no. 423 : -34.12822043905324\n",
      "Iteration no. 424 : -34.11140749025391\n",
      "Iteration no. 425 : -34.09465116511656\n",
      "Iteration no. 426 : -34.07795113421386\n",
      "Iteration no. 427 : -34.06130707084912\n",
      "Iteration no. 428 : -34.04471865102705\n",
      "Iteration no. 429 : -34.02818555342478\n",
      "Iteration no. 430 : -34.01170745936338\n",
      "Iteration no. 431 : -33.99528405277961\n",
      "Iteration no. 432 : -33.97891502019818\n",
      "Iteration no. 433 : -33.96260005070427\n",
      "Iteration no. 434 : -33.94633883591644\n",
      "Iteration no. 435 : -33.9301310699599\n",
      "Iteration no. 436 : -33.9139764494401\n",
      "Iteration no. 437 : -33.89787467341665\n",
      "Iteration no. 438 : -33.88182544337767\n",
      "Iteration no. 439 : -33.865828463214314\n",
      "Iteration no. 440 : -33.84988343919569\n",
      "Iteration no. 441 : -33.833990079944215\n",
      "Iteration no. 442 : -33.81814809641104\n",
      "Iteration no. 443 : -33.80235720185203\n",
      "Iteration no. 444 : -33.78661711180386\n",
      "Iteration no. 445 : -33.77092754406053\n",
      "Iteration no. 446 : -33.75528821865014\n",
      "Iteration no. 447 : -33.739698857811945\n",
      "Iteration no. 448 : -33.7241591859737\n",
      "Iteration no. 449 : -33.7086689297293\n",
      "Iteration no. 450 : -33.69322781781672\n",
      "Iteration no. 451 : -33.67783558109612\n",
      "Iteration no. 452 : -33.66249195252843\n",
      "Iteration no. 453 : -33.64719666715395\n",
      "Iteration no. 454 : -33.63194946207142\n",
      "Iteration no. 455 : -33.61675007641725\n",
      "Iteration no. 456 : -33.60159825134498\n",
      "Iteration no. 457 : -33.5864937300051\n",
      "Iteration no. 458 : -33.571436257524994\n",
      "Iteration no. 459 : -33.55642558098919\n",
      "Iteration no. 460 : -33.541461449419856\n",
      "Iteration no. 461 : -33.52654361375748\n",
      "Iteration no. 462 : -33.51167182684181\n",
      "Iteration no. 463 : -33.49684584339296\n",
      "Iteration no. 464 : -33.48206541999267\n",
      "Iteration no. 465 : -33.46733031506565\n",
      "Iteration no. 466 : -33.45264028886053\n",
      "Iteration no. 467 : -33.437995103428946\n",
      "Iteration no. 468 : -33.42339452259079\n",
      "Iteration no. 469 : -33.40883831065724\n",
      "Iteration no. 470 : -33.394326237923174\n",
      "Iteration no. 471 : -33.37985807188453\n",
      "Iteration no. 472 : -33.36543358341519\n",
      "Iteration no. 473 : -33.35105254506454\n",
      "Iteration no. 474 : -33.33671473106449\n",
      "Iteration no. 475 : -33.32241991731687\n",
      "Iteration no. 476 : -33.308167881378424\n",
      "Iteration no. 477 : -33.293958402445206\n",
      "Iteration no. 478 : -33.279791261337174\n",
      "Iteration no. 479 : -33.265666240482595\n",
      "Iteration no. 480 : -33.251583123902876\n",
      "Iteration no. 481 : -33.237541697197315\n",
      "Iteration no. 482 : -33.22354174752822\n",
      "Iteration no. 483 : -33.20958306360605\n",
      "Iteration no. 484 : -33.19566543567477\n",
      "Iteration no. 485 : -33.18178865549742\n",
      "Iteration no. 486 : -33.1679525163418\n",
      "Iteration no. 487 : -33.1541568129663\n",
      "Iteration no. 488 : -33.14040134160598\n",
      "Iteration no. 489 : -33.126685899958694\n",
      "Iteration no. 490 : -33.11301028717145\n",
      "Iteration no. 491 : -33.099374303826934\n",
      "Iteration no. 492 : -33.08577775193014\n"
     ]
    },
    {
     "name": "stdout",
     "output_type": "stream",
     "text": [
      "Iteration no. 493 : -33.07222043489513\n",
      "Iteration no. 494 : -33.05870215753206\n",
      "Iteration no. 495 : -33.04522272603424\n",
      "Iteration no. 496 : -33.03178194796538\n",
      "Iteration no. 497 : -33.01837963224698\n",
      "Iteration no. 498 : -33.00501558914589\n",
      "Iteration no. 499 : -32.99168963026193\n",
      "Iteration no. 500 : -32.978401568515736\n",
      "Iteration no. 501 : -32.96515121813671\n",
      "Iteration no. 502 : -32.951938394651094\n",
      "Iteration no. 503 : -32.93876291487016\n",
      "Iteration no. 504 : -32.92562459687859\n",
      "Iteration no. 505 : -32.91252326002297\n",
      "Iteration no. 506 : -32.8994587249003\n",
      "Iteration no. 507 : -32.88643081334683\n",
      "Iteration no. 508 : -32.87343934842685\n",
      "Iteration no. 509 : -32.8604841544217\n",
      "Iteration no. 510 : -32.847565056818844\n",
      "Iteration no. 511 : -32.83468188230108\n",
      "Iteration no. 512 : -32.82183445873595\n",
      "Iteration no. 513 : -32.80902261516506\n",
      "Iteration no. 514 : -32.79624618179378\n",
      "Iteration no. 515 : -32.78350498998081\n",
      "Iteration no. 516 : -32.77079887222812\n",
      "Iteration no. 517 : -32.75812766217067\n",
      "Iteration no. 518 : -32.745491194566576\n",
      "Iteration no. 519 : -32.73288930528716\n",
      "Iteration no. 520 : -32.720321831307174\n",
      "Iteration no. 521 : -32.707788610695175\n",
      "Iteration no. 522 : -32.695289482603926\n",
      "Iteration no. 523 : -32.68282428726094\n",
      "Iteration no. 524 : -32.67039286595916\n",
      "Iteration no. 525 : -32.65799506104762\n",
      "Iteration no. 526 : -32.64563071592237\n",
      "Iteration no. 527 : -32.63329967501737\n",
      "Iteration no. 528 : -32.62100178379549\n",
      "Iteration no. 529 : -32.60873688873976\n",
      "Iteration no. 530 : -32.59650483734442\n",
      "Iteration no. 531 : -32.58430547810637\n",
      "Iteration no. 532 : -32.57213866051653\n",
      "Iteration no. 533 : -32.56000423505134\n",
      "Iteration no. 534 : -32.54790205316432\n",
      "Iteration no. 535 : -32.535831967277794\n",
      "Iteration no. 536 : -32.523793830774615\n",
      "Iteration no. 537 : -32.51178749799003\n",
      "Iteration no. 538 : -32.4998128242036\n",
      "Iteration no. 539 : -32.48786966563122\n",
      "Iteration no. 540 : -32.47595787941724\n",
      "Iteration no. 541 : -32.464077323626604\n",
      "Iteration no. 542 : -32.45222785723714\n",
      "Iteration no. 543 : -32.44040934013191\n",
      "Iteration no. 544 : -32.428621633091595\n",
      "Iteration no. 545 : -32.41686459778704\n",
      "Iteration no. 546 : -32.40513809677179\n",
      "Iteration no. 547 : -32.393441993474795\n",
      "Iteration no. 548 : -32.38177615219303\n",
      "Iteration no. 549 : -32.37014043808442\n",
      "Iteration no. 550 : -32.358534717160666\n",
      "Iteration no. 551 : -32.34695885628017\n",
      "Iteration no. 552 : -32.33541272314103\n",
      "Iteration no. 553 : -32.32389618627427\n",
      "Iteration no. 554 : -32.3124091150368\n",
      "Iteration no. 555 : -32.300951379604804\n",
      "Iteration no. 556 : -32.28952285096696\n",
      "Iteration no. 557 : -32.27812340091782\n",
      "Iteration no. 558 : -32.26675290205124\n",
      "Iteration no. 559 : -32.25541122775387\n",
      "Iteration no. 560 : -32.244098252198754\n",
      "Iteration no. 561 : -32.2328138503389\n",
      "Iteration no. 562 : -32.221557897901\n",
      "Iteration no. 563 : -32.21033027137916\n",
      "Iteration no. 564 : -32.1991308480288\n",
      "Iteration no. 565 : -32.18795950586036\n",
      "Iteration no. 566 : -32.176816123633415\n",
      "Iteration no. 567 : -32.16570058085056\n",
      "Iteration no. 568 : -32.1546127577515\n",
      "Iteration no. 569 : -32.143552535307165\n",
      "Iteration no. 570 : -32.13251979521389\n",
      "Iteration no. 571 : -32.1215144198876\n",
      "Iteration no. 572 : -32.11053629245815\n",
      "Iteration no. 573 : -32.099585296763635\n",
      "Iteration no. 574 : -32.08866131734478\n",
      "Iteration no. 575 : -32.07776423943942\n",
      "Iteration no. 576 : -32.06689394897695\n",
      "Iteration no. 577 : -32.05605033257292\n",
      "Iteration no. 578 : -32.045233277523664\n",
      "Iteration no. 579 : -32.03444267180086\n",
      "Iteration no. 580 : -32.023678404046365\n",
      "Iteration no. 581 : -32.0129403635668\n",
      "Iteration no. 582 : -32.00222844032848\n",
      "Iteration no. 583 : -31.991542524952152\n",
      "Iteration no. 584 : -31.980882508707772\n",
      "Iteration no. 585 : -31.97024828350927\n",
      "Iteration no. 586 : -31.95963974190891\n",
      "Iteration no. 587 : -31.94905677709048\n",
      "Iteration no. 588 : -31.93849928285595\n",
      "Iteration no. 589 : -31.927967153511787\n",
      "Iteration no. 590 : -31.917460284698038\n",
      "Iteration no. 591 : -31.906978571573468\n",
      "Iteration no. 592 : -31.896521910512476\n",
      "Iteration no. 593 : -31.886090198423993\n",
      "Iteration no. 594 : -31.875683332809157\n",
      "Iteration no. 595 : -31.86530121176309\n",
      "Iteration no. 596 : -31.85494373397186\n",
      "Iteration no. 597 : -31.84461079870836\n",
      "Iteration no. 598 : -31.834302305827784\n",
      "Iteration no. 599 : -31.824018155762417\n",
      "Iteration no. 600 : -31.813758249514535\n",
      "Iteration no. 601 : -31.803522488636297\n",
      "Iteration no. 602 : -31.793310774467326\n",
      "Iteration no. 603 : -31.783123011617498\n",
      "Iteration no. 604 : -31.772959102237298\n",
      "Iteration no. 605 : -31.762818950185085\n",
      "Iteration no. 606 : -31.752702459836684\n",
      "Iteration no. 607 : -31.742609536107093\n",
      "Iteration no. 608 : -31.732540084450328\n",
      "Iteration no. 609 : -31.722494010856487\n",
      "Iteration no. 610 : -31.71247122184816\n",
      "Iteration no. 611 : -31.702471624476647\n",
      "Iteration no. 612 : -31.69249512631816\n",
      "Iteration no. 613 : -31.68254163546996\n",
      "Iteration no. 614 : -31.672611060546572\n",
      "Iteration no. 615 : -31.662703310675994\n",
      "Iteration no. 616 : -31.65281829549594\n",
      "Iteration no. 617 : -31.64295592515009\n",
      "Iteration no. 618 : -31.63311611028443\n",
      "Iteration no. 619 : -31.623298762043554\n",
      "Iteration no. 620 : -31.61350379206705\n",
      "Iteration no. 621 : -31.603731112485903\n",
      "Iteration no. 622 : -31.59398063591891\n",
      "Iteration no. 623 : -31.58425227546916\n",
      "Iteration no. 624 : -31.574545944720512\n",
      "Iteration no. 625 : -31.56486155773414\n",
      "Iteration no. 626 : -31.555199029045063\n",
      "Iteration no. 627 : -31.545558273658763\n",
      "Iteration no. 628 : -31.535939207047786\n",
      "Iteration no. 629 : -31.526341745148383\n",
      "Iteration no. 630 : -31.5167658043572\n",
      "Iteration no. 631 : -31.50721130152798\n",
      "Iteration no. 632 : -31.497678153968295\n",
      "Iteration no. 633 : -31.488166279436314\n",
      "Iteration no. 634 : -31.478675596137595\n",
      "Iteration no. 635 : -31.469206022721885\n",
      "Iteration no. 636 : -31.45975747828004\n",
      "Iteration no. 637 : -31.45032988234078\n",
      "Iteration no. 638 : -31.440923154867715\n",
      "Iteration no. 639 : -31.431537216256178\n",
      "Iteration no. 640 : -31.422171987330273\n",
      "Iteration no. 641 : -31.412827389339757\n",
      "Iteration no. 642 : -31.403503343957134\n",
      "Iteration no. 643 : -31.39419977327465\n",
      "Iteration no. 644 : -31.38491659980133\n",
      "Iteration no. 645 : -31.375653746460117\n",
      "Iteration no. 646 : -31.36641113658494\n",
      "Iteration no. 647 : -31.35718869391783\n",
      "Iteration no. 648 : -31.34798634260609\n",
      "Iteration no. 649 : -31.33880400719946\n",
      "Iteration no. 650 : -31.329641612647222\n",
      "Iteration no. 651 : -31.32049908429542\n",
      "Iteration no. 652 : -31.31137634788388\n",
      "Iteration no. 653 : -31.30227332954308\n",
      "Iteration no. 654 : -31.293189955790215\n",
      "Iteration no. 655 : -31.284126153521918\n",
      "Iteration no. 656 : -31.27508184997743\n",
      "Iteration no. 657 : -31.266056973481504\n",
      "Iteration no. 658 : -31.25705145113034\n",
      "Iteration no. 659 : -31.248065211684413\n",
      "Iteration no. 660 : -31.23909818396526\n",
      "Iteration no. 661 : -31.230150297148676\n",
      "Iteration no. 662 : -31.22122148077462\n",
      "Iteration no. 663 : -31.212311664747283\n",
      "Iteration no. 664 : -31.20342077933326\n",
      "Iteration no. 665 : -31.194548755159442\n",
      "Iteration no. 666 : -31.185695523210732\n",
      "Iteration no. 667 : -31.176861014827658\n",
      "Iteration no. 668 : -31.168045161704054\n",
      "Iteration no. 669 : -31.15924789588468\n",
      "Iteration no. 670 : -31.1504691497629\n",
      "Iteration no. 671 : -31.141708856078317\n",
      "Iteration no. 672 : -31.132966947914557\n",
      "Iteration no. 673 : -31.12424335869686\n",
      "Iteration no. 674 : -31.11553802218988\n",
      "Iteration no. 675 : -31.106850872495396\n",
      "Iteration no. 676 : -31.098181844050096\n",
      "Iteration no. 677 : -31.089530871623346\n",
      "Iteration no. 678 : -31.08089789031497\n",
      "Iteration no. 679 : -31.072282835553093\n",
      "Iteration no. 680 : -31.06368564309194\n",
      "Iteration no. 681 : -31.05510624900974\n",
      "Iteration no. 682 : -31.046544589706528\n",
      "Iteration no. 683 : -31.038000601902088\n",
      "Iteration no. 684 : -31.029474222633795\n",
      "Iteration no. 685 : -31.020965389254616\n",
      "Iteration no. 686 : -31.012474039430955\n",
      "Iteration no. 687 : -31.004000111140673\n",
      "Iteration no. 688 : -30.995543542671022\n",
      "Iteration no. 689 : -30.98710427261664\n",
      "Iteration no. 690 : -30.97868223987757\n",
      "Iteration no. 691 : -30.970277383657233\n",
      "Iteration no. 692 : -30.961889643460516\n",
      "Iteration no. 693 : -30.95351895909179\n",
      "Iteration no. 694 : -30.945165270652975\n",
      "Iteration no. 695 : -30.93682851854162\n",
      "Iteration no. 696 : -30.928508643449028\n",
      "Iteration no. 697 : -30.920205586358314\n",
      "Iteration no. 698 : -30.911919288542585\n",
      "Iteration no. 699 : -30.903649691563054\n",
      "Iteration no. 700 : -30.895396737267177\n",
      "Iteration no. 701 : -30.887160367786862\n",
      "Iteration no. 702 : -30.878940525536652\n",
      "Iteration no. 703 : -30.870737153211884\n",
      "Iteration no. 704 : -30.862550193786934\n",
      "Iteration no. 705 : -30.85437959051343\n",
      "Iteration no. 706 : -30.84622528691853\n",
      "Iteration no. 707 : -30.8380872268031\n",
      "Iteration no. 708 : -30.829965354240073\n",
      "Iteration no. 709 : -30.82185961357267\n",
      "Iteration no. 710 : -30.81376994941273\n",
      "Iteration no. 711 : -30.80569630663897\n",
      "Iteration no. 712 : -30.797638630395376\n",
      "Iteration no. 713 : -30.789596866089482\n",
      "Iteration no. 714 : -30.781570959390756\n",
      "Iteration no. 715 : -30.773560856228933\n",
      "Iteration no. 716 : -30.76556650279239\n",
      "Iteration no. 717 : -30.757587845526583\n",
      "Iteration no. 718 : -30.749624831132355\n",
      "Iteration no. 719 : -30.741677406564428\n",
      "Iteration no. 720 : -30.733745519029785\n",
      "Iteration no. 721 : -30.72582911598613\n",
      "Iteration no. 722 : -30.717928145140306\n",
      "Iteration no. 723 : -30.710042554446776\n",
      "Iteration no. 724 : -30.70217229210609\n",
      "Iteration no. 725 : -30.69431730656337\n",
      "Iteration no. 726 : -30.6864775465068\n",
      "Iteration no. 727 : -30.678652960866117\n",
      "Iteration no. 728 : -30.67084349881117\n",
      "Iteration no. 729 : -30.663049109750403\n",
      "Iteration no. 730 : -30.655269743329438\n",
      "Iteration no. 731 : -30.647505349429572\n",
      "Iteration no. 732 : -30.639755878166394\n",
      "Iteration no. 733 : -30.632021279888324\n",
      "Iteration no. 734 : -30.6243015051752\n",
      "Iteration no. 735 : -30.616596504836895\n",
      "Iteration no. 736 : -30.608906229911888\n",
      "Iteration no. 737 : -30.601230631665906\n",
      "Iteration no. 738 : -30.59356966159054\n",
      "Iteration no. 739 : -30.585923271401857\n",
      "Iteration no. 740 : -30.57829141303911\n",
      "Iteration no. 741 : -30.570674038663324\n",
      "Iteration no. 742 : -30.563071100656\n",
      "Iteration no. 743 : -30.55548255161778\n",
      "Iteration no. 744 : -30.547908344367148\n",
      "Iteration no. 745 : -30.540348431939098\n",
      "Iteration no. 746 : -30.53280276758387\n"
     ]
    },
    {
     "name": "stdout",
     "output_type": "stream",
     "text": [
      "Iteration no. 747 : -30.525271304765642\n",
      "Iteration no. 748 : -30.517753997161265\n",
      "Iteration no. 749 : -30.510250798658987\n",
      "Iteration no. 750 : -30.502761663357223\n",
      "Iteration no. 751 : -30.495286545563275\n",
      "Iteration no. 752 : -30.487825399792108\n",
      "Iteration no. 753 : -30.480378180765126\n",
      "Iteration no. 754 : -30.472944843408943\n",
      "Iteration no. 755 : -30.46552534285417\n",
      "Iteration no. 756 : -30.458119634434233\n",
      "Iteration no. 757 : -30.450727673684153\n",
      "Iteration no. 758 : -30.443349416339373\n",
      "Iteration no. 759 : -30.435984818334582\n",
      "Iteration no. 760 : -30.428633835802543\n",
      "Iteration no. 761 : -30.421296425072953\n",
      "Iteration no. 762 : -30.413972542671253\n",
      "Iteration no. 763 : -30.406662145317522\n",
      "Iteration no. 764 : -30.39936518992534\n",
      "Iteration no. 765 : -30.39208163360063\n",
      "Iteration no. 766 : -30.38481143364057\n",
      "Iteration no. 767 : -30.37755454753249\n",
      "Iteration no. 768 : -30.37031093295273\n",
      "Iteration no. 769 : -30.363080547765584\n",
      "Iteration no. 770 : -30.355863350022215\n",
      "Iteration no. 771 : -30.34865929795953\n",
      "Iteration no. 772 : -30.34146834999917\n",
      "Iteration no. 773 : -30.334290464746413\n",
      "Iteration no. 774 : -30.327125600989113\n",
      "Iteration no. 775 : -30.319973717696683\n",
      "Iteration no. 776 : -30.312834774019013\n",
      "Iteration no. 777 : -30.305708729285485\n",
      "Iteration no. 778 : -30.298595543003884\n",
      "Iteration no. 779 : -30.29149517485946\n",
      "Iteration no. 780 : -30.284407584713854\n",
      "Iteration no. 781 : -30.2773327326041\n",
      "Iteration no. 782 : -30.270270578741666\n",
      "Iteration no. 783 : -30.263221083511425\n",
      "Iteration no. 784 : -30.25618420747068\n",
      "Iteration no. 785 : -30.249159911348208\n",
      "Iteration no. 786 : -30.242148156043267\n",
      "Iteration no. 787 : -30.23514890262464\n",
      "Iteration no. 788 : -30.228162112329688\n",
      "Iteration no. 789 : -30.22118774656338\n",
      "Iteration no. 790 : -30.21422576689737\n",
      "Iteration no. 791 : -30.20727613506904\n",
      "Iteration no. 792 : -30.200338812980604\n",
      "Iteration no. 793 : -30.193413762698118\n",
      "Iteration no. 794 : -30.186500946450625\n",
      "Iteration no. 795 : -30.179600326629206\n",
      "Iteration no. 796 : -30.172711865786056\n",
      "Iteration no. 797 : -30.165835526633597\n",
      "Iteration no. 798 : -30.158971272043537\n",
      "Iteration no. 799 : -30.152119065045937\n",
      "Iteration no. 800 : -30.145278868828257\n",
      "Iteration no. 801 : -30.13845064673428\n",
      "Iteration no. 802 : -30.13163436226283\n",
      "Iteration no. 803 : -30.124829979065687\n",
      "Iteration no. 804 : -30.118037460942134\n",
      "Iteration no. 805 : -30.111256771804516\n",
      "Iteration no. 806 : -30.10448787643347\n",
      "Iteration no. 807 : -30.097730738116926\n",
      "Iteration no. 808 : -30.090985321620778\n",
      "Iteration no. 809 : -30.08425159153625\n",
      "Iteration no. 810 : -30.0775295125872\n",
      "Iteration no. 811 : -30.070819049641972\n",
      "Iteration no. 812 : -30.064120167715057\n",
      "Iteration no. 813 : -30.057432831967027\n",
      "Iteration no. 814 : -30.0507570077041\n",
      "Iteration no. 815 : -30.044092660377398\n",
      "Iteration no. 816 : -30.03743975558228\n",
      "Iteration no. 817 : -30.030798259057608\n",
      "Iteration no. 818 : -30.024168136684942\n",
      "Iteration no. 819 : -30.017549354487826\n",
      "Iteration no. 820 : -30.01094187863101\n",
      "Iteration no. 821 : -30.0043456754197\n",
      "Iteration no. 822 : -29.997760711298803\n",
      "Iteration no. 823 : -29.99118695285219\n",
      "Iteration no. 824 : -29.984624366801924\n",
      "Iteration no. 825 : -29.978072920007545\n",
      "Iteration no. 826 : -29.97153257946533\n",
      "Iteration no. 827 : -29.965003312307555\n",
      "Iteration no. 828 : -29.958485085801776\n",
      "Iteration no. 829 : -29.95197786735008\n",
      "Iteration no. 830 : -29.94548162448842\n",
      "Iteration no. 831 : -29.93899632488586\n",
      "Iteration no. 832 : -29.93252193634387\n",
      "Iteration no. 833 : -29.926058426795656\n",
      "Iteration no. 834 : -29.91960576430543\n",
      "Iteration no. 835 : -29.913163917067703\n",
      "Iteration no. 836 : -29.90673285340665\n",
      "Iteration no. 837 : -29.900312541775364\n",
      "Iteration no. 838 : -29.893902950755226\n",
      "Iteration no. 839 : -29.88750404905519\n",
      "Iteration no. 840 : -29.881115805511136\n",
      "Iteration no. 841 : -29.874738189085175\n",
      "Iteration no. 842 : -29.868371168865043\n",
      "Iteration no. 843 : -29.862014714063367\n",
      "Iteration no. 844 : -29.855668794017063\n",
      "Iteration no. 845 : -29.849333378186678\n",
      "Iteration no. 846 : -29.843008436155724\n",
      "Iteration no. 847 : -29.836693937630052\n",
      "Iteration no. 848 : -29.830389852437214\n",
      "Iteration no. 849 : -29.82409615052583\n",
      "Iteration no. 850 : -29.81781280196494\n",
      "Iteration no. 851 : -29.81153977694342\n",
      "Iteration no. 852 : -29.80527704576931\n",
      "Iteration no. 853 : -29.79902457886923\n",
      "Iteration no. 854 : -29.792782346787767\n",
      "Iteration no. 855 : -29.78655032018684\n",
      "Iteration no. 856 : -29.780328469845117\n",
      "Iteration no. 857 : -29.774116766657418\n",
      "Iteration no. 858 : -29.767915181634088\n",
      "Iteration no. 859 : -29.761723685900435\n",
      "Iteration no. 860 : -29.755542250696124\n",
      "Iteration no. 861 : -29.749370847374582\n",
      "Iteration no. 862 : -29.743209447402435\n",
      "Iteration no. 863 : -29.737058022358926\n",
      "Iteration no. 864 : -29.730916543935308\n",
      "Iteration no. 865 : -29.724784983934335\n",
      "Iteration no. 866 : -29.718663314269616\n",
      "Iteration no. 867 : -29.71255150696512\n",
      "Iteration no. 868 : -29.70644953415458\n",
      "Iteration no. 869 : -29.70035736808092\n",
      "Iteration no. 870 : -29.694274981095756\n",
      "Iteration no. 871 : -29.688202345658777\n",
      "Iteration no. 872 : -29.68213943433727\n",
      "Iteration no. 873 : -29.676086219805505\n",
      "Iteration no. 874 : -29.67004267484425\n",
      "Iteration no. 875 : -29.664008772340203\n",
      "Iteration no. 876 : -29.657984485285475\n",
      "Iteration no. 877 : -29.651969786777045\n",
      "Iteration no. 878 : -29.645964650016246\n",
      "Iteration no. 879 : -29.63996904830825\n",
      "Iteration no. 880 : -29.633982955061512\n",
      "Iteration no. 881 : -29.62800634378728\n",
      "Iteration no. 882 : -29.6220391880991\n",
      "Iteration no. 883 : -29.616081461712255\n",
      "Iteration no. 884 : -29.610133138443295\n",
      "Iteration no. 885 : -29.604194192209526\n",
      "Iteration no. 886 : -29.598264597028503\n",
      "Iteration no. 887 : -29.592344327017525\n",
      "Iteration no. 888 : -29.586433356393158\n",
      "Iteration no. 889 : -29.580531659470733\n",
      "Iteration no. 890 : -29.574639210663857\n",
      "Iteration no. 891 : -29.56875598448392\n",
      "Iteration no. 892 : -29.56288195553963\n",
      "Iteration no. 893 : -29.557017098536512\n",
      "Iteration no. 894 : -29.55116138827646\n",
      "Iteration no. 895 : -29.545314799657213\n",
      "Iteration no. 896 : -29.539477307671945\n",
      "Iteration no. 897 : -29.53364888740874\n",
      "Iteration no. 898 : -29.527829514050175\n",
      "Iteration no. 899 : -29.52201916287283\n",
      "Iteration no. 900 : -29.51621780924681\n",
      "Iteration no. 901 : -29.51042542863533\n",
      "Iteration no. 902 : -29.50464199659424\n",
      "Iteration no. 903 : -29.49886748877158\n",
      "Iteration no. 904 : -29.493101880907098\n",
      "Iteration no. 905 : -29.48734514883187\n",
      "Iteration no. 906 : -29.481597268467766\n",
      "Iteration no. 907 : -29.47585821582711\n",
      "Iteration no. 908 : -29.470127967012168\n",
      "Iteration no. 909 : -29.464406498214736\n",
      "Iteration no. 910 : -29.458693785715703\n",
      "Iteration no. 911 : -29.45298980588465\n",
      "Iteration no. 912 : -29.44729453517935\n",
      "Iteration no. 913 : -29.441607950145436\n",
      "Iteration no. 914 : -29.435930027415914\n",
      "Iteration no. 915 : -29.43026074371075\n",
      "Iteration no. 916 : -29.42460007583647\n",
      "Iteration no. 917 : -29.41894800068576\n",
      "Iteration no. 918 : -29.41330449523697\n",
      "Iteration no. 919 : -29.407669536553833\n",
      "Iteration no. 920 : -29.402043101784955\n",
      "Iteration no. 921 : -29.39642516816344\n",
      "Iteration no. 922 : -29.39081571300649\n",
      "Iteration no. 923 : -29.38521471371502\n",
      "Iteration no. 924 : -29.37962214777322\n",
      "Iteration no. 925 : -29.3740379927482\n",
      "Iteration no. 926 : -29.368462226289573\n",
      "Iteration no. 927 : -29.36289482612907\n",
      "Iteration no. 928 : -29.35733577008015\n",
      "Iteration no. 929 : -29.35178503603761\n",
      "Iteration no. 930 : -29.34624260197721\n",
      "Iteration no. 931 : -29.340708445955276\n",
      "Iteration no. 932 : -29.335182546108328\n",
      "Iteration no. 933 : -29.329664880652714\n",
      "Iteration no. 934 : -29.324155427884214\n",
      "Iteration no. 935 : -29.31865416617769\n",
      "Iteration no. 936 : -29.313161073986663\n",
      "Iteration no. 937 : -29.30767612984302\n",
      "Iteration no. 938 : -29.302199312356603\n",
      "Iteration no. 939 : -29.29673060021482\n",
      "Iteration no. 940 : -29.291269972182345\n",
      "Iteration no. 941 : -29.2858174071007\n",
      "Iteration no. 942 : -29.280372883887946\n",
      "Iteration no. 943 : -29.27493638153827\n",
      "Iteration no. 944 : -29.269507879121676\n",
      "Iteration no. 945 : -29.26408735578363\n",
      "Iteration no. 946 : -29.258674790744674\n",
      "Iteration no. 947 : -29.253270163300122\n",
      "Iteration no. 948 : -29.24787345281967\n",
      "Iteration no. 949 : -29.242484638747104\n",
      "Iteration no. 950 : -29.237103700599903\n",
      "Iteration no. 951 : -29.23173061796893\n",
      "Iteration no. 952 : -29.226365370518096\n",
      "Iteration no. 953 : -29.221007937983995\n",
      "Iteration no. 954 : -29.215658300175615\n",
      "Iteration no. 955 : -29.210316436973955\n",
      "Iteration no. 956 : -29.204982328331734\n",
      "Iteration no. 957 : -29.199655954273048\n",
      "Iteration no. 958 : -29.19433729489301\n",
      "Iteration no. 959 : -29.18902633035751\n",
      "Iteration no. 960 : -29.18372304090278\n",
      "Iteration no. 961 : -29.17842740683517\n",
      "Iteration no. 962 : -29.173139408530762\n",
      "Iteration no. 963 : -29.16785902643511\n",
      "Iteration no. 964 : -29.162586241062865\n",
      "Iteration no. 965 : -29.157321032997483\n",
      "Iteration no. 966 : -29.15206338289093\n",
      "Iteration no. 967 : -29.146813271463376\n",
      "Iteration no. 968 : -29.141570679502827\n",
      "Iteration no. 969 : -29.136335587864885\n",
      "Iteration no. 970 : -29.131107977472418\n",
      "Iteration no. 971 : -29.12588782931523\n",
      "Iteration no. 972 : -29.120675124449807\n",
      "Iteration no. 973 : -29.11546984399898\n",
      "Iteration no. 974 : -29.11027196915166\n",
      "Iteration no. 975 : -29.105081481162465\n",
      "Iteration no. 976 : -29.09989836135153\n",
      "Iteration no. 977 : -29.09472259110416\n",
      "Iteration no. 978 : -29.089554151870484\n",
      "Iteration no. 979 : -29.084393025165284\n",
      "Iteration no. 980 : -29.079239192567613\n",
      "Iteration no. 981 : -29.074092635720525\n",
      "Iteration no. 982 : -29.06895333633082\n",
      "Iteration no. 983 : -29.063821276168724\n",
      "Iteration no. 984 : -29.05869643706764\n",
      "Iteration no. 985 : -29.05357880092382\n",
      "Iteration no. 986 : -29.048468349696137\n",
      "Iteration no. 987 : -29.043365065405776\n",
      "Iteration no. 988 : -29.03826893013597\n",
      "Iteration no. 989 : -29.0331799260317\n",
      "Iteration no. 990 : -29.028098035299465\n",
      "Iteration no. 991 : -29.023023240206978\n",
      "Iteration no. 992 : -29.017955523082904\n",
      "Iteration no. 993 : -29.012894866316586\n",
      "Iteration no. 994 : -29.00784125235777\n",
      "Iteration no. 995 : -29.002794663716386\n",
      "Iteration no. 996 : -28.99775508296221\n",
      "Iteration no. 997 : -28.992722492724674\n",
      "Iteration no. 998 : -28.98769687569253\n",
      "Iteration no. 999 : -28.982678214613657\n",
      "Iteration no. 1000 : -28.977666492294766\n"
     ]
    }
   ],
   "source": [
    "mod_gd = LogisticRegression('gd', alpha = 0.1, normalize = True)\n",
    "mod_gd.fit(X_train, Y_train, verbose = True, save_errors = True)\n",
    "Y_hat_gd = mod_gd.predict(X_test, rounding = True)"
   ]
  },
  {
   "cell_type": "code",
   "execution_count": 47,
   "metadata": {},
   "outputs": [
    {
     "name": "stdout",
     "output_type": "stream",
     "text": [
      "Acccuracy:  0.9736842105263158\n",
      "Precision:  0.9767441860465116\n",
      "Recall:  0.9545454545454546\n",
      "F_measure:  0.9655172413793104\n",
      "R2_score:  0.888961038961039\n"
     ]
    }
   ],
   "source": [
    "assess(Y_test, Y_hat_gd)"
   ]
  },
  {
   "cell_type": "code",
   "execution_count": 48,
   "metadata": {},
   "outputs": [
    {
     "name": "stdout",
     "output_type": "stream",
     "text": [
      "Iteration no. 1 : -179.03412927319164\n",
      "Iteration no. 2 : -87.78824330380176\n",
      "Iteration no. 3 : -52.68282093632001\n",
      "Iteration no. 4 : -34.92479402511893\n",
      "Iteration no. 5 : -24.841742001004512\n",
      "Iteration no. 6 : -17.401738579895497\n",
      "Iteration no. 7 : -10.731459574521729\n",
      "Iteration no. 8 : -6.137317083706627\n",
      "Iteration no. 9 : -2.9073937252599524\n",
      "Iteration no. 10 : -1.2321894049340807\n",
      "Iteration no. 11 : -0.5280352783850019\n",
      "Iteration no. 12 : -0.2574565519481355\n",
      "Iteration no. 13 : -0.1479463037047916\n",
      "Iteration no. 14 : -0.09768520655408594\n",
      "Iteration no. 15 : -0.07106526422904931\n",
      "Iteration no. 16 : -0.055177972437170195\n",
      "Iteration no. 17 : -0.04481179647399073\n",
      "Iteration no. 18 : -0.03758749548826157\n",
      "Iteration no. 19 : -0.03229635263580749\n",
      "Iteration no. 20 : -0.028269305642628743\n",
      "Iteration no. 21 : -0.02510972827016345\n",
      "Iteration no. 22 : -0.0225690949305641\n",
      "Iteration no. 23 : -0.0204844381799922\n",
      "Iteration no. 24 : -0.018744778405573554\n",
      "Iteration no. 25 : -0.017272094967552092\n",
      "Iteration no. 26 : -0.016010029539995876\n",
      "Iteration no. 27 : -0.01491690911719606\n",
      "Iteration no. 28 : -0.013961286906268196\n",
      "Iteration no. 29 : -0.013119006284740806\n",
      "Iteration no. 30 : -0.012371216252370212\n",
      "Iteration no. 31 : -0.011702998694246517\n",
      "Iteration no. 32 : -0.011102398924280249\n",
      "Iteration no. 33 : -0.010559728277730359\n",
      "Iteration no. 34 : -0.010067054063050708\n",
      "Iteration no. 35 : -0.00961782077396009\n",
      "Iteration no. 36 : -0.00920656494620126\n",
      "Iteration no. 37 : -0.008828697793289724\n",
      "Iteration no. 38 : -0.008480337596988116\n",
      "Iteration no. 39 : -0.00815817909163678\n",
      "Iteration no. 40 : -0.00785939068875018\n",
      "Iteration no. 41 : -0.007581532846693342\n",
      "Iteration no. 42 : -0.0073224927135702046\n",
      "Iteration no. 43 : -0.007080431414686511\n",
      "Iteration no. 44 : -0.006853741179099466\n",
      "Iteration no. 45 : -0.006641010231519817\n",
      "Iteration no. 46 : -0.006440993917540976\n",
      "Iteration no. 47 : -0.006252590756823814\n",
      "Iteration no. 48 : -0.006074822481774499\n",
      "Iteration no. 49 : -0.005906817325382082\n",
      "Iteration no. 50 : -0.005747795957554166\n",
      "Iteration no. 51 : -0.0055970595784297465\n",
      "Iteration no. 52 : -0.005453979804923858\n",
      "Iteration no. 53 : -0.0053179900408712195\n",
      "Iteration no. 54 : -0.005188578083376099\n",
      "Iteration no. 55 : -0.0050652797639294134\n",
      "Iteration no. 56 : -0.004947673459495443\n",
      "Iteration no. 57 : -0.004835375338010324\n",
      "Iteration no. 58 : -0.004728035226349695\n",
      "Iteration no. 59 : -0.004625333007869471\n",
      "Iteration no. 60 : -0.0045269754721009555\n",
      "Iteration no. 61 : -0.0044326935518629405\n",
      "Iteration no. 62 : -0.004342239893396296\n",
      "Iteration no. 63 : -0.004255386713671322\n",
      "Iteration no. 64 : -0.004171923906117869\n",
      "Iteration no. 65 : -0.004091657361828455\n",
      "Iteration no. 66 : -0.004014407478238623\n",
      "Iteration no. 67 : -0.003940007831313855\n",
      "Iteration no. 68 : -0.003868303990748335\n",
      "Iteration no. 69 : -0.003799152460535868\n",
      "Iteration no. 70 : -0.0037324197297293367\n",
      "Iteration no. 71 : -0.0036679814202537726\n",
      "Iteration no. 72 : -0.0036057215204158754\n",
      "Iteration no. 73 : -0.003545531694220432\n",
      "Iteration no. 74 : -0.003487310657915843\n",
      "Iteration no. 75 : -0.003430963616243318\n",
      "Iteration no. 76 : -0.003376401751849347\n",
      "Iteration no. 77 : -0.0033235417621064315\n",
      "Iteration no. 78 : -0.0032723054382806155\n",
      "Iteration no. 79 : -0.0032226192826119195\n",
      "Iteration no. 80 : -0.003174414159385513\n",
      "Iteration no. 81 : -0.00312762497651768\n",
      "Iteration no. 82 : -0.0030821903946102293\n",
      "Iteration no. 83 : -0.0030380525607274322\n",
      "Iteration no. 84 : -0.0029951568645012524\n",
      "Iteration no. 85 : -0.0029534517144044047\n",
      "Iteration no. 86 : -0.0029128883322711175\n",
      "Iteration no. 87 : -0.002873420564357689\n",
      "Iteration no. 88 : -0.0028350047074132394\n",
      "Iteration no. 89 : -0.0027975993483833088\n",
      "Iteration no. 90 : -0.0027611652165273424\n",
      "Iteration no. 91 : -0.002725665046823267\n",
      "Iteration no. 92 : -0.0026910634537003868\n",
      "Iteration no. 93 : -0.002657326814162465\n",
      "Iteration no. 94 : -0.0026244231595307643\n",
      "Iteration no. 95 : -0.0025923220750585334\n",
      "Iteration no. 96 : -0.0025609946067527427\n",
      "Iteration no. 97 : -0.0025304131748236105\n",
      "Iteration no. 98 : -0.002500551493207498\n",
      "Iteration no. 99 : -0.002471384494671384\n",
      "Iteration no. 100 : -0.002442888261059686\n",
      "Iteration no. 101 : -0.0024150399582685217\n",
      "Iteration no. 102 : -0.002387817775590939\n",
      "Iteration no. 103 : -0.002361200869068659\n",
      "Iteration no. 104 : -0.0023351693085858207\n",
      "Iteration no. 105 : -0.0023097040283751686\n",
      "Iteration no. 106 : -0.0022847867807151753\n",
      "Iteration no. 107 : -0.0022604000925663813\n",
      "Iteration no. 108 : -0.002236527224935365\n",
      "Iteration no. 109 : -0.0022131521347661543\n",
      "Iteration no. 110 : -0.0021902594391829174\n",
      "Iteration no. 111 : -0.002167834381908327\n",
      "Iteration no. 112 : -0.0021458628017156176\n",
      "Iteration no. 113 : -0.0021243311027556305\n",
      "Iteration no. 114 : -0.0021032262266583047\n",
      "Iteration no. 115 : -0.002082535626246004\n",
      "Iteration no. 116 : -0.0020622472407947033\n",
      "Iteration no. 117 : -0.0020423494727001864\n",
      "Iteration no. 118 : -0.0020228311654863873\n",
      "Iteration no. 119 : -0.0020036815830448075\n",
      "Iteration no. 120 : -0.0019848903900398004\n",
      "Iteration no. 121 : -0.0019664476333971963\n",
      "Iteration no. 122 : -0.001948343724810301\n",
      "Iteration no. 123 : -0.0019305694241926123\n",
      "Iteration no. 124 : -0.001913115824030168\n",
      "Iteration no. 125 : -0.0018959743345608841\n",
      "Iteration no. 126 : -0.0018791366697488902\n",
      "Iteration no. 127 : -0.0018625948339827854\n",
      "Iteration no. 128 : -0.0018463411094749257\n",
      "Iteration no. 129 : -0.0018303680459963072\n",
      "Iteration no. 130 : -0.0018146684448881384\n",
      "Iteration no. 131 : -0.0017992353520561047\n",
      "Iteration no. 132 : -0.00178406204742022\n",
      "Iteration no. 133 : -0.001769142034724015\n",
      "Iteration no. 134 : -0.0017544690322991345\n",
      "Iteration no. 135 : -0.0017400369642863946\n",
      "Iteration no. 136 : -0.0017258399522834243\n",
      "Iteration no. 137 : -0.0017118723073904626\n",
      "Iteration no. 138 : -0.0016981285226415348\n",
      "Iteration no. 139 : -0.0016846032657999001\n",
      "Iteration no. 140 : -0.0016712913724802462\n",
      "Iteration no. 141 : -0.0016581878396068304\n",
      "Iteration no. 142 : -0.0016452878191660428\n",
      "Iteration no. 143 : -0.0016325866122482787\n",
      "Iteration no. 144 : -0.0016200796633698946\n",
      "Iteration no. 145 : -0.0016077625550352816\n",
      "Iteration no. 146 : -0.0015956310025676897\n",
      "Iteration no. 147 : -0.0015836808491520677\n",
      "Iteration no. 148 : -0.0015719080610989058\n",
      "Iteration no. 149 : -0.0015603087233354098\n",
      "Iteration no. 150 : -0.0015488790350677065\n",
      "Iteration no. 151 : -0.0015376153056518333\n",
      "Iteration no. 152 : -0.0015265139512787953\n",
      "Iteration no. 153 : -0.0015155714904973843\n",
      "Iteration no. 154 : -0.001504784538719634\n",
      "Iteration no. 155 : -0.0014941498079598069\n",
      "Iteration no. 156 : -0.0014836641021964757\n",
      "Iteration no. 157 : -0.0014733243141836026\n",
      "Iteration no. 158 : -0.0014631274223933265\n",
      "Iteration no. 159 : -0.0014530704880802486\n",
      "Iteration no. 160 : -0.0014431506524652075\n",
      "Iteration no. 161 : -0.0014333651340431054\n",
      "Iteration no. 162 : -0.001423711225982463\n",
      "Iteration no. 163 : -0.0014141862936416965\n",
      "Iteration no. 164 : -0.001404787772182003\n",
      "Iteration no. 165 : -0.0013955131642700946\n",
      "Iteration no. 166 : -0.001386360037871663\n",
      "Iteration no. 167 : -0.0013773260241343483\n",
      "Iteration no. 168 : -0.0013684088153517807\n",
      "Iteration no. 169 : -0.0013596061630013591\n",
      "Iteration no. 170 : -0.0013509158758619878\n",
      "Iteration no. 171 : -0.0013423358182015526\n",
      "Iteration no. 172 : -0.001333863908032143\n",
      "Iteration no. 173 : -0.0013254981154313442\n",
      "Iteration no. 174 : -0.0013172364609241682\n",
      "Iteration no. 175 : -0.00130907701392917\n",
      "Iteration no. 176 : -0.0013010178912572028\n",
      "Iteration no. 177 : -0.001293057255669474\n",
      "Iteration no. 178 : -0.001285193314478914\n",
      "Iteration no. 179 : -0.0012774243182153942\n",
      "Iteration no. 180 : -0.0012697485593319248\n",
      "Iteration no. 181 : -0.0012621643709517221\n",
      "Iteration no. 182 : -0.0012546701256679097\n",
      "Iteration no. 183 : -0.0012472642343860849\n",
      "Iteration no. 184 : -0.0012399451451969839\n",
      "Iteration no. 185 : -0.0012327113423041118\n",
      "Iteration no. 186 : -0.0012255613449723632\n",
      "Iteration no. 187 : -0.0012184937065269478\n",
      "Iteration no. 188 : -0.0012115070133745273\n",
      "Iteration no. 189 : -0.00120459988406788\n",
      "Iteration no. 190 : -0.001197770968396\n",
      "Iteration no. 191 : -0.0011910189465073953\n",
      "Iteration no. 192 : -0.0011843425280597096\n",
      "Iteration no. 193 : -0.0011777404514026538\n",
      "Iteration no. 194 : -0.001171211482785149\n",
      "Iteration no. 195 : -0.001164754415588565\n",
      "Iteration no. 196 : -0.0011583680695808356\n",
      "Iteration no. 197 : -0.0011520512902095518\n",
      "Iteration no. 198 : -0.0011458029478973878\n",
      "Iteration no. 199 : -0.0011396219373763913\n",
      "Iteration no. 200 : -0.0011335071770364924\n",
      "Iteration no. 201 : -0.0011274576082949948\n",
      "Iteration no. 202 : -0.0011214721949899455\n",
      "Iteration no. 203 : -0.001115549922789496\n",
      "Iteration no. 204 : -0.0011096897986166972\n",
      "Iteration no. 205 : -0.00110389085009939\n",
      "Iteration no. 206 : -0.001098152125034313\n",
      "Iteration no. 207 : -0.0010924726908633125\n",
      "Iteration no. 208 : -0.0010868516341752024\n"
     ]
    },
    {
     "name": "stdout",
     "output_type": "stream",
     "text": [
      "Iteration no. 209 : -0.0010812880602109598\n",
      "Iteration no. 210 : -0.0010757810923930139\n",
      "Iteration no. 211 : -0.0010703298718687491\n",
      "Iteration no. 212 : -0.0010649335570604517\n",
      "Iteration no. 213 : -0.0010595913232354648\n",
      "Iteration no. 214 : -0.001054302362086779\n",
      "Iteration no. 215 : -0.0010490658813260664\n",
      "Iteration no. 216 : -0.0010438811042910333\n",
      "Iteration no. 217 : -0.0010387472695577741\n",
      "Iteration no. 218 : -0.0010336636305745541\n",
      "Iteration no. 219 : -0.0010286294552948184\n",
      "Iteration no. 220 : -0.001023644025833626\n",
      "Iteration no. 221 : -0.0010187066381185375\n",
      "Iteration no. 222 : -0.0010138166015694814\n",
      "Iteration no. 223 : -0.0010089732387661859\n",
      "Iteration no. 224 : -0.0010041758851438132\n",
      "Iteration no. 225 : -0.0009994238886904849\n",
      "Iteration no. 226 : -0.0009947166096425843\n",
      "Iteration no. 227 : -0.0009900534202123726\n",
      "Iteration no. 228 : -0.0009854337042976176\n",
      "Iteration no. 229 : -0.0009808568572193144\n",
      "Iteration no. 230 : -0.0009763222854519674\n",
      "Iteration no. 231 : -0.0009718294063713066\n",
      "Iteration no. 232 : -0.0009673776480053338\n",
      "Iteration no. 233 : -0.0009629664487887018\n",
      "Iteration no. 234 : -0.0009585952573338587\n",
      "Iteration no. 235 : -0.000954263532192646\n",
      "Iteration no. 236 : -0.000949970741641434\n",
      "Iteration no. 237 : -0.0009457163634601535\n",
      "Iteration no. 238 : -0.0009414998847198744\n",
      "Iteration no. 239 : -0.0009373208015809367\n",
      "Iteration no. 240 : -0.0009331786190907446\n",
      "Iteration no. 241 : -0.0009290728509845636\n",
      "Iteration no. 242 : -0.000925003019503968\n",
      "Iteration no. 243 : -0.0009209686552061871\n",
      "Iteration no. 244 : -0.0009169692967839992\n",
      "Iteration no. 245 : -0.0009130044908945065\n",
      "Iteration no. 246 : -0.0009090737919826965\n",
      "Iteration no. 247 : -0.0009051767621188773\n",
      "Iteration no. 248 : -0.0009013129708327875\n",
      "Iteration no. 249 : -0.0008974819949602485\n",
      "Iteration no. 250 : -0.000893683418486379\n",
      "Iteration no. 251 : -0.0008899168323935813\n",
      "Iteration no. 252 : -0.0008861818345166363\n",
      "Iteration no. 253 : -0.0008824780294024605\n",
      "Iteration no. 254 : -0.0008788050281652009\n",
      "Iteration no. 255 : -0.0008751624483555414\n",
      "Iteration no. 256 : -0.0008715499138244591\n",
      "Iteration no. 257 : -0.0008679670545983055\n",
      "Iteration no. 258 : -0.0008644135067476693\n",
      "Iteration no. 259 : -0.000860888912268122\n",
      "Iteration no. 260 : -0.0008573929189588522\n",
      "Iteration no. 261 : -0.000853925180306075\n",
      "Iteration no. 262 : -0.0008504853553665538\n",
      "Iteration no. 263 : -0.000847073108660225\n",
      "Iteration no. 264 : -0.0008436881100579391\n",
      "Iteration no. 265 : -0.0008403300346770844\n",
      "Iteration no. 266 : -0.0008369985627751025\n",
      "Iteration no. 267 : -0.0008336933796529944\n",
      "Iteration no. 268 : -0.0008304141755510578\n",
      "Iteration no. 269 : -0.0008271606455563909\n",
      "Iteration no. 270 : -0.0008239324895066235\n",
      "Iteration no. 271 : -0.0008207294118969786\n",
      "Iteration no. 272 : -0.0008175511217934397\n",
      "Iteration no. 273 : -0.0008143973327421449\n",
      "Iteration no. 274 : -0.0008112677626808907\n",
      "Iteration no. 275 : -0.000808162133865734\n",
      "Iteration no. 276 : -0.0008050801727743916\n",
      "Iteration no. 277 : -0.0008020216100372849\n",
      "Iteration no. 278 : -0.0007989861803551503\n",
      "Iteration no. 279 : -0.0007959736224203138\n",
      "Iteration no. 280 : -0.0007929836788470709\n",
      "Iteration no. 281 : -0.000790016096093627\n",
      "Iteration no. 282 : -0.0007870706243932545\n",
      "Iteration no. 283 : -0.0007841470176843395\n",
      "Iteration no. 284 : -0.0007812450335393182\n",
      "Iteration no. 285 : -0.000778364433102496\n",
      "Iteration no. 286 : -0.0007755049810190948\n",
      "Iteration no. 287 : -0.0007726664453744055\n",
      "Iteration no. 288 : -0.0007698485976332717\n",
      "Iteration no. 289 : -0.0007670512125750233\n",
      "Iteration no. 290 : -0.000764274068233627\n",
      "Iteration no. 291 : -0.0007615169458431674\n",
      "Iteration no. 292 : -0.0007587796297738908\n",
      "Iteration no. 293 : -0.0007560619074844578\n",
      "Iteration no. 294 : -0.0007533635694602085\n",
      "Iteration no. 295 : -0.0007506844091596423\n",
      "Iteration no. 296 : -0.0007480242229692257\n",
      "Iteration no. 297 : -0.0007453828101409909\n",
      "Iteration no. 298 : -0.0007427599735146189\n",
      "Iteration no. 299 : -0.0007401555172285967\n",
      "Iteration no. 300 : -0.0007375692487878917\n",
      "Iteration no. 301 : -0.000735000978438112\n",
      "Iteration no. 302 : -0.0007324505190535907\n",
      "Iteration no. 303 : -0.0007299176860950814\n",
      "Iteration no. 304 : -0.0007274022975590138\n",
      "Iteration no. 305 : -0.0007249041739422963\n",
      "Iteration no. 306 : -0.0007224231381911277\n",
      "Iteration no. 307 : -0.000719959015667465\n",
      "Iteration no. 308 : -0.000717511634099945\n",
      "Iteration no. 309 : -0.0007150808235516841\n",
      "Iteration no. 310 : -0.0007126664163743099\n",
      "Iteration no. 311 : -0.0007102682471727623\n",
      "Iteration no. 312 : -0.0007078861527697621\n",
      "Iteration no. 313 : -0.0007055199721636184\n",
      "Iteration no. 314 : -0.0007031695464952499\n",
      "Iteration no. 315 : -0.0007008347190142082\n",
      "Iteration no. 316 : -0.000698515335038373\n",
      "Iteration no. 317 : -0.0006962112419253035\n",
      "Iteration no. 318 : -0.0006939222890370414\n",
      "Iteration no. 319 : -0.0006916483277073543\n",
      "Iteration no. 320 : -0.0006893892112074269\n",
      "Iteration no. 321 : -0.0006871447947168804\n",
      "Iteration no. 322 : -0.0006849149352952358\n",
      "Iteration no. 323 : -0.0006826994918433862\n",
      "Iteration no. 324 : -0.0006804983250841638\n",
      "Iteration no. 325 : -0.0006783112975243676\n",
      "Iteration no. 326 : -0.0006761382734329991\n",
      "Iteration no. 327 : -0.0006739791188080638\n",
      "Iteration no. 328 : -0.0006718337013521435\n",
      "Iteration no. 329 : -0.0006697018904437487\n",
      "Iteration no. 330 : -0.00066758355711278\n",
      "Iteration no. 331 : -0.0006654785740119928\n",
      "Iteration no. 332 : -0.0006633868153943454\n",
      "Iteration no. 333 : -0.0006613081570853519\n",
      "Iteration no. 334 : -0.0006592424764595425\n",
      "Iteration no. 335 : -0.0006571896524181455\n",
      "Iteration no. 336 : -0.0006551495653629946\n",
      "Iteration no. 337 : -0.0006531220971732114\n",
      "Iteration no. 338 : -0.0006511071311847748\n",
      "Iteration no. 339 : -0.0006491045521656493\n",
      "Iteration no. 340 : -0.0006471142462977978\n",
      "Iteration no. 341 : -0.0006451361011482015\n",
      "Iteration no. 342 : -0.0006431700056579779\n",
      "Iteration no. 343 : -0.0006412158501116253\n",
      "Iteration no. 344 : -0.0006392735261241421\n",
      "Iteration no. 345 : -0.0006373429266149339\n",
      "Iteration no. 346 : -0.0006354239457938231\n",
      "Iteration no. 347 : -0.0006335164791376212\n",
      "Iteration no. 348 : -0.0006316204233735839\n",
      "Iteration no. 349 : -0.0006297356764587594\n",
      "Iteration no. 350 : -0.0006278621375652201\n",
      "Iteration no. 351 : -0.0006259997070570798\n",
      "Iteration no. 352 : -0.000624148286476169\n",
      "Iteration no. 353 : -0.0006223077785253808\n",
      "Iteration no. 354 : -0.0006204780870491277\n",
      "Iteration no. 355 : -0.0006186591170170214\n",
      "Iteration no. 356 : -0.0006168507745109911\n",
      "Iteration no. 357 : -0.0006150529667045211\n",
      "Iteration no. 358 : -0.0006132656018465509\n",
      "Iteration no. 359 : -0.0006114885892529251\n",
      "Iteration no. 360 : -0.0006097218392824106\n",
      "Iteration no. 361 : -0.0006079652633260372\n",
      "Iteration no. 362 : -0.0006062187737929961\n",
      "Iteration no. 363 : -0.0006044822840934299\n",
      "Iteration no. 364 : -0.0006027557086248868\n",
      "Iteration no. 365 : -0.0006010389627609941\n",
      "Iteration no. 366 : -0.0005993319628343605\n",
      "Iteration no. 367 : -0.000597634626123362\n",
      "Iteration no. 368 : -0.0005959468708405948\n",
      "Iteration no. 369 : -0.00059426861611833\n",
      "Iteration no. 370 : -0.0005925997819965217\n",
      "Iteration no. 371 : -0.0005909402894098163\n",
      "Iteration no. 372 : -0.0005892900601723412\n",
      "Iteration no. 373 : -0.0005876490169717083\n",
      "Iteration no. 374 : -0.0005860170833519154\n",
      "Iteration no. 375 : -0.000584394183699689\n",
      "Iteration no. 376 : -0.0005827802432423746\n",
      "Iteration no. 377 : -0.0005811751880231764\n",
      "Iteration no. 378 : -0.0005795789449023782\n",
      "Iteration no. 379 : -0.0005779914415359152\n",
      "Iteration no. 380 : -0.0005764126063735955\n",
      "Iteration no. 381 : -0.0005748423686397826\n",
      "Iteration no. 382 : -0.0005732806583302846\n",
      "Iteration no. 383 : -0.0005717274061966997\n",
      "Iteration no. 384 : -0.0005701825437391985\n",
      "Iteration no. 385 : -0.0005686460031937555\n",
      "Iteration no. 386 : -0.0005671177175260417\n",
      "Iteration no. 387 : -0.0005655976204183239\n",
      "Iteration no. 388 : -0.0005640856462623569\n",
      "Iteration no. 389 : -0.0005625817301463944\n",
      "Iteration no. 390 : -0.0005610858078510799\n",
      "Iteration no. 391 : -0.0005595978158341238\n",
      "Iteration no. 392 : -0.0005581176912280836\n",
      "Iteration no. 393 : -0.0005566453718262622\n",
      "Iteration no. 394 : -0.0005551807960757129\n",
      "Iteration no. 395 : -0.0005537239030707995\n",
      "Iteration no. 396 : -0.0005522746325393177\n",
      "Iteration no. 397 : -0.0005508329248402739\n",
      "Iteration no. 398 : -0.0005493987209531147\n",
      "Iteration no. 399 : -0.0005479719624679571\n",
      "Iteration no. 400 : -0.0005465525915807019\n",
      "Iteration no. 401 : -0.0005451405510838193\n",
      "Iteration no. 402 : -0.0005437357846090414\n",
      "Iteration no. 403 : -0.0005423382361918224\n",
      "Iteration no. 404 : -0.0005409478500409657\n",
      "Iteration no. 405 : -0.0005395645712592699\n",
      "Iteration no. 406 : -0.0005381883455081286\n",
      "Iteration no. 407 : -0.0005368191190045332\n",
      "Iteration no. 408 : -0.0005354568385073048\n",
      "Iteration no. 409 : -0.000534101451315984\n",
      "Iteration no. 410 : -0.0005327529052613928\n",
      "Iteration no. 411 : -0.0005314111486985286\n",
      "Iteration no. 412 : -0.0005300761305006801\n",
      "Iteration no. 413 : -0.0005287478000537637\n",
      "Iteration no. 414 : -0.0005274261072497732\n"
     ]
    },
    {
     "name": "stdout",
     "output_type": "stream",
     "text": [
      "Iteration no. 415 : -0.0005261110024770094\n",
      "Iteration no. 416 : -0.0005248024366215219\n",
      "Iteration no. 417 : -0.0005235003610518996\n",
      "Iteration no. 418 : -0.0005222047276188255\n",
      "Iteration no. 419 : -0.0005209154886501913\n",
      "Iteration no. 420 : -0.0005196325969392176\n",
      "Iteration no. 421 : -0.0005183560057460075\n",
      "Iteration no. 422 : -0.0005170856687865551\n",
      "Iteration no. 423 : -0.0005158215402287481\n",
      "Iteration no. 424 : -0.0005145635746877044\n",
      "Iteration no. 425 : -0.0005133117272193324\n",
      "Iteration no. 426 : -0.0005120659533157786\n",
      "Iteration no. 427 : -0.0005108262088992096\n",
      "Iteration no. 428 : -0.0005095924503184816\n",
      "Iteration no. 429 : -0.0005083646343412571\n",
      "Iteration no. 430 : -0.0005071427181504509\n",
      "Iteration no. 431 : -0.0005059266593400127\n",
      "Iteration no. 432 : -0.0005047164159087075\n",
      "Iteration no. 433 : -0.0005035119462551204\n",
      "Iteration no. 434 : -0.0005023132091753243\n",
      "Iteration no. 435 : -0.0005011201638551077\n",
      "Iteration no. 436 : -0.0004999327698677549\n",
      "Iteration no. 437 : -0.0004987509871667163\n",
      "Iteration no. 438 : -0.0004975747760841669\n",
      "Iteration no. 439 : -0.0004964040973250088\n",
      "Iteration no. 440 : -0.0004952389119617653\n",
      "Iteration no. 441 : -0.0004940791814332472\n",
      "Iteration no. 442 : -0.0004929248675353383\n",
      "Iteration no. 443 : -0.0004917759324236591\n",
      "Iteration no. 444 : -0.0004906323385997999\n",
      "Iteration no. 445 : -0.0004894940489199803\n",
      "Iteration no. 446 : -0.0004883610265782846\n",
      "Iteration no. 447 : -0.0004872332351099913\n",
      "Iteration no. 448 : -0.00048611063838879874\n",
      "Iteration no. 449 : -0.0004849932006162761\n",
      "Iteration no. 450 : -0.00048388088632397353\n",
      "Iteration no. 451 : -0.00048277366036831427\n",
      "Iteration no. 452 : -0.00048167148792448866\n",
      "Iteration no. 453 : -0.00048057433448756335\n",
      "Iteration no. 454 : -0.0004794821658632669\n",
      "Iteration no. 455 : -0.0004783949481677669\n",
      "Iteration no. 456 : -0.00047731264782345127\n",
      "Iteration no. 457 : -0.0004762352315579282\n",
      "Iteration no. 458 : -0.00047516266639314634\n",
      "Iteration no. 459 : -0.0004740949196542759\n",
      "Iteration no. 460 : -0.00047303195895183396\n",
      "Iteration no. 461 : -0.00047197375219156505\n",
      "Iteration no. 462 : -0.00047092026756178463\n",
      "Iteration no. 463 : -0.00046987147353570984\n",
      "Iteration no. 464 : -0.0004688273388683513\n",
      "Iteration no. 465 : -0.0004677878325857428\n",
      "Iteration no. 466 : -0.00046675292399382396\n",
      "Iteration no. 467 : -0.0004657225826657823\n",
      "Iteration no. 468 : -0.00046469677844538444\n",
      "Iteration no. 469 : -0.00046367548143753885\n",
      "Iteration no. 470 : -0.0004626586620125142\n",
      "Iteration no. 471 : -0.0004616462907968356\n",
      "Iteration no. 472 : -0.0004606383386770589\n",
      "Iteration no. 473 : -0.0004596347767890015\n",
      "Iteration no. 474 : -0.00045863557652229403\n",
      "Iteration no. 475 : -0.0004576407095123863\n",
      "Iteration no. 476 : -0.0004566501476419907\n",
      "Iteration no. 477 : -0.0004556638630349757\n",
      "Iteration no. 478 : -0.00045468182805780876\n",
      "Iteration no. 479 : -0.0004537040153102304\n",
      "Iteration no. 480 : -0.00045273039763080495\n",
      "Iteration no. 481 : -0.0004517609480887052\n",
      "Iteration no. 482 : -0.00045079563998315635\n",
      "Iteration no. 483 : -0.00044983444684166017\n",
      "Iteration no. 484 : -0.0004488773424162196\n",
      "Iteration no. 485 : -0.0004479243006805631\n",
      "Iteration no. 486 : -0.0004469752958319211\n",
      "Iteration no. 487 : -0.00044603030228103336\n",
      "Iteration no. 488 : -0.0004450892946580335\n",
      "Iteration no. 489 : -0.00044415224780567606\n",
      "Iteration no. 490 : -0.00044321913677733795\n",
      "Iteration no. 491 : -0.0004422899368352423\n",
      "Iteration no. 492 : -0.00044136462344801535\n",
      "Iteration no. 493 : -0.0004404431722915747\n",
      "Iteration no. 494 : -0.00043952555924180176\n",
      "Iteration no. 495 : -0.00043861176037620676\n",
      "Iteration no. 496 : -0.0004377017519673783\n",
      "Iteration no. 497 : -0.0004367955104908658\n",
      "Iteration no. 498 : -0.0004358930126106356\n",
      "Iteration no. 499 : -0.0004349942351856207\n",
      "Iteration no. 500 : -0.00043409915526350406\n",
      "Iteration no. 501 : -0.00043320775008249396\n",
      "Iteration no. 502 : -0.00043231999706499634\n",
      "Iteration no. 503 : -0.0004314358738183913\n",
      "Iteration no. 504 : -0.0004305553581342562\n",
      "Iteration no. 505 : -0.0004296784279840353\n",
      "Iteration no. 506 : -0.00042880506151704155\n",
      "Iteration no. 507 : -0.00042793523706167726\n",
      "Iteration no. 508 : -0.0004270689331198834\n",
      "Iteration no. 509 : -0.0004262061283670283\n",
      "Iteration no. 510 : -0.00042534680165301725\n",
      "Iteration no. 511 : -0.0004244909319949655\n",
      "Iteration no. 512 : -0.00042363849858063977\n",
      "Iteration no. 513 : -0.00042278948076157434\n",
      "Iteration no. 514 : -0.0004219438580575122\n",
      "Iteration no. 515 : -0.0004211016101495214\n",
      "Iteration no. 516 : -0.00042026271688143835\n",
      "Iteration no. 517 : -0.00041942715825598166\n",
      "Iteration no. 518 : -0.00041859491443652883\n",
      "Iteration no. 519 : -0.0004177659657425635\n",
      "Iteration no. 520 : -0.000416940292647678\n",
      "Iteration no. 521 : -0.0004161178757804601\n",
      "Iteration no. 522 : -0.00041529869592227384\n",
      "Iteration no. 523 : -0.0004144827340063701\n",
      "Iteration no. 524 : -0.00041366997111244716\n",
      "Iteration no. 525 : -0.00041286038846975867\n",
      "Iteration no. 526 : -0.0004120539674555599\n",
      "Iteration no. 527 : -0.00041125068958999973\n",
      "Iteration no. 528 : -0.00041045053653767586\n",
      "Iteration no. 529 : -0.00040965349010619066\n",
      "Iteration no. 530 : -0.0004088595322430425\n",
      "Iteration no. 531 : -0.00040806864503496027\n",
      "Iteration no. 532 : -0.0004072808107092344\n",
      "Iteration no. 533 : -0.00040649601162716766\n",
      "Iteration no. 534 : -0.00040571423028762675\n",
      "Iteration no. 535 : -0.00040493544932315706\n",
      "Iteration no. 536 : -0.0004041596514980951\n",
      "Iteration no. 537 : -0.0004033868197106775\n",
      "Iteration no. 538 : -0.00040261693698860065\n",
      "Iteration no. 539 : -0.00040184998648702143\n",
      "Iteration no. 540 : -0.00040108595149333185\n",
      "Iteration no. 541 : -0.00040032481541716643\n",
      "Iteration no. 542 : -0.0003995665617961755\n",
      "Iteration no. 543 : -0.00039881117429169533\n",
      "Iteration no. 544 : -0.00039805863668908087\n",
      "Iteration no. 545 : -0.00039730893289459716\n",
      "Iteration no. 546 : -0.00039656204693664076\n",
      "Iteration no. 547 : -0.0003958179629615202\n",
      "Iteration no. 548 : -0.0003950766652370094\n",
      "Iteration no. 549 : -0.0003943381381466849\n",
      "Iteration no. 550 : -0.0003936023661888155\n",
      "Iteration no. 551 : -0.0003928693339815809\n",
      "Iteration no. 552 : -0.0003921390262535229\n",
      "Iteration no. 553 : -0.00039141142784720974\n",
      "Iteration no. 554 : -0.00039068652371945756\n",
      "Iteration no. 555 : -0.0003899642989354465\n",
      "Iteration no. 556 : -0.00038924473867282827\n",
      "Iteration no. 557 : -0.00038852782821639694\n",
      "Iteration no. 558 : -0.0003878135529600877\n",
      "Iteration no. 559 : -0.00038710189840642114\n",
      "Iteration no. 560 : -0.00038639285016084135\n",
      "Iteration no. 561 : -0.00038568639393626777\n",
      "Iteration no. 562 : -0.0003849825155490983\n",
      "Iteration no. 563 : -0.0003842812009193201\n",
      "Iteration no. 564 : -0.0003835824360692886\n",
      "Iteration no. 565 : -0.00038288620712228377\n",
      "Iteration no. 566 : -0.00038219250030228826\n",
      "Iteration no. 567 : -0.0003815013019324331\n",
      "Iteration no. 568 : -0.00038081259843744\n",
      "Iteration no. 569 : -0.00038012637633396215\n",
      "Iteration no. 570 : -0.00037944262224090975\n",
      "Iteration no. 571 : -0.0003787613228709007\n",
      "Iteration no. 572 : -0.0003780824650332586\n",
      "Iteration no. 573 : -0.0003774060356287943\n",
      "Iteration no. 574 : -0.00037673202165491295\n",
      "Iteration no. 575 : -0.00037606041019961896\n",
      "Iteration no. 576 : -0.00037539118844451334\n",
      "Iteration no. 577 : -0.0003747243436596866\n",
      "Iteration no. 578 : -0.00037405986320771564\n",
      "Iteration no. 579 : -0.00037339773454044407\n",
      "Iteration no. 580 : -0.00037273794519687253\n",
      "Iteration no. 581 : -0.0003720804828051571\n",
      "Iteration no. 582 : -0.00037142533507972296\n",
      "Iteration no. 583 : -0.00037077248982170805\n",
      "Iteration no. 584 : -0.00037012193491874117\n",
      "Iteration no. 585 : -0.00036947365834138926\n",
      "Iteration no. 586 : -0.0003688276481448225\n",
      "Iteration no. 587 : -0.00036818389246870344\n",
      "Iteration no. 588 : -0.00036754237953474434\n",
      "Iteration no. 589 : -0.0003669030976443758\n",
      "Iteration no. 590 : -0.00036626603518407556\n",
      "Iteration no. 591 : -0.00036563118061859625\n",
      "Iteration no. 592 : -0.0003649985224919645\n",
      "Iteration no. 593 : -0.0003643680494289244\n",
      "Iteration no. 594 : -0.0003637397501313843\n",
      "Iteration no. 595 : -0.00036311361337897216\n",
      "Iteration no. 596 : -0.00036248962802925774\n",
      "Iteration no. 597 : -0.00036186778301597577\n",
      "Iteration no. 598 : -0.00036124806734747194\n",
      "Iteration no. 599 : -0.0003606304701094782\n",
      "Iteration no. 600 : -0.00036001498045922886\n",
      "Iteration no. 601 : -0.00035940158763089996\n",
      "Iteration no. 602 : -0.0003587902809298371\n",
      "Iteration no. 603 : -0.00035818104973421973\n",
      "Iteration no. 604 : -0.00035757388349372943\n",
      "Iteration no. 605 : -0.0003569687717317702\n",
      "Iteration no. 606 : -0.0003563657040405835\n",
      "Iteration no. 607 : -0.0003557646700822471\n",
      "Iteration no. 608 : -0.0003551656595890086\n",
      "Iteration no. 609 : -0.0003545686623619525\n",
      "Iteration no. 610 : -0.00035397366827133404\n",
      "Iteration no. 611 : -0.00035338066725546825\n"
     ]
    },
    {
     "name": "stdout",
     "output_type": "stream",
     "text": [
      "Iteration no. 612 : -0.00035278964931817675\n",
      "Iteration no. 613 : -0.00035220060453000873\n",
      "Iteration no. 614 : -0.0003516135230310168\n",
      "Iteration no. 615 : -0.00035102839502176375\n",
      "Iteration no. 616 : -0.00035044521077287095\n",
      "Iteration no. 617 : -0.000349863960616469\n",
      "Iteration no. 618 : -0.0003492846349481966\n",
      "Iteration no. 619 : -0.0003487072242287544\n",
      "Iteration no. 620 : -0.00034813171898401664\n",
      "Iteration no. 621 : -0.0003475581097965925\n",
      "Iteration no. 622 : -0.0003469863873140427\n",
      "Iteration no. 623 : -0.0003464165422476573\n",
      "Iteration no. 624 : -0.0003458485653657952\n",
      "Iteration no. 625 : -0.0003452824474979913\n",
      "Iteration no. 626 : -0.00034471817953573376\n",
      "Iteration no. 627 : -0.00034415575242780145\n",
      "Iteration no. 628 : -0.00034359515718348284\n",
      "Iteration no. 629 : -0.00034303638486880204\n",
      "Iteration no. 630 : -0.00034247942660884945\n",
      "Iteration no. 631 : -0.000341924273586561\n",
      "Iteration no. 632 : -0.00034137091704071975\n",
      "Iteration no. 633 : -0.00034081934826784275\n",
      "Iteration no. 634 : -0.0003402695586195169\n",
      "Iteration no. 635 : -0.0003397215395042864\n",
      "Iteration no. 636 : -0.00033917528238509875\n",
      "Iteration no. 637 : -0.0003386307787804154\n",
      "Iteration no. 638 : -0.0003380880202607698\n",
      "Iteration no. 639 : -0.0003375469984532081\n",
      "Iteration no. 640 : -0.00033700770503795907\n",
      "Iteration no. 641 : -0.00033647013174676807\n",
      "Iteration no. 642 : -0.0003359342703658948\n",
      "Iteration no. 643 : -0.00033540011273156174\n",
      "Iteration no. 644 : -0.00033486765073372844\n",
      "Iteration no. 645 : -0.00033433687631342717\n",
      "Iteration no. 646 : -0.0003338077814619856\n",
      "Iteration no. 647 : -0.00033328035822136016\n",
      "Iteration no. 648 : -0.0003327545986843575\n",
      "Iteration no. 649 : -0.00033223049499374714\n",
      "Iteration no. 650 : -0.0003317080393400399\n",
      "Iteration no. 651 : -0.00033118722396493057\n",
      "Iteration no. 652 : -0.00033066804115674544\n",
      "Iteration no. 653 : -0.00033015048325366216\n",
      "Iteration no. 654 : -0.0003296345426410449\n",
      "Iteration no. 655 : -0.00032912021175055635\n",
      "Iteration no. 656 : -0.00032860748306470984\n",
      "Iteration no. 657 : -0.00032809634910709875\n",
      "Iteration no. 658 : -0.0003275868024537214\n",
      "Iteration no. 659 : -0.0003270788357224335\n",
      "Iteration no. 660 : -0.00032657244157750017\n",
      "Iteration no. 661 : -0.00032606761273137246\n",
      "Iteration no. 662 : -0.0003255643419373595\n",
      "Iteration no. 663 : -0.00032506262199540184\n",
      "Iteration no. 664 : -0.000324562445749296\n",
      "Iteration no. 665 : -0.0003240638060890256\n",
      "Iteration no. 666 : -0.0003235666959439893\n",
      "Iteration no. 667 : -0.000323071108289884\n",
      "Iteration no. 668 : -0.0003225770361452631\n",
      "Iteration no. 669 : -0.00032208447257020436\n",
      "Iteration no. 670 : -0.000321593410668086\n",
      "Iteration no. 671 : -0.00032110384358281145\n",
      "Iteration no. 672 : -0.0003206157645006964\n",
      "Iteration no. 673 : -0.00032012916664991397\n",
      "Iteration no. 674 : -0.0003196440432998283\n",
      "Iteration no. 675 : -0.00031916038775866304\n",
      "Iteration no. 676 : -0.00031867819337794254\n",
      "Iteration no. 677 : -0.0003181974535470515\n",
      "Iteration no. 678 : -0.0003177181616947893\n",
      "Iteration no. 679 : -0.0003172403112923675\n",
      "Iteration no. 680 : -0.0003167638958469709\n",
      "Iteration no. 681 : -0.000316288908906864\n",
      "Iteration no. 682 : -0.0003158153440575056\n",
      "Iteration no. 683 : -0.0003153431949225479\n",
      "Iteration no. 684 : -0.0003148724551661679\n",
      "Iteration no. 685 : -0.0003144031184880714\n",
      "Iteration no. 686 : -0.00031393517862560237\n",
      "Iteration no. 687 : -0.00031346862935463136\n",
      "Iteration no. 688 : -0.00031300346448489197\n",
      "Iteration no. 689 : -0.00031253967786730913\n",
      "Iteration no. 690 : -0.0003120772633850054\n",
      "Iteration no. 691 : -0.0003116162149606293\n",
      "Iteration no. 692 : -0.0003111565265495821\n",
      "Iteration no. 693 : -0.00031069819214457037\n",
      "Iteration no. 694 : -0.0003102412057734962\n",
      "Iteration no. 695 : -0.00030978556149956833\n",
      "Iteration no. 696 : -0.0003093312534203029\n",
      "Iteration no. 697 : -0.0003088782756680785\n",
      "Iteration no. 698 : -0.000308426622408915\n",
      "Iteration no. 699 : -0.00030797628784402786\n",
      "Iteration no. 700 : -0.00030752726620616436\n",
      "Iteration no. 701 : -0.00030707955176471034\n",
      "Iteration no. 702 : -0.00030663313882169405\n",
      "Iteration no. 703 : -0.0003061880217078995\n",
      "Iteration no. 704 : -0.0003057441947947467\n",
      "Iteration no. 705 : -0.0003053016524799689\n",
      "Iteration no. 706 : -0.0003048603891952739\n",
      "Iteration no. 707 : -0.00030442039940556647\n",
      "Iteration no. 708 : -0.0003039816776061728\n",
      "Iteration no. 709 : -0.00030354421832594916\n",
      "Iteration no. 710 : -0.0003031080161236182\n",
      "Iteration no. 711 : -0.0003026730655889901\n",
      "Iteration no. 712 : -0.00030223936134485003\n",
      "Iteration no. 713 : -0.0003018068980411849\n",
      "Iteration no. 714 : -0.00030137567036362116\n",
      "Iteration no. 715 : -0.00030094567302210024\n",
      "Iteration no. 716 : -0.0003005169007630913\n",
      "Iteration no. 717 : -0.00030008934835671253\n",
      "Iteration no. 718 : -0.00029966301060750026\n",
      "Iteration no. 719 : -0.0002992378823471925\n",
      "Iteration no. 720 : -0.00029881395843706044\n",
      "Iteration no. 721 : -0.0002983912337675754\n",
      "Iteration no. 722 : -0.0002979697032594079\n",
      "Iteration no. 723 : -0.000297549361859653\n",
      "Iteration no. 724 : -0.0002971302045431625\n",
      "Iteration no. 725 : -0.00029671222631854027\n",
      "Iteration no. 726 : -0.0002962954222151523\n",
      "Iteration no. 727 : -0.0002958797872950065\n",
      "Iteration no. 728 : -0.00029546531664709024\n",
      "Iteration no. 729 : -0.0002950520053865935\n",
      "Iteration no. 730 : -0.0002946398486559074\n",
      "Iteration no. 731 : -0.0002942288416274006\n",
      "Iteration no. 732 : -0.0002938189794957583\n",
      "Iteration no. 733 : -0.0002934102574863089\n",
      "Iteration no. 734 : -0.0002930026708475854\n",
      "Iteration no. 735 : -0.00029259621485876435\n",
      "Iteration no. 736 : -0.0002921908848207835\n",
      "Iteration no. 737 : -0.0002917866760636696\n",
      "Iteration no. 738 : -0.000291383583940099\n",
      "Iteration no. 739 : -0.0002909816038323921\n",
      "Iteration no. 740 : -0.0002905807311452968\n",
      "Iteration no. 741 : -0.0002901809613099852\n",
      "Iteration no. 742 : -0.00028978228978272173\n",
      "Iteration no. 743 : -0.0002893847120433084\n",
      "Iteration no. 744 : -0.00028898822359852664\n",
      "Iteration no. 745 : -0.00028859281997847363\n",
      "Iteration no. 746 : -0.0002881984967382275\n",
      "Iteration no. 747 : -0.0002878052494561822\n",
      "Iteration no. 748 : -0.000287413073734269\n",
      "Iteration no. 749 : -0.00028702196520262024\n",
      "Iteration no. 750 : -0.0002866319195087995\n",
      "Iteration no. 751 : -0.000286242932328904\n",
      "Iteration no. 752 : -0.0002858549993600152\n",
      "Iteration no. 753 : -0.00028546811632297435\n",
      "Iteration no. 754 : -0.0002850822789628263\n",
      "Iteration no. 755 : -0.0002846974830463773\n",
      "Iteration no. 756 : -0.00028431372436341605\n",
      "Iteration no. 757 : -0.0002839309987260479\n",
      "Iteration no. 758 : -0.0002835493019701374\n",
      "Iteration no. 759 : -0.0002831686299534219\n",
      "Iteration no. 760 : -0.0002827889785541783\n",
      "Iteration no. 761 : -0.00028241034367555376\n",
      "Iteration no. 762 : -0.0002820327212410131\n",
      "Iteration no. 763 : -0.00028165610719356205\n",
      "Iteration no. 764 : -0.00028128049750418484\n",
      "Iteration no. 765 : -0.00028090588815929857\n",
      "Iteration no. 766 : -0.00028053227516819184\n",
      "Iteration no. 767 : -0.0002801596545629136\n",
      "Iteration no. 768 : -0.0002797880223956088\n",
      "Iteration no. 769 : -0.00027941737473751886\n",
      "Iteration no. 770 : -0.00027904770768475513\n",
      "Iteration no. 771 : -0.000278679017350305\n",
      "Iteration no. 772 : -0.0002783112998699166\n",
      "Iteration no. 773 : -0.0002779445513978791\n",
      "Iteration no. 774 : -0.00027757876810968805\n",
      "Iteration no. 775 : -0.0002772139462013789\n",
      "Iteration no. 776 : -0.0002768500818888607\n",
      "Iteration no. 777 : -0.0002764871714065841\n",
      "Iteration no. 778 : -0.00027612521101031664\n",
      "Iteration no. 779 : -0.0002757641969749229\n",
      "Iteration no. 780 : -0.00027540412559403033\n",
      "Iteration no. 781 : -0.00027504499318058563\n",
      "Iteration no. 782 : -0.0002746867960676309\n",
      "Iteration no. 783 : -0.00027432953060774895\n",
      "Iteration no. 784 : -0.0002739731931705098\n",
      "Iteration no. 785 : -0.0002736177801440249\n",
      "Iteration no. 786 : -0.00027326328793983223\n",
      "Iteration no. 787 : -0.0002729097129825709\n",
      "Iteration no. 788 : -0.00027255705171797505\n",
      "Iteration no. 789 : -0.00027220530060921013\n",
      "Iteration no. 790 : -0.00027185445613787186\n",
      "Iteration no. 791 : -0.00027150451480465257\n",
      "Iteration no. 792 : -0.0002711554731267875\n",
      "Iteration no. 793 : -0.00027080732764005346\n",
      "Iteration no. 794 : -0.00027046007489832434\n",
      "Iteration no. 795 : -0.0002701137114730165\n",
      "Iteration no. 796 : -0.00026976823395264413\n",
      "Iteration no. 797 : -0.0002694236389421535\n",
      "Iteration no. 798 : -0.00026907992306580953\n",
      "Iteration no. 799 : -0.0002687370829637537\n",
      "Iteration no. 800 : -0.00026839511529522426\n",
      "Iteration no. 801 : -0.00026805401673344877\n",
      "Iteration no. 802 : -0.0002677137839705292\n",
      "Iteration no. 803 : -0.0002673744137152215\n",
      "Iteration no. 804 : -0.00026703590269149246\n",
      "Iteration no. 805 : -0.00026669824764229404\n",
      "Iteration no. 806 : -0.00026636144532323554\n",
      "Iteration no. 807 : -0.0002660254925113541\n",
      "Iteration no. 808 : -0.00026569038599612207\n",
      "Iteration no. 809 : -0.00026535612258388766\n",
      "Iteration no. 810 : -0.0002650226990980971\n",
      "Iteration no. 811 : -0.0002646901123770744\n",
      "Iteration no. 812 : -0.00026435835927624137\n"
     ]
    },
    {
     "name": "stdout",
     "output_type": "stream",
     "text": [
      "Iteration no. 813 : -0.00026402743666467627\n",
      "Iteration no. 814 : -0.00026369734142922145\n",
      "Iteration no. 815 : -0.0002633680704713749\n",
      "Iteration no. 816 : -0.000263039620707845\n",
      "Iteration no. 817 : -0.0002627119890704399\n",
      "Iteration no. 818 : -0.00026238517250762176\n",
      "Iteration no. 819 : -0.00026205916798084265\n",
      "Iteration no. 820 : -0.0002617339724700961\n",
      "Iteration no. 821 : -0.0002614095829664783\n",
      "Iteration no. 822 : -0.0002610859964782946\n",
      "Iteration no. 823 : -0.00026076321002783964\n",
      "Iteration no. 824 : -0.00026044122065128623\n",
      "Iteration no. 825 : -0.00026012002540201645\n",
      "Iteration no. 826 : -0.00025979962134551406\n",
      "Iteration no. 827 : -0.00025948000556269557\n",
      "Iteration no. 828 : -0.000259161175148578\n",
      "Iteration no. 829 : -0.0002588431272130556\n",
      "Iteration no. 830 : -0.0002585258588783468\n",
      "Iteration no. 831 : -0.00025820936728310174\n",
      "Iteration no. 832 : -0.00025789364957851666\n",
      "Iteration no. 833 : -0.0002575787029301101\n",
      "Iteration no. 834 : -0.0002572645245167239\n",
      "Iteration no. 835 : -0.0002569511115319662\n",
      "Iteration no. 836 : -0.00025663846118232443\n",
      "Iteration no. 837 : -0.0002563265706886082\n",
      "Iteration no. 838 : -0.0002560154372826188\n",
      "Iteration no. 839 : -0.0002557050582136997\n",
      "Iteration no. 840 : -0.000255395430742519\n",
      "Iteration no. 841 : -0.0002550865521420688\n",
      "Iteration no. 842 : -0.000254778419697554\n",
      "Iteration no. 843 : -0.00025447103071127763\n",
      "Iteration no. 844 : -0.00025416438249542403\n",
      "Iteration no. 845 : -0.00025385847237594466\n",
      "Iteration no. 846 : -0.0002535532976913372\n",
      "Iteration no. 847 : -0.00025324885579408834\n",
      "Iteration no. 848 : -0.0002529451440470106\n",
      "Iteration no. 849 : -0.0002526421598289039\n",
      "Iteration no. 850 : -0.0002523399005272284\n",
      "Iteration no. 851 : -0.00025203836354521\n",
      "Iteration no. 852 : -0.00025173754629639986\n",
      "Iteration no. 853 : -0.0002514374462083387\n",
      "Iteration no. 854 : -0.00025113806071900354\n",
      "Iteration no. 855 : -0.0002508393872800277\n",
      "Iteration no. 856 : -0.00025054142335448\n",
      "Iteration no. 857 : -0.00025024416641675424\n",
      "Iteration no. 858 : -0.0002499476139557885\n",
      "Iteration no. 859 : -0.0002496517634689588\n",
      "Iteration no. 860 : -0.00024935661246818565\n",
      "Iteration no. 861 : -0.000249062158475271\n",
      "Iteration no. 862 : -0.0002487683990247845\n",
      "Iteration no. 863 : -0.00024847533166339803\n",
      "Iteration no. 864 : -0.00024818295394810866\n",
      "Iteration no. 865 : -0.0002478912634474603\n",
      "Iteration no. 866 : -0.0002476002577417655\n",
      "Iteration no. 867 : -0.00024730993442354985\n",
      "Iteration no. 868 : -0.0002470202910955532\n",
      "Iteration no. 869 : -0.00024673132537139604\n",
      "Iteration no. 870 : -0.00024644303487813304\n",
      "Iteration no. 871 : -0.0002461554172490364\n",
      "Iteration no. 872 : -0.00024586847013503116\n",
      "Iteration no. 873 : -0.00024558219119159483\n",
      "Iteration no. 874 : -0.0002452965780909696\n",
      "Iteration no. 875 : -0.000245011628510172\n",
      "Iteration no. 876 : -0.00024472734014276126\n",
      "Iteration no. 877 : -0.000244443710688181\n",
      "Iteration no. 878 : -0.00024416073786030833\n",
      "Iteration no. 879 : -0.0002438784193803481\n",
      "Iteration no. 880 : -0.0002435967529832723\n",
      "Iteration no. 881 : -0.00024331573641237988\n",
      "Iteration no. 882 : -0.0002430353674208513\n",
      "Iteration no. 883 : -0.00024275564377452361\n",
      "Iteration no. 884 : -0.0002424765632463401\n",
      "Iteration no. 885 : -0.00024219812362400985\n",
      "Iteration no. 886 : -0.0002419203227003497\n",
      "Iteration no. 887 : -0.0002416431582808332\n",
      "Iteration no. 888 : -0.00024136662818214757\n",
      "Iteration no. 889 : -0.00024109073022908495\n",
      "Iteration no. 890 : -0.0002408154622567629\n",
      "Iteration no. 891 : -0.00024054082210929213\n",
      "Iteration no. 892 : -0.00024026680764299607\n",
      "Iteration no. 893 : -0.00023999341672108194\n",
      "Iteration no. 894 : -0.00023972064721885876\n",
      "Iteration no. 895 : -0.00023944849702085063\n",
      "Iteration no. 896 : -0.0002391769640197976\n",
      "Iteration no. 897 : -0.00023890604611843215\n",
      "Iteration no. 898 : -0.00023863574123058926\n",
      "Iteration no. 899 : -0.00023836604727754275\n",
      "Iteration no. 900 : -0.00023809696219144683\n",
      "Iteration no. 901 : -0.00023782848391311592\n",
      "Iteration no. 902 : -0.00023756061039091413\n",
      "Iteration no. 903 : -0.00023729333958519635\n",
      "Iteration no. 904 : -0.00023702666946475549\n",
      "Iteration no. 905 : -0.0002367605980080437\n",
      "Iteration no. 906 : -0.00023649512319906445\n",
      "Iteration no. 907 : -0.00023623024303569946\n",
      "Iteration no. 908 : -0.00023596595552093758\n",
      "Iteration no. 909 : -0.00023570225867053572\n",
      "Iteration no. 910 : -0.00023543915050435875\n",
      "Iteration no. 911 : -0.00023517662905537257\n",
      "Iteration no. 912 : -0.00023491469236276057\n",
      "Iteration no. 913 : -0.0002346533384751433\n",
      "Iteration no. 914 : -0.00023439256545068954\n",
      "Iteration no. 915 : -0.00023413237135500687\n",
      "Iteration no. 916 : -0.0002338727542620298\n",
      "Iteration no. 917 : -0.00023361371225590711\n",
      "Iteration no. 918 : -0.00023335524342700536\n",
      "Iteration no. 919 : -0.00023309734587723726\n",
      "Iteration no. 920 : -0.00023284001771262412\n",
      "Iteration no. 921 : -0.0002325832570510665\n",
      "Iteration no. 922 : -0.00023232706201834803\n",
      "Iteration no. 923 : -0.00023207143074569268\n",
      "Iteration no. 924 : -0.00023181636137720323\n",
      "Iteration no. 925 : -0.0002315618520608685\n",
      "Iteration no. 926 : -0.0002313079009545586\n",
      "Iteration no. 927 : -0.00023105450622480365\n",
      "Iteration no. 928 : -0.00023080166604424015\n",
      "Iteration no. 929 : -0.0002305493785966073\n",
      "Iteration no. 930 : -0.00023029764206986315\n",
      "Iteration no. 931 : -0.0002300464546621802\n",
      "Iteration no. 932 : -0.00022979581457939176\n",
      "Iteration no. 933 : -0.00022954572003488087\n",
      "Iteration no. 934 : -0.00022929616924980233\n",
      "Iteration no. 935 : -0.00022904716045175062\n",
      "Iteration no. 936 : -0.00022879869187964461\n",
      "Iteration no. 937 : -0.00022855076177517901\n",
      "Iteration no. 938 : -0.00022830336839181715\n",
      "Iteration no. 939 : -0.00022805650998824066\n",
      "Iteration no. 940 : -0.00022781018483101394\n",
      "Iteration no. 941 : -0.00022756439119447333\n",
      "Iteration no. 942 : -0.0002273191273615039\n",
      "Iteration no. 943 : -0.00022707439161921006\n",
      "Iteration no. 944 : -0.00022683018226613152\n",
      "Iteration no. 945 : -0.00022658649760391698\n",
      "Iteration no. 946 : -0.00022634333594609473\n",
      "Iteration no. 947 : -0.00022610069561007905\n",
      "Iteration no. 948 : -0.0002258585749197238\n",
      "Iteration no. 949 : -0.00022561697220998525\n",
      "Iteration no. 950 : -0.00022537588581959459\n",
      "Iteration no. 951 : -0.00022513531409627623\n",
      "Iteration no. 952 : -0.00022489525539252854\n",
      "Iteration no. 953 : -0.0002246557080706202\n",
      "Iteration no. 954 : -0.00022441667049881537\n",
      "Iteration no. 955 : -0.0002241781410502632\n",
      "Iteration no. 956 : -0.00022394011810832737\n",
      "Iteration no. 957 : -0.00022370260006081245\n",
      "Iteration no. 958 : -0.00022346558530329493\n",
      "Iteration no. 959 : -0.0002232290722390119\n",
      "Iteration no. 960 : -0.00022299305927619685\n",
      "Iteration no. 961 : -0.0002227575448291896\n",
      "Iteration no. 962 : -0.00022252252732265522\n",
      "Iteration no. 963 : -0.0002222880051841457\n",
      "Iteration no. 964 : -0.0002220539768515382\n",
      "Iteration no. 965 : -0.00022182044076359827\n",
      "Iteration no. 966 : -0.00022158739537252536\n",
      "Iteration no. 967 : -0.0002213548391314074\n",
      "Iteration no. 968 : -0.00022112277050276925\n",
      "Iteration no. 969 : -0.00022089118795557544\n",
      "Iteration no. 970 : -0.00022066008996234328\n",
      "Iteration no. 971 : -0.0002204294750064705\n",
      "Iteration no. 972 : -0.0002201993415749078\n",
      "Iteration no. 973 : -0.000219969688159713\n",
      "Iteration no. 974 : -0.00021974051326271416\n",
      "Iteration no. 975 : -0.00021951181538851507\n",
      "Iteration no. 976 : -0.00021928359305115654\n",
      "Iteration no. 977 : -0.0002190558447683434\n",
      "Iteration no. 978 : -0.0002188285690641089\n",
      "Iteration no. 979 : -0.00021860176446948084\n",
      "Iteration no. 980 : -0.0002183754295222597\n",
      "Iteration no. 981 : -0.00021814956276568608\n",
      "Iteration no. 982 : -0.00021792416274688661\n",
      "Iteration no. 983 : -0.00021769922802331325\n",
      "Iteration no. 984 : -0.00021747475715341716\n",
      "Iteration no. 985 : -0.0002172507487056419\n",
      "Iteration no. 986 : -0.000217027201252983\n",
      "Iteration no. 987 : -0.000216804113372544\n",
      "Iteration no. 988 : -0.00021658148365008844\n",
      "Iteration no. 989 : -0.00021635931067548768\n",
      "Iteration no. 990 : -0.00021613759304494175\n",
      "Iteration no. 991 : -0.00021591632935920261\n",
      "Iteration no. 992 : -0.00021569551822768224\n",
      "Iteration no. 993 : -0.0002154751582620131\n",
      "Iteration no. 994 : -0.00021525524808293185\n",
      "Iteration no. 995 : -0.0002150357863119523\n",
      "Iteration no. 996 : -0.0002148167715808025\n",
      "Iteration no. 997 : -0.00021459820252576266\n",
      "Iteration no. 998 : -0.0002143800777881092\n",
      "Iteration no. 999 : -0.0002141623960125602\n",
      "Iteration no. 1000 : -0.00021394515585360406\n"
     ]
    }
   ],
   "source": [
    "mod_iwls = LogisticRegression('iwls', normalize = True, eps = 10**-6)\n",
    "mod_iwls.fit(X_train, Y_train, verbose = True, save_errors = True)\n",
    "Y_hat_iwls = mod_iwls.predict(X_test, rounding = True)"
   ]
  },
  {
   "cell_type": "code",
   "execution_count": 49,
   "metadata": {},
   "outputs": [
    {
     "name": "stdout",
     "output_type": "stream",
     "text": [
      "Acccuracy:  0.9298245614035088\n",
      "Precision:  0.9090909090909091\n",
      "Recall:  0.9090909090909091\n",
      "F_measure:  0.9090909090909091\n",
      "R2_score:  0.7038961038961039\n"
     ]
    }
   ],
   "source": [
    "assess(Y_test, Y_hat_iwls)"
   ]
  },
  {
   "cell_type": "code",
   "execution_count": 50,
   "metadata": {},
   "outputs": [],
   "source": [
    "mod_powell = LogisticRegression('powell', normalize = True)\n",
    "mod_powell.fit(X_train, Y_train)\n",
    "Y_hat_powell = mod_iwls.predict(X_test, rounding = True)"
   ]
  },
  {
   "cell_type": "code",
   "execution_count": 51,
   "metadata": {},
   "outputs": [
    {
     "name": "stdout",
     "output_type": "stream",
     "text": [
      "Acccuracy:  0.9298245614035088\n",
      "Precision:  0.9090909090909091\n",
      "Recall:  0.9090909090909091\n",
      "F_measure:  0.9090909090909091\n",
      "R2_score:  0.7038961038961039\n"
     ]
    }
   ],
   "source": [
    "assess(Y_test, Y_hat_powell)"
   ]
  },
  {
   "cell_type": "code",
   "execution_count": 52,
   "metadata": {},
   "outputs": [],
   "source": [
    "X_train_norm, X_test_norm = (X_train-X_train.mean(0))/X_train.std(0), (X_test-X_test.mean(0))/X_test.std(0)\n",
    "model = sklearn.linear_model.LogisticRegression()\n",
    "result = model.fit(X_train_norm, Y_train)\n",
    "Y_hat = result.predict(X_test_norm)"
   ]
  },
  {
   "cell_type": "code",
   "execution_count": 53,
   "metadata": {},
   "outputs": [
    {
     "name": "stdout",
     "output_type": "stream",
     "text": [
      "Acccuracy:  0.9736842105263158\n",
      "Precision:  0.9767441860465116\n",
      "Recall:  0.9545454545454546\n",
      "F_measure:  0.9655172413793104\n",
      "R2_score:  0.888961038961039\n"
     ]
    }
   ],
   "source": [
    "assess(Y_test, Y_hat)"
   ]
  },
  {
   "cell_type": "code",
   "execution_count": 54,
   "metadata": {},
   "outputs": [],
   "source": [
    "mod_lda = LinearDiscriminantAnalysis()\n",
    "mod_lda = mod_lda.fit(X_train_norm, Y_train)\n",
    "Y_hat_lda = mod_lda.predict(X_test_norm)"
   ]
  },
  {
   "cell_type": "code",
   "execution_count": 55,
   "metadata": {},
   "outputs": [
    {
     "name": "stdout",
     "output_type": "stream",
     "text": [
      "Acccuracy:  0.956140350877193\n",
      "Precision:  0.975609756097561\n",
      "Recall:  0.9090909090909091\n",
      "F_measure:  0.9411764705882352\n",
      "R2_score:  0.814935064935065\n"
     ]
    }
   ],
   "source": [
    "assess(Y_test, Y_hat_lda)"
   ]
  },
  {
   "cell_type": "code",
   "execution_count": 56,
   "metadata": {},
   "outputs": [],
   "source": [
    "mod_qda = QuadraticDiscriminantAnalysis()\n",
    "mod_qda = mod_qda.fit(X_train_norm, Y_train)\n",
    "Y_hat_qda = mod_qda.predict(X_test_norm)"
   ]
  },
  {
   "cell_type": "code",
   "execution_count": 57,
   "metadata": {},
   "outputs": [
    {
     "name": "stdout",
     "output_type": "stream",
     "text": [
      "Acccuracy:  0.9385964912280702\n",
      "Precision:  0.8627450980392157\n",
      "Recall:  1.0\n",
      "F_measure:  0.9263157894736842\n",
      "R2_score:  0.740909090909091\n"
     ]
    }
   ],
   "source": [
    "assess(Y_test, Y_hat_qda)"
   ]
  },
  {
   "cell_type": "code",
   "execution_count": 58,
   "metadata": {},
   "outputs": [],
   "source": [
    "mod_knn = KNeighborsClassifier(n_neighbors=5)\n",
    "mod_knn.fit(X_train_norm, Y_train)\n",
    "Y_hat_knn = mod_knn.predict(X_test_norm)"
   ]
  },
  {
   "cell_type": "code",
   "execution_count": 59,
   "metadata": {},
   "outputs": [
    {
     "name": "stdout",
     "output_type": "stream",
     "text": [
      "Acccuracy:  0.9824561403508771\n",
      "Precision:  0.9772727272727273\n",
      "Recall:  0.9772727272727273\n",
      "F_measure:  0.9772727272727273\n",
      "R2_score:  0.925974025974026\n"
     ]
    }
   ],
   "source": [
    "assess(Y_test, Y_hat_knn)"
   ]
  },
  {
   "cell_type": "code",
   "execution_count": 60,
   "metadata": {},
   "outputs": [
    {
     "data": {
      "image/png": "[encoded data removed]",
      "text/plain": [
       "<Figure size 432x288 with 1 Axes>"
      ]
     },
     "metadata": {
      "needs_background": "light"
     },
     "output_type": "display_data"
    }
   ],
   "source": [
    "ax = plt.subplot(1,1,1)\n",
    "plt.plot(list(range(1,len(mod_sgd.errors)+1)), mod_sgd.errors, '--')\n",
    "plt.plot(list(range(1,len(mod_gd.errors)+1)), mod_gd.errors, '--')\n",
    "plt.plot(list(range(1,len(mod_iwls.errors)+1)), mod_iwls.errors,'--')\n",
    "plt.ylabel('Log-likelihood value')\n",
    "plt.xlabel('No. of iteration')\n",
    "ax.legend(['SGD', 'GD', 'IWLS'])\n",
    "plt.show()"
   ]
  },
  {
   "cell_type": "code",
   "execution_count": 61,
   "metadata": {},
   "outputs": [],
   "source": [
    "alphas = [0.001, 0.005, 0.01, 0.05, 0.1, 0.2, 0.3, 0.4, 0.5, 0.75, 1, 2, 4, 8]\n",
    "accuracies = []\n",
    "precisions = []\n",
    "recalls = []\n",
    "f_measures = []\n",
    "\n",
    "for alpha in alphas:\n",
    "    current_model = LogisticRegression('sgd', alpha = alpha, batch_size = 200, normalize = True)\n",
    "    current_model.fit(X_train, Y_train)\n",
    "    cur_Y_hat = current_model.predict(X_test, rounding = True)\n",
    "    accuracies.append(accuracy(Y_test, cur_Y_hat))\n",
    "    precisions.append(precision(Y_test, cur_Y_hat))\n",
    "    recalls.append(recall(Y_test, cur_Y_hat))\n",
    "    f_measures.append(F_measure(Y_test, cur_Y_hat))"
   ]
  },
  {
   "cell_type": "code",
   "execution_count": 62,
   "metadata": {},
   "outputs": [
    {
     "data": {
      "image/png": "[encoded data removed]",
      "text/plain": [
       "<Figure size 432x288 with 1 Axes>"
      ]
     },
     "metadata": {
      "needs_background": "light"
     },
     "output_type": "display_data"
    }
   ],
   "source": [
    "ax = plt.subplot(1,1,1)\n",
    "plt.plot(alphas, accuracies, '--')\n",
    "plt.plot(alphas, precisions, '--')\n",
    "plt.plot(alphas, recalls, '--')\n",
    "plt.plot(alphas, f_measures, '--')\n",
    "plt.ylabel('Metrics value')\n",
    "plt.xlabel('Alpha')\n",
    "ax.legend(['Accuracy', 'Precision', 'Recall', 'F-measure'])\n",
    "plt.show()"
   ]
  },
  {
   "cell_type": "code",
   "execution_count": 63,
   "metadata": {},
   "outputs": [],
   "source": [
    "alphas = [0.001, 0.005, 0.01, 0.05, 0.1, 0.2, 0.3, 0.4, 0.5, 0.75, 1, 2, 4, 8]\n",
    "accuracies = []\n",
    "precisions = []\n",
    "recalls = []\n",
    "f_measures = []\n",
    "\n",
    "for alpha in alphas:\n",
    "    current_model = LogisticRegression('gd', alpha = alpha, batch_size = 200, normalize = True)\n",
    "    current_model.fit(X_train, Y_train)\n",
    "    cur_Y_hat = current_model.predict(X_test, rounding = True)\n",
    "    accuracies.append(accuracy(Y_test, cur_Y_hat))\n",
    "    precisions.append(precision(Y_test, cur_Y_hat))\n",
    "    recalls.append(recall(Y_test, cur_Y_hat))\n",
    "    f_measures.append(F_measure(Y_test, cur_Y_hat))"
   ]
  },
  {
   "cell_type": "code",
   "execution_count": 64,
   "metadata": {},
   "outputs": [
    {
     "data": {
      "image/png": "[encoded data removed]",
      "text/plain": [
       "<Figure size 432x288 with 1 Axes>"
      ]
     },
     "metadata": {
      "needs_background": "light"
     },
     "output_type": "display_data"
    }
   ],
   "source": [
    "ax = plt.subplot(1,1,1)\n",
    "plt.plot(alphas, accuracies, '--')\n",
    "plt.plot(alphas, precisions, '--')\n",
    "plt.plot(alphas, recalls, '--')\n",
    "plt.plot(alphas, f_measures, '--')\n",
    "plt.ylabel('Metrics value')\n",
    "plt.xlabel('Alpha')\n",
    "ax.legend(['Accuracy', 'Precision', 'Recall', 'F-measure'])\n",
    "plt.show()"
   ]
  },
  {
   "cell_type": "markdown",
   "metadata": {},
   "source": [
    "**Bank**"
   ]
  },
  {
   "cell_type": "code",
   "execution_count": 65,
   "metadata": {},
   "outputs": [],
   "source": [
    "np.random.seed(111)\n",
    "Y = Bank['y'].to_numpy()\n",
    "X = Bank.drop(columns=['y']).to_numpy()\n",
    "X_train, X_test, Y_train, Y_test = train_test_split(X, Y, test_size = 0.2)"
   ]
  },
  {
   "cell_type": "code",
   "execution_count": 66,
   "metadata": {},
   "outputs": [],
   "source": [
    "mod_sgd = LogisticRegression('sgd', alpha = 0.5, batch_size = 1000, normalize = True)\n",
    "mod_sgd.fit(X_train, Y_train, save_errors = True)\n",
    "Y_hat_sgd = mod_sgd.predict(X_test, rounding = True)"
   ]
  },
  {
   "cell_type": "code",
   "execution_count": 67,
   "metadata": {},
   "outputs": [
    {
     "name": "stdout",
     "output_type": "stream",
     "text": [
      "Acccuracy:  0.8961325966850828\n",
      "Precision:  0.6590909090909091\n",
      "Recall:  0.26851851851851855\n",
      "F_measure:  0.3815789473684211\n",
      "R2_score:  0.01168734606626709\n"
     ]
    }
   ],
   "source": [
    "assess(Y_test, Y_hat_sgd)"
   ]
  },
  {
   "cell_type": "code",
   "execution_count": 68,
   "metadata": {},
   "outputs": [],
   "source": [
    "mod_gd = LogisticRegression('gd', alpha = 0.5, normalize = True)\n",
    "mod_gd.fit(X_train, Y_train, save_errors = True)\n",
    "Y_hat_gd = mod_gd.predict(X_test, rounding = True)"
   ]
  },
  {
   "cell_type": "code",
   "execution_count": 69,
   "metadata": {},
   "outputs": [
    {
     "name": "stdout",
     "output_type": "stream",
     "text": [
      "Acccuracy:  0.8950276243093923\n",
      "Precision:  0.6511627906976745\n",
      "Recall:  0.25925925925925924\n",
      "F_measure:  0.3708609271523179\n",
      "R2_score:  0.0011733816627167437\n"
     ]
    }
   ],
   "source": [
    "assess(Y_test, Y_hat_gd)"
   ]
  },
  {
   "cell_type": "code",
   "execution_count": 70,
   "metadata": {},
   "outputs": [],
   "source": [
    "mod_iwls = LogisticRegression('iwls', normalize = True, eps = 10**-8)\n",
    "mod_iwls.fit(X_train, Y_train, save_errors = True)\n",
    "Y_hat_iwls = mod_iwls.predict(X_test, rounding = True)"
   ]
  },
  {
   "cell_type": "code",
   "execution_count": 71,
   "metadata": {},
   "outputs": [
    {
     "name": "stdout",
     "output_type": "stream",
     "text": [
      "Acccuracy:  0.8961325966850828\n",
      "Precision:  0.6590909090909091\n",
      "Recall:  0.26851851851851855\n",
      "F_measure:  0.3815789473684211\n",
      "R2_score:  0.01168734606626709\n"
     ]
    }
   ],
   "source": [
    "assess(Y_test, Y_hat_iwls)"
   ]
  },
  {
   "cell_type": "code",
   "execution_count": 72,
   "metadata": {},
   "outputs": [],
   "source": [
    "mod_powell = LogisticRegression('powell', normalize = True)\n",
    "mod_powell.fit(X_train, Y_train)\n",
    "Y_hat_powell = mod_iwls.predict(X_test, rounding = True)"
   ]
  },
  {
   "cell_type": "code",
   "execution_count": 73,
   "metadata": {},
   "outputs": [
    {
     "name": "stdout",
     "output_type": "stream",
     "text": [
      "Acccuracy:  0.8961325966850828\n",
      "Precision:  0.6590909090909091\n",
      "Recall:  0.26851851851851855\n",
      "F_measure:  0.3815789473684211\n",
      "R2_score:  0.01168734606626709\n"
     ]
    }
   ],
   "source": [
    "assess(Y_test, Y_hat_powell)"
   ]
  },
  {
   "cell_type": "code",
   "execution_count": 74,
   "metadata": {},
   "outputs": [],
   "source": [
    "X_train_norm, X_test_norm = (X_train-X_train.mean(0))/X_train.std(0), (X_test-X_test.mean(0))/X_test.std(0)\n",
    "model = sklearn.linear_model.LogisticRegression()\n",
    "result = model.fit(X_train_norm, Y_train)\n",
    "Y_hat = result.predict(X_test_norm)"
   ]
  },
  {
   "cell_type": "code",
   "execution_count": 75,
   "metadata": {},
   "outputs": [
    {
     "name": "stdout",
     "output_type": "stream",
     "text": [
      "Acccuracy:  0.8961325966850828\n",
      "Precision:  0.6590909090909091\n",
      "Recall:  0.26851851851851855\n",
      "F_measure:  0.3815789473684211\n",
      "R2_score:  0.01168734606626709\n"
     ]
    }
   ],
   "source": [
    "assess(Y_test, Y_hat)"
   ]
  },
  {
   "cell_type": "code",
   "execution_count": 76,
   "metadata": {},
   "outputs": [],
   "source": [
    "mod_lda = LinearDiscriminantAnalysis()\n",
    "mod_lda = mod_lda.fit(X_train_norm, Y_train)\n",
    "Y_hat_lda = mod_lda.predict(X_test_norm)"
   ]
  },
  {
   "cell_type": "code",
   "execution_count": 77,
   "metadata": {},
   "outputs": [
    {
     "name": "stdout",
     "output_type": "stream",
     "text": [
      "Acccuracy:  0.901657458563536\n",
      "Precision:  0.6301369863013698\n",
      "Recall:  0.42592592592592593\n",
      "F_measure:  0.5082872928176796\n",
      "R2_score:  0.06425716808401893\n"
     ]
    }
   ],
   "source": [
    "assess(Y_test, Y_hat_lda)"
   ]
  },
  {
   "cell_type": "code",
   "execution_count": 78,
   "metadata": {},
   "outputs": [],
   "source": [
    "mod_qda = QuadraticDiscriminantAnalysis()\n",
    "mod_qda = mod_qda.fit(X_train_norm, Y_train)\n",
    "Y_hat_qda = mod_qda.predict(X_test_norm)"
   ]
  },
  {
   "cell_type": "code",
   "execution_count": 79,
   "metadata": {},
   "outputs": [
    {
     "name": "stdout",
     "output_type": "stream",
     "text": [
      "Acccuracy:  0.8541436464088398\n",
      "Precision:  0.4032258064516129\n",
      "Recall:  0.46296296296296297\n",
      "F_measure:  0.4310344827586207\n",
      "R2_score:  -0.3878433012686462\n"
     ]
    }
   ],
   "source": [
    "assess(Y_test, Y_hat_qda)"
   ]
  },
  {
   "cell_type": "code",
   "execution_count": 80,
   "metadata": {},
   "outputs": [],
   "source": [
    "mod_knn = KNeighborsClassifier(n_neighbors=5)\n",
    "mod_knn.fit(X_train_norm, Y_train)\n",
    "Y_hat_knn = mod_knn.predict(X_test_norm)"
   ]
  },
  {
   "cell_type": "code",
   "execution_count": 81,
   "metadata": {},
   "outputs": [
    {
     "name": "stdout",
     "output_type": "stream",
     "text": [
      "Acccuracy:  0.8850828729281768\n",
      "Precision:  0.5526315789473685\n",
      "Recall:  0.19444444444444445\n",
      "F_measure:  0.28767123287671237\n",
      "R2_score:  -0.09345229796923626\n"
     ]
    }
   ],
   "source": [
    "assess(Y_test, Y_hat_knn)"
   ]
  },
  {
   "cell_type": "code",
   "execution_count": 82,
   "metadata": {},
   "outputs": [
    {
     "data": {
      "image/png": "[encoded data removed]",
      "text/plain": [
       "<Figure size 432x288 with 1 Axes>"
      ]
     },
     "metadata": {
      "needs_background": "light"
     },
     "output_type": "display_data"
    }
   ],
   "source": [
    "ax = plt.subplot(1,1,1)\n",
    "plt.plot(list(range(1,len(mod_sgd.errors)+1)), mod_sgd.errors, '--')\n",
    "plt.plot(list(range(1,len(mod_gd.errors)+1)), mod_gd.errors, '--')\n",
    "plt.plot(list(range(1,len(mod_iwls.errors)+1)), mod_iwls.errors,'--')\n",
    "plt.ylabel('Log-likelihood value')\n",
    "plt.xlabel('No. of iteration')\n",
    "ax.legend(['SGD', 'GD', 'IWLS'])\n",
    "plt.show()"
   ]
  },
  {
   "cell_type": "code",
   "execution_count": 83,
   "metadata": {},
   "outputs": [],
   "source": [
    "alphas = [0.001, 0.005, 0.01, 0.05, 0.1, 0.2, 0.3, 0.4, 0.5, 0.75, 1, 2, 4, 8]\n",
    "accuracies = []\n",
    "precisions = []\n",
    "recalls = []\n",
    "f_measures = []\n",
    "\n",
    "for alpha in alphas:\n",
    "    current_model = LogisticRegression('sgd', alpha = alpha, batch_size = 200, normalize = True)\n",
    "    current_model.fit(X_train, Y_train)\n",
    "    cur_Y_hat = current_model.predict(X_test, rounding = True)\n",
    "    accuracies.append(accuracy(Y_test, cur_Y_hat))\n",
    "    precisions.append(precision(Y_test, cur_Y_hat))\n",
    "    recalls.append(recall(Y_test, cur_Y_hat))\n",
    "    f_measures.append(F_measure(Y_test, cur_Y_hat))"
   ]
  },
  {
   "cell_type": "code",
   "execution_count": 84,
   "metadata": {},
   "outputs": [
    {
     "data": {
      "image/png": "[encoded data removed]",
      "text/plain": [
       "<Figure size 432x288 with 1 Axes>"
      ]
     },
     "metadata": {
      "needs_background": "light"
     },
     "output_type": "display_data"
    }
   ],
   "source": [
    "ax = plt.subplot(1,1,1)\n",
    "plt.plot(alphas, accuracies, '--')\n",
    "plt.plot(alphas, precisions, '--')\n",
    "plt.plot(alphas, recalls, '--')\n",
    "plt.plot(alphas, f_measures, '--')\n",
    "plt.ylabel('Metrics value')\n",
    "plt.xlabel('Alpha')\n",
    "ax.legend(['Accuracy', 'Precision', 'Recall', 'F-measure'])\n",
    "plt.show()"
   ]
  },
  {
   "cell_type": "code",
   "execution_count": 85,
   "metadata": {},
   "outputs": [],
   "source": [
    "alphas = [0.001, 0.005, 0.01, 0.05, 0.1, 0.2, 0.3, 0.4, 0.5, 0.75, 1, 2, 4, 8]\n",
    "accuracies = []\n",
    "precisions = []\n",
    "recalls = []\n",
    "f_measures = []\n",
    "\n",
    "for alpha in alphas:\n",
    "    current_model = LogisticRegression('gd', alpha = alpha, batch_size = 200, normalize = True)\n",
    "    current_model.fit(X_train, Y_train)\n",
    "    cur_Y_hat = current_model.predict(X_test, rounding = True)\n",
    "    accuracies.append(accuracy(Y_test, cur_Y_hat))\n",
    "    precisions.append(precision(Y_test, cur_Y_hat))\n",
    "    recalls.append(recall(Y_test, cur_Y_hat))\n",
    "    f_measures.append(F_measure(Y_test, cur_Y_hat))"
   ]
  },
  {
   "cell_type": "code",
   "execution_count": 86,
   "metadata": {},
   "outputs": [
    {
     "data": {
      "image/png": "[encoded data removed]",
      "text/plain": [
       "<Figure size 432x288 with 1 Axes>"
      ]
     },
     "metadata": {
      "needs_background": "light"
     },
     "output_type": "display_data"
    }
   ],
   "source": [
    "ax = plt.subplot(1,1,1)\n",
    "plt.plot(alphas, accuracies, '--')\n",
    "plt.plot(alphas, precisions, '--')\n",
    "plt.plot(alphas, recalls, '--')\n",
    "plt.plot(alphas, f_measures, '--')\n",
    "plt.ylabel('Metrics value')\n",
    "plt.xlabel('Alpha')\n",
    "ax.legend(['Accuracy', 'Precision', 'Recall', 'F-measure'])\n",
    "plt.show()"
   ]
  },
  {
   "cell_type": "markdown",
   "metadata": {},
   "source": [
    "**Pokemon**"
   ]
  },
  {
   "cell_type": "code",
   "execution_count": 87,
   "metadata": {},
   "outputs": [],
   "source": [
    "np.random.seed(111)\n",
    "Y = Pokemon[\"is_legendary\"].to_numpy()\n",
    "X = Pokemon.drop(columns=[\"is_legendary\"]).to_numpy()\n",
    "X_train, X_test, Y_train, Y_test = train_test_split(X, Y, test_size = 0.2)"
   ]
  },
  {
   "cell_type": "code",
   "execution_count": 88,
   "metadata": {},
   "outputs": [],
   "source": [
    "mod_sgd = LogisticRegression('sgd', alpha = 0.01, batch_size = 200, normalize = True)\n",
    "mod_sgd.fit(X_train, Y_train, save_errors = True)\n",
    "Y_hat_sgd = mod_sgd.predict(X_test, rounding = True)"
   ]
  },
  {
   "cell_type": "code",
   "execution_count": 89,
   "metadata": {},
   "outputs": [
    {
     "name": "stdout",
     "output_type": "stream",
     "text": [
      "Acccuracy:  0.9813664596273292\n",
      "Precision:  0.9090909090909091\n",
      "Recall:  0.8333333333333334\n",
      "F_measure:  0.8695652173913043\n",
      "R2_score:  0.7298657718120806\n"
     ]
    }
   ],
   "source": [
    "assess(Y_test, Y_hat_sgd)"
   ]
  },
  {
   "cell_type": "code",
   "execution_count": 90,
   "metadata": {},
   "outputs": [],
   "source": [
    "mod_gd = LogisticRegression('gd', alpha = 0.01, normalize = True)\n",
    "mod_gd.fit(X_train, Y_train, save_errors = True)\n",
    "Y_hat_gd = mod_gd.predict(X_test, rounding = True)"
   ]
  },
  {
   "cell_type": "code",
   "execution_count": 91,
   "metadata": {},
   "outputs": [
    {
     "name": "stdout",
     "output_type": "stream",
     "text": [
      "Acccuracy:  0.9813664596273292\n",
      "Precision:  0.9090909090909091\n",
      "Recall:  0.8333333333333334\n",
      "F_measure:  0.8695652173913043\n",
      "R2_score:  0.7298657718120806\n"
     ]
    }
   ],
   "source": [
    "assess(Y_test, Y_hat_gd)"
   ]
  },
  {
   "cell_type": "code",
   "execution_count": 92,
   "metadata": {},
   "outputs": [],
   "source": [
    "mod_iwls = LogisticRegression('iwls', normalize = True, eps = 10**-6)\n",
    "mod_iwls.fit(X_train, Y_train, save_errors = True)\n",
    "Y_hat_iwls = mod_iwls.predict(X_test, rounding = True)"
   ]
  },
  {
   "cell_type": "code",
   "execution_count": 93,
   "metadata": {},
   "outputs": [
    {
     "name": "stdout",
     "output_type": "stream",
     "text": [
      "Acccuracy:  0.968944099378882\n",
      "Precision:  0.7692307692307693\n",
      "Recall:  0.8333333333333334\n",
      "F_measure:  0.8\n",
      "R2_score:  0.5497762863534676\n"
     ]
    }
   ],
   "source": [
    "assess(Y_test, Y_hat_iwls)"
   ]
  },
  {
   "cell_type": "code",
   "execution_count": 94,
   "metadata": {},
   "outputs": [],
   "source": [
    "mod_powell = LogisticRegression('powell', normalize = True)\n",
    "mod_powell.fit(X_train, Y_train)\n",
    "Y_hat_powell = mod_iwls.predict(X_test, rounding = True)"
   ]
  },
  {
   "cell_type": "code",
   "execution_count": 95,
   "metadata": {},
   "outputs": [
    {
     "name": "stdout",
     "output_type": "stream",
     "text": [
      "Acccuracy:  0.968944099378882\n",
      "Precision:  0.7692307692307693\n",
      "Recall:  0.8333333333333334\n",
      "F_measure:  0.8\n",
      "R2_score:  0.5497762863534676\n"
     ]
    }
   ],
   "source": [
    "assess(Y_test, Y_hat_powell)"
   ]
  },
  {
   "cell_type": "code",
   "execution_count": 96,
   "metadata": {},
   "outputs": [],
   "source": [
    "X_train_norm, X_test_norm = (X_train-X_train.mean(0))/X_train.std(0), (X_test-X_test.mean(0))/X_test.std(0)\n",
    "model = sklearn.linear_model.LogisticRegression()\n",
    "result = model.fit(X_train_norm, Y_train)\n",
    "Y_hat = result.predict(X_test_norm)"
   ]
  },
  {
   "cell_type": "code",
   "execution_count": 97,
   "metadata": {},
   "outputs": [
    {
     "name": "stdout",
     "output_type": "stream",
     "text": [
      "Acccuracy:  0.9751552795031055\n",
      "Precision:  0.8333333333333334\n",
      "Recall:  0.8333333333333334\n",
      "F_measure:  0.8333333333333334\n",
      "R2_score:  0.639821029082774\n"
     ]
    }
   ],
   "source": [
    "assess(Y_test, Y_hat)"
   ]
  },
  {
   "cell_type": "code",
   "execution_count": 98,
   "metadata": {},
   "outputs": [],
   "source": [
    "mod_lda = LinearDiscriminantAnalysis()\n",
    "mod_lda = mod_lda.fit(X_train_norm, Y_train)\n",
    "Y_hat_lda = mod_lda.predict(X_test_norm)"
   ]
  },
  {
   "cell_type": "code",
   "execution_count": 99,
   "metadata": {},
   "outputs": [
    {
     "name": "stdout",
     "output_type": "stream",
     "text": [
      "Acccuracy:  0.9813664596273292\n",
      "Precision:  0.9090909090909091\n",
      "Recall:  0.8333333333333334\n",
      "F_measure:  0.8695652173913043\n",
      "R2_score:  0.7298657718120806\n"
     ]
    }
   ],
   "source": [
    "assess(Y_test, Y_hat_lda)"
   ]
  },
  {
   "cell_type": "code",
   "execution_count": 100,
   "metadata": {},
   "outputs": [],
   "source": [
    "mod_qda = QuadraticDiscriminantAnalysis()\n",
    "mod_qda = mod_qda.fit(X_train_norm, Y_train)\n",
    "Y_hat_qda = mod_qda.predict(X_test_norm)"
   ]
  },
  {
   "cell_type": "code",
   "execution_count": 101,
   "metadata": {},
   "outputs": [
    {
     "name": "stdout",
     "output_type": "stream",
     "text": [
      "Acccuracy:  0.9565217391304348\n",
      "Precision:  0.6666666666666666\n",
      "Recall:  0.8333333333333334\n",
      "F_measure:  0.7407407407407408\n",
      "R2_score:  0.3696868008948546\n"
     ]
    }
   ],
   "source": [
    "assess(Y_test, Y_hat_qda)"
   ]
  },
  {
   "cell_type": "code",
   "execution_count": 102,
   "metadata": {},
   "outputs": [],
   "source": [
    "mod_knn = KNeighborsClassifier(n_neighbors=5)\n",
    "mod_knn.fit(X_train_norm, Y_train)\n",
    "Y_hat_knn = mod_knn.predict(X_test_norm)"
   ]
  },
  {
   "cell_type": "code",
   "execution_count": 103,
   "metadata": {},
   "outputs": [
    {
     "name": "stdout",
     "output_type": "stream",
     "text": [
      "Acccuracy:  0.9751552795031055\n",
      "Precision:  0.8333333333333334\n",
      "Recall:  0.8333333333333334\n",
      "F_measure:  0.8333333333333334\n",
      "R2_score:  0.639821029082774\n"
     ]
    }
   ],
   "source": [
    "assess(Y_test, Y_hat_knn)"
   ]
  },
  {
   "cell_type": "code",
   "execution_count": 104,
   "metadata": {},
   "outputs": [
    {
     "data": {
      "image/png": "[encoded data removed]",
      "text/plain": [
       "<Figure size 432x288 with 1 Axes>"
      ]
     },
     "metadata": {
      "needs_background": "light"
     },
     "output_type": "display_data"
    }
   ],
   "source": [
    "ax = plt.subplot(1,1,1)\n",
    "plt.plot(list(range(1,len(mod_sgd.errors)+1)), mod_sgd.errors, '--')\n",
    "plt.plot(list(range(1,len(mod_gd.errors)+1)), mod_gd.errors, '--')\n",
    "plt.plot(list(range(1,len(mod_iwls.errors)+1)), mod_iwls.errors,'--')\n",
    "plt.ylabel('Log-likelihood value')\n",
    "plt.xlabel('No. of iteration')\n",
    "ax.legend(['SGD', 'GD', 'IWLS'])\n",
    "plt.show()"
   ]
  },
  {
   "cell_type": "code",
   "execution_count": 105,
   "metadata": {},
   "outputs": [],
   "source": [
    "alphas = [0.001, 0.005, 0.01, 0.05, 0.1, 0.2, 0.3, 0.4, 0.5, 0.75, 1, 2, 4, 8]\n",
    "accuracies = []\n",
    "precisions = []\n",
    "recalls = []\n",
    "f_measures = []\n",
    "\n",
    "for alpha in alphas:\n",
    "    current_model = LogisticRegression('sgd', alpha = alpha, batch_size = 200, normalize = True)\n",
    "    current_model.fit(X_train, Y_train)\n",
    "    cur_Y_hat = current_model.predict(X_test, rounding = True)\n",
    "    accuracies.append(accuracy(Y_test, cur_Y_hat))\n",
    "    precisions.append(precision(Y_test, cur_Y_hat))\n",
    "    recalls.append(recall(Y_test, cur_Y_hat))\n",
    "    f_measures.append(F_measure(Y_test, cur_Y_hat))"
   ]
  },
  {
   "cell_type": "code",
   "execution_count": 106,
   "metadata": {},
   "outputs": [
    {
     "data": {
      "image/png": "[encoded data removed]",
      "text/plain": [
       "<Figure size 432x288 with 1 Axes>"
      ]
     },
     "metadata": {
      "needs_background": "light"
     },
     "output_type": "display_data"
    }
   ],
   "source": [
    "ax = plt.subplot(1,1,1)\n",
    "plt.plot(alphas, accuracies, '--')\n",
    "plt.plot(alphas, precisions, '--')\n",
    "plt.plot(alphas, recalls, '--')\n",
    "plt.plot(alphas, f_measures, '--')\n",
    "plt.ylabel('Metrics value')\n",
    "plt.xlabel('Alpha')\n",
    "ax.legend(['Accuracy', 'Precision', 'Recall', 'F-measure'])\n",
    "plt.show()"
   ]
  },
  {
   "cell_type": "code",
   "execution_count": 107,
   "metadata": {},
   "outputs": [],
   "source": [
    "alphas = [0.001, 0.005, 0.01, 0.05, 0.1, 0.2, 0.3, 0.4, 0.5, 0.75, 1, 2, 4, 8]\n",
    "accuracies = []\n",
    "precisions = []\n",
    "recalls = []\n",
    "f_measures = []\n",
    "\n",
    "for alpha in alphas:\n",
    "    current_model = LogisticRegression('gd', alpha = alpha, batch_size = 200, normalize = True)\n",
    "    current_model.fit(X_train, Y_train)\n",
    "    cur_Y_hat = current_model.predict(X_test, rounding = True)\n",
    "    accuracies.append(accuracy(Y_test, cur_Y_hat))\n",
    "    precisions.append(precision(Y_test, cur_Y_hat))\n",
    "    recalls.append(recall(Y_test, cur_Y_hat))\n",
    "    f_measures.append(F_measure(Y_test, cur_Y_hat))"
   ]
  },
  {
   "cell_type": "code",
   "execution_count": 108,
   "metadata": {},
   "outputs": [
    {
     "data": {
      "image/png": "[encoded data removed]",
      "text/plain": [
       "<Figure size 432x288 with 1 Axes>"
      ]
     },
     "metadata": {
      "needs_background": "light"
     },
     "output_type": "display_data"
    }
   ],
   "source": [
    "ax = plt.subplot(1,1,1)\n",
    "plt.plot(alphas, accuracies, '--')\n",
    "plt.plot(alphas, precisions, '--')\n",
    "plt.plot(alphas, recalls, '--')\n",
    "plt.plot(alphas, f_measures, '--')\n",
    "plt.ylabel('Metrics value')\n",
    "plt.xlabel('Alpha')\n",
    "ax.legend(['Accuracy', 'Precision', 'Recall', 'F-measure'])\n",
    "plt.show()"
   ]
  },
  {
   "cell_type": "markdown",
   "metadata": {},
   "source": [
    "**Diabetes**"
   ]
  },
  {
   "cell_type": "code",
   "execution_count": 109,
   "metadata": {},
   "outputs": [
    {
     "data": {
      "text/plain": [
       "(801, 5)"
      ]
     },
     "execution_count": 109,
     "metadata": {},
     "output_type": "execute_result"
    }
   ],
   "source": [
    "X.shape"
   ]
  },
  {
   "cell_type": "code",
   "execution_count": 110,
   "metadata": {},
   "outputs": [],
   "source": [
    "np.random.seed(111)\n",
    "Y = Diabetes[\"class\"].to_numpy()\n",
    "X = Diabetes.drop(columns=[\"class\"]).to_numpy()\n",
    "X_train, X_test, Y_train, Y_test = train_test_split(X, Y, test_size = 0.2)"
   ]
  },
  {
   "cell_type": "code",
   "execution_count": 111,
   "metadata": {},
   "outputs": [],
   "source": [
    "mod_sgd = LogisticRegression('sgd', alpha = 0.5, batch_size = 200, normalize = True)\n",
    "mod_sgd.fit(X_train, Y_train, save_errors = True)\n",
    "Y_hat_sgd = mod_sgd.predict(X_test, rounding = True)"
   ]
  },
  {
   "cell_type": "code",
   "execution_count": 112,
   "metadata": {},
   "outputs": [
    {
     "name": "stdout",
     "output_type": "stream",
     "text": [
      "Acccuracy:  0.7402597402597403\n",
      "Precision:  0.6511627906976745\n",
      "Recall:  0.5283018867924528\n",
      "F_measure:  0.5833333333333333\n",
      "R2_score:  -0.15075658509247125\n"
     ]
    }
   ],
   "source": [
    "assess(Y_test, Y_hat_sgd)"
   ]
  },
  {
   "cell_type": "code",
   "execution_count": 113,
   "metadata": {},
   "outputs": [],
   "source": [
    "mod_gd = LogisticRegression('gd',alpha = 0.01, normalize = True)\n",
    "mod_gd.fit(X_train, Y_train, save_errors = True)\n",
    "Y_hat_gd = mod_gd.predict(X_test, rounding = True)"
   ]
  },
  {
   "cell_type": "code",
   "execution_count": 114,
   "metadata": {},
   "outputs": [
    {
     "name": "stdout",
     "output_type": "stream",
     "text": [
      "Acccuracy:  0.7272727272727273\n",
      "Precision:  0.627906976744186\n",
      "Recall:  0.5094339622641509\n",
      "F_measure:  0.5625\n",
      "R2_score:  -0.20829441434709484\n"
     ]
    }
   ],
   "source": [
    "assess(Y_test, Y_hat_gd)"
   ]
  },
  {
   "cell_type": "code",
   "execution_count": 115,
   "metadata": {},
   "outputs": [],
   "source": [
    "mod_iwls = LogisticRegression('iwls', normalize = True, eps = 10**-5)\n",
    "mod_iwls.fit(X_train, Y_train, save_errors = True)\n",
    "Y_hat_iwls = mod_iwls.predict(X_test, rounding = True)"
   ]
  },
  {
   "cell_type": "code",
   "execution_count": 116,
   "metadata": {},
   "outputs": [
    {
     "name": "stdout",
     "output_type": "stream",
     "text": [
      "Acccuracy:  0.7402597402597403\n",
      "Precision:  0.6511627906976745\n",
      "Recall:  0.5283018867924528\n",
      "F_measure:  0.5833333333333333\n",
      "R2_score:  -0.15075658509247125\n"
     ]
    }
   ],
   "source": [
    "assess(Y_test, Y_hat_iwls)"
   ]
  },
  {
   "cell_type": "code",
   "execution_count": 117,
   "metadata": {},
   "outputs": [],
   "source": [
    "mod_powell = LogisticRegression('powell', normalize = True)\n",
    "mod_powell.fit(X_train, Y_train)\n",
    "Y_hat_powell = mod_iwls.predict(X_test, rounding = True)"
   ]
  },
  {
   "cell_type": "code",
   "execution_count": 118,
   "metadata": {},
   "outputs": [
    {
     "name": "stdout",
     "output_type": "stream",
     "text": [
      "Acccuracy:  0.7402597402597403\n",
      "Precision:  0.6511627906976745\n",
      "Recall:  0.5283018867924528\n",
      "F_measure:  0.5833333333333333\n",
      "R2_score:  -0.15075658509247125\n"
     ]
    }
   ],
   "source": [
    "assess(Y_test, Y_hat_powell)"
   ]
  },
  {
   "cell_type": "code",
   "execution_count": 119,
   "metadata": {},
   "outputs": [],
   "source": [
    "X_train_norm, X_test_norm = (X_train-X_train.mean(0))/X_train.std(0), (X_test-X_test.mean(0))/X_test.std(0)\n",
    "model = sklearn.linear_model.LogisticRegression()\n",
    "result = model.fit(X_train_norm, Y_train)\n",
    "Y_hat = result.predict(X_test_norm)"
   ]
  },
  {
   "cell_type": "code",
   "execution_count": 120,
   "metadata": {},
   "outputs": [
    {
     "name": "stdout",
     "output_type": "stream",
     "text": [
      "Acccuracy:  0.7467532467532467\n",
      "Precision:  0.6666666666666666\n",
      "Recall:  0.5283018867924528\n",
      "F_measure:  0.5894736842105263\n",
      "R2_score:  -0.12198767046515946\n"
     ]
    }
   ],
   "source": [
    "assess(Y_test, Y_hat)"
   ]
  },
  {
   "cell_type": "code",
   "execution_count": 121,
   "metadata": {},
   "outputs": [],
   "source": [
    "mod_lda = LinearDiscriminantAnalysis()\n",
    "mod_lda = mod_lda.fit(X_train_norm, Y_train)\n",
    "Y_hat_lda = mod_lda.predict(X_test_norm)"
   ]
  },
  {
   "cell_type": "code",
   "execution_count": 122,
   "metadata": {},
   "outputs": [
    {
     "name": "stdout",
     "output_type": "stream",
     "text": [
      "Acccuracy:  0.7402597402597403\n",
      "Precision:  0.6585365853658537\n",
      "Recall:  0.5094339622641509\n",
      "F_measure:  0.574468085106383\n",
      "R2_score:  -0.15075658509247125\n"
     ]
    }
   ],
   "source": [
    "assess(Y_test, Y_hat_lda)"
   ]
  },
  {
   "cell_type": "code",
   "execution_count": 123,
   "metadata": {},
   "outputs": [],
   "source": [
    "mod_qda = QuadraticDiscriminantAnalysis()\n",
    "mod_qda = mod_qda.fit(X_train_norm, Y_train)\n",
    "Y_hat_qda = mod_qda.predict(X_test_norm)"
   ]
  },
  {
   "cell_type": "code",
   "execution_count": 124,
   "metadata": {},
   "outputs": [
    {
     "name": "stdout",
     "output_type": "stream",
     "text": [
      "Acccuracy:  0.7077922077922078\n",
      "Precision:  0.5833333333333334\n",
      "Recall:  0.5283018867924528\n",
      "F_measure:  0.5544554455445545\n",
      "R2_score:  -0.29460115822903\n"
     ]
    }
   ],
   "source": [
    "assess(Y_test, Y_hat_qda)"
   ]
  },
  {
   "cell_type": "code",
   "execution_count": 125,
   "metadata": {},
   "outputs": [],
   "source": [
    "mod_knn = KNeighborsClassifier(n_neighbors=5)\n",
    "mod_knn.fit(X_train_norm, Y_train)\n",
    "Y_hat_knn = mod_knn.predict(X_test_norm)"
   ]
  },
  {
   "cell_type": "code",
   "execution_count": 126,
   "metadata": {},
   "outputs": [
    {
     "name": "stdout",
     "output_type": "stream",
     "text": [
      "Acccuracy:  0.6883116883116883\n",
      "Precision:  0.5531914893617021\n",
      "Recall:  0.49056603773584906\n",
      "F_measure:  0.52\n",
      "R2_score:  -0.38090790211096537\n"
     ]
    }
   ],
   "source": [
    "assess(Y_test, Y_hat_knn)"
   ]
  },
  {
   "cell_type": "code",
   "execution_count": 127,
   "metadata": {},
   "outputs": [
    {
     "data": {
      "image/png": "[encoded data removed]",
      "text/plain": [
       "<Figure size 432x288 with 1 Axes>"
      ]
     },
     "metadata": {
      "needs_background": "light"
     },
     "output_type": "display_data"
    }
   ],
   "source": [
    "ax = plt.subplot(1,1,1)\n",
    "plt.plot(list(range(1,len(mod_sgd.errors)+1)), mod_sgd.errors, '--')\n",
    "plt.plot(list(range(1,len(mod_gd.errors)+1)), mod_gd.errors, '--')\n",
    "plt.plot(list(range(1,len(mod_iwls.errors)+1)), mod_iwls.errors,'--')\n",
    "plt.ylabel('Log-likelihood value')\n",
    "plt.xlabel('No. of iteration')\n",
    "ax.legend(['SGD', 'GD', 'IWLS'])\n",
    "plt.show()"
   ]
  },
  {
   "cell_type": "code",
   "execution_count": 128,
   "metadata": {},
   "outputs": [],
   "source": [
    "alphas = [0.001, 0.005, 0.01, 0.05, 0.1, 0.2, 0.3, 0.4, 0.5, 0.75, 1, 2, 4, 8]\n",
    "accuracies = []\n",
    "precisions = []\n",
    "recalls = []\n",
    "f_measures = []\n",
    "\n",
    "for alpha in alphas:\n",
    "    current_model = LogisticRegression('sgd', alpha = alpha, batch_size = 200, normalize = True)\n",
    "    current_model.fit(X_train, Y_train)\n",
    "    cur_Y_hat = current_model.predict(X_test, rounding = True)\n",
    "    accuracies.append(accuracy(Y_test, cur_Y_hat))\n",
    "    precisions.append(precision(Y_test, cur_Y_hat))\n",
    "    recalls.append(recall(Y_test, cur_Y_hat))\n",
    "    f_measures.append(F_measure(Y_test, cur_Y_hat))"
   ]
  },
  {
   "cell_type": "code",
   "execution_count": 129,
   "metadata": {},
   "outputs": [
    {
     "data": {
      "image/png": "[encoded data removed]",
      "text/plain": [
       "<Figure size 432x288 with 1 Axes>"
      ]
     },
     "metadata": {
      "needs_background": "light"
     },
     "output_type": "display_data"
    }
   ],
   "source": [
    "ax = plt.subplot(1,1,1)\n",
    "plt.plot(alphas, accuracies, '--')\n",
    "plt.plot(alphas, precisions, '--')\n",
    "plt.plot(alphas, recalls, '--')\n",
    "plt.plot(alphas, f_measures, '--')\n",
    "plt.ylabel('Metrics value')\n",
    "plt.xlabel('Alpha')\n",
    "ax.legend(['Accuracy', 'Precision', 'Recall', 'F-measure'])\n",
    "plt.show()"
   ]
  },
  {
   "cell_type": "code",
   "execution_count": 130,
   "metadata": {},
   "outputs": [],
   "source": [
    "alphas = [0.001, 0.005, 0.01, 0.05, 0.1, 0.2, 0.3, 0.4, 0.5, 0.75, 1, 2, 4, 8]\n",
    "accuracies = []\n",
    "precisions = []\n",
    "recalls = []\n",
    "f_measures = []\n",
    "\n",
    "for alpha in alphas:\n",
    "    current_model = LogisticRegression('gd', alpha = alpha, batch_size = 200, normalize = True)\n",
    "    current_model.fit(X_train, Y_train)\n",
    "    cur_Y_hat = current_model.predict(X_test, rounding = True)\n",
    "    accuracies.append(accuracy(Y_test, cur_Y_hat))\n",
    "    precisions.append(precision(Y_test, cur_Y_hat))\n",
    "    recalls.append(recall(Y_test, cur_Y_hat))\n",
    "    f_measures.append(F_measure(Y_test, cur_Y_hat))"
   ]
  },
  {
   "cell_type": "code",
   "execution_count": 131,
   "metadata": {},
   "outputs": [
    {
     "data": {
      "image/png": "[encoded data removed]",
      "text/plain": [
       "<Figure size 432x288 with 1 Axes>"
      ]
     },
     "metadata": {
      "needs_background": "light"
     },
     "output_type": "display_data"
    }
   ],
   "source": [
    "ax = plt.subplot(1,1,1)\n",
    "plt.plot(alphas, accuracies, '--')\n",
    "plt.plot(alphas, precisions, '--')\n",
    "plt.plot(alphas, recalls, '--')\n",
    "plt.plot(alphas, f_measures, '--')\n",
    "plt.ylabel('Metrics value')\n",
    "plt.xlabel('Alpha')\n",
    "ax.legend(['Accuracy', 'Precision', 'Recall', 'F-measure'])\n",
    "plt.show()"
   ]
  },
  {
   "cell_type": "markdown",
   "metadata": {},
   "source": [
    "**Titanic**"
   ]
  },
  {
   "cell_type": "code",
   "execution_count": 132,
   "metadata": {},
   "outputs": [
    {
     "data": {
      "text/plain": [
       "(768, 8)"
      ]
     },
     "execution_count": 132,
     "metadata": {},
     "output_type": "execute_result"
    }
   ],
   "source": [
    "X.shape"
   ]
  },
  {
   "cell_type": "code",
   "execution_count": 133,
   "metadata": {},
   "outputs": [],
   "source": [
    "np.random.seed(111)\n",
    "Y = Titanic[\"Survived\"].to_numpy()\n",
    "X = Titanic.drop(columns=[\"Survived\"]).to_numpy()\n",
    "X_train, X_test, Y_train, Y_test = train_test_split(X, Y, test_size = 0.2)"
   ]
  },
  {
   "cell_type": "code",
   "execution_count": 134,
   "metadata": {},
   "outputs": [],
   "source": [
    "mod_sgd = LogisticRegression('sgd', alpha = 0.1, batch_size = 100, normalize = True)\n",
    "mod_sgd.fit(X_train, Y_train, save_errors = True)\n",
    "Y_hat_sgd = mod_sgd.predict(X_test, rounding = True)"
   ]
  },
  {
   "cell_type": "code",
   "execution_count": 135,
   "metadata": {},
   "outputs": [
    {
     "name": "stdout",
     "output_type": "stream",
     "text": [
      "Acccuracy:  0.5357142857142857\n",
      "Precision:  0.75\n",
      "Recall:  0.07317073170731707\n",
      "F_measure:  0.13333333333333333\n",
      "R2_score:  -0.8581962563811689\n"
     ]
    }
   ],
   "source": [
    "assess(Y_test, Y_hat_sgd)"
   ]
  },
  {
   "cell_type": "code",
   "execution_count": 136,
   "metadata": {},
   "outputs": [],
   "source": [
    "mod_gd = LogisticRegression('gd', alpha = 0.1, normalize = True)\n",
    "mod_gd.fit(X_train, Y_train, save_errors = True)\n",
    "Y_hat_gd = mod_gd.predict(X_test, rounding = True)"
   ]
  },
  {
   "cell_type": "code",
   "execution_count": 137,
   "metadata": {},
   "outputs": [
    {
     "name": "stdout",
     "output_type": "stream",
     "text": [
      "Acccuracy:  0.5357142857142857\n",
      "Precision:  0.75\n",
      "Recall:  0.07317073170731707\n",
      "F_measure:  0.13333333333333333\n",
      "R2_score:  -0.8581962563811689\n"
     ]
    }
   ],
   "source": [
    "assess(Y_test, Y_hat_gd)"
   ]
  },
  {
   "cell_type": "code",
   "execution_count": 138,
   "metadata": {},
   "outputs": [],
   "source": [
    "mod_iwls = LogisticRegression('iwls', normalize = True, eps = 10**-5)\n",
    "mod_iwls.fit(X_train, Y_train, save_errors = True)\n",
    "Y_hat_iwls = mod_iwls.predict(X_test, rounding = True)"
   ]
  },
  {
   "cell_type": "code",
   "execution_count": 139,
   "metadata": {},
   "outputs": [
    {
     "name": "stdout",
     "output_type": "stream",
     "text": [
      "Acccuracy:  0.5357142857142857\n",
      "Precision:  0.75\n",
      "Recall:  0.07317073170731707\n",
      "F_measure:  0.13333333333333333\n",
      "R2_score:  -0.8581962563811689\n"
     ]
    }
   ],
   "source": [
    "assess(Y_test, Y_hat_iwls)"
   ]
  },
  {
   "cell_type": "code",
   "execution_count": 140,
   "metadata": {},
   "outputs": [],
   "source": [
    "mod_powell = LogisticRegression('powell', normalize = True)\n",
    "mod_powell.fit(X_train, Y_train)\n",
    "Y_hat_powell = mod_iwls.predict(X_test, rounding = True)"
   ]
  },
  {
   "cell_type": "code",
   "execution_count": 141,
   "metadata": {},
   "outputs": [
    {
     "name": "stdout",
     "output_type": "stream",
     "text": [
      "Acccuracy:  0.5357142857142857\n",
      "Precision:  0.75\n",
      "Recall:  0.07317073170731707\n",
      "F_measure:  0.13333333333333333\n",
      "R2_score:  -0.8581962563811689\n"
     ]
    }
   ],
   "source": [
    "assess(Y_test, Y_hat_powell)"
   ]
  },
  {
   "cell_type": "code",
   "execution_count": 142,
   "metadata": {},
   "outputs": [],
   "source": [
    "X_train_norm, X_test_norm = (X_train-X_train.mean(0))/X_train.std(0), (X_test-X_test.mean(0))/X_test.std(0)\n",
    "model = sklearn.linear_model.LogisticRegression()\n",
    "result = model.fit(X_train_norm, Y_train)\n",
    "Y_hat = result.predict(X_test_norm)"
   ]
  },
  {
   "cell_type": "code",
   "execution_count": 143,
   "metadata": {},
   "outputs": [
    {
     "name": "stdout",
     "output_type": "stream",
     "text": [
      "Acccuracy:  0.5357142857142857\n",
      "Precision:  0.75\n",
      "Recall:  0.07317073170731707\n",
      "F_measure:  0.13333333333333333\n",
      "R2_score:  -0.8581962563811689\n"
     ]
    }
   ],
   "source": [
    "assess(Y_test, Y_hat)"
   ]
  },
  {
   "cell_type": "code",
   "execution_count": 144,
   "metadata": {},
   "outputs": [],
   "source": [
    "mod_lda = LinearDiscriminantAnalysis()\n",
    "mod_lda = mod_lda.fit(X_train_norm, Y_train)\n",
    "Y_hat_lda = mod_lda.predict(X_test_norm)"
   ]
  },
  {
   "cell_type": "code",
   "execution_count": 145,
   "metadata": {},
   "outputs": [
    {
     "name": "stdout",
     "output_type": "stream",
     "text": [
      "Acccuracy:  0.5357142857142857\n",
      "Precision:  0.75\n",
      "Recall:  0.07317073170731707\n",
      "F_measure:  0.13333333333333333\n",
      "R2_score:  -0.8581962563811689\n"
     ]
    }
   ],
   "source": [
    "assess(Y_test, Y_hat_lda)"
   ]
  },
  {
   "cell_type": "code",
   "execution_count": 146,
   "metadata": {},
   "outputs": [],
   "source": [
    "mod_qda = QuadraticDiscriminantAnalysis()\n",
    "mod_qda = mod_qda.fit(X_train_norm, Y_train)\n",
    "Y_hat_qda = mod_qda.predict(X_test_norm)"
   ]
  },
  {
   "cell_type": "code",
   "execution_count": 147,
   "metadata": {},
   "outputs": [
    {
     "name": "stdout",
     "output_type": "stream",
     "text": [
      "Acccuracy:  0.5595238095238095\n",
      "Precision:  0.625\n",
      "Recall:  0.24390243902439024\n",
      "F_measure:  0.3508771929824561\n",
      "R2_score:  -0.762904140669314\n"
     ]
    }
   ],
   "source": [
    "assess(Y_test, Y_hat_qda)"
   ]
  },
  {
   "cell_type": "code",
   "execution_count": 148,
   "metadata": {},
   "outputs": [],
   "source": [
    "mod_knn = KNeighborsClassifier(n_neighbors=5)\n",
    "mod_knn.fit(X_train_norm, Y_train)\n",
    "Y_hat_knn = mod_knn.predict(X_test_norm)"
   ]
  },
  {
   "cell_type": "code",
   "execution_count": 149,
   "metadata": {},
   "outputs": [
    {
     "name": "stdout",
     "output_type": "stream",
     "text": [
      "Acccuracy:  0.5833333333333334\n",
      "Precision:  0.6363636363636364\n",
      "Recall:  0.34146341463414637\n",
      "F_measure:  0.4444444444444445\n",
      "R2_score:  -0.6676120249574593\n"
     ]
    }
   ],
   "source": [
    "assess(Y_test, Y_hat_knn)"
   ]
  },
  {
   "cell_type": "code",
   "execution_count": 150,
   "metadata": {},
   "outputs": [
    {
     "data": {
      "image/png": "[encoded data removed]",
      "text/plain": [
       "<Figure size 432x288 with 1 Axes>"
      ]
     },
     "metadata": {
      "needs_background": "light"
     },
     "output_type": "display_data"
    }
   ],
   "source": [
    "ax = plt.subplot(1,1,1)\n",
    "plt.plot(list(range(1,len(mod_sgd.errors)+1)), mod_sgd.errors, '--')\n",
    "plt.plot(list(range(1,len(mod_gd.errors)+1)), mod_gd.errors, '--')\n",
    "plt.plot(list(range(1,len(mod_iwls.errors)+1)), mod_iwls.errors,'--')\n",
    "plt.ylabel('Log-likelihood value')\n",
    "plt.xlabel('No. of iteration')\n",
    "ax.legend(['SGD', 'GD', 'IWLS'])\n",
    "plt.show()"
   ]
  },
  {
   "cell_type": "code",
   "execution_count": 151,
   "metadata": {},
   "outputs": [],
   "source": [
    "alphas = [0.001, 0.005, 0.01, 0.05, 0.1, 0.2, 0.3, 0.4, 0.5, 0.75, 1, 2, 4, 8]\n",
    "accuracies = []\n",
    "precisions = []\n",
    "recalls = []\n",
    "f_measures = []\n",
    "\n",
    "for alpha in alphas:\n",
    "    current_model = LogisticRegression('sgd', alpha = alpha, batch_size = 200, normalize = True)\n",
    "    current_model.fit(X_train, Y_train)\n",
    "    cur_Y_hat = current_model.predict(X_test, rounding = True)\n",
    "    accuracies.append(accuracy(Y_test, cur_Y_hat))\n",
    "    precisions.append(precision(Y_test, cur_Y_hat))\n",
    "    recalls.append(recall(Y_test, cur_Y_hat))\n",
    "    f_measures.append(F_measure(Y_test, cur_Y_hat))"
   ]
  },
  {
   "cell_type": "code",
   "execution_count": 152,
   "metadata": {},
   "outputs": [
    {
     "data": {
      "image/png": "[encoded data removed]",
      "text/plain": [
       "<Figure size 432x288 with 1 Axes>"
      ]
     },
     "metadata": {
      "needs_background": "light"
     },
     "output_type": "display_data"
    }
   ],
   "source": [
    "ax = plt.subplot(1,1,1)\n",
    "plt.plot(alphas, accuracies, '--')\n",
    "plt.plot(alphas, precisions, '--')\n",
    "plt.plot(alphas, recalls, '--')\n",
    "plt.plot(alphas, f_measures, '--')\n",
    "plt.ylabel('Metrics value')\n",
    "plt.xlabel('Alpha')\n",
    "ax.legend(['Accuracy', 'Precision', 'Recall', 'F-measure'])\n",
    "plt.show()"
   ]
  },
  {
   "cell_type": "code",
   "execution_count": 153,
   "metadata": {},
   "outputs": [],
   "source": [
    "alphas = [0.001, 0.005, 0.01, 0.05, 0.1, 0.2, 0.3, 0.4, 0.5, 0.75, 1, 2, 4, 8]\n",
    "accuracies = []\n",
    "precisions = []\n",
    "recalls = []\n",
    "f_measures = []\n",
    "\n",
    "for alpha in alphas:\n",
    "    current_model = LogisticRegression('gd', alpha = alpha, batch_size = 200, normalize = True)\n",
    "    current_model.fit(X_train, Y_train)\n",
    "    cur_Y_hat = current_model.predict(X_test, rounding = True)\n",
    "    accuracies.append(accuracy(Y_test, cur_Y_hat))\n",
    "    precisions.append(precision(Y_test, cur_Y_hat))\n",
    "    recalls.append(recall(Y_test, cur_Y_hat))\n",
    "    f_measures.append(F_measure(Y_test, cur_Y_hat))"
   ]
  },
  {
   "cell_type": "code",
   "execution_count": 154,
   "metadata": {},
   "outputs": [
    {
     "data": {
      "image/png": "[encoded data removed]",
      "text/plain": [
       "<Figure size 432x288 with 1 Axes>"
      ]
     },
     "metadata": {
      "needs_background": "light"
     },
     "output_type": "display_data"
    }
   ],
   "source": [
    "ax = plt.subplot(1,1,1)\n",
    "plt.plot(alphas, accuracies, '--')\n",
    "plt.plot(alphas, precisions, '--')\n",
    "plt.plot(alphas, recalls, '--')\n",
    "plt.plot(alphas, f_measures, '--')\n",
    "plt.ylabel('Metrics value')\n",
    "plt.xlabel('Alpha')\n",
    "ax.legend(['Accuracy', 'Precision', 'Recall', 'F-measure'])\n",
    "plt.show()"
   ]
  },
  {
   "cell_type": "code",
   "execution_count": null,
   "metadata": {},
   "outputs": [],
   "source": []
  }
 ],
 "metadata": {
  "kernelspec": {
   "display_name": "Python 3",
   "language": "python",
   "name": "python3"
  },
  "language_info": {
   "codemirror_mode": {
    "name": "ipython",
    "version": 3
   },
   "file_extension": ".py",
   "mimetype": "text/x-python",
   "name": "python",
   "nbconvert_exporter": "python",
   "pygments_lexer": "ipython3",
   "version": "3.8.5"
  }
 },
 "nbformat": 4,
 "nbformat_minor": 4
}
