{
 "cells": [
  {
   "cell_type": "code",
   "execution_count": 270,
   "metadata": {},
   "outputs": [],
   "source": [
    "import numpy as np\n",
    "import pandas as pd\n",
    "import sklearn.linear_model\n",
    "from sklearn.model_selection import train_test_split\n",
    "import matplotlib.pyplot as plt\n",
    "from scipy.optimize import minimize, fmin_tnc\n",
    "from sklearn.discriminant_analysis import LinearDiscriminantAnalysis, QuadraticDiscriminantAnalysis\n",
    "from sklearn.neighbors import KNeighborsClassifier\n",
    "from sklearn.metrics import r2_score"
   ]
  },
  {
   "cell_type": "markdown",
   "metadata": {},
   "source": [
    "**Titanic**"
   ]
  },
  {
   "cell_type": "code",
   "execution_count": 271,
   "metadata": {},
   "outputs": [],
   "source": [
    "Titanic=pd.read_csv(\"Titanic/tested.csv\")"
   ]
  },
  {
   "cell_type": "code",
   "execution_count": 272,
   "metadata": {},
   "outputs": [],
   "source": [
    "Titanic=Titanic.drop(columns=[\"PassengerId\",\"Ticket\",\"Name\"])"
   ]
  },
  {
   "cell_type": "code",
   "execution_count": 273,
   "metadata": {},
   "outputs": [],
   "source": [
    "Titanic.loc[pd.isna(Titanic.Cabin)==False,\"Cabin\"]=1"
   ]
  },
  {
   "cell_type": "code",
   "execution_count": 274,
   "metadata": {},
   "outputs": [],
   "source": [
    "Titanic.loc[pd.isna(Titanic.Cabin)==True,\"Cabin\"]=0"
   ]
  },
  {
   "cell_type": "code",
   "execution_count": 275,
   "metadata": {},
   "outputs": [],
   "source": [
    "Titanic.loc[:,\"Sex\"]=(Titanic.Sex==\"male\").astype(int)"
   ]
  },
  {
   "cell_type": "code",
   "execution_count": 276,
   "metadata": {},
   "outputs": [],
   "source": [
    "Titanic.loc[pd.isna(Titanic.Age)==True,\"Age\"]=Titanic.Age.median()"
   ]
  },
  {
   "cell_type": "code",
   "execution_count": 277,
   "metadata": {},
   "outputs": [],
   "source": [
    "Titanic=pd.get_dummies(Titanic,columns=[\"Embarked\"], drop_first = True)"
   ]
  },
  {
   "cell_type": "code",
   "execution_count": 278,
   "metadata": {},
   "outputs": [],
   "source": [
    "Titanic.loc[:,\"Cabin\"]=Titanic.loc[:,\"Cabin\"].astype(int)"
   ]
  },
  {
   "cell_type": "code",
   "execution_count": 279,
   "metadata": {},
   "outputs": [],
   "source": [
    "Titanic = Titanic[~Titanic.isnull().any(axis = 1)]"
   ]
  },
  {
   "cell_type": "code",
   "execution_count": 280,
   "metadata": {},
   "outputs": [],
   "source": [
    "Titanic = Titanic.drop(columns = ['Sex'])"
   ]
  },
  {
   "cell_type": "markdown",
   "metadata": {},
   "source": [
    "**Diabets**"
   ]
  },
  {
   "cell_type": "code",
   "execution_count": 281,
   "metadata": {},
   "outputs": [],
   "source": [
    "Diabetes=pd.read_csv(\"diabetes/dataset_37_diabetes.csv\")"
   ]
  },
  {
   "cell_type": "code",
   "execution_count": 282,
   "metadata": {},
   "outputs": [],
   "source": [
    "Diabetes.loc[:,\"class\"]=(Diabetes[\"class\"]==\"tested_positive\").astype(int)"
   ]
  },
  {
   "cell_type": "markdown",
   "metadata": {},
   "source": [
    "**Pokemon**"
   ]
  },
  {
   "cell_type": "code",
   "execution_count": 283,
   "metadata": {},
   "outputs": [],
   "source": [
    "Pokemon=pd.read_csv(\"Pokemon/pokemon.csv\")"
   ]
  },
  {
   "cell_type": "code",
   "execution_count": 284,
   "metadata": {},
   "outputs": [],
   "source": [
    "Pokemon=Pokemon.filter(regex='^(?!against).*')"
   ]
  },
  {
   "cell_type": "code",
   "execution_count": 285,
   "metadata": {},
   "outputs": [],
   "source": [
    "Pokemon=Pokemon.drop(columns=[\"abilities\",\"classfication\",\"pokedex_number\",\"japanese_name\",\"name\"])"
   ]
  },
  {
   "cell_type": "code",
   "execution_count": 286,
   "metadata": {},
   "outputs": [],
   "source": [
    "Pokemon.loc[pd.isna(Pokemon.height_m),\"height_m\"]=0"
   ]
  },
  {
   "cell_type": "code",
   "execution_count": 287,
   "metadata": {},
   "outputs": [],
   "source": [
    "Pokemon.loc[pd.isna(Pokemon.percentage_male),\"percentage_male\"]=0"
   ]
  },
  {
   "cell_type": "code",
   "execution_count": 288,
   "metadata": {},
   "outputs": [],
   "source": [
    "Pokemon.loc[pd.isna(Pokemon.weight_kg),\"weight_kg\"]=0"
   ]
  },
  {
   "cell_type": "code",
   "execution_count": 289,
   "metadata": {},
   "outputs": [],
   "source": [
    "Pokemon.capture_rate=pd.to_numeric(Pokemon.capture_rate,errors=\"coerce\")"
   ]
  },
  {
   "cell_type": "code",
   "execution_count": 290,
   "metadata": {},
   "outputs": [],
   "source": [
    "Pokemon.loc[pd.isna(Pokemon.capture_rate),\"capture_rate\"]=255"
   ]
  },
  {
   "cell_type": "code",
   "execution_count": 291,
   "metadata": {},
   "outputs": [],
   "source": [
    "types1=pd.get_dummies(Pokemon[\"type1\"],columns=[\"type1\"], drop_first = True)"
   ]
  },
  {
   "cell_type": "code",
   "execution_count": 292,
   "metadata": {},
   "outputs": [],
   "source": [
    "types2=pd.get_dummies(Pokemon[\"type2\"],columns=[\"type2\"], drop_first = True)"
   ]
  },
  {
   "cell_type": "code",
   "execution_count": 293,
   "metadata": {},
   "outputs": [],
   "source": [
    "Pokemon=Pokemon.drop(columns=[\"type1\",\"type2\"])"
   ]
  },
  {
   "cell_type": "code",
   "execution_count": 294,
   "metadata": {},
   "outputs": [],
   "source": [
    "Pokemon=pd.concat([Pokemon,types2+types1], axis=1)"
   ]
  },
  {
   "cell_type": "code",
   "execution_count": 295,
   "metadata": {},
   "outputs": [],
   "source": [
    "Pokemon=Pokemon[['base_egg_steps', 'base_happiness', 'base_total',\n",
    "                'percentage_male', 'sp_attack', 'is_legendary']]"
   ]
  },
  {
   "cell_type": "markdown",
   "metadata": {},
   "source": [
    "**Cancer**"
   ]
  },
  {
   "cell_type": "code",
   "execution_count": 296,
   "metadata": {},
   "outputs": [],
   "source": [
    "Cancer=pd.read_csv(\"cancer/wdbc.data\",header=None)"
   ]
  },
  {
   "cell_type": "code",
   "execution_count": 297,
   "metadata": {},
   "outputs": [],
   "source": [
    "Cancer.iloc[:,1]=(Cancer[1]==\"M\").astype(int)"
   ]
  },
  {
   "cell_type": "code",
   "execution_count": 298,
   "metadata": {},
   "outputs": [],
   "source": [
    "Cancer=Cancer.drop(columns=[0])"
   ]
  },
  {
   "cell_type": "markdown",
   "metadata": {},
   "source": [
    "**Bank**"
   ]
  },
  {
   "cell_type": "code",
   "execution_count": 299,
   "metadata": {},
   "outputs": [],
   "source": [
    "Bank=pd.read_csv(\"bank/bank.csv\",sep=\";\")"
   ]
  },
  {
   "cell_type": "code",
   "execution_count": 300,
   "metadata": {},
   "outputs": [],
   "source": [
    "Bank.loc[:,\"default\"]=(Bank.default==\"yes\").astype(int)"
   ]
  },
  {
   "cell_type": "code",
   "execution_count": 301,
   "metadata": {},
   "outputs": [],
   "source": [
    "Bank.loc[:,\"housing\"]=(Bank.housing==\"yes\").astype(int)"
   ]
  },
  {
   "cell_type": "code",
   "execution_count": 302,
   "metadata": {},
   "outputs": [],
   "source": [
    "Bank.loc[:,\"loan\"]=(Bank.loan==\"yes\").astype(int)"
   ]
  },
  {
   "cell_type": "code",
   "execution_count": 303,
   "metadata": {},
   "outputs": [],
   "source": [
    "Bank.loc[:,\"y\"]=(Bank.y==\"yes\").astype(int)"
   ]
  },
  {
   "cell_type": "code",
   "execution_count": 304,
   "metadata": {},
   "outputs": [],
   "source": [
    "Bank=pd.get_dummies(Bank, drop_first = True)"
   ]
  },
  {
   "cell_type": "markdown",
   "metadata": {},
   "source": [
    "**Model assessement**"
   ]
  },
  {
   "cell_type": "code",
   "execution_count": 305,
   "metadata": {},
   "outputs": [],
   "source": [
    "def accuracy(Y,Y_hat):\n",
    "    temp=Y==Y_hat\n",
    "    return np.mean(temp)"
   ]
  },
  {
   "cell_type": "code",
   "execution_count": 306,
   "metadata": {},
   "outputs": [],
   "source": [
    "def precision(Y,Y_hat):\n",
    "    tp=np.logical_and(Y,Y_hat)\n",
    "    fp=np.logical_and(np.logical_not(Y),Y_hat)\n",
    "    return np.sum(tp)/(np.sum(tp)+np.sum(fp))"
   ]
  },
  {
   "cell_type": "code",
   "execution_count": 307,
   "metadata": {},
   "outputs": [],
   "source": [
    "def recall(Y,Y_hat):\n",
    "    tp=np.logical_and(Y,Y_hat)\n",
    "    fn=np.logical_and(Y,np.logical_not(Y_hat))\n",
    "    return np.sum(tp)/(np.sum(tp)+np.sum(fn))"
   ]
  },
  {
   "cell_type": "code",
   "execution_count": 308,
   "metadata": {},
   "outputs": [],
   "source": [
    "def F_measure(Y,Y_hat):\n",
    "    pre=precision(Y,Y_hat)\n",
    "    re=recall(Y,Y_hat)\n",
    "    return 2*pre*re/(pre+re)"
   ]
  },
  {
   "cell_type": "code",
   "execution_count": 309,
   "metadata": {},
   "outputs": [],
   "source": [
    "def assess(Y, Y_hat):\n",
    "    print('Acccuracy: ', accuracy(Y, Y_hat))\n",
    "    print('Precision: ', precision(Y, Y_hat))\n",
    "    print('Recall: ', recall(Y, Y_hat))\n",
    "    print('F_measure: ', F_measure(Y, Y_hat))\n",
    "    print('R2_score: ', r2_score(Y, Y_hat))"
   ]
  },
  {
   "cell_type": "markdown",
   "metadata": {},
   "source": [
    "**Auxiliary Gradient Descent Functions**"
   ]
  },
  {
   "cell_type": "code",
   "execution_count": 310,
   "metadata": {},
   "outputs": [],
   "source": [
    "def MSE(Y,Y_hat):\n",
    "    return np.sum((Y-Y_hat)**2)\n",
    "\n",
    "def MSE_grad(Y,Y_hat):\n",
    "     return Y_hat-Y\n",
    "\n",
    "def sigmoid(x):\n",
    "    return(1/(1 + np.exp(np.clip(-x,-100,100))))\n",
    "\n",
    "def sigmoid_grad(x):\n",
    "    return(sigmoid(x)*(1-sigmoid(x)))\n",
    "\n",
    "def cross_entropy(Y, Y_hat,  epsilon=1e-10):\n",
    "    Y_hat = np.clip(Y_hat, epsilon, 1-epsilon)\n",
    "    return -np.sum(np.log(Y_hat) * Y + np.log((1 - Y_hat)) * (1 - Y))\n",
    "\n",
    "def cross_entropy_grad(Y,Y_hat,eps=10**-10):\n",
    "    Y_hat=Y_hat+eps\n",
    "    return (Y_hat-eps-Y)/Y_hat/(1-Y_hat)"
   ]
  },
  {
   "cell_type": "code",
   "execution_count": 311,
   "metadata": {},
   "outputs": [],
   "source": [
    "class LogisticRegression:\n",
    "    \n",
    "    def __init__(self, solver: str, intercept: bool = True, iterations: int = 1000, \n",
    "                 alpha: int = None, batch_size: int = None, eps: float = 10**-8,\n",
    "                 normalize: bool = False, tol: float = 0.0001):\n",
    "        \n",
    "        \n",
    "        self.solver = solver\n",
    "        self.intercept = intercept\n",
    "        self.iterations = iterations\n",
    "        self.batch_size = batch_size\n",
    "        self.alpha = alpha\n",
    "        self.normalize = normalize\n",
    "        self.tolerance = tol\n",
    "        self.epsilon = eps\n",
    "        \n",
    "    def fit(self, X, Y, verbose = False, save_errors = False):\n",
    "\n",
    "        if self.normalize:\n",
    "            self.std = X.std(0)\n",
    "            self.mean = X.mean(0)\n",
    "            X = (X-self.mean)/self.std\n",
    "            \n",
    "        if self.intercept:\n",
    "            X = np.insert(X, 0, values=1, axis=1)\n",
    "            \n",
    "        self.Beta=np.zeros(X.shape[1])\n",
    "        \n",
    "        if self.solver == 'gd':\n",
    "            self._gradient_descent(X, Y, X.shape[0], verbose, save_errors)\n",
    "        elif self.solver == 'sgd':\n",
    "            self._gradient_descent(X, Y, self.batch_size, verbose, save_errors)\n",
    "        elif self.solver == 'powell':\n",
    "            self._powell(X, Y)\n",
    "        else:\n",
    "            self._iwls(X, Y, verbose, save_errors)\n",
    "    \n",
    "    def _gradient_descent(self, X, Y, batch_size, verbose, save_errors):\n",
    "        \n",
    "        batches = np.linspace(0,X.shape[0],int(X.shape[0]/batch_size)+1).astype(int)\n",
    "        \n",
    "        if save_errors:\n",
    "            self.errors = [cross_entropy(Y, sigmoid(X @ self.Beta))]\n",
    "        \n",
    "        for epoch in range(self.iterations):\n",
    "            s = np.arange(0, X.shape[0], 1)\n",
    "            np.random.shuffle(s)\n",
    "            \n",
    "            X = X[s,:]\n",
    "            Y = Y[s]\n",
    "            \n",
    "            for b in range(len(batches)-1):\n",
    "                X_b=X[batches[b]:batches[b+1],:]\n",
    "                Y_b=Y[batches[b]:batches[b+1]]\n",
    "                \n",
    "                pred=sigmoid(X_b @ self.Beta)\n",
    "                error=cross_entropy(Y_b,pred)\n",
    "                \n",
    "                delta = self.alpha * (X_b*(cross_entropy_grad(Y_b,pred) * sigmoid_grad(X_b @ self.Beta)).reshape(-1,1)).mean(axis=0)\n",
    "                if abs(delta.max()) < self.tolerance:\n",
    "                    return\n",
    "\n",
    "                self.Beta = self.Beta - delta\n",
    "                \n",
    "            pred=sigmoid(X @ self.Beta)\n",
    "            error=cross_entropy(Y,pred)\n",
    "            \n",
    "            if save_errors:\n",
    "                self.errors.append(error)\n",
    "            \n",
    "            if verbose: \n",
    "                print('Iteration no.', epoch+1, ':', error)\n",
    "                \n",
    "    \n",
    "    def _iwls(self, X, Y, verbose, save_errors):\n",
    "        \n",
    "        W = np.ones(X.shape[0])*0.5\n",
    "        X1 = X[:,1:] if self.intercept else X\n",
    "        \n",
    "        if save_errors:\n",
    "            self.errors = [cross_entropy(Y, sigmoid(X @ self.Beta))]\n",
    "        \n",
    "        for i in range(self.iterations):\n",
    "            \n",
    "            delta = np.linalg.inv((X.T * W[:,None].T) @ X) @ X.T @ (Y-self.predict(X1, _internal_pass = True))\n",
    "            if abs(delta.max()) < self.tolerance:\n",
    "                return\n",
    "            \n",
    "            self.Beta += delta\n",
    "\n",
    "            W = (1-self.predict(X1, _internal_pass = True)) * self.predict(X1, _internal_pass = True) + self.epsilon\n",
    "            \n",
    "            pred = sigmoid(X @ self.Beta)\n",
    "            error = cross_entropy(Y, pred)\n",
    "            \n",
    "            if save_errors:\n",
    "                self.errors.append(error)\n",
    "            \n",
    "            if verbose: \n",
    "                print('Iteration no.', i+1, ':', error)\n",
    "\n",
    "    def _powell(self, X, Y):\n",
    "        self.Beta = minimize(fun = lambda x: -cross_entropy(Y, sigmoid(X @ x)), x0 = self.Beta, \n",
    "                             method = 'Powell',options={'xtol': self.tolerance, 'maxiter': self.iterations}).x\n",
    "    \n",
    "    def predict(self, X, rounding = False, _internal_pass = False):\n",
    "        \n",
    "        if (not _internal_pass) and self.normalize:\n",
    "            X = (X-self.mean)/self.std\n",
    "            \n",
    "        if self.intercept:\n",
    "            X = np.insert(X, 0, values=1, axis=1)\n",
    "            \n",
    "        ret = np.exp(np.clip(X @ self.Beta, -100, 100))/(1+np.exp(np.clip(X @ self.Beta, -100, 100)))\n",
    "        \n",
    "        if rounding:\n",
    "            ret = ret.round()\n",
    "\n",
    "        return ret\n",
    "    "
   ]
  },
  {
   "cell_type": "markdown",
   "metadata": {},
   "source": [
    "**Cancer**"
   ]
  },
  {
   "cell_type": "code",
   "execution_count": 312,
   "metadata": {},
   "outputs": [],
   "source": [
    "np.random.seed(111)\n",
    "Y = Cancer[1].to_numpy()\n",
    "X = Cancer.loc[:,2:].to_numpy()\n",
    "X_train, X_test, Y_train, Y_test = train_test_split(X, Y, test_size = 0.2)"
   ]
  },
  {
   "cell_type": "code",
   "execution_count": 313,
   "metadata": {},
   "outputs": [
    {
     "name": "stdout",
     "output_type": "stream",
     "text": [
      "Iteration no. 1 : 158.88853543873998\n",
      "Iteration no. 2 : 122.54836267002526\n",
      "Iteration no. 3 : 104.79193869519422\n",
      "Iteration no. 4 : 93.67644596285164\n",
      "Iteration no. 5 : 85.90976234839403\n",
      "Iteration no. 6 : 80.08481651554257\n",
      "Iteration no. 7 : 75.51958904525705\n",
      "Iteration no. 8 : 71.82854021656377\n",
      "Iteration no. 9 : 68.76492051604058\n",
      "Iteration no. 10 : 66.17791351147598\n",
      "Iteration no. 11 : 63.957563323457165\n",
      "Iteration no. 12 : 62.02569002942504\n",
      "Iteration no. 13 : 60.324667858113195\n",
      "Iteration no. 14 : 58.81309073005618\n",
      "Iteration no. 15 : 57.46085282318394\n",
      "Iteration no. 16 : 56.239009970225396\n",
      "Iteration no. 17 : 55.130403575841626\n",
      "Iteration no. 18 : 54.11913544449864\n",
      "Iteration no. 19 : 53.19089326194663\n",
      "Iteration no. 20 : 52.33531202889323\n",
      "Iteration no. 21 : 51.54382643547268\n",
      "Iteration no. 22 : 50.80868885532783\n",
      "Iteration no. 23 : 50.12300838871187\n",
      "Iteration no. 24 : 49.482976662357835\n",
      "Iteration no. 25 : 48.88278435917549\n",
      "Iteration no. 26 : 48.31781844764684\n",
      "Iteration no. 27 : 47.78605109731273\n",
      "Iteration no. 28 : 47.28379347317854\n",
      "Iteration no. 29 : 46.80854051732854\n",
      "Iteration no. 30 : 46.35797929820962\n",
      "Iteration no. 31 : 45.92995887796056\n",
      "Iteration no. 32 : 45.52263259943247\n",
      "Iteration no. 33 : 45.134218538060686\n",
      "Iteration no. 34 : 44.763755847539\n",
      "Iteration no. 35 : 44.40934613261547\n",
      "Iteration no. 36 : 44.07032541307764\n",
      "Iteration no. 37 : 43.74583520320395\n",
      "Iteration no. 38 : 43.433738488701465\n",
      "Iteration no. 39 : 43.13439528323365\n",
      "Iteration no. 40 : 42.84655524726207\n",
      "Iteration no. 41 : 42.56933178607025\n",
      "Iteration no. 42 : 42.302032398219794\n",
      "Iteration no. 43 : 42.04432126820049\n",
      "Iteration no. 44 : 41.79585611062567\n",
      "Iteration no. 45 : 41.555374522299054\n",
      "Iteration no. 46 : 41.32303875880235\n",
      "Iteration no. 47 : 41.098153462220836\n",
      "Iteration no. 48 : 40.88018803205321\n",
      "Iteration no. 49 : 40.66881011208549\n",
      "Iteration no. 50 : 40.46409883318488\n",
      "Iteration no. 51 : 40.265471427840374\n",
      "Iteration no. 52 : 40.07266202440728\n",
      "Iteration no. 53 : 39.885103016791284\n",
      "Iteration no. 54 : 39.70298098163854\n",
      "Iteration no. 55 : 39.525831849487986\n",
      "Iteration no. 56 : 39.35331529534153\n",
      "Iteration no. 57 : 39.18538793970386\n",
      "Iteration no. 58 : 39.021805211827775\n",
      "Iteration no. 59 : 38.862437501425525\n",
      "Iteration no. 60 : 38.70685146327489\n",
      "Iteration no. 61 : 38.55503573286948\n",
      "Iteration no. 62 : 38.40695869143215\n",
      "Iteration no. 63 : 38.2622978038264\n",
      "Iteration no. 64 : 38.120759982545394\n",
      "Iteration no. 65 : 37.98290391982049\n",
      "Iteration no. 66 : 37.84793504148232\n",
      "Iteration no. 67 : 37.716153430409314\n",
      "Iteration no. 68 : 37.58704317614605\n",
      "Iteration no. 69 : 37.46062804982979\n",
      "Iteration no. 70 : 37.3370518255894\n",
      "Iteration no. 71 : 37.21611332359532\n",
      "Iteration no. 72 : 37.097588750214996\n",
      "Iteration no. 73 : 36.98122024024416\n",
      "Iteration no. 74 : 36.86738549593585\n",
      "Iteration no. 75 : 36.755678270567245\n",
      "Iteration no. 76 : 36.646191911458054\n",
      "Iteration no. 77 : 36.53882926324087\n",
      "Iteration no. 78 : 36.43341056911429\n",
      "Iteration no. 79 : 36.329966874758526\n",
      "Iteration no. 80 : 36.22842217105635\n",
      "Iteration no. 81 : 36.12859114936175\n",
      "Iteration no. 82 : 36.03064377950906\n",
      "Iteration no. 83 : 35.93433155361105\n",
      "Iteration no. 84 : 35.839785406474995\n",
      "Iteration no. 85 : 35.746925434910864\n",
      "Iteration no. 86 : 35.65551107594161\n",
      "Iteration no. 87 : 35.56566402688253\n",
      "Iteration no. 88 : 35.477333395153366\n",
      "Iteration no. 89 : 35.39042984907021\n",
      "Iteration no. 90 : 35.304813913906415\n",
      "Iteration no. 91 : 35.22064046397456\n",
      "Iteration no. 92 : 35.137805889480234\n",
      "Iteration no. 93 : 35.05624966836436\n",
      "Iteration no. 94 : 34.97599659591418\n",
      "Iteration no. 95 : 34.896873864420925\n",
      "Iteration no. 96 : 34.8189654832168\n",
      "Iteration no. 97 : 34.74216746613662\n",
      "Iteration no. 98 : 34.6665728431603\n",
      "Iteration no. 99 : 34.59199606092066\n",
      "Iteration no. 100 : 34.5186098660337\n",
      "Iteration no. 101 : 34.44619733232202\n",
      "Iteration no. 102 : 34.37491611948732\n",
      "Iteration no. 103 : 34.30449146788662\n",
      "Iteration no. 104 : 34.23511570450209\n",
      "Iteration no. 105 : 34.16664567947403\n",
      "Iteration no. 106 : 34.09909164880303\n",
      "Iteration no. 107 : 34.0325551318949\n",
      "Iteration no. 108 : 33.96681961135874\n",
      "Iteration no. 109 : 33.90194660601243\n",
      "Iteration no. 110 : 33.83780478573351\n",
      "Iteration no. 111 : 33.77458913037063\n",
      "Iteration no. 112 : 33.71215300390993\n",
      "Iteration no. 113 : 33.65053162126851\n",
      "Iteration no. 114 : 33.58972097857844\n",
      "Iteration no. 115 : 33.529609945345165\n",
      "Iteration no. 116 : 33.47022437243219\n",
      "Iteration no. 117 : 33.411606133892825\n",
      "Iteration no. 118 : 33.35366415150398\n",
      "Iteration no. 119 : 33.29650317839817\n",
      "Iteration no. 120 : 33.23995698718102\n",
      "Iteration no. 121 : 33.18410491653576\n",
      "Iteration no. 122 : 33.12888122977723\n",
      "Iteration no. 123 : 33.07432491874985\n",
      "Iteration no. 124 : 33.02037225909969\n",
      "Iteration no. 125 : 32.967119387801816\n",
      "Iteration no. 126 : 32.914417072076105\n",
      "Iteration no. 127 : 32.86227487574847\n",
      "Iteration no. 128 : 32.81071992731016\n",
      "Iteration no. 129 : 32.759705780704046\n",
      "Iteration no. 130 : 32.709218075398915\n",
      "Iteration no. 131 : 32.659351632632394\n",
      "Iteration no. 132 : 32.60997148518909\n",
      "Iteration no. 133 : 32.561175483240774\n",
      "Iteration no. 134 : 32.5128547462633\n",
      "Iteration no. 135 : 32.46510792600603\n",
      "Iteration no. 136 : 32.41777489039494\n",
      "Iteration no. 137 : 32.37099478421773\n",
      "Iteration no. 138 : 32.32459041098787\n",
      "Iteration no. 139 : 32.278767333520754\n",
      "Iteration no. 140 : 32.233397801958326\n",
      "Iteration no. 141 : 32.18845502576734\n",
      "Iteration no. 142 : 32.14399435566142\n",
      "Iteration no. 143 : 32.09998584617973\n",
      "Iteration no. 144 : 32.05637814813212\n",
      "Iteration no. 145 : 32.013230980462865\n"
     ]
    }
   ],
   "source": [
    "mod_sgd = LogisticRegression('sgd', alpha = 0.1, batch_size = 100, normalize = True)\n",
    "mod_sgd.fit(X_train, Y_train, verbose = True, save_errors = True)\n",
    "Y_hat_sgd = mod_sgd.predict(X_test, rounding = True)"
   ]
  },
  {
   "cell_type": "code",
   "execution_count": 314,
   "metadata": {},
   "outputs": [
    {
     "name": "stdout",
     "output_type": "stream",
     "text": [
      "Acccuracy:  0.9824561403508771\n",
      "Precision:  0.9772727272727273\n",
      "Recall:  0.9772727272727273\n",
      "F_measure:  0.9772727272727273\n",
      "R2_score:  0.925974025974026\n"
     ]
    }
   ],
   "source": [
    "assess(Y_test, Y_hat_sgd)"
   ]
  },
  {
   "cell_type": "code",
   "execution_count": 315,
   "metadata": {},
   "outputs": [
    {
     "name": "stdout",
     "output_type": "stream",
     "text": [
      "Iteration no. 1 : 238.39442025702206\n",
      "Iteration no. 2 : 199.1838275567015\n",
      "Iteration no. 3 : 175.15119005756745\n",
      "Iteration no. 4 : 158.58534542023472\n",
      "Iteration no. 5 : 146.30025239474062\n",
      "Iteration no. 6 : 136.7273345412594\n",
      "Iteration no. 7 : 128.99689483808535\n",
      "Iteration no. 8 : 122.58426869926276\n",
      "Iteration no. 9 : 117.15231184289806\n",
      "Iteration no. 10 : 112.47346058728112\n",
      "Iteration no. 11 : 108.38793270588327\n",
      "Iteration no. 12 : 104.77984191943087\n",
      "Iteration no. 13 : 101.56282830820659\n",
      "Iteration no. 14 : 98.67103678245002\n",
      "Iteration no. 15 : 96.05324545738671\n",
      "Iteration no. 16 : 93.6689243421358\n",
      "Iteration no. 17 : 91.48551795602972\n",
      "Iteration no. 18 : 89.47652731507092\n",
      "Iteration no. 19 : 87.62012776469848\n",
      "Iteration no. 20 : 85.89815438732809\n",
      "Iteration no. 21 : 84.29534479927877\n",
      "Iteration no. 22 : 82.79876554582755\n",
      "Iteration no. 23 : 81.39737166563633\n",
      "Iteration no. 24 : 80.08166432418673\n",
      "Iteration no. 25 : 78.84342167415966\n",
      "Iteration no. 26 : 77.67548509092961\n",
      "Iteration no. 27 : 76.57158777397484\n",
      "Iteration no. 28 : 75.52621611114694\n",
      "Iteration no. 29 : 74.53449663228204\n",
      "Iteration no. 30 : 73.59210313416503\n",
      "Iteration no. 31 : 72.69517984269882\n",
      "Iteration no. 32 : 71.84027742756791\n",
      "Iteration no. 33 : 71.02429939417746\n",
      "Iteration no. 34 : 70.24445691302171\n",
      "Iteration no. 35 : 69.49823055432054\n",
      "Iteration no. 36 : 68.78333770887993\n",
      "Iteration no. 37 : 68.09770471855873\n",
      "Iteration no. 38 : 67.43944292884584\n",
      "Iteration no. 39 : 66.80682802464567\n",
      "Iteration no. 40 : 66.19828212791276\n",
      "Iteration no. 41 : 65.61235822934904\n",
      "Iteration no. 42 : 65.0477266013248\n",
      "Iteration no. 43 : 64.50316289955387\n",
      "Iteration no. 44 : 63.97753770995273\n",
      "Iteration no. 45 : 63.4698073369227\n",
      "Iteration no. 46 : 62.97900566186836\n",
      "Iteration no. 47 : 62.50423692754328\n",
      "Iteration no. 48 : 62.04466932592757\n",
      "Iteration no. 49 : 61.59952928568187\n",
      "Iteration no. 50 : 61.16809637049729\n",
      "Iteration no. 51 : 60.749698712430806\n",
      "Iteration no. 52 : 60.34370891503549\n",
      "Iteration no. 53 : 59.94954037012317\n",
      "Iteration no. 54 : 59.566643939630225\n",
      "Iteration no. 55 : 59.194504960530985\n",
      "Iteration no. 56 : 58.83264053625147\n",
      "Iteration no. 57 : 58.48059708273899\n",
      "Iteration no. 58 : 58.13794810136803\n",
      "Iteration no. 59 : 57.80429215432034\n",
      "Iteration no. 60 : 57.47925102105239\n",
      "Iteration no. 61 : 57.16246801703342\n",
      "Iteration no. 62 : 56.853606458161266\n",
      "Iteration no. 63 : 56.5523482561927\n",
      "Iteration no. 64 : 56.25839263220408\n",
      "Iteration no. 65 : 55.97145493656157\n",
      "Iteration no. 66 : 55.691265565159256\n",
      "Iteration no. 67 : 55.41756896280324\n",
      "Iteration no. 68 : 55.15012270560322\n",
      "Iteration no. 69 : 54.888696655097036\n",
      "Iteration no. 70 : 54.633072177595395\n",
      "Iteration no. 71 : 54.383041422906615\n",
      "Iteration no. 72 : 54.13840665719562\n",
      "Iteration no. 73 : 53.89897964525833\n",
      "Iteration no. 74 : 53.66458107796062\n",
      "Iteration no. 75 : 53.43504004100629\n",
      "Iteration no. 76 : 53.21019352156929\n",
      "Iteration no. 77 : 52.9898859496553\n",
      "Iteration no. 78 : 52.77396877135319\n",
      "Iteration no. 79 : 52.562300051400385\n",
      "Iteration no. 80 : 52.354744102723245\n",
      "Iteration no. 81 : 52.15117114082526\n",
      "Iteration no. 82 : 51.95145696108664\n",
      "Iteration no. 83 : 51.755482637210235\n",
      "Iteration no. 84 : 51.56313423920186\n",
      "Iteration no. 85 : 51.37430256940053\n",
      "Iteration no. 86 : 51.18888290724715\n",
      "Iteration no. 87 : 51.00677481019399\n",
      "Iteration no. 88 : 50.8278818466171\n",
      "Iteration no. 89 : 50.65211142540497\n",
      "Iteration no. 90 : 50.479374595705146\n",
      "Iteration no. 91 : 50.30958586677592\n",
      "Iteration no. 92 : 50.142663038522265\n",
      "Iteration no. 93 : 49.978527041991725\n",
      "Iteration no. 94 : 49.81710178915114\n",
      "Iteration no. 95 : 49.65831403131617\n",
      "Iteration no. 96 : 49.50209322565444\n",
      "Iteration no. 97 : 49.348371409226175\n",
      "Iteration no. 98 : 49.19708308006777\n",
      "Iteration no. 99 : 49.04816508485965\n",
      "Iteration no. 100 : 48.90155651275455\n",
      "Iteration no. 101 : 48.75719859497275\n",
      "Iteration no. 102 : 48.615034609799864\n",
      "Iteration no. 103 : 48.47500979264885\n",
      "Iteration no. 104 : 48.33707125087173\n",
      "Iteration no. 105 : 48.20116788302934\n",
      "Iteration no. 106 : 48.06725030234713\n",
      "Iteration no. 107 : 47.93527076410442\n",
      "Iteration no. 108 : 47.80518309672183\n",
      "Iteration no. 109 : 47.67694263632718\n",
      "Iteration no. 110 : 47.550506164595674\n",
      "Iteration no. 111 : 47.42583184967322\n",
      "Iteration no. 112 : 47.30287919000493\n",
      "Iteration no. 113 : 47.18160896090221\n",
      "Iteration no. 114 : 47.06198316369287\n",
      "Iteration no. 115 : 46.94396497730878\n",
      "Iteration no. 116 : 46.82751871217475\n",
      "Iteration no. 117 : 46.71260976627137\n",
      "Iteration no. 118 : 46.59920458325204\n",
      "Iteration no. 119 : 46.4872706125024\n",
      "Iteration no. 120 : 46.37677627103708\n",
      "Iteration no. 121 : 46.267690907135204\n",
      "Iteration no. 122 : 46.159984765622106\n",
      "Iteration no. 123 : 46.053628954710334\n",
      "Iteration no. 124 : 45.94859541431832\n",
      "Iteration no. 125 : 45.844856885789724\n",
      "Iteration no. 126 : 45.74238688294153\n",
      "Iteration no. 127 : 45.64115966437242\n",
      "Iteration no. 128 : 45.54115020696781\n",
      "Iteration no. 129 : 45.442334180540996\n",
      "Iteration no. 130 : 45.34468792355358\n",
      "Iteration no. 131 : 45.248188419861606\n",
      "Iteration no. 132 : 45.15281327643679\n",
      "Iteration no. 133 : 45.05854070201501\n",
      "Iteration no. 134 : 44.96534948662735\n",
      "Iteration no. 135 : 44.87321898197065\n",
      "Iteration no. 136 : 44.78212908257758\n",
      "Iteration no. 137 : 44.69206020774836\n",
      "Iteration no. 138 : 44.602993284207784\n",
      "Iteration no. 139 : 44.51490972945386\n",
      "Iteration no. 140 : 44.42779143576571\n",
      "Iteration no. 141 : 44.341620754840264\n",
      "Iteration no. 142 : 44.2563804830288\n",
      "Iteration no. 143 : 44.172053847146124\n",
      "Iteration no. 144 : 44.08862449082628\n",
      "Iteration no. 145 : 44.006076461400255\n",
      "Iteration no. 146 : 43.92439419727239\n",
      "Iteration no. 147 : 43.84356251577324\n",
      "Iteration no. 148 : 43.763566601468\n",
      "Iteration no. 149 : 43.684391994900324\n",
      "Iteration no. 150 : 43.606024581752905\n",
      "Iteration no. 151 : 43.52845058240637\n",
      "Iteration no. 152 : 43.45165654187979\n",
      "Iteration no. 153 : 43.37562932013613\n",
      "Iteration no. 154 : 43.30035608273748\n",
      "Iteration no. 155 : 43.22582429183504\n",
      "Iteration no. 156 : 43.15202169748002\n",
      "Iteration no. 157 : 43.078936329242\n",
      "Iteration no. 158 : 43.00655648812208\n",
      "Iteration no. 159 : 42.934870738748614\n",
      "Iteration no. 160 : 42.86386790184403\n",
      "Iteration no. 161 : 42.793537046951826\n",
      "Iteration no. 162 : 42.723867485412924\n",
      "Iteration no. 163 : 42.65484876358178\n",
      "Iteration no. 164 : 42.58647065627231\n",
      "Iteration no. 165 : 42.51872316042481\n",
      "Iteration no. 166 : 42.45159648898495\n",
      "Iteration no. 167 : 42.385081064986636\n",
      "Iteration no. 168 : 42.319167515830756\n",
      "Iteration no. 169 : 42.25384666775227\n",
      "Iteration no. 170 : 42.189109540468266\n",
      "Iteration no. 171 : 42.12494734200021\n",
      "Iteration no. 172 : 42.06135146366375\n",
      "Iteration no. 173 : 41.99831347521936\n",
      "Iteration no. 174 : 41.93582512017855\n",
      "Iteration no. 175 : 41.87387831125886\n",
      "Iteration no. 176 : 41.812465125982904\n",
      "Iteration no. 177 : 41.75157780241569\n",
      "Iteration no. 178 : 41.69120873503516\n",
      "Iteration no. 179 : 41.63135047073135\n",
      "Iteration no. 180 : 41.57199570492908\n",
      "Iteration no. 181 : 41.51313727783009\n",
      "Iteration no. 182 : 41.45476817076996\n",
      "Iteration no. 183 : 41.39688150268605\n",
      "Iteration no. 184 : 41.33947052669223\n",
      "Iteration no. 185 : 41.28252862675675\n",
      "Iteration no. 186 : 41.22604931447958\n",
      "Iteration no. 187 : 41.17002622596574\n",
      "Iteration no. 188 : 41.11445311879127\n",
      "Iteration no. 189 : 41.05932386905859\n",
      "Iteration no. 190 : 41.00463246853826\n",
      "Iteration no. 191 : 40.95037302189405\n",
      "Iteration no. 192 : 40.89653974398854\n",
      "Iteration no. 193 : 40.84312695726651\n",
      "Iteration no. 194 : 40.79012908921352\n",
      "Iteration no. 195 : 40.73754066988706\n",
      "Iteration no. 196 : 40.68535632951789\n",
      "Iteration no. 197 : 40.6335707961793\n",
      "Iteration no. 198 : 40.58217889352193\n",
      "Iteration no. 199 : 40.53117553857198\n",
      "Iteration no. 200 : 40.4805557395909\n",
      "Iteration no. 201 : 40.43031459399435\n",
      "Iteration no. 202 : 40.380447286328604\n",
      "Iteration no. 203 : 40.330949086302496\n",
      "Iteration no. 204 : 40.28181534687327\n",
      "Iteration no. 205 : 40.233041502384296\n",
      "Iteration no. 206 : 40.184623066753346\n",
      "Iteration no. 207 : 40.13655563170961\n",
      "Iteration no. 208 : 40.08883486507797\n",
      "Iteration no. 209 : 40.04145650910904\n",
      "Iteration no. 210 : 39.994416378853614\n",
      "Iteration no. 211 : 39.94771036057999\n",
      "Iteration no. 212 : 39.90133441023295\n",
      "Iteration no. 213 : 39.85528455193317\n",
      "Iteration no. 214 : 39.80955687651563\n",
      "Iteration no. 215 : 39.764147540105945\n",
      "Iteration no. 216 : 39.71905276273357\n",
      "Iteration no. 217 : 39.67426882698048\n",
      "Iteration no. 218 : 39.629792076664486\n",
      "Iteration no. 219 : 39.58561891555601\n",
      "Iteration no. 220 : 39.54174580612721\n",
      "Iteration no. 221 : 39.49816926833215\n",
      "Iteration no. 222 : 39.45488587841564\n",
      "Iteration no. 223 : 39.411892267739276\n",
      "Iteration no. 224 : 39.369185120973654\n",
      "Iteration no. 225 : 39.326761178162904\n",
      "Iteration no. 226 : 39.284617228399355\n",
      "Iteration no. 227 : 39.24275011263765\n",
      "Iteration no. 228 : 39.201156721560025\n",
      "Iteration no. 229 : 39.159833994605094\n",
      "Iteration no. 230 : 39.11877891899857\n",
      "Iteration no. 231 : 39.07798852880448\n",
      "Iteration no. 232 : 39.03745990399863\n",
      "Iteration no. 233 : 38.997190169563986\n",
      "Iteration no. 234 : 38.95717649460761\n",
      "Iteration no. 235 : 38.917416091498474\n",
      "Iteration no. 236 : 38.87790621502575\n",
      "Iteration no. 237 : 38.83864416157677\n",
      "Iteration no. 238 : 38.79962726833438\n",
      "Iteration no. 239 : 38.76085291249302\n",
      "Iteration no. 240 : 38.72231851049301\n",
      "Iteration no. 241 : 38.68402151727255\n",
      "Iteration no. 242 : 38.645959425537086\n",
      "Iteration no. 243 : 38.608129765045355\n",
      "Iteration no. 244 : 38.570530101911814\n",
      "Iteration no. 245 : 38.533158037924935\n",
      "Iteration no. 246 : 38.49601120988109\n",
      "Iteration no. 247 : 38.45908728893331\n",
      "Iteration no. 248 : 38.422383979954866\n",
      "Iteration no. 249 : 38.385899020917066\n",
      "Iteration no. 250 : 38.34963018228096\n",
      "Iteration no. 251 : 38.313575266402545\n",
      "Iteration no. 252 : 38.277732106951234\n",
      "Iteration no. 253 : 38.2420985683411\n",
      "Iteration no. 254 : 38.20667254517463\n",
      "Iteration no. 255 : 38.17145196169871\n",
      "Iteration no. 256 : 38.136434771272434\n",
      "Iteration no. 257 : 38.10161895584652\n",
      "Iteration no. 258 : 38.06700252545396\n",
      "Iteration no. 259 : 38.03258351771171\n",
      "Iteration no. 260 : 37.998359997333026\n",
      "Iteration no. 261 : 37.96433005565029\n",
      "Iteration no. 262 : 37.93049181014798\n",
      "Iteration no. 263 : 37.89684340400561\n",
      "Iteration no. 264 : 37.863383005650284\n",
      "Iteration no. 265 : 37.83010880831874\n",
      "Iteration no. 266 : 37.79701902962853\n",
      "Iteration no. 267 : 37.76411191115827\n",
      "Iteration no. 268 : 37.731385718036556\n",
      "Iteration no. 269 : 37.69883873853945\n",
      "Iteration no. 270 : 37.666469283696344\n",
      "Iteration no. 271 : 37.63427568690389\n",
      "Iteration no. 272 : 37.602256303547875\n",
      "Iteration no. 273 : 37.570409510632864\n",
      "Iteration no. 274 : 37.53873370641942\n",
      "Iteration no. 275 : 37.50722731006861\n",
      "Iteration no. 276 : 37.4758887612938\n",
      "Iteration no. 277 : 37.444716520019455\n",
      "Iteration no. 278 : 37.41370906604676\n",
      "Iteration no. 279 : 37.38286489872603\n",
      "Iteration no. 280 : 37.35218253663552\n",
      "Iteration no. 281 : 37.321660517266814\n",
      "Iteration no. 282 : 37.29129739671628\n",
      "Iteration no. 283 : 37.261091749382715\n",
      "Iteration no. 284 : 37.23104216767093\n",
      "Iteration no. 285 : 37.20114726170113\n",
      "Iteration no. 286 : 37.17140565902399\n",
      "Iteration no. 287 : 37.14181600434132\n",
      "Iteration no. 288 : 37.112376959232066\n",
      "Iteration no. 289 : 37.08308720188368\n",
      "Iteration no. 290 : 37.053945426828705\n",
      "Iteration no. 291 : 37.0249503446863\n",
      "Iteration no. 292 : 36.996100681908885\n",
      "Iteration no. 293 : 36.96739518053343\n",
      "Iteration no. 294 : 36.93883259793765\n",
      "Iteration no. 295 : 36.910411706600726\n",
      "Iteration no. 296 : 36.882131293868575\n",
      "Iteration no. 297 : 36.85399016172356\n",
      "Iteration no. 298 : 36.82598712655847\n",
      "Iteration no. 299 : 36.79812101895479\n",
      "Iteration no. 300 : 36.77039068346505\n",
      "Iteration no. 301 : 36.74279497839932\n",
      "Iteration no. 302 : 36.71533277561551\n",
      "Iteration no. 303 : 36.68800296031367\n",
      "Iteration no. 304 : 36.660804430834006\n",
      "Iteration no. 305 : 36.633736098458684\n",
      "Iteration no. 306 : 36.60679688721713\n",
      "Iteration no. 307 : 36.579985733695004\n",
      "Iteration no. 308 : 36.553301586846565\n",
      "Iteration no. 309 : 36.52674340781046\n",
      "Iteration no. 310 : 36.50031016972888\n",
      "Iteration no. 311 : 36.4740008575699\n",
      "Iteration no. 312 : 36.44781446795305\n",
      "Iteration no. 313 : 36.421750008978\n",
      "Iteration no. 314 : 36.39580650005627\n",
      "Iteration no. 315 : 36.369982971746\n",
      "Iteration no. 316 : 36.344278465589554\n",
      "Iteration no. 317 : 36.31869203395411\n",
      "Iteration no. 318 : 36.29322273987488\n",
      "Iteration no. 319 : 36.267869656901325\n",
      "Iteration no. 320 : 36.24263186894581\n",
      "Iteration no. 321 : 36.21750847013507\n",
      "Iteration no. 322 : 36.1924985646642\n",
      "Iteration no. 323 : 36.16760126665318\n",
      "Iteration no. 324 : 36.142815700005855\n",
      "Iteration no. 325 : 36.1181409982714\n",
      "Iteration no. 326 : 36.093576304508154\n",
      "Iteration no. 327 : 36.0691207711497\n",
      "Iteration no. 328 : 36.044773559873335\n",
      "Iteration no. 329 : 36.020533841470794\n",
      "Iteration no. 330 : 35.996400795721016\n",
      "Iteration no. 331 : 35.97237361126526\n",
      "Iteration no. 332 : 35.94845148548416\n",
      "Iteration no. 333 : 35.924633624376966\n",
      "Iteration no. 334 : 35.900919242442754\n",
      "Iteration no. 335 : 35.877307562563615\n",
      "Iteration no. 336 : 35.85379781588986\n",
      "Iteration no. 337 : 35.83038924172701\n",
      "Iteration no. 338 : 35.807081087424805\n",
      "Iteration no. 339 : 35.78387260826791\n",
      "Iteration no. 340 : 35.760763067368565\n",
      "Iteration no. 341 : 35.737751735560835\n",
      "Iteration no. 342 : 35.714837891296746\n",
      "Iteration no. 343 : 35.692020820544016\n",
      "Iteration no. 344 : 35.669299816685495\n",
      "Iteration no. 345 : 35.646674180420256\n",
      "Iteration no. 346 : 35.6241432196662\n",
      "Iteration no. 347 : 35.601706249464364\n",
      "Iteration no. 348 : 35.57936259188465\n",
      "Iteration no. 349 : 35.55711157593317\n",
      "Iteration no. 350 : 35.53495253746097\n",
      "Iteration no. 351 : 35.5128848190743\n",
      "Iteration no. 352 : 35.490907770046284\n",
      "Iteration no. 353 : 35.469020746229965\n",
      "Iteration no. 354 : 35.44722310997277\n",
      "Iteration no. 355 : 35.42551423003228\n",
      "Iteration no. 356 : 35.40389348149337\n",
      "Iteration no. 357 : 35.38236024568665\n",
      "Iteration no. 358 : 35.360913910108124\n",
      "Iteration no. 359 : 35.33955386834016\n",
      "Iteration no. 360 : 35.31827951997367\n",
      "Iteration no. 361 : 35.297090270531555\n",
      "Iteration no. 362 : 35.275985531393204\n",
      "Iteration no. 363 : 35.25496471972026\n",
      "Iteration no. 364 : 35.234027258383584\n",
      "Iteration no. 365 : 35.21317257589116\n",
      "Iteration no. 366 : 35.19240010631725\n",
      "Iteration no. 367 : 35.17170928923265\n",
      "Iteration no. 368 : 35.15109956963585\n",
      "Iteration no. 369 : 35.13057039788541\n",
      "Iteration no. 370 : 35.11012122963328\n",
      "Iteration no. 371 : 35.08975152575911\n",
      "Iteration no. 372 : 35.069460752305616\n",
      "Iteration no. 373 : 35.04924838041486\n",
      "Iteration no. 374 : 35.02911388626553\n",
      "Iteration no. 375 : 35.0090567510111\n",
      "Iteration no. 376 : 34.98907646071896\n",
      "Iteration no. 377 : 34.96917250631048\n",
      "Iteration no. 378 : 34.949344383501845\n",
      "Iteration no. 379 : 34.92959159274592\n",
      "Iteration no. 380 : 34.909913639174846\n",
      "Iteration no. 381 : 34.890310032543546\n",
      "Iteration no. 382 : 34.87078028717405\n",
      "Iteration no. 383 : 34.851323921900644\n",
      "Iteration no. 384 : 34.83194046001576\n",
      "Iteration no. 385 : 34.81262942921676\n",
      "Iteration no. 386 : 34.793390361553406\n",
      "Iteration no. 387 : 34.77422279337611\n",
      "Iteration no. 388 : 34.75512626528497\n",
      "Iteration no. 389 : 34.736100322079494\n",
      "Iteration no. 390 : 34.717144512709076\n",
      "Iteration no. 391 : 34.69825839022416\n",
      "Iteration no. 392 : 34.679441511728136\n",
      "Iteration no. 393 : 34.66069343832989\n",
      "Iteration no. 394 : 34.642013735097024\n",
      "Iteration no. 395 : 34.62340197100982\n",
      "Iteration no. 396 : 34.60485771891568\n",
      "Iteration no. 397 : 34.58638055548445\n",
      "Iteration no. 398 : 34.56797006116413\n",
      "Iteration no. 399 : 34.54962582013739\n",
      "Iteration no. 400 : 34.53134742027855\n",
      "Iteration no. 401 : 34.51313445311128\n",
      "Iteration no. 402 : 34.49498651376671\n",
      "Iteration no. 403 : 34.47690320094229\n",
      "Iteration no. 404 : 34.458884116860865\n"
     ]
    },
    {
     "name": "stdout",
     "output_type": "stream",
     "text": [
      "Iteration no. 405 : 34.44092886723045\n",
      "Iteration no. 406 : 34.423037061203715\n",
      "Iteration no. 407 : 34.40520831133666\n",
      "Iteration no. 408 : 34.3874422335395\n",
      "Iteration no. 409 : 34.369738446918205\n",
      "Iteration no. 410 : 34.352096574440765\n",
      "Iteration no. 411 : 34.33451624203798\n",
      "Iteration no. 412 : 34.31699707829932\n",
      "Iteration no. 413 : 34.29953871553157\n",
      "Iteration no. 414 : 34.28214078912231\n",
      "Iteration no. 415 : 34.26480293756296\n",
      "Iteration no. 416 : 34.24752480242174\n",
      "Iteration no. 417 : 34.23030602831166\n",
      "Iteration no. 418 : 34.21314626285776\n",
      "Iteration no. 419 : 34.19604515666441\n",
      "Iteration no. 420 : 34.17900236328286\n",
      "Iteration no. 421 : 34.1620175391791\n",
      "Iteration no. 422 : 34.14509034370225\n",
      "Iteration no. 423 : 34.12822043905324\n",
      "Iteration no. 424 : 34.11140749025391\n",
      "Iteration no. 425 : 34.09465116511657\n",
      "Iteration no. 426 : 34.07795113421386\n",
      "Iteration no. 427 : 34.06130707084912\n",
      "Iteration no. 428 : 34.04471865102704\n",
      "Iteration no. 429 : 34.02818555342478\n",
      "Iteration no. 430 : 34.01170745936338\n",
      "Iteration no. 431 : 33.99528405277961\n",
      "Iteration no. 432 : 33.97891502019819\n",
      "Iteration no. 433 : 33.96260005070427\n",
      "Iteration no. 434 : 33.94633883591644\n",
      "Iteration no. 435 : 33.9301310699599\n",
      "Iteration no. 436 : 33.9139764494401\n",
      "Iteration no. 437 : 33.89787467341665\n",
      "Iteration no. 438 : 33.881825443377664\n",
      "Iteration no. 439 : 33.86582846321431\n",
      "Iteration no. 440 : 33.84988343919569\n",
      "Iteration no. 441 : 33.833990079944215\n",
      "Iteration no. 442 : 33.81814809641105\n",
      "Iteration no. 443 : 33.80235720185203\n",
      "Iteration no. 444 : 33.78661711180386\n",
      "Iteration no. 445 : 33.770927544060534\n",
      "Iteration no. 446 : 33.75528821865014\n",
      "Iteration no. 447 : 33.739698857811945\n",
      "Iteration no. 448 : 33.724159185973704\n",
      "Iteration no. 449 : 33.7086689297293\n",
      "Iteration no. 450 : 33.69322781781671\n",
      "Iteration no. 451 : 33.67783558109612\n",
      "Iteration no. 452 : 33.66249195252841\n",
      "Iteration no. 453 : 33.64719666715394\n",
      "Iteration no. 454 : 33.631949462071425\n",
      "Iteration no. 455 : 33.61675007641725\n",
      "Iteration no. 456 : 33.60159825134498\n",
      "Iteration no. 457 : 33.5864937300051\n",
      "Iteration no. 458 : 33.571436257524994\n",
      "Iteration no. 459 : 33.55642558098919\n",
      "Iteration no. 460 : 33.541461449419856\n",
      "Iteration no. 461 : 33.52654361375748\n",
      "Iteration no. 462 : 33.51167182684181\n",
      "Iteration no. 463 : 33.49684584339296\n",
      "Iteration no. 464 : 33.48206541999267\n",
      "Iteration no. 465 : 33.46733031506565\n",
      "Iteration no. 466 : 33.45264028886053\n",
      "Iteration no. 467 : 33.43799510342895\n",
      "Iteration no. 468 : 33.42339452259079\n",
      "Iteration no. 469 : 33.408838310657245\n",
      "Iteration no. 470 : 33.394326237923174\n",
      "Iteration no. 471 : 33.37985807188453\n",
      "Iteration no. 472 : 33.36543358341519\n",
      "Iteration no. 473 : 33.35105254506455\n",
      "Iteration no. 474 : 33.33671473106449\n",
      "Iteration no. 475 : 33.32241991731688\n",
      "Iteration no. 476 : 33.308167881378424\n",
      "Iteration no. 477 : 33.293958402445206\n",
      "Iteration no. 478 : 33.27979126133717\n",
      "Iteration no. 479 : 33.2656662404826\n",
      "Iteration no. 480 : 33.251583123902876\n",
      "Iteration no. 481 : 33.237541697197315\n",
      "Iteration no. 482 : 33.22354174752822\n",
      "Iteration no. 483 : 33.209583063606054\n",
      "Iteration no. 484 : 33.19566543567477\n",
      "Iteration no. 485 : 33.181788655497414\n",
      "Iteration no. 486 : 33.16795251634179\n",
      "Iteration no. 487 : 33.1541568129663\n",
      "Iteration no. 488 : 33.14040134160598\n",
      "Iteration no. 489 : 33.126685899958694\n",
      "Iteration no. 490 : 33.11301028717145\n",
      "Iteration no. 491 : 33.09937430382695\n",
      "Iteration no. 492 : 33.08577775193014\n",
      "Iteration no. 493 : 33.07222043489513\n",
      "Iteration no. 494 : 33.05870215753206\n",
      "Iteration no. 495 : 33.04522272603424\n",
      "Iteration no. 496 : 33.03178194796538\n",
      "Iteration no. 497 : 33.01837963224699\n",
      "Iteration no. 498 : 33.00501558914589\n",
      "Iteration no. 499 : 32.99168963026193\n",
      "Iteration no. 500 : 32.978401568515736\n",
      "Iteration no. 501 : 32.96515121813671\n",
      "Iteration no. 502 : 32.951938394651094\n",
      "Iteration no. 503 : 32.93876291487017\n",
      "Iteration no. 504 : 32.9256245968786\n",
      "Iteration no. 505 : 32.912523260022965\n",
      "Iteration no. 506 : 32.8994587249003\n",
      "Iteration no. 507 : 32.88643081334682\n",
      "Iteration no. 508 : 32.87343934842685\n",
      "Iteration no. 509 : 32.8604841544217\n",
      "Iteration no. 510 : 32.84756505681884\n",
      "Iteration no. 511 : 32.83468188230108\n",
      "Iteration no. 512 : 32.82183445873595\n",
      "Iteration no. 513 : 32.80902261516506\n",
      "Iteration no. 514 : 32.79624618179378\n",
      "Iteration no. 515 : 32.78350498998082\n",
      "Iteration no. 516 : 32.77079887222812\n",
      "Iteration no. 517 : 32.75812766217067\n",
      "Iteration no. 518 : 32.74549119456658\n",
      "Iteration no. 519 : 32.73288930528716\n",
      "Iteration no. 520 : 32.720321831307174\n",
      "Iteration no. 521 : 32.707788610695175\n",
      "Iteration no. 522 : 32.695289482603926\n",
      "Iteration no. 523 : 32.68282428726095\n",
      "Iteration no. 524 : 32.67039286595916\n",
      "Iteration no. 525 : 32.65799506104762\n",
      "Iteration no. 526 : 32.64563071592237\n",
      "Iteration no. 527 : 32.63329967501736\n",
      "Iteration no. 528 : 32.6210017837955\n",
      "Iteration no. 529 : 32.608736888739756\n",
      "Iteration no. 530 : 32.59650483734441\n",
      "Iteration no. 531 : 32.58430547810637\n",
      "Iteration no. 532 : 32.57213866051653\n",
      "Iteration no. 533 : 32.56000423505134\n",
      "Iteration no. 534 : 32.54790205316432\n",
      "Iteration no. 535 : 32.535831967277794\n",
      "Iteration no. 536 : 32.523793830774615\n",
      "Iteration no. 537 : 32.511787497990035\n",
      "Iteration no. 538 : 32.499812824203595\n",
      "Iteration no. 539 : 32.48786966563122\n",
      "Iteration no. 540 : 32.47595787941724\n",
      "Iteration no. 541 : 32.4640773236266\n",
      "Iteration no. 542 : 32.45222785723714\n",
      "Iteration no. 543 : 32.44040934013191\n",
      "Iteration no. 544 : 32.428621633091595\n",
      "Iteration no. 545 : 32.41686459778704\n",
      "Iteration no. 546 : 32.4051380967718\n",
      "Iteration no. 547 : 32.393441993474795\n",
      "Iteration no. 548 : 32.38177615219303\n",
      "Iteration no. 549 : 32.37014043808442\n",
      "Iteration no. 550 : 32.35853471716067\n",
      "Iteration no. 551 : 32.34695885628016\n",
      "Iteration no. 552 : 32.33541272314104\n",
      "Iteration no. 553 : 32.32389618627427\n",
      "Iteration no. 554 : 32.3124091150368\n",
      "Iteration no. 555 : 32.3009513796048\n",
      "Iteration no. 556 : 32.28952285096696\n",
      "Iteration no. 557 : 32.27812340091782\n",
      "Iteration no. 558 : 32.26675290205124\n",
      "Iteration no. 559 : 32.255411227753875\n",
      "Iteration no. 560 : 32.244098252198754\n",
      "Iteration no. 561 : 32.2328138503389\n",
      "Iteration no. 562 : 32.22155789790099\n",
      "Iteration no. 563 : 32.21033027137917\n",
      "Iteration no. 564 : 32.1991308480288\n",
      "Iteration no. 565 : 32.18795950586036\n",
      "Iteration no. 566 : 32.176816123633415\n",
      "Iteration no. 567 : 32.16570058085056\n",
      "Iteration no. 568 : 32.154612757751494\n",
      "Iteration no. 569 : 32.143552535307165\n",
      "Iteration no. 570 : 32.13251979521388\n",
      "Iteration no. 571 : 32.1215144198876\n",
      "Iteration no. 572 : 32.11053629245815\n",
      "Iteration no. 573 : 32.099585296763635\n",
      "Iteration no. 574 : 32.08866131734478\n",
      "Iteration no. 575 : 32.07776423943942\n",
      "Iteration no. 576 : 32.06689394897695\n",
      "Iteration no. 577 : 32.05605033257292\n",
      "Iteration no. 578 : 32.045233277523664\n",
      "Iteration no. 579 : 32.03444267180086\n",
      "Iteration no. 580 : 32.02367840404636\n",
      "Iteration no. 581 : 32.0129403635668\n",
      "Iteration no. 582 : 32.00222844032848\n",
      "Iteration no. 583 : 31.99154252495215\n",
      "Iteration no. 584 : 31.980882508707772\n",
      "Iteration no. 585 : 31.97024828350927\n",
      "Iteration no. 586 : 31.95963974190891\n",
      "Iteration no. 587 : 31.94905677709048\n",
      "Iteration no. 588 : 31.93849928285595\n",
      "Iteration no. 589 : 31.927967153511787\n",
      "Iteration no. 590 : 31.917460284698038\n",
      "Iteration no. 591 : 31.90697857157347\n",
      "Iteration no. 592 : 31.896521910512476\n",
      "Iteration no. 593 : 31.886090198423993\n",
      "Iteration no. 594 : 31.875683332809157\n",
      "Iteration no. 595 : 31.86530121176309\n",
      "Iteration no. 596 : 31.85494373397186\n",
      "Iteration no. 597 : 31.844610798708363\n",
      "Iteration no. 598 : 31.834302305827784\n",
      "Iteration no. 599 : 31.824018155762417\n",
      "Iteration no. 600 : 31.813758249514535\n",
      "Iteration no. 601 : 31.803522488636297\n",
      "Iteration no. 602 : 31.79331077446733\n",
      "Iteration no. 603 : 31.783123011617498\n",
      "Iteration no. 604 : 31.7729591022373\n",
      "Iteration no. 605 : 31.76281895018509\n",
      "Iteration no. 606 : 31.752702459836687\n",
      "Iteration no. 607 : 31.742609536107096\n",
      "Iteration no. 608 : 31.73254008445032\n",
      "Iteration no. 609 : 31.72249401085649\n",
      "Iteration no. 610 : 31.712471221848155\n",
      "Iteration no. 611 : 31.702471624476647\n",
      "Iteration no. 612 : 31.692495126318157\n",
      "Iteration no. 613 : 31.682541635469953\n",
      "Iteration no. 614 : 31.67261106054657\n",
      "Iteration no. 615 : 31.662703310675994\n",
      "Iteration no. 616 : 31.65281829549594\n",
      "Iteration no. 617 : 31.642955925150083\n",
      "Iteration no. 618 : 31.633116110284426\n",
      "Iteration no. 619 : 31.623298762043554\n",
      "Iteration no. 620 : 31.61350379206705\n"
     ]
    },
    {
     "name": "stdout",
     "output_type": "stream",
     "text": [
      "Iteration no. 621 : 31.603731112485903\n",
      "Iteration no. 622 : 31.59398063591891\n",
      "Iteration no. 623 : 31.58425227546916\n",
      "Iteration no. 624 : 31.574545944720512\n",
      "Iteration no. 625 : 31.564861557734133\n",
      "Iteration no. 626 : 31.55519902904506\n",
      "Iteration no. 627 : 31.545558273658763\n",
      "Iteration no. 628 : 31.535939207047786\n",
      "Iteration no. 629 : 31.52634174514838\n",
      "Iteration no. 630 : 31.516765804357195\n",
      "Iteration no. 631 : 31.507211301527978\n",
      "Iteration no. 632 : 31.497678153968295\n",
      "Iteration no. 633 : 31.488166279436317\n",
      "Iteration no. 634 : 31.47867559613759\n",
      "Iteration no. 635 : 31.46920602272189\n",
      "Iteration no. 636 : 31.45975747828004\n",
      "Iteration no. 637 : 31.450329882340785\n",
      "Iteration no. 638 : 31.440923154867708\n",
      "Iteration no. 639 : 31.431537216256178\n",
      "Iteration no. 640 : 31.422171987330273\n",
      "Iteration no. 641 : 31.412827389339757\n",
      "Iteration no. 642 : 31.403503343957134\n",
      "Iteration no. 643 : 31.394199773274647\n",
      "Iteration no. 644 : 31.38491659980133\n",
      "Iteration no. 645 : 31.37565374646012\n",
      "Iteration no. 646 : 31.36641113658494\n",
      "Iteration no. 647 : 31.357188693917834\n",
      "Iteration no. 648 : 31.34798634260609\n",
      "Iteration no. 649 : 31.33880400719946\n",
      "Iteration no. 650 : 31.329641612647226\n",
      "Iteration no. 651 : 31.320499084295424\n",
      "Iteration no. 652 : 31.31137634788388\n",
      "Iteration no. 653 : 31.302273329543084\n",
      "Iteration no. 654 : 31.29318995579022\n",
      "Iteration no. 655 : 31.28412615352192\n",
      "Iteration no. 656 : 31.27508184997743\n",
      "Iteration no. 657 : 31.2660569734815\n",
      "Iteration no. 658 : 31.25705145113034\n",
      "Iteration no. 659 : 31.248065211684413\n",
      "Iteration no. 660 : 31.23909818396526\n",
      "Iteration no. 661 : 31.230150297148676\n",
      "Iteration no. 662 : 31.221221480774624\n",
      "Iteration no. 663 : 31.212311664747283\n",
      "Iteration no. 664 : 31.203420779333257\n",
      "Iteration no. 665 : 31.194548755159445\n",
      "Iteration no. 666 : 31.185695523210732\n",
      "Iteration no. 667 : 31.176861014827658\n",
      "Iteration no. 668 : 31.16804516170405\n",
      "Iteration no. 669 : 31.159247895884683\n",
      "Iteration no. 670 : 31.150469149762895\n",
      "Iteration no. 671 : 31.14170885607832\n",
      "Iteration no. 672 : 31.132966947914557\n",
      "Iteration no. 673 : 31.12424335869686\n",
      "Iteration no. 674 : 31.115538022189885\n",
      "Iteration no. 675 : 31.106850872495396\n",
      "Iteration no. 676 : 31.0981818440501\n",
      "Iteration no. 677 : 31.089530871623346\n",
      "Iteration no. 678 : 31.080897890314972\n",
      "Iteration no. 679 : 31.07228283555309\n",
      "Iteration no. 680 : 31.063685643091944\n",
      "Iteration no. 681 : 31.05510624900974\n",
      "Iteration no. 682 : 31.046544589706524\n",
      "Iteration no. 683 : 31.03800060190208\n",
      "Iteration no. 684 : 31.0294742226338\n",
      "Iteration no. 685 : 31.02096538925462\n",
      "Iteration no. 686 : 31.012474039430955\n",
      "Iteration no. 687 : 31.00400011114067\n",
      "Iteration no. 688 : 30.995543542671022\n",
      "Iteration no. 689 : 30.987104272616644\n",
      "Iteration no. 690 : 30.978682239877564\n",
      "Iteration no. 691 : 30.970277383657233\n",
      "Iteration no. 692 : 30.961889643460516\n",
      "Iteration no. 693 : 30.95351895909179\n",
      "Iteration no. 694 : 30.945165270652975\n",
      "Iteration no. 695 : 30.936828518541624\n",
      "Iteration no. 696 : 30.928508643449028\n",
      "Iteration no. 697 : 30.920205586358314\n",
      "Iteration no. 698 : 30.911919288542585\n",
      "Iteration no. 699 : 30.90364969156305\n",
      "Iteration no. 700 : 30.895396737267177\n",
      "Iteration no. 701 : 30.887160367786862\n",
      "Iteration no. 702 : 30.878940525536652\n",
      "Iteration no. 703 : 30.87073715321188\n",
      "Iteration no. 704 : 30.86255019378693\n",
      "Iteration no. 705 : 30.85437959051343\n",
      "Iteration no. 706 : 30.84622528691853\n",
      "Iteration no. 707 : 30.838087226803097\n",
      "Iteration no. 708 : 30.829965354240073\n",
      "Iteration no. 709 : 30.82185961357267\n",
      "Iteration no. 710 : 30.81376994941273\n",
      "Iteration no. 711 : 30.80569630663897\n",
      "Iteration no. 712 : 30.797638630395372\n",
      "Iteration no. 713 : 30.789596866089486\n",
      "Iteration no. 714 : 30.781570959390756\n",
      "Iteration no. 715 : 30.77356085622893\n",
      "Iteration no. 716 : 30.765566502792392\n",
      "Iteration no. 717 : 30.757587845526583\n",
      "Iteration no. 718 : 30.74962483113235\n",
      "Iteration no. 719 : 30.74167740656443\n",
      "Iteration no. 720 : 30.73374551902979\n",
      "Iteration no. 721 : 30.72582911598613\n",
      "Iteration no. 722 : 30.717928145140306\n",
      "Iteration no. 723 : 30.71004255444678\n",
      "Iteration no. 724 : 30.70217229210609\n",
      "Iteration no. 725 : 30.694317306563374\n",
      "Iteration no. 726 : 30.686477546506797\n",
      "Iteration no. 727 : 30.678652960866113\n",
      "Iteration no. 728 : 30.670843498811166\n",
      "Iteration no. 729 : 30.663049109750403\n",
      "Iteration no. 730 : 30.655269743329434\n",
      "Iteration no. 731 : 30.647505349429572\n",
      "Iteration no. 732 : 30.639755878166394\n",
      "Iteration no. 733 : 30.632021279888324\n",
      "Iteration no. 734 : 30.6243015051752\n",
      "Iteration no. 735 : 30.616596504836895\n",
      "Iteration no. 736 : 30.608906229911888\n",
      "Iteration no. 737 : 30.601230631665906\n",
      "Iteration no. 738 : 30.59356966159054\n",
      "Iteration no. 739 : 30.585923271401857\n",
      "Iteration no. 740 : 30.57829141303911\n",
      "Iteration no. 741 : 30.57067403866332\n",
      "Iteration no. 742 : 30.563071100656\n",
      "Iteration no. 743 : 30.55548255161778\n",
      "Iteration no. 744 : 30.547908344367148\n",
      "Iteration no. 745 : 30.5403484319391\n",
      "Iteration no. 746 : 30.53280276758387\n",
      "Iteration no. 747 : 30.525271304765646\n",
      "Iteration no. 748 : 30.51775399716126\n",
      "Iteration no. 749 : 30.510250798658987\n",
      "Iteration no. 750 : 30.502761663357223\n",
      "Iteration no. 751 : 30.495286545563275\n",
      "Iteration no. 752 : 30.487825399792104\n",
      "Iteration no. 753 : 30.480378180765122\n",
      "Iteration no. 754 : 30.47294484340894\n",
      "Iteration no. 755 : 30.465525342854164\n",
      "Iteration no. 756 : 30.458119634434233\n",
      "Iteration no. 757 : 30.450727673684153\n",
      "Iteration no. 758 : 30.443349416339373\n",
      "Iteration no. 759 : 30.435984818334582\n",
      "Iteration no. 760 : 30.428633835802543\n",
      "Iteration no. 761 : 30.421296425072953\n",
      "Iteration no. 762 : 30.413972542671253\n",
      "Iteration no. 763 : 30.406662145317526\n",
      "Iteration no. 764 : 30.39936518992534\n",
      "Iteration no. 765 : 30.39208163360063\n",
      "Iteration no. 766 : 30.38481143364057\n",
      "Iteration no. 767 : 30.37755454753249\n",
      "Iteration no. 768 : 30.370310932952727\n",
      "Iteration no. 769 : 30.363080547765584\n",
      "Iteration no. 770 : 30.35586335002221\n",
      "Iteration no. 771 : 30.34865929795953\n",
      "Iteration no. 772 : 30.34146834999917\n",
      "Iteration no. 773 : 30.334290464746413\n",
      "Iteration no. 774 : 30.327125600989117\n",
      "Iteration no. 775 : 30.319973717696676\n",
      "Iteration no. 776 : 30.312834774019013\n",
      "Iteration no. 777 : 30.30570872928548\n",
      "Iteration no. 778 : 30.298595543003884\n",
      "Iteration no. 779 : 30.29149517485946\n",
      "Iteration no. 780 : 30.284407584713854\n",
      "Iteration no. 781 : 30.2773327326041\n",
      "Iteration no. 782 : 30.270270578741666\n",
      "Iteration no. 783 : 30.263221083511425\n",
      "Iteration no. 784 : 30.25618420747068\n",
      "Iteration no. 785 : 30.249159911348208\n",
      "Iteration no. 786 : 30.242148156043267\n",
      "Iteration no. 787 : 30.235148902624644\n",
      "Iteration no. 788 : 30.228162112329688\n",
      "Iteration no. 789 : 30.22118774656338\n",
      "Iteration no. 790 : 30.21422576689737\n",
      "Iteration no. 791 : 30.20727613506904\n",
      "Iteration no. 792 : 30.2003388129806\n",
      "Iteration no. 793 : 30.193413762698114\n",
      "Iteration no. 794 : 30.186500946450625\n",
      "Iteration no. 795 : 30.1796003266292\n",
      "Iteration no. 796 : 30.17271186578606\n",
      "Iteration no. 797 : 30.165835526633593\n",
      "Iteration no. 798 : 30.158971272043537\n",
      "Iteration no. 799 : 30.152119065045937\n",
      "Iteration no. 800 : 30.145278868828257\n",
      "Iteration no. 801 : 30.13845064673428\n",
      "Iteration no. 802 : 30.131634362262826\n",
      "Iteration no. 803 : 30.12482997906568\n",
      "Iteration no. 804 : 30.118037460942134\n",
      "Iteration no. 805 : 30.111256771804516\n",
      "Iteration no. 806 : 30.104487876433474\n",
      "Iteration no. 807 : 30.097730738116926\n",
      "Iteration no. 808 : 30.090985321620774\n",
      "Iteration no. 809 : 30.08425159153625\n",
      "Iteration no. 810 : 30.077529512587198\n",
      "Iteration no. 811 : 30.070819049641972\n",
      "Iteration no. 812 : 30.064120167715053\n",
      "Iteration no. 813 : 30.057432831967027\n",
      "Iteration no. 814 : 30.050757007704096\n",
      "Iteration no. 815 : 30.044092660377395\n",
      "Iteration no. 816 : 30.037439755582284\n",
      "Iteration no. 817 : 30.030798259057605\n",
      "Iteration no. 818 : 30.02416813668494\n",
      "Iteration no. 819 : 30.017549354487826\n",
      "Iteration no. 820 : 30.010941878631005\n",
      "Iteration no. 821 : 30.004345675419692\n",
      "Iteration no. 822 : 29.997760711298803\n",
      "Iteration no. 823 : 29.99118695285219\n",
      "Iteration no. 824 : 29.984624366801924\n",
      "Iteration no. 825 : 29.97807292000754\n",
      "Iteration no. 826 : 29.971532579465332\n",
      "Iteration no. 827 : 29.965003312307555\n",
      "Iteration no. 828 : 29.958485085801776\n",
      "Iteration no. 829 : 29.95197786735008\n",
      "Iteration no. 830 : 29.945481624488423\n",
      "Iteration no. 831 : 29.93899632488586\n",
      "Iteration no. 832 : 29.932521936343868\n",
      "Iteration no. 833 : 29.92605842679566\n",
      "Iteration no. 834 : 29.919605764305427\n",
      "Iteration no. 835 : 29.913163917067703\n",
      "Iteration no. 836 : 29.90673285340665\n",
      "Iteration no. 837 : 29.900312541775367\n",
      "Iteration no. 838 : 29.893902950755226\n",
      "Iteration no. 839 : 29.88750404905519\n",
      "Iteration no. 840 : 29.88111580551113\n",
      "Iteration no. 841 : 29.874738189085175\n",
      "Iteration no. 842 : 29.86837116886504\n",
      "Iteration no. 843 : 29.862014714063363\n",
      "Iteration no. 844 : 29.855668794017067\n",
      "Iteration no. 845 : 29.849333378186675\n",
      "Iteration no. 846 : 29.84300843615572\n",
      "Iteration no. 847 : 29.836693937630052\n",
      "Iteration no. 848 : 29.830389852437214\n",
      "Iteration no. 849 : 29.824096150525826\n",
      "Iteration no. 850 : 29.81781280196494\n",
      "Iteration no. 851 : 29.81153977694342\n",
      "Iteration no. 852 : 29.805277045769305\n",
      "Iteration no. 853 : 29.79902457886923\n",
      "Iteration no. 854 : 29.792782346787764\n",
      "Iteration no. 855 : 29.786550320186834\n",
      "Iteration no. 856 : 29.780328469845117\n",
      "Iteration no. 857 : 29.774116766657414\n",
      "Iteration no. 858 : 29.767915181634088\n",
      "Iteration no. 859 : 29.761723685900435\n",
      "Iteration no. 860 : 29.755542250696124\n",
      "Iteration no. 861 : 29.749370847374582\n",
      "Iteration no. 862 : 29.743209447402435\n",
      "Iteration no. 863 : 29.737058022358923\n",
      "Iteration no. 864 : 29.730916543935308\n",
      "Iteration no. 865 : 29.72478498393433\n",
      "Iteration no. 866 : 29.718663314269616\n",
      "Iteration no. 867 : 29.71255150696512\n",
      "Iteration no. 868 : 29.706449534154576\n",
      "Iteration no. 869 : 29.70035736808092\n",
      "Iteration no. 870 : 29.694274981095756\n",
      "Iteration no. 871 : 29.688202345658777\n",
      "Iteration no. 872 : 29.68213943433727\n",
      "Iteration no. 873 : 29.6760862198055\n",
      "Iteration no. 874 : 29.670042674844247\n",
      "Iteration no. 875 : 29.6640087723402\n",
      "Iteration no. 876 : 29.65798448528547\n",
      "Iteration no. 877 : 29.65196978677704\n",
      "Iteration no. 878 : 29.64596465001625\n",
      "Iteration no. 879 : 29.639969048308245\n",
      "Iteration no. 880 : 29.633982955061512\n",
      "Iteration no. 881 : 29.62800634378728\n",
      "Iteration no. 882 : 29.6220391880991\n",
      "Iteration no. 883 : 29.616081461712255\n",
      "Iteration no. 884 : 29.6101331384433\n",
      "Iteration no. 885 : 29.604194192209526\n",
      "Iteration no. 886 : 29.598264597028507\n",
      "Iteration no. 887 : 29.59234432701752\n",
      "Iteration no. 888 : 29.586433356393158\n",
      "Iteration no. 889 : 29.580531659470733\n",
      "Iteration no. 890 : 29.574639210663854\n",
      "Iteration no. 891 : 29.568755984483918\n",
      "Iteration no. 892 : 29.56288195553963\n",
      "Iteration no. 893 : 29.557017098536512\n",
      "Iteration no. 894 : 29.551161388276455\n",
      "Iteration no. 895 : 29.545314799657206\n",
      "Iteration no. 896 : 29.539477307671945\n",
      "Iteration no. 897 : 29.53364888740874\n",
      "Iteration no. 898 : 29.527829514050172\n",
      "Iteration no. 899 : 29.52201916287283\n",
      "Iteration no. 900 : 29.516217809246804\n",
      "Iteration no. 901 : 29.51042542863533\n",
      "Iteration no. 902 : 29.504641996594245\n",
      "Iteration no. 903 : 29.498867488771587\n",
      "Iteration no. 904 : 29.493101880907105\n",
      "Iteration no. 905 : 29.487345148831867\n",
      "Iteration no. 906 : 29.481597268467766\n",
      "Iteration no. 907 : 29.475858215827117\n",
      "Iteration no. 908 : 29.470127967012168\n",
      "Iteration no. 909 : 29.464406498214736\n",
      "Iteration no. 910 : 29.458693785715703\n",
      "Iteration no. 911 : 29.45298980588465\n",
      "Iteration no. 912 : 29.447294535179346\n",
      "Iteration no. 913 : 29.441607950145432\n",
      "Iteration no. 914 : 29.435930027415914\n",
      "Iteration no. 915 : 29.430260743710747\n",
      "Iteration no. 916 : 29.42460007583647\n",
      "Iteration no. 917 : 29.418948000685756\n",
      "Iteration no. 918 : 29.41330449523697\n",
      "Iteration no. 919 : 29.407669536553836\n",
      "Iteration no. 920 : 29.402043101784955\n",
      "Iteration no. 921 : 29.396425168163436\n",
      "Iteration no. 922 : 29.39081571300649\n",
      "Iteration no. 923 : 29.385214713715015\n",
      "Iteration no. 924 : 29.379622147773212\n",
      "Iteration no. 925 : 29.3740379927482\n",
      "Iteration no. 926 : 29.368462226289573\n",
      "Iteration no. 927 : 29.36289482612907\n",
      "Iteration no. 928 : 29.35733577008015\n",
      "Iteration no. 929 : 29.351785036037615\n",
      "Iteration no. 930 : 29.34624260197721\n",
      "Iteration no. 931 : 29.340708445955272\n",
      "Iteration no. 932 : 29.335182546108324\n",
      "Iteration no. 933 : 29.329664880652714\n",
      "Iteration no. 934 : 29.324155427884214\n",
      "Iteration no. 935 : 29.318654166177687\n",
      "Iteration no. 936 : 29.313161073986663\n",
      "Iteration no. 937 : 29.30767612984302\n",
      "Iteration no. 938 : 29.302199312356603\n",
      "Iteration no. 939 : 29.29673060021482\n",
      "Iteration no. 940 : 29.29126997218234\n",
      "Iteration no. 941 : 29.285817407100698\n",
      "Iteration no. 942 : 29.280372883887942\n",
      "Iteration no. 943 : 29.274936381538268\n",
      "Iteration no. 944 : 29.269507879121676\n",
      "Iteration no. 945 : 29.26408735578363\n",
      "Iteration no. 946 : 29.258674790744674\n",
      "Iteration no. 947 : 29.25327016330012\n",
      "Iteration no. 948 : 29.24787345281967\n",
      "Iteration no. 949 : 29.242484638747104\n",
      "Iteration no. 950 : 29.237103700599903\n",
      "Iteration no. 951 : 29.23173061796893\n",
      "Iteration no. 952 : 29.226365370518096\n",
      "Iteration no. 953 : 29.221007937983995\n",
      "Iteration no. 954 : 29.215658300175615\n",
      "Iteration no. 955 : 29.210316436973955\n",
      "Iteration no. 956 : 29.20498232833173\n",
      "Iteration no. 957 : 29.19965595427304\n",
      "Iteration no. 958 : 29.19433729489301\n",
      "Iteration no. 959 : 29.18902633035751\n",
      "Iteration no. 960 : 29.18372304090278\n",
      "Iteration no. 961 : 29.178427406835166\n",
      "Iteration no. 962 : 29.173139408530766\n",
      "Iteration no. 963 : 29.167859026435114\n",
      "Iteration no. 964 : 29.16258624106286\n",
      "Iteration no. 965 : 29.15732103299748\n",
      "Iteration no. 966 : 29.15206338289093\n",
      "Iteration no. 967 : 29.146813271463373\n",
      "Iteration no. 968 : 29.141570679502827\n",
      "Iteration no. 969 : 29.136335587864885\n",
      "Iteration no. 970 : 29.131107977472418\n",
      "Iteration no. 971 : 29.125887829315232\n",
      "Iteration no. 972 : 29.12067512444981\n",
      "Iteration no. 973 : 29.115469843998984\n",
      "Iteration no. 974 : 29.110271969151654\n",
      "Iteration no. 975 : 29.105081481162465\n",
      "Iteration no. 976 : 29.09989836135153\n",
      "Iteration no. 977 : 29.09472259110416\n",
      "Iteration no. 978 : 29.089554151870484\n",
      "Iteration no. 979 : 29.084393025165284\n",
      "Iteration no. 980 : 29.079239192567613\n",
      "Iteration no. 981 : 29.074092635720525\n",
      "Iteration no. 982 : 29.068953336330818\n",
      "Iteration no. 983 : 29.063821276168724\n",
      "Iteration no. 984 : 29.05869643706764\n",
      "Iteration no. 985 : 29.053578800923816\n",
      "Iteration no. 986 : 29.048468349696137\n",
      "Iteration no. 987 : 29.043365065405773\n",
      "Iteration no. 988 : 29.038268930135963\n",
      "Iteration no. 989 : 29.0331799260317\n",
      "Iteration no. 990 : 29.02809803529947\n",
      "Iteration no. 991 : 29.023023240206978\n",
      "Iteration no. 992 : 29.017955523082904\n",
      "Iteration no. 993 : 29.012894866316582\n",
      "Iteration no. 994 : 29.00784125235777\n",
      "Iteration no. 995 : 29.002794663716383\n",
      "Iteration no. 996 : 28.99775508296221\n",
      "Iteration no. 997 : 28.99272249272467\n",
      "Iteration no. 998 : 28.98769687569253\n",
      "Iteration no. 999 : 28.982678214613657\n",
      "Iteration no. 1000 : 28.977666492294766\n"
     ]
    }
   ],
   "source": [
    "mod_gd = LogisticRegression('gd', alpha = 0.1, normalize = True)\n",
    "mod_gd.fit(X_train, Y_train, verbose = True, save_errors = True)\n",
    "Y_hat_gd = mod_gd.predict(X_test, rounding = True)"
   ]
  },
  {
   "cell_type": "code",
   "execution_count": 316,
   "metadata": {},
   "outputs": [
    {
     "name": "stdout",
     "output_type": "stream",
     "text": [
      "Acccuracy:  0.9736842105263158\n",
      "Precision:  0.9767441860465116\n",
      "Recall:  0.9545454545454546\n",
      "F_measure:  0.9655172413793104\n",
      "R2_score:  0.888961038961039\n"
     ]
    }
   ],
   "source": [
    "assess(Y_test, Y_hat_gd)"
   ]
  },
  {
   "cell_type": "code",
   "execution_count": 317,
   "metadata": {},
   "outputs": [
    {
     "name": "stdout",
     "output_type": "stream",
     "text": [
      "Iteration no. 1 : 179.03412927320997\n",
      "Iteration no. 2 : 87.78824330381084\n",
      "Iteration no. 3 : 52.682820936331524\n",
      "Iteration no. 4 : 34.924794025123575\n",
      "Iteration no. 5 : 24.84174200100493\n",
      "Iteration no. 6 : 17.401738579899735\n",
      "Iteration no. 7 : 10.731459574525385\n",
      "Iteration no. 8 : 6.137317083710444\n",
      "Iteration no. 9 : 2.907393725265788\n",
      "Iteration no. 10 : 1.232189404937082\n",
      "Iteration no. 11 : 0.5280352783840314\n",
      "Iteration no. 12 : 0.25745655194712114\n",
      "Iteration no. 13 : 0.14794630370453932\n",
      "Iteration no. 14 : 0.09768520655388861\n",
      "Iteration no. 15 : 0.07106526422893836\n",
      "Iteration no. 16 : 0.05517797243710333\n",
      "Iteration no. 17 : 0.04481179647394013\n",
      "Iteration no. 18 : 0.03758749548822466\n",
      "Iteration no. 19 : 0.03229635263578271\n",
      "Iteration no. 20 : 0.02826930564260975\n",
      "Iteration no. 21 : 0.025109728270150233\n",
      "Iteration no. 22 : 0.022569094930555547\n",
      "Iteration no. 23 : 0.020484438179985423\n",
      "Iteration no. 24 : 0.018744778405568003\n",
      "Iteration no. 25 : 0.017272094967547988\n",
      "Iteration no. 26 : 0.016010029539991772\n",
      "Iteration no. 27 : 0.014916909117192841\n",
      "Iteration no. 28 : 0.01396128690626409\n",
      "Iteration no. 29 : 0.013119006284737696\n",
      "Iteration no. 30 : 0.012371216252367215\n",
      "Iteration no. 31 : 0.011702998694243745\n",
      "Iteration no. 32 : 0.01110239892427825\n",
      "Iteration no. 33 : 0.010559728277728695\n",
      "Iteration no. 34 : 0.010067054063048598\n",
      "Iteration no. 35 : 0.009617820773957871\n",
      "Iteration no. 36 : 0.009206564946199484\n",
      "Iteration no. 37 : 0.008828697793288725\n",
      "Iteration no. 38 : 0.008480337596986673\n",
      "Iteration no. 39 : 0.008158179091635447\n",
      "Iteration no. 40 : 0.007859390688748847\n",
      "Iteration no. 41 : 0.007581532846691233\n",
      "Iteration no. 42 : 0.007322492713568538\n",
      "Iteration no. 43 : 0.007080431414686289\n",
      "Iteration no. 44 : 0.006853741179099022\n",
      "Iteration no. 45 : 0.006641010231517929\n",
      "Iteration no. 46 : 0.006440993917540088\n",
      "Iteration no. 47 : 0.006252590756823261\n",
      "Iteration no. 48 : 0.006074822481773944\n",
      "Iteration no. 49 : 0.005906817325380972\n",
      "Iteration no. 50 : 0.005747795957553835\n",
      "Iteration no. 51 : 0.005597059578429747\n",
      "Iteration no. 52 : 0.005453979804923192\n",
      "Iteration no. 53 : 0.005317990040870553\n",
      "Iteration no. 54 : 0.005188578083374656\n",
      "Iteration no. 55 : 0.005065279763928858\n",
      "Iteration no. 56 : 0.004947673459495222\n",
      "Iteration no. 57 : 0.00483537533800988\n",
      "Iteration no. 58 : 0.004728035226348919\n",
      "Iteration no. 59 : 0.004625333007867806\n",
      "Iteration no. 60 : 0.0045269754721004\n",
      "Iteration no. 61 : 0.004432693551862829\n",
      "Iteration no. 62 : 0.004342239893395185\n",
      "Iteration no. 63 : 0.004255386713670211\n",
      "Iteration no. 64 : 0.004171923906117092\n",
      "Iteration no. 65 : 0.004091657361827678\n",
      "Iteration no. 66 : 0.004014407478237847\n",
      "Iteration no. 67 : 0.003940007831313745\n",
      "Iteration no. 68 : 0.0038683039907476697\n",
      "Iteration no. 69 : 0.0037991524605356457\n",
      "Iteration no. 70 : 0.003732419729728782\n",
      "Iteration no. 71 : 0.0036679814202536624\n",
      "Iteration no. 72 : 0.0036057215204149872\n",
      "Iteration no. 73 : 0.0035455316942205432\n",
      "Iteration no. 74 : 0.0034873106579151767\n",
      "Iteration no. 75 : 0.003430963616242985\n",
      "Iteration no. 76 : 0.003376401751850124\n",
      "Iteration no. 77 : 0.00332354176210621\n",
      "Iteration no. 78 : 0.0032723054382803934\n",
      "Iteration no. 79 : 0.00322261928261192\n",
      "Iteration no. 80 : 0.003174414159385291\n",
      "Iteration no. 81 : 0.0031276249765179024\n",
      "Iteration no. 82 : 0.0030821903946102293\n",
      "Iteration no. 83 : 0.0030380525607270996\n",
      "Iteration no. 84 : 0.0029951568645006977\n",
      "Iteration no. 85 : 0.0029534517144042937\n",
      "Iteration no. 86 : 0.0029128883322704514\n",
      "Iteration no. 87 : 0.0028734205643572448\n",
      "Iteration no. 88 : 0.0028350047074125733\n",
      "Iteration no. 89 : 0.002797599348383642\n",
      "Iteration no. 90 : 0.0027611652165272314\n",
      "Iteration no. 91 : 0.002725665046823045\n",
      "Iteration no. 92 : 0.002691063453699721\n",
      "Iteration no. 93 : 0.0026573268141619104\n",
      "Iteration no. 94 : 0.0026244231595305423\n",
      "Iteration no. 95 : 0.0025923220750586444\n",
      "Iteration no. 96 : 0.002560994606752188\n",
      "Iteration no. 97 : 0.002530413174823278\n",
      "Iteration no. 98 : 0.0025005514932068314\n",
      "Iteration no. 99 : 0.002471384494670718\n",
      "Iteration no. 100 : 0.0024428882610592418\n",
      "Iteration no. 101 : 0.002415039958268855\n",
      "Iteration no. 102 : 0.002387817775590273\n",
      "Iteration no. 103 : 0.002361200869068326\n",
      "Iteration no. 104 : 0.0023351693085857097\n",
      "Iteration no. 105 : 0.002309704028374725\n",
      "Iteration no. 106 : 0.002284786780715175\n",
      "Iteration no. 107 : 0.0022604000925663813\n",
      "Iteration no. 108 : 0.002236527224934921\n",
      "Iteration no. 109 : 0.0022131521347660433\n",
      "Iteration no. 110 : 0.002190259439182807\n",
      "Iteration no. 111 : 0.0021678343819079944\n",
      "Iteration no. 112 : 0.0021458628017148405\n",
      "Iteration no. 113 : 0.0021243311027554085\n",
      "Iteration no. 114 : 0.0021032262266576385\n",
      "Iteration no. 115 : 0.0020825356262460046\n",
      "Iteration no. 116 : 0.0020622472407942597\n",
      "Iteration no. 117 : 0.0020423494727005195\n",
      "Iteration no. 118 : 0.0020228311654860542\n",
      "Iteration no. 119 : 0.0020036815830439198\n",
      "Iteration no. 120 : 0.0019848903900390232\n",
      "Iteration no. 121 : 0.0019664476333975294\n",
      "Iteration no. 122 : 0.0019483437248095235\n",
      "Iteration no. 123 : 0.0019305694241926123\n",
      "Iteration no. 124 : 0.0019131158240295021\n",
      "Iteration no. 125 : 0.0018959743345611066\n",
      "Iteration no. 126 : 0.0018791366697482241\n",
      "Iteration no. 127 : 0.001862594833981675\n",
      "Iteration no. 128 : 0.0018463411094743706\n",
      "Iteration no. 129 : 0.0018303680459960852\n",
      "Iteration no. 130 : 0.0018146684448879164\n",
      "Iteration no. 131 : 0.0017992353520557718\n",
      "Iteration no. 132 : 0.001784062047420109\n",
      "Iteration no. 133 : 0.001769142034723349\n",
      "Iteration no. 134 : 0.0017544690322989125\n",
      "Iteration no. 135 : 0.00174003696428695\n",
      "Iteration no. 136 : 0.0017258399522833132\n",
      "Iteration no. 137 : 0.0017118723073900187\n",
      "Iteration no. 138 : 0.0016981285226417568\n",
      "Iteration no. 139 : 0.0016846032658004552\n",
      "Iteration no. 140 : 0.0016712913724802462\n",
      "Iteration no. 141 : 0.0016581878396063861\n",
      "Iteration no. 142 : 0.0016452878191657097\n",
      "Iteration no. 143 : 0.0016325866122486117\n",
      "Iteration no. 144 : 0.0016200796633691172\n",
      "Iteration no. 145 : 0.0016077625550355037\n",
      "Iteration no. 146 : 0.0015956310025685779\n",
      "Iteration no. 147 : 0.0015836808491511796\n",
      "Iteration no. 148 : 0.00157190806109935\n",
      "Iteration no. 149 : 0.0015603087233355207\n",
      "Iteration no. 150 : 0.0015488790350675955\n",
      "Iteration no. 151 : 0.001537615305651944\n",
      "Iteration no. 152 : 0.0015265139512789063\n",
      "Iteration no. 153 : 0.0015155714904967182\n",
      "Iteration no. 154 : 0.0015047845387200782\n",
      "Iteration no. 155 : 0.0014941498079596958\n",
      "Iteration no. 156 : 0.0014836641021966977\n",
      "Iteration no. 157 : 0.0014733243141837136\n",
      "Iteration no. 158 : 0.0014631274223937708\n",
      "Iteration no. 159 : 0.0014530704880799156\n",
      "Iteration no. 160 : 0.0014431506524655406\n",
      "Iteration no. 161 : 0.001433365134043438\n",
      "Iteration no. 162 : 0.001423711225982019\n",
      "Iteration no. 163 : 0.0014141862936414746\n",
      "Iteration no. 164 : 0.001404787772182003\n",
      "Iteration no. 165 : 0.0013955131642697616\n",
      "Iteration no. 166 : 0.0013863600378715517\n",
      "Iteration no. 167 : 0.001377326024134015\n",
      "Iteration no. 168 : 0.0013684088153517807\n",
      "Iteration no. 169 : 0.0013596061630020253\n",
      "Iteration no. 170 : 0.0013509158758617658\n",
      "Iteration no. 171 : 0.0013423358182014416\n",
      "Iteration no. 172 : 0.001333863908032476\n",
      "Iteration no. 173 : 0.0013254981154309001\n",
      "Iteration no. 174 : 0.0013172364609241682\n",
      "Iteration no. 175 : 0.001309077013929392\n",
      "Iteration no. 176 : 0.0013010178912576467\n",
      "Iteration no. 177 : 0.001293057255668919\n",
      "Iteration no. 178 : 0.0012851933144781371\n",
      "Iteration no. 179 : 0.0012774243182159493\n",
      "Iteration no. 180 : 0.0012697485593322578\n",
      "Iteration no. 181 : 0.001262164370951278\n",
      "Iteration no. 182 : 0.0012546701256676877\n",
      "Iteration no. 183 : 0.0012472642343858628\n",
      "Iteration no. 184 : 0.001239945145197206\n",
      "Iteration no. 185 : 0.0012327113423037787\n",
      "Iteration no. 186 : 0.0012255613449726963\n",
      "Iteration no. 187 : 0.0012184937065268368\n",
      "Iteration no. 188 : 0.0012115070133744163\n",
      "Iteration no. 189 : 0.0012045998840679911\n",
      "Iteration no. 190 : 0.001197770968396333\n",
      "Iteration no. 191 : 0.0011910189465070622\n",
      "Iteration no. 192 : 0.0011843425280597094\n",
      "Iteration no. 193 : 0.0011777404514029869\n",
      "Iteration no. 194 : 0.0011712114827851492\n",
      "Iteration no. 195 : 0.0011647544155883427\n",
      "Iteration no. 196 : 0.0011583680695808356\n",
      "Iteration no. 197 : 0.0011520512902098848\n",
      "Iteration no. 198 : 0.0011458029478973876\n",
      "Iteration no. 199 : 0.0011396219373760585\n",
      "Iteration no. 200 : 0.0011335071770356042\n",
      "Iteration no. 201 : 0.0011274576082945505\n",
      "Iteration no. 202 : 0.0011214721949902786\n",
      "Iteration no. 203 : 0.0011155499227898293\n",
      "Iteration no. 204 : 0.001109689798616364\n",
      "Iteration no. 205 : 0.001103890850099723\n",
      "Iteration no. 206 : 0.001098152125034091\n",
      "Iteration no. 207 : 0.0010924726908637565\n",
      "Iteration no. 208 : 0.0010868516341753134\n",
      "Iteration no. 209 : 0.0010812880602108488\n",
      "Iteration no. 210 : 0.001075781092393791\n",
      "Iteration no. 211 : 0.0010703298718690822\n",
      "Iteration no. 212 : 0.001064933557060452\n",
      "Iteration no. 213 : 0.0010595913232357979\n",
      "Iteration no. 214 : 0.00105430236208689\n",
      "Iteration no. 215 : 0.0010490658813261775\n",
      "Iteration no. 216 : 0.0010438811042907002\n",
      "Iteration no. 217 : 0.0010387472695577741\n",
      "Iteration no. 218 : 0.0010336636305744431\n",
      "Iteration no. 219 : 0.0010286294552948184\n",
      "Iteration no. 220 : 0.0010236440258331817\n",
      "Iteration no. 221 : 0.00101870663811987\n",
      "Iteration no. 222 : 0.0010138166015695926\n",
      "Iteration no. 223 : 0.001008973238766297\n",
      "Iteration no. 224 : 0.0010041758851445904\n",
      "Iteration no. 225 : 0.0009994238886897075\n",
      "Iteration no. 226 : 0.0009947166096420292\n",
      "Iteration no. 227 : 0.0009900534202120395\n",
      "Iteration no. 228 : 0.0009854337042977288\n",
      "Iteration no. 229 : 0.0009808568572197583\n",
      "Iteration no. 230 : 0.0009763222854518563\n",
      "Iteration no. 231 : 0.0009718294063714176\n",
      "Iteration no. 232 : 0.0009673776480053338\n",
      "Iteration no. 233 : 0.0009629664487893679\n",
      "Iteration no. 234 : 0.0009585952573344138\n",
      "Iteration no. 235 : 0.0009542635321929788\n",
      "Iteration no. 236 : 0.0009499707416416561\n",
      "Iteration no. 237 : 0.0009457163634594872\n",
      "Iteration no. 238 : 0.0009414998847198744\n",
      "Iteration no. 239 : 0.0009373208015813806\n",
      "Iteration no. 240 : 0.0009331786190900785\n",
      "Iteration no. 241 : 0.0009290728509841195\n",
      "Iteration no. 242 : 0.000925003019503413\n",
      "Iteration no. 243 : 0.0009209686552060763\n",
      "Iteration no. 244 : 0.0009169692967838882\n",
      "Iteration no. 245 : 0.0009130044908938405\n",
      "Iteration no. 246 : 0.0009090737919830295\n",
      "Iteration no. 247 : 0.0009051767621185442\n",
      "Iteration no. 248 : 0.0009013129708324544\n",
      "Iteration no. 249 : 0.0008974819949605816\n",
      "Iteration no. 250 : 0.0008936834184860458\n",
      "Iteration no. 251 : 0.0008899168323933591\n",
      "Iteration no. 252 : 0.0008861818345170804\n",
      "Iteration no. 253 : 0.0008824780294029047\n",
      "Iteration no. 254 : 0.000878805028165312\n",
      "Iteration no. 255 : 0.0008751624483555414\n",
      "Iteration no. 256 : 0.0008715499138243481\n",
      "Iteration no. 257 : 0.0008679670545981944\n",
      "Iteration no. 258 : 0.0008644135067480024\n",
      "Iteration no. 259 : 0.0008608889122687882\n"
     ]
    },
    {
     "name": "stdout",
     "output_type": "stream",
     "text": [
      "Iteration no. 260 : 0.0008573929189591852\n",
      "Iteration no. 261 : 0.0008539251803066303\n",
      "Iteration no. 262 : 0.0008504853553667758\n",
      "Iteration no. 263 : 0.0008470731086612242\n",
      "Iteration no. 264 : 0.000843688110057717\n",
      "Iteration no. 265 : 0.0008403300346770844\n",
      "Iteration no. 266 : 0.0008369985627754354\n",
      "Iteration no. 267 : 0.0008336933796526615\n",
      "Iteration no. 268 : 0.0008304141755511689\n",
      "Iteration no. 269 : 0.0008271606455565019\n",
      "Iteration no. 270 : 0.0008239324895067345\n",
      "Iteration no. 271 : 0.0008207294118977558\n",
      "Iteration no. 272 : 0.0008175511217927735\n",
      "Iteration no. 273 : 0.0008143973327419229\n",
      "Iteration no. 274 : 0.0008112677626812238\n",
      "Iteration no. 275 : 0.0008081621338659562\n",
      "Iteration no. 276 : 0.0008050801727742807\n",
      "Iteration no. 277 : 0.000802021610037729\n",
      "Iteration no. 278 : 0.0007989861803544842\n",
      "Iteration no. 279 : 0.000795973622420536\n",
      "Iteration no. 280 : 0.0007929836788467379\n",
      "Iteration no. 281 : 0.0007900160960936269\n",
      "Iteration no. 282 : 0.0007870706243939206\n",
      "Iteration no. 283 : 0.0007841470176844505\n",
      "Iteration no. 284 : 0.000781245033539096\n",
      "Iteration no. 285 : 0.0007783644331022738\n",
      "Iteration no. 286 : 0.0007755049810183176\n",
      "Iteration no. 287 : 0.0007726664453748496\n",
      "Iteration no. 288 : 0.0007698485976331608\n",
      "Iteration no. 289 : 0.0007670512125743571\n",
      "Iteration no. 290 : 0.000764274068233849\n",
      "Iteration no. 291 : 0.0007615169458429455\n",
      "Iteration no. 292 : 0.0007587796297743349\n",
      "Iteration no. 293 : 0.0007560619074846799\n",
      "Iteration no. 294 : 0.0007533635694596532\n",
      "Iteration no. 295 : 0.0007506844091596423\n",
      "Iteration no. 296 : 0.0007480242229690036\n",
      "Iteration no. 297 : 0.0007453828101408799\n",
      "Iteration no. 298 : 0.0007427599735147299\n",
      "Iteration no. 299 : 0.0007401555172283746\n",
      "Iteration no. 300 : 0.0007375692487878917\n",
      "Iteration no. 301 : 0.0007350009784378898\n",
      "Iteration no. 302 : 0.0007324505190538128\n",
      "Iteration no. 303 : 0.0007299176860949704\n",
      "Iteration no. 304 : 0.0007274022975587918\n",
      "Iteration no. 305 : 0.0007249041739424073\n",
      "Iteration no. 306 : 0.0007224231381907948\n",
      "Iteration no. 307 : 0.000719959015667576\n",
      "Iteration no. 308 : 0.000717511634100278\n",
      "Iteration no. 309 : 0.000715080823551573\n",
      "Iteration no. 310 : 0.0007126664163736437\n",
      "Iteration no. 311 : 0.0007102682471726512\n",
      "Iteration no. 312 : 0.0007078861527698732\n",
      "Iteration no. 313 : 0.0007055199721632854\n",
      "Iteration no. 314 : 0.0007031695464961381\n",
      "Iteration no. 315 : 0.0007008347190140972\n",
      "Iteration no. 316 : 0.0006985153350382619\n",
      "Iteration no. 317 : 0.0006962112419250816\n",
      "Iteration no. 318 : 0.0006939222890379297\n",
      "Iteration no. 319 : 0.0006916483277076874\n",
      "Iteration no. 320 : 0.0006893892112074269\n",
      "Iteration no. 321 : 0.0006871447947168803\n",
      "Iteration no. 322 : 0.0006849149352945697\n",
      "Iteration no. 323 : 0.0006826994918433862\n",
      "Iteration no. 324 : 0.0006804983250844968\n",
      "Iteration no. 325 : 0.0006783112975247006\n",
      "Iteration no. 326 : 0.0006761382734329991\n",
      "Iteration no. 327 : 0.0006739791188080638\n",
      "Iteration no. 328 : 0.0006718337013520325\n",
      "Iteration no. 329 : 0.0006697018904436376\n",
      "Iteration no. 330 : 0.000667583557112891\n",
      "Iteration no. 331 : 0.0006654785740114377\n",
      "Iteration no. 332 : 0.0006633868153940123\n",
      "Iteration no. 333 : 0.0006613081570854629\n",
      "Iteration no. 334 : 0.0006592424764600975\n",
      "Iteration no. 335 : 0.0006571896524182565\n",
      "Iteration no. 336 : 0.0006551495653626616\n",
      "Iteration no. 337 : 0.0006531220971736555\n",
      "Iteration no. 338 : 0.0006511071311842197\n",
      "Iteration no. 339 : 0.0006491045521658714\n",
      "Iteration no. 340 : 0.0006471142462976867\n",
      "Iteration no. 341 : 0.0006451361011489787\n",
      "Iteration no. 342 : 0.0006431700056584221\n",
      "Iteration no. 343 : 0.0006412158501120694\n",
      "Iteration no. 344 : 0.0006392735261244751\n",
      "Iteration no. 345 : 0.0006373429266154889\n",
      "Iteration no. 346 : 0.0006354239457938232\n",
      "Iteration no. 347 : 0.0006335164791378433\n",
      "Iteration no. 348 : 0.0006316204233742501\n",
      "Iteration no. 349 : 0.0006297356764594256\n",
      "Iteration no. 350 : 0.0006278621375655532\n",
      "Iteration no. 351 : 0.0006259997070567467\n",
      "Iteration no. 352 : 0.0006241482864760581\n",
      "Iteration no. 353 : 0.0006223077785250477\n",
      "Iteration no. 354 : 0.0006204780870491277\n",
      "Iteration no. 355 : 0.0006186591170177986\n",
      "Iteration no. 356 : 0.000616850774510436\n",
      "Iteration no. 357 : 0.000615052966704299\n",
      "Iteration no. 358 : 0.0006132656018471061\n",
      "Iteration no. 359 : 0.0006114885892529251\n",
      "Iteration no. 360 : 0.0006097218392819665\n",
      "Iteration no. 361 : 0.0006079652633258152\n",
      "Iteration no. 362 : 0.000606218773792885\n",
      "Iteration no. 363 : 0.0006044822840928748\n",
      "Iteration no. 364 : 0.0006027557086242207\n",
      "Iteration no. 365 : 0.0006010389627608831\n",
      "Iteration no. 366 : 0.0005993319628344716\n",
      "Iteration no. 367 : 0.0005976346261229179\n",
      "Iteration no. 368 : 0.0005959468708408169\n",
      "Iteration no. 369 : 0.000594268616118441\n",
      "Iteration no. 370 : 0.0005925997819967437\n",
      "Iteration no. 371 : 0.0005909402894097053\n",
      "Iteration no. 372 : 0.0005892900601727853\n",
      "Iteration no. 373 : 0.0005876490169720414\n",
      "Iteration no. 374 : 0.0005860170833513603\n",
      "Iteration no. 375 : 0.000584394183699467\n",
      "Iteration no. 376 : 0.0005827802432421525\n",
      "Iteration no. 377 : 0.0005811751880227323\n",
      "Iteration no. 378 : 0.0005795789449018231\n",
      "Iteration no. 379 : 0.0005779914415360262\n",
      "Iteration no. 380 : 0.0005764126063739286\n",
      "Iteration no. 381 : 0.0005748423686394496\n",
      "Iteration no. 382 : 0.0005732806583297296\n",
      "Iteration no. 383 : 0.0005717274061960336\n",
      "Iteration no. 384 : 0.0005701825437384214\n",
      "Iteration no. 385 : 0.0005686460031935333\n",
      "Iteration no. 386 : 0.0005671177175261528\n",
      "Iteration no. 387 : 0.0005655976204185459\n",
      "Iteration no. 388 : 0.0005640856462623569\n",
      "Iteration no. 389 : 0.0005625817301462834\n",
      "Iteration no. 390 : 0.0005610858078506358\n",
      "Iteration no. 391 : 0.0005595978158339018\n",
      "Iteration no. 392 : 0.0005581176912283056\n",
      "Iteration no. 393 : 0.0005566453718265953\n",
      "Iteration no. 394 : 0.0005551807960764901\n",
      "Iteration no. 395 : 0.0005537239030711325\n",
      "Iteration no. 396 : 0.0005522746325394288\n",
      "Iteration no. 397 : 0.000550832924840385\n",
      "Iteration no. 398 : 0.0005493987209528926\n",
      "Iteration no. 399 : 0.000547971962467846\n",
      "Iteration no. 400 : 0.000546552591580924\n",
      "Iteration no. 401 : 0.0005451405510839303\n",
      "Iteration no. 402 : 0.0005437357846087084\n",
      "Iteration no. 403 : 0.0005423382361923776\n",
      "Iteration no. 404 : 0.0005409478500407437\n",
      "Iteration no. 405 : 0.0005395645712587148\n",
      "Iteration no. 406 : 0.0005381883455080176\n",
      "Iteration no. 407 : 0.0005368191190042002\n",
      "Iteration no. 408 : 0.0005354568385076379\n",
      "Iteration no. 409 : 0.0005341014513158731\n",
      "Iteration no. 410 : 0.0005327529052619479\n",
      "Iteration no. 411 : 0.0005314111486979735\n",
      "Iteration no. 412 : 0.0005300761305012352\n",
      "Iteration no. 413 : 0.0005287478000536527\n",
      "Iteration no. 414 : 0.0005274261072493291\n",
      "Iteration no. 415 : 0.0005261110024772314\n",
      "Iteration no. 416 : 0.0005248024366211889\n",
      "Iteration no. 417 : 0.0005235003610514555\n",
      "Iteration no. 418 : 0.0005222047276191586\n",
      "Iteration no. 419 : 0.0005209154886503023\n",
      "Iteration no. 420 : 0.0005196325969398837\n",
      "Iteration no. 421 : 0.0005183560057461185\n",
      "Iteration no. 422 : 0.0005170856687862221\n",
      "Iteration no. 423 : 0.0005158215402288591\n",
      "Iteration no. 424 : 0.0005145635746874824\n",
      "Iteration no. 425 : 0.0005133117272194435\n",
      "Iteration no. 426 : 0.0005120659533157787\n",
      "Iteration no. 427 : 0.0005108262088989875\n",
      "Iteration no. 428 : 0.0005095924503183707\n",
      "Iteration no. 429 : 0.0005083646343410351\n",
      "Iteration no. 430 : 0.0005071427181504509\n",
      "Iteration no. 431 : 0.0005059266593403457\n",
      "Iteration no. 432 : 0.0005047164159084855\n",
      "Iteration no. 433 : 0.0005035119462542322\n",
      "Iteration no. 434 : 0.0005023132091753243\n",
      "Iteration no. 435 : 0.0005011201638553299\n",
      "Iteration no. 436 : 0.0004999327698677549\n",
      "Iteration no. 437 : 0.0004987509871669383\n",
      "Iteration no. 438 : 0.0004975747760839448\n",
      "Iteration no. 439 : 0.00049640409732512\n",
      "Iteration no. 440 : 0.0004952389119618764\n",
      "Iteration no. 441 : 0.0004940791814336913\n",
      "Iteration no. 442 : 0.0004929248675357824\n",
      "Iteration no. 443 : 0.0004917759324233259\n",
      "Iteration no. 444 : 0.000490632338600355\n",
      "Iteration no. 445 : 0.0004894940489203134\n",
      "Iteration no. 446 : 0.0004883610265782846\n",
      "Iteration no. 447 : 0.00048723323510988035\n",
      "Iteration no. 448 : 0.0004861106383884657\n",
      "Iteration no. 449 : 0.00048499320061616514\n",
      "Iteration no. 450 : 0.0004838808863238625\n",
      "Iteration no. 451 : 0.0004827736603679812\n",
      "Iteration no. 452 : 0.00048167148792459957\n",
      "Iteration no. 453 : 0.00048057433448734125\n",
      "Iteration no. 454 : 0.0004794821658628228\n",
      "Iteration no. 455 : 0.0004783949481673228\n",
      "Iteration no. 456 : 0.00047731264782411735\n",
      "Iteration no. 457 : 0.00047623523155770615\n",
      "Iteration no. 458 : 0.00047516266639359043\n",
      "Iteration no. 459 : 0.0004740949196542759\n",
      "Iteration no. 460 : 0.00047303195895216703\n",
      "Iteration no. 461 : 0.00047197375219156505\n",
      "Iteration no. 462 : 0.00047092026756200673\n",
      "Iteration no. 463 : 0.0004698714735359319\n",
      "Iteration no. 464 : 0.0004688273388682402\n",
      "Iteration no. 465 : 0.0004677878325854098\n",
      "Iteration no. 466 : 0.00046675292399393504\n",
      "Iteration no. 467 : 0.0004657225826663374\n",
      "Iteration no. 468 : 0.0004646967784450514\n",
      "Iteration no. 469 : 0.0004636754814373168\n",
      "Iteration no. 470 : 0.00046265866201229217\n",
      "Iteration no. 471 : 0.00046164629079661353\n",
      "Iteration no. 472 : 0.0004606383386767258\n",
      "Iteration no. 473 : 0.0004596347767884464\n",
      "Iteration no. 474 : 0.000458635576522183\n",
      "Iteration no. 475 : 0.00045764070951283037\n",
      "Iteration no. 476 : 0.0004566501476424348\n",
      "Iteration no. 477 : 0.0004556638630349757\n",
      "Iteration no. 478 : 0.0004546818280575867\n",
      "Iteration no. 479 : 0.00045370401531045243\n",
      "Iteration no. 480 : 0.0004527303976312491\n",
      "Iteration no. 481 : 0.00045176094808926036\n",
      "Iteration no. 482 : 0.00045079563998337845\n",
      "Iteration no. 483 : 0.0004498344468417712\n",
      "Iteration no. 484 : 0.0004488773424162196\n",
      "Iteration no. 485 : 0.0004479243006803411\n",
      "Iteration no. 486 : 0.00044697529583158797\n",
      "Iteration no. 487 : 0.0004460303022812554\n",
      "Iteration no. 488 : 0.00044508929465825555\n",
      "Iteration no. 489 : 0.0004441522478057871\n",
      "Iteration no. 490 : 0.00044321913677722693\n",
      "Iteration no. 491 : 0.0004422899368352423\n",
      "Iteration no. 492 : 0.00044136462344857046\n",
      "Iteration no. 493 : 0.00044044317229179677\n",
      "Iteration no. 494 : 0.0004395255592422459\n",
      "Iteration no. 495 : 0.0004386117603760958\n",
      "Iteration no. 496 : 0.0004377017519677114\n",
      "Iteration no. 497 : 0.0004367955104908658\n",
      "Iteration no. 498 : 0.00043589301261074656\n",
      "Iteration no. 499 : 0.0004349942351855097\n",
      "Iteration no. 500 : 0.0004340991552637261\n",
      "Iteration no. 501 : 0.0004332077500822719\n",
      "Iteration no. 502 : 0.0004323199970648853\n",
      "Iteration no. 503 : 0.00043143587381872444\n",
      "Iteration no. 504 : 0.00043055535813403415\n",
      "Iteration no. 505 : 0.0004296784279840353\n",
      "Iteration no. 506 : 0.00042880506151704155\n",
      "Iteration no. 507 : 0.00042793523706123317\n",
      "Iteration no. 508 : 0.00042706893312010545\n",
      "Iteration no. 509 : 0.0004262061283670283\n",
      "Iteration no. 510 : 0.0004253468016537944\n",
      "Iteration no. 511 : 0.00042449093199518754\n",
      "Iteration no. 512 : 0.0004236384985804177\n",
      "Iteration no. 513 : 0.0004227894807614633\n",
      "Iteration no. 514 : 0.00042194385805706814\n",
      "Iteration no. 515 : 0.0004211016101499655\n",
      "Iteration no. 516 : 0.00042026271688188244\n",
      "Iteration no. 517 : 0.00041942715825587064\n",
      "Iteration no. 518 : 0.0004185949144367509\n",
      "Iteration no. 519 : 0.0004177659657423415\n"
     ]
    },
    {
     "name": "stdout",
     "output_type": "stream",
     "text": [
      "Iteration no. 520 : 0.0004169402926473449\n",
      "Iteration no. 521 : 0.00041611787578057114\n",
      "Iteration no. 522 : 0.00041529869592238486\n",
      "Iteration no. 523 : 0.000414482734005926\n",
      "Iteration no. 524 : 0.000413669971111781\n",
      "Iteration no. 525 : 0.0004128603884699807\n",
      "Iteration no. 526 : 0.000412053967456004\n",
      "Iteration no. 527 : 0.0004112506895899998\n",
      "Iteration no. 528 : 0.000410450536538009\n",
      "Iteration no. 529 : 0.0004096534901057465\n",
      "Iteration no. 530 : 0.00040885953224259843\n",
      "Iteration no. 531 : 0.00040806864503529334\n",
      "Iteration no. 532 : 0.0004072808107094565\n",
      "Iteration no. 533 : 0.0004064960116275007\n",
      "Iteration no. 534 : 0.0004057142302874047\n",
      "Iteration no. 535 : 0.00040493544932326814\n",
      "Iteration no. 536 : 0.00040415965149809513\n",
      "Iteration no. 537 : 0.00040338681971056656\n",
      "Iteration no. 538 : 0.00040261693698848963\n",
      "Iteration no. 539 : 0.00040184998648713245\n",
      "Iteration no. 540 : 0.00040108595149288776\n",
      "Iteration no. 541 : 0.00040032481541716643\n",
      "Iteration no. 542 : 0.0003995665617957314\n",
      "Iteration no. 543 : 0.00039881117429180636\n",
      "Iteration no. 544 : 0.0003980586366887478\n",
      "Iteration no. 545 : 0.0003973089328945972\n",
      "Iteration no. 546 : 0.0003965620469364187\n",
      "Iteration no. 547 : 0.00039581796296174227\n",
      "Iteration no. 548 : 0.0003950766652373425\n",
      "Iteration no. 549 : 0.00039433813814646285\n",
      "Iteration no. 550 : 0.0003936023661890376\n",
      "Iteration no. 551 : 0.00039286933398191397\n",
      "Iteration no. 552 : 0.0003921390262534119\n",
      "Iteration no. 553 : 0.00039141142784765383\n",
      "Iteration no. 554 : 0.00039068652371956864\n",
      "Iteration no. 555 : 0.0003899642989354465\n",
      "Iteration no. 556 : 0.0003892447386732723\n",
      "Iteration no. 557 : 0.0003885278282161749\n",
      "Iteration no. 558 : 0.00038781355295986565\n",
      "Iteration no. 559 : 0.00038710189840642114\n",
      "Iteration no. 560 : 0.0003863928501609523\n",
      "Iteration no. 561 : 0.00038568639393615675\n",
      "Iteration no. 562 : 0.0003849825155490983\n",
      "Iteration no. 563 : 0.00038428120091898706\n",
      "Iteration no. 564 : 0.0003835824360697327\n",
      "Iteration no. 565 : 0.0003828862071219507\n",
      "Iteration no. 566 : 0.0003821925003025103\n",
      "Iteration no. 567 : 0.0003815013019328772\n",
      "Iteration no. 568 : 0.000380812598437218\n",
      "Iteration no. 569 : 0.0003801263763339622\n",
      "Iteration no. 570 : 0.00037944262224102077\n",
      "Iteration no. 571 : 0.00037876132287112277\n",
      "Iteration no. 572 : 0.0003780824650327035\n",
      "Iteration no. 573 : 0.00037740603562857225\n",
      "Iteration no. 574 : 0.00037673202165480193\n",
      "Iteration no. 575 : 0.0003760604101992859\n",
      "Iteration no. 576 : 0.00037539118844373613\n",
      "Iteration no. 577 : 0.00037472434365968654\n",
      "Iteration no. 578 : 0.0003740598632074936\n",
      "Iteration no. 579 : 0.0003733977345399999\n",
      "Iteration no. 580 : 0.0003727379451966505\n",
      "Iteration no. 581 : 0.0003720804828052681\n",
      "Iteration no. 582 : 0.00037142533507916785\n",
      "Iteration no. 583 : 0.0003707724898219301\n",
      "Iteration no. 584 : 0.0003701219349184081\n",
      "Iteration no. 585 : 0.0003694736583415003\n",
      "Iteration no. 586 : 0.0003688276481449335\n",
      "Iteration no. 587 : 0.0003681838924684814\n",
      "Iteration no. 588 : 0.0003675423795340782\n",
      "Iteration no. 589 : 0.00036690309764426476\n",
      "Iteration no. 590 : 0.0003662660351837425\n",
      "Iteration no. 591 : 0.0003656311806184852\n",
      "Iteration no. 592 : 0.00036499852249218657\n",
      "Iteration no. 593 : 0.00036436804942881337\n",
      "Iteration no. 594 : 0.00036373975013127325\n",
      "Iteration no. 595 : 0.0003631136133791942\n",
      "Iteration no. 596 : 0.0003624896280290357\n",
      "Iteration no. 597 : 0.00036186778301630884\n",
      "Iteration no. 598 : 0.000361248067347805\n",
      "Iteration no. 599 : 0.00036063047010925623\n",
      "Iteration no. 600 : 0.0003600149804594509\n",
      "Iteration no. 601 : 0.00035940158763089996\n",
      "Iteration no. 602 : 0.0003587902809297261\n",
      "Iteration no. 603 : 0.0003581810497335536\n",
      "Iteration no. 604 : 0.0003575738834939515\n",
      "Iteration no. 605 : 0.0003569687717316592\n",
      "Iteration no. 606 : 0.00035636570404036147\n",
      "Iteration no. 607 : 0.0003557646700821361\n",
      "Iteration no. 608 : 0.00035516565958845347\n",
      "Iteration no. 609 : 0.0003545686623616194\n",
      "Iteration no. 610 : 0.0003539736682716671\n",
      "Iteration no. 611 : 0.0003533806672558013\n",
      "Iteration no. 612 : 0.00035278964931773267\n",
      "Iteration no. 613 : 0.0003522006045302308\n",
      "Iteration no. 614 : 0.0003516135230304617\n",
      "Iteration no. 615 : 0.0003510283950218748\n",
      "Iteration no. 616 : 0.00035044521077275993\n",
      "Iteration no. 617 : 0.000349863960616247\n",
      "Iteration no. 618 : 0.00034928463494786355\n",
      "Iteration no. 619 : 0.00034870722422864343\n",
      "Iteration no. 620 : 0.00034813171898346153\n",
      "Iteration no. 621 : 0.00034755810979659254\n",
      "Iteration no. 622 : 0.00034698638731448677\n",
      "Iteration no. 623 : 0.0003464165422481014\n",
      "Iteration no. 624 : 0.0003458485653654621\n",
      "Iteration no. 625 : 0.0003452824474982133\n",
      "Iteration no. 626 : 0.0003447181795358448\n",
      "Iteration no. 627 : 0.0003441557524275794\n",
      "Iteration no. 628 : 0.00034359515718348284\n",
      "Iteration no. 629 : 0.000343036384868469\n",
      "Iteration no. 630 : 0.0003424794266087384\n",
      "Iteration no. 631 : 0.000341924273586561\n",
      "Iteration no. 632 : 0.00034137091704027566\n",
      "Iteration no. 633 : 0.0003408193482675097\n",
      "Iteration no. 634 : 0.00034026955861885075\n",
      "Iteration no. 635 : 0.00033972153950373126\n",
      "Iteration no. 636 : 0.0003391752823857649\n",
      "Iteration no. 637 : 0.00033863077878008234\n",
      "Iteration no. 638 : 0.00033808802026099184\n",
      "Iteration no. 639 : 0.0003375469984535412\n",
      "Iteration no. 640 : 0.0003370077050380701\n",
      "Iteration no. 641 : 0.0003364701317474342\n",
      "Iteration no. 642 : 0.0003359342703660058\n",
      "Iteration no. 643 : 0.0003354001127314507\n",
      "Iteration no. 644 : 0.0003348676507336174\n",
      "Iteration no. 645 : 0.00033433687631342717\n",
      "Iteration no. 646 : 0.00033380778146165253\n",
      "Iteration no. 647 : 0.0003332803582210271\n",
      "Iteration no. 648 : 0.0003327545986845796\n",
      "Iteration no. 649 : 0.0003322304949936361\n",
      "Iteration no. 650 : 0.0003317080393402619\n",
      "Iteration no. 651 : 0.0003311872239644865\n",
      "Iteration no. 652 : 0.0003306680411571896\n",
      "Iteration no. 653 : 0.0003301504832536622\n",
      "Iteration no. 654 : 0.00032963454264071186\n",
      "Iteration no. 655 : 0.0003291202117507784\n",
      "Iteration no. 656 : 0.0003286074830641547\n",
      "Iteration no. 657 : 0.00032809634910698773\n",
      "Iteration no. 658 : 0.00032758680245383243\n",
      "Iteration no. 659 : 0.0003270788357229886\n",
      "Iteration no. 660 : 0.0003265724415779443\n",
      "Iteration no. 661 : 0.0003260676127315945\n",
      "Iteration no. 662 : 0.00032556434193769255\n",
      "Iteration no. 663 : 0.00032506262199529076\n",
      "Iteration no. 664 : 0.0003245624457498511\n",
      "Iteration no. 665 : 0.00032406380608924763\n",
      "Iteration no. 666 : 0.0003235666959435452\n",
      "Iteration no. 667 : 0.000323071108289995\n",
      "Iteration no. 668 : 0.0003225770361453741\n",
      "Iteration no. 669 : 0.0003220844725699823\n",
      "Iteration no. 670 : 0.000321593410667975\n",
      "Iteration no. 671 : 0.00032110384358236736\n",
      "Iteration no. 672 : 0.0003206157645006964\n",
      "Iteration no. 673 : 0.0003201291666503581\n",
      "Iteration no. 674 : 0.00031964404329960626\n",
      "Iteration no. 675 : 0.00031916038775910713\n",
      "Iteration no. 676 : 0.0003186781933781646\n",
      "Iteration no. 677 : 0.00031819745354671845\n",
      "Iteration no. 678 : 0.00031771816169490034\n",
      "Iteration no. 679 : 0.00031724031129247855\n",
      "Iteration no. 680 : 0.0003167638958469709\n",
      "Iteration no. 681 : 0.000316288908906753\n",
      "Iteration no. 682 : 0.00031581534405728353\n",
      "Iteration no. 683 : 0.0003153431949226589\n",
      "Iteration no. 684 : 0.00031487245516605687\n",
      "Iteration no. 685 : 0.00031440311848784935\n",
      "Iteration no. 686 : 0.0003139351786258244\n",
      "Iteration no. 687 : 0.0003134686293542983\n",
      "Iteration no. 688 : 0.00031300346448522503\n",
      "Iteration no. 689 : 0.0003125396778675311\n",
      "Iteration no. 690 : 0.00031207726338511647\n",
      "Iteration no. 691 : 0.00031161621496085133\n",
      "Iteration no. 692 : 0.0003111565265498041\n",
      "Iteration no. 693 : 0.00031069819214457037\n",
      "Iteration no. 694 : 0.0003102412057739403\n",
      "Iteration no. 695 : 0.0003097855615000125\n",
      "Iteration no. 696 : 0.000309331253420858\n",
      "Iteration no. 697 : 0.00030887827566841155\n",
      "Iteration no. 698 : 0.000308426622408915\n",
      "Iteration no. 699 : 0.0003079762878438058\n",
      "Iteration no. 700 : 0.00030752726620616436\n",
      "Iteration no. 701 : 0.00030707955176471034\n",
      "Iteration no. 702 : 0.0003066331388219161\n",
      "Iteration no. 703 : 0.00030618802170756645\n",
      "Iteration no. 704 : 0.0003057441947954128\n",
      "Iteration no. 705 : 0.00030530165248030195\n",
      "Iteration no. 706 : 0.00030486038919538496\n",
      "Iteration no. 707 : 0.0003044203994053444\n",
      "Iteration no. 708 : 0.00030398167760628384\n",
      "Iteration no. 709 : 0.0003035442183256161\n",
      "Iteration no. 710 : 0.0003031080161236182\n",
      "Iteration no. 711 : 0.0003026730655889901\n",
      "Iteration no. 712 : 0.000302239361344739\n",
      "Iteration no. 713 : 0.00030180689804174\n",
      "Iteration no. 714 : 0.00030137567036351014\n",
      "Iteration no. 715 : 0.0003009456730223223\n",
      "Iteration no. 716 : 0.0003005169007630913\n",
      "Iteration no. 717 : 0.00030008934835693457\n",
      "Iteration no. 718 : 0.0002996630106077223\n",
      "Iteration no. 719 : 0.0002992378823473035\n",
      "Iteration no. 720 : 0.0002988139584368384\n",
      "Iteration no. 721 : 0.0002983912337676864\n",
      "Iteration no. 722 : 0.00029796970325985197\n",
      "Iteration no. 723 : 0.0002975493618593199\n",
      "Iteration no. 724 : 0.0002971302045434956\n",
      "Iteration no. 725 : 0.0002967122263180962\n",
      "Iteration no. 726 : 0.00029629542221504127\n",
      "Iteration no. 727 : 0.0002958797872954506\n",
      "Iteration no. 728 : 0.00029546531664720126\n",
      "Iteration no. 729 : 0.0002950520053864824\n",
      "Iteration no. 730 : 0.0002946398486561294\n",
      "Iteration no. 731 : 0.0002942288416279557\n",
      "Iteration no. 732 : 0.0002938189794956473\n",
      "Iteration no. 733 : 0.0002934102574863089\n",
      "Iteration no. 734 : 0.00029300267084747436\n",
      "Iteration no. 735 : 0.0002925962148588754\n",
      "Iteration no. 736 : 0.00029219088482156064\n",
      "Iteration no. 737 : 0.00029178667606378063\n",
      "Iteration no. 738 : 0.000291383583940099\n",
      "Iteration no. 739 : 0.00029098160383250315\n",
      "Iteration no. 740 : 0.00029058073114518576\n",
      "Iteration no. 741 : 0.0002901809613095411\n",
      "Iteration no. 742 : 0.0002897822897821666\n",
      "Iteration no. 743 : 0.00028938471204319736\n",
      "Iteration no. 744 : 0.0002889882235988597\n",
      "Iteration no. 745 : 0.00028859281997858466\n",
      "Iteration no. 746 : 0.00028819849673811655\n",
      "Iteration no. 747 : 0.00028780524945596015\n",
      "Iteration no. 748 : 0.00028741307373426905\n",
      "Iteration no. 749 : 0.00028702196520228717\n",
      "Iteration no. 750 : 0.00028663191950924357\n",
      "Iteration no. 751 : 0.00028624293232868195\n",
      "Iteration no. 752 : 0.0002858549993599042\n",
      "Iteration no. 753 : 0.00028546811632308537\n",
      "Iteration no. 754 : 0.00028508227896304833\n",
      "Iteration no. 755 : 0.0002846974830467103\n",
      "Iteration no. 756 : 0.0002843137243635271\n",
      "Iteration no. 757 : 0.00028393099872593686\n",
      "Iteration no. 758 : 0.0002835493019702484\n",
      "Iteration no. 759 : 0.00028316862995331085\n",
      "Iteration no. 760 : 0.0002827889785537342\n",
      "Iteration no. 761 : 0.0002824103436753317\n",
      "Iteration no. 762 : 0.00028203272124079103\n",
      "Iteration no. 763 : 0.00028165610719345103\n",
      "Iteration no. 764 : 0.00028128049750429586\n",
      "Iteration no. 765 : 0.0002809058881588545\n",
      "Iteration no. 766 : 0.0002805322751679698\n",
      "Iteration no. 767 : 0.00028015965456302464\n",
      "Iteration no. 768 : 0.00027978802239538676\n",
      "Iteration no. 769 : 0.000279417374737852\n",
      "Iteration no. 770 : 0.00027904770768486615\n",
      "Iteration no. 771 : 0.00027867901735063806\n",
      "Iteration no. 772 : 0.0002783112998700276\n",
      "Iteration no. 773 : 0.00027794455139776807\n",
      "Iteration no. 774 : 0.000277578768109466\n",
      "Iteration no. 775 : 0.00027721394620148994\n",
      "Iteration no. 776 : 0.0002768500818889717\n",
      "Iteration no. 777 : 0.00027648717140647306\n",
      "Iteration no. 778 : 0.0002761252110103167\n",
      "Iteration no. 779 : 0.0002757641969744788\n",
      "Iteration no. 780 : 0.0002754041255939193\n",
      "Iteration no. 781 : 0.00027504499318058563\n",
      "Iteration no. 782 : 0.00027468679606740883\n",
      "Iteration no. 783 : 0.0002743295306074159\n",
      "Iteration no. 784 : 0.0002739731931705098\n",
      "Iteration no. 785 : 0.000273617780144358\n",
      "Iteration no. 786 : 0.0002732632879400543\n",
      "Iteration no. 787 : 0.0002729097129827929\n",
      "Iteration no. 788 : 0.000272557051717642\n",
      "Iteration no. 789 : 0.0002722053006094322\n",
      "Iteration no. 790 : 0.0002718544561379829\n",
      "Iteration no. 791 : 0.0002715045148044305\n",
      "Iteration no. 792 : 0.00027115547312645444\n",
      "Iteration no. 793 : 0.00027080732763994244\n",
      "Iteration no. 794 : 0.0002704600748985464\n",
      "Iteration no. 795 : 0.0002701137114729055\n",
      "Iteration no. 796 : 0.00026976823395220004\n"
     ]
    },
    {
     "name": "stdout",
     "output_type": "stream",
     "text": [
      "Iteration no. 797 : 0.00026942363894182043\n",
      "Iteration no. 798 : 0.00026907992306525436\n",
      "Iteration no. 799 : 0.0002687370829641978\n",
      "Iteration no. 800 : 0.0002683951152950022\n",
      "Iteration no. 801 : 0.0002680540167331157\n",
      "Iteration no. 802 : 0.00026771378397041814\n",
      "Iteration no. 803 : 0.00026737441371511053\n",
      "Iteration no. 804 : 0.0002670359026916035\n",
      "Iteration no. 805 : 0.000266698247642072\n",
      "Iteration no. 806 : 0.0002663614453240127\n",
      "Iteration no. 807 : 0.0002660254925112431\n",
      "Iteration no. 808 : 0.000265690385995789\n",
      "Iteration no. 809 : 0.00026535612258344357\n",
      "Iteration no. 810 : 0.0002650226990978751\n",
      "Iteration no. 811 : 0.00026469011237740744\n",
      "Iteration no. 812 : 0.00026435835927624137\n",
      "Iteration no. 813 : 0.0002640274366648983\n",
      "Iteration no. 814 : 0.0002636973414295545\n",
      "Iteration no. 815 : 0.0002633680704713749\n",
      "Iteration no. 816 : 0.0002630396207072899\n",
      "Iteration no. 817 : 0.0002627119890703289\n",
      "Iteration no. 818 : 0.00026238517250762176\n",
      "Iteration no. 819 : 0.00026205916798084265\n",
      "Iteration no. 820 : 0.00026173397246987405\n",
      "Iteration no. 821 : 0.0002614095829665894\n",
      "Iteration no. 822 : 0.00026108599647807257\n",
      "Iteration no. 823 : 0.0002607632100276176\n",
      "Iteration no. 824 : 0.0002604412206511752\n",
      "Iteration no. 825 : 0.00026012002540190543\n",
      "Iteration no. 826 : 0.000259799621345292\n",
      "Iteration no. 827 : 0.0002594800055633617\n",
      "Iteration no. 828 : 0.00025916117514891105\n",
      "Iteration no. 829 : 0.0002588431272125005\n",
      "Iteration no. 830 : 0.00025852585887845784\n",
      "Iteration no. 831 : 0.00025820936728310174\n",
      "Iteration no. 832 : 0.0002578936495782946\n",
      "Iteration no. 833 : 0.00025757870292966603\n",
      "Iteration no. 834 : 0.0002572645245162798\n",
      "Iteration no. 835 : 0.0002569511115324103\n",
      "Iteration no. 836 : 0.00025663846118188034\n",
      "Iteration no. 837 : 0.0002563265706886082\n",
      "Iteration no. 838 : 0.0002560154372830629\n",
      "Iteration no. 839 : 0.0002557050582136997\n",
      "Iteration no. 840 : 0.000255395430742519\n",
      "Iteration no. 841 : 0.0002550865521417357\n",
      "Iteration no. 842 : 0.00025477841969744297\n",
      "Iteration no. 843 : 0.0002544710307110556\n",
      "Iteration no. 844 : 0.0002541643824950909\n",
      "Iteration no. 845 : 0.0002538584723757226\n",
      "Iteration no. 846 : 0.00025355329769167025\n",
      "Iteration no. 847 : 0.00025324885579408834\n",
      "Iteration no. 848 : 0.00025294514404723266\n",
      "Iteration no. 849 : 0.00025264215982868184\n",
      "Iteration no. 850 : 0.00025233990052700634\n",
      "Iteration no. 851 : 0.000252038363545099\n",
      "Iteration no. 852 : 0.0002517375462961778\n",
      "Iteration no. 853 : 0.00025143744620767256\n",
      "Iteration no. 854 : 0.0002511380607192256\n",
      "Iteration no. 855 : 0.0002508393872800277\n",
      "Iteration no. 856 : 0.00025054142335425797\n",
      "Iteration no. 857 : 0.00025024416641675424\n",
      "Iteration no. 858 : 0.0002499476139560105\n",
      "Iteration no. 859 : 0.0002496517634689588\n",
      "Iteration no. 860 : 0.00024935661246807463\n",
      "Iteration no. 861 : 0.000249062158475271\n",
      "Iteration no. 862 : 0.00024876839902478453\n",
      "Iteration no. 863 : 0.00024847533166350906\n",
      "Iteration no. 864 : 0.00024818295394810866\n",
      "Iteration no. 865 : 0.00024789126344734925\n",
      "Iteration no. 866 : 0.00024760025774209855\n",
      "Iteration no. 867 : 0.0002473099344237719\n",
      "Iteration no. 868 : 0.0002470202910956642\n",
      "Iteration no. 869 : 0.00024673132537172916\n",
      "Iteration no. 870 : 0.00024644303487835514\n",
      "Iteration no. 871 : 0.00024615541724936946\n",
      "Iteration no. 872 : 0.0002458684701345871\n",
      "Iteration no. 873 : 0.00024558219119192795\n",
      "Iteration no. 874 : 0.00024529657809074757\n",
      "Iteration no. 875 : 0.000245011628510061\n",
      "Iteration no. 876 : 0.00024472734014265024\n",
      "Iteration no. 877 : 0.00024444371068795895\n",
      "Iteration no. 878 : 0.0002441607378601973\n",
      "Iteration no. 879 : 0.00024387841938045912\n",
      "Iteration no. 880 : 0.0002435967529831613\n",
      "Iteration no. 881 : 0.00024331573641237988\n",
      "Iteration no. 882 : 0.0002430353674208513\n",
      "Iteration no. 883 : 0.00024275564377441262\n",
      "Iteration no. 884 : 0.00024247656324667317\n",
      "Iteration no. 885 : 0.00024219812362412087\n",
      "Iteration no. 886 : 0.0002419203227003497\n",
      "Iteration no. 887 : 0.0002416431582808332\n",
      "Iteration no. 888 : 0.00024136662818203655\n",
      "Iteration no. 889 : 0.00024109073022908495\n",
      "Iteration no. 890 : 0.00024081546225654084\n",
      "Iteration no. 891 : 0.00024054082210907008\n",
      "Iteration no. 892 : 0.00024026680764299607\n",
      "Iteration no. 893 : 0.00023999341672108194\n",
      "Iteration no. 894 : 0.00023972064721896979\n",
      "Iteration no. 895 : 0.00023944849702085063\n",
      "Iteration no. 896 : 0.0002391769640192425\n",
      "Iteration no. 897 : 0.0002389060461186542\n",
      "Iteration no. 898 : 0.00023863574123081133\n",
      "Iteration no. 899 : 0.00023836604727754275\n",
      "Iteration no. 900 : 0.00023809696219122479\n",
      "Iteration no. 901 : 0.0002378284839130049\n",
      "Iteration no. 902 : 0.00023756061039102515\n",
      "Iteration no. 903 : 0.0002372933395854184\n",
      "Iteration no. 904 : 0.00023702666946475549\n",
      "Iteration no. 905 : 0.0002367605980080437\n",
      "Iteration no. 906 : 0.00023649512319917548\n",
      "Iteration no. 907 : 0.00023623024303547738\n",
      "Iteration no. 908 : 0.00023596595552160372\n",
      "Iteration no. 909 : 0.00023570225867031367\n",
      "Iteration no. 910 : 0.00023543915050435875\n",
      "Iteration no. 911 : 0.00023517662905537257\n",
      "Iteration no. 912 : 0.00023491469236264955\n",
      "Iteration no. 913 : 0.00023465333847503227\n",
      "Iteration no. 914 : 0.0002343925654504675\n",
      "Iteration no. 915 : 0.00023413237135533994\n",
      "Iteration no. 916 : 0.00023387275426225184\n",
      "Iteration no. 917 : 0.00023361371225579612\n",
      "Iteration no. 918 : 0.0002333552434272274\n",
      "Iteration no. 919 : 0.00023309734587745933\n",
      "Iteration no. 920 : 0.0002328400177125131\n",
      "Iteration no. 921 : 0.00023258325705128856\n",
      "Iteration no. 922 : 0.000232327062018237\n",
      "Iteration no. 923 : 0.0002320714307461368\n",
      "Iteration no. 924 : 0.00023181636137687016\n",
      "Iteration no. 925 : 0.00023156185206120157\n",
      "Iteration no. 926 : 0.00023130790095433657\n",
      "Iteration no. 927 : 0.0002310545062250257\n",
      "Iteration no. 928 : 0.00023080166604412913\n",
      "Iteration no. 929 : 0.00023054937859671832\n",
      "Iteration no. 930 : 0.0002302976420696411\n",
      "Iteration no. 931 : 0.00023004645466195815\n",
      "Iteration no. 932 : 0.00022979581457928074\n",
      "Iteration no. 933 : 0.00022954572003488087\n",
      "Iteration no. 934 : 0.00022929616924935824\n",
      "Iteration no. 935 : 0.00022904716045175062\n",
      "Iteration no. 936 : 0.00022879869187986666\n",
      "Iteration no. 937 : 0.00022855076177529004\n",
      "Iteration no. 938 : 0.00022830336839170612\n",
      "Iteration no. 939 : 0.00022805650998812963\n",
      "Iteration no. 940 : 0.00022781018483090292\n",
      "Iteration no. 941 : 0.00022756439119491742\n",
      "Iteration no. 942 : 0.00022731912736117081\n",
      "Iteration no. 943 : 0.000227074391618988\n",
      "Iteration no. 944 : 0.00022683018226590945\n",
      "Iteration no. 945 : 0.000226586497604139\n",
      "Iteration no. 946 : 0.00022634333594609473\n",
      "Iteration no. 947 : 0.00022610069561007905\n",
      "Iteration no. 948 : 0.00022585857491994583\n",
      "Iteration no. 949 : 0.00022561697221031832\n",
      "Iteration no. 950 : 0.0002253758858200387\n",
      "Iteration no. 951 : 0.00022513531409638725\n",
      "Iteration no. 952 : 0.00022489525539252854\n",
      "Iteration no. 953 : 0.00022465570807073124\n",
      "Iteration no. 954 : 0.00022441667049881537\n",
      "Iteration no. 955 : 0.00022417814105004115\n",
      "Iteration no. 956 : 0.00022394011810766124\n",
      "Iteration no. 957 : 0.00022370260006114551\n",
      "Iteration no. 958 : 0.000223465585303628\n",
      "Iteration no. 959 : 0.00022322907223890084\n",
      "Iteration no. 960 : 0.0002229930592759748\n",
      "Iteration no. 961 : 0.00022275754482907858\n",
      "Iteration no. 962 : 0.00022252252732276624\n",
      "Iteration no. 963 : 0.00022228800518436776\n",
      "Iteration no. 964 : 0.00022205397685120512\n",
      "Iteration no. 965 : 0.00022182044076337622\n",
      "Iteration no. 966 : 0.00022158739537241434\n",
      "Iteration no. 967 : 0.00022135483913162944\n",
      "Iteration no. 968 : 0.00022112277050254718\n",
      "Iteration no. 969 : 0.00022089118795513133\n",
      "Iteration no. 970 : 0.0002206600899624543\n",
      "Iteration no. 971 : 0.00022042947500669255\n",
      "Iteration no. 972 : 0.00022019934157468574\n",
      "Iteration no. 973 : 0.00021996968815971303\n",
      "Iteration no. 974 : 0.00021974051326271416\n",
      "Iteration no. 975 : 0.00021951181538840405\n",
      "Iteration no. 976 : 0.0002192835930513786\n",
      "Iteration no. 977 : 0.00021905584476778828\n",
      "Iteration no. 978 : 0.00021882856906377582\n",
      "Iteration no. 979 : 0.00021860176446959187\n",
      "Iteration no. 980 : 0.00021837542952237072\n",
      "Iteration no. 981 : 0.0002181495627657971\n",
      "Iteration no. 982 : 0.00021792416274710866\n",
      "Iteration no. 983 : 0.00021769922802331325\n",
      "Iteration no. 984 : 0.0002174747571536392\n",
      "Iteration no. 985 : 0.00021725074870575294\n",
      "Iteration no. 986 : 0.000217027201252983\n",
      "Iteration no. 987 : 0.00021680411337265503\n",
      "Iteration no. 988 : 0.00021658148364997739\n",
      "Iteration no. 989 : 0.0002163593106755987\n",
      "Iteration no. 990 : 0.00021613759304494175\n",
      "Iteration no. 991 : 0.00021591632935953568\n",
      "Iteration no. 992 : 0.00021569551822834838\n",
      "Iteration no. 993 : 0.00021547515826212413\n",
      "Iteration no. 994 : 0.00021525524808270978\n",
      "Iteration no. 995 : 0.0002150357863119523\n",
      "Iteration no. 996 : 0.00021481677158102455\n",
      "Iteration no. 997 : 0.00021459820252609573\n",
      "Iteration no. 998 : 0.00021438007778788715\n",
      "Iteration no. 999 : 0.00021416239601244918\n",
      "Iteration no. 1000 : 0.000213945155853271\n"
     ]
    }
   ],
   "source": [
    "mod_iwls = LogisticRegression('iwls', normalize = True, eps = 10**-6)\n",
    "mod_iwls.fit(X_train, Y_train, verbose = True, save_errors = True)\n",
    "Y_hat_iwls = mod_iwls.predict(X_test, rounding = True)"
   ]
  },
  {
   "cell_type": "code",
   "execution_count": 318,
   "metadata": {},
   "outputs": [
    {
     "name": "stdout",
     "output_type": "stream",
     "text": [
      "Acccuracy:  0.9298245614035088\n",
      "Precision:  0.9090909090909091\n",
      "Recall:  0.9090909090909091\n",
      "F_measure:  0.9090909090909091\n",
      "R2_score:  0.7038961038961039\n"
     ]
    }
   ],
   "source": [
    "assess(Y_test, Y_hat_iwls)"
   ]
  },
  {
   "cell_type": "code",
   "execution_count": 319,
   "metadata": {},
   "outputs": [],
   "source": [
    "mod_powell = LogisticRegression('powell', normalize = True)\n",
    "mod_powell.fit(X_train, Y_train)\n",
    "Y_hat_powell = mod_iwls.predict(X_test, rounding = True)"
   ]
  },
  {
   "cell_type": "code",
   "execution_count": 320,
   "metadata": {},
   "outputs": [
    {
     "name": "stdout",
     "output_type": "stream",
     "text": [
      "Acccuracy:  0.9298245614035088\n",
      "Precision:  0.9090909090909091\n",
      "Recall:  0.9090909090909091\n",
      "F_measure:  0.9090909090909091\n",
      "R2_score:  0.7038961038961039\n"
     ]
    }
   ],
   "source": [
    "assess(Y_test, Y_hat_powell)"
   ]
  },
  {
   "cell_type": "code",
   "execution_count": 321,
   "metadata": {},
   "outputs": [],
   "source": [
    "X_train_norm, X_test_norm = (X_train-X_train.mean(0))/X_train.std(0), (X_test-X_train.mean(0))/X_train.std(0)\n",
    "model = sklearn.linear_model.LogisticRegression()\n",
    "result = model.fit(X_train_norm, Y_train)\n",
    "Y_hat = result.predict(X_test_norm)"
   ]
  },
  {
   "cell_type": "code",
   "execution_count": 322,
   "metadata": {},
   "outputs": [
    {
     "name": "stdout",
     "output_type": "stream",
     "text": [
      "Acccuracy:  0.9649122807017544\n",
      "Precision:  0.9761904761904762\n",
      "Recall:  0.9318181818181818\n",
      "F_measure:  0.9534883720930233\n",
      "R2_score:  0.851948051948052\n"
     ]
    }
   ],
   "source": [
    "assess(Y_test, Y_hat)"
   ]
  },
  {
   "cell_type": "code",
   "execution_count": 323,
   "metadata": {},
   "outputs": [],
   "source": [
    "mod_lda = LinearDiscriminantAnalysis()\n",
    "mod_lda = mod_lda.fit(X_train_norm, Y_train)\n",
    "Y_hat_lda = mod_lda.predict(X_test_norm)"
   ]
  },
  {
   "cell_type": "code",
   "execution_count": 324,
   "metadata": {},
   "outputs": [
    {
     "name": "stdout",
     "output_type": "stream",
     "text": [
      "Acccuracy:  0.956140350877193\n",
      "Precision:  1.0\n",
      "Recall:  0.8863636363636364\n",
      "F_measure:  0.9397590361445783\n",
      "R2_score:  0.814935064935065\n"
     ]
    }
   ],
   "source": [
    "assess(Y_test, Y_hat_lda)"
   ]
  },
  {
   "cell_type": "code",
   "execution_count": 325,
   "metadata": {},
   "outputs": [],
   "source": [
    "mod_qda = QuadraticDiscriminantAnalysis()\n",
    "mod_qda = mod_qda.fit(X_train_norm, Y_train)\n",
    "Y_hat_qda = mod_qda.predict(X_test_norm)"
   ]
  },
  {
   "cell_type": "code",
   "execution_count": 326,
   "metadata": {},
   "outputs": [
    {
     "name": "stdout",
     "output_type": "stream",
     "text": [
      "Acccuracy:  0.9736842105263158\n",
      "Precision:  0.9361702127659575\n",
      "Recall:  1.0\n",
      "F_measure:  0.967032967032967\n",
      "R2_score:  0.888961038961039\n"
     ]
    }
   ],
   "source": [
    "assess(Y_test, Y_hat_qda)"
   ]
  },
  {
   "cell_type": "code",
   "execution_count": 327,
   "metadata": {},
   "outputs": [],
   "source": [
    "mod_knn = KNeighborsClassifier(n_neighbors=5)\n",
    "mod_knn.fit(X_train_norm, Y_train)\n",
    "Y_hat_knn = mod_knn.predict(X_test_norm)"
   ]
  },
  {
   "cell_type": "code",
   "execution_count": 328,
   "metadata": {},
   "outputs": [
    {
     "name": "stdout",
     "output_type": "stream",
     "text": [
      "Acccuracy:  0.9824561403508771\n",
      "Precision:  0.9772727272727273\n",
      "Recall:  0.9772727272727273\n",
      "F_measure:  0.9772727272727273\n",
      "R2_score:  0.925974025974026\n"
     ]
    }
   ],
   "source": [
    "assess(Y_test, Y_hat_knn)"
   ]
  },
  {
   "cell_type": "code",
   "execution_count": 330,
   "metadata": {},
   "outputs": [
    {
     "data": {
      "image/png": "[encoded data removed]",
      "text/plain": [
       "<Figure size 432x288 with 1 Axes>"
      ]
     },
     "metadata": {
      "needs_background": "light"
     },
     "output_type": "display_data"
    }
   ],
   "source": [
    "ax = plt.subplot(1,1,1)\n",
    "plt.plot(list(range(1,len(mod_sgd.errors)+1)), mod_sgd.errors, '--')\n",
    "plt.plot(list(range(1,len(mod_gd.errors)+1)), mod_gd.errors, '--')\n",
    "plt.plot(list(range(1,len(mod_iwls.errors)+1)), mod_iwls.errors,'--')\n",
    "plt.ylabel('Error (Cross Entropy)')\n",
    "plt.xlabel('No. of iteration')\n",
    "ax.legend(['SGD', 'GD', 'IWLS'])\n",
    "plt.xlim(0,100)\n",
    "plt.show()"
   ]
  },
  {
   "cell_type": "code",
   "execution_count": 214,
   "metadata": {},
   "outputs": [],
   "source": [
    "alphas = [0.001, 0.005, 0.01, 0.05, 0.1, 0.2, 0.3, 0.4, 0.5, 0.75, 1, 2, 4, 8]\n",
    "accuracies = []\n",
    "precisions = []\n",
    "recalls = []\n",
    "f_measures = []\n",
    "\n",
    "for alpha in alphas:\n",
    "    current_model = LogisticRegression('sgd', alpha = alpha, batch_size = 200, normalize = True)\n",
    "    current_model.fit(X_train, Y_train)\n",
    "    cur_Y_hat = current_model.predict(X_test, rounding = True)\n",
    "    accuracies.append(accuracy(Y_test, cur_Y_hat))\n",
    "    precisions.append(precision(Y_test, cur_Y_hat))\n",
    "    recalls.append(recall(Y_test, cur_Y_hat))\n",
    "    f_measures.append(F_measure(Y_test, cur_Y_hat))"
   ]
  },
  {
   "cell_type": "code",
   "execution_count": 215,
   "metadata": {},
   "outputs": [
    {
     "data": {
      "image/png": "[encoded data removed]",
      "text/plain": [
       "<Figure size 432x288 with 1 Axes>"
      ]
     },
     "metadata": {
      "needs_background": "light"
     },
     "output_type": "display_data"
    }
   ],
   "source": [
    "ax = plt.subplot(1,1,1)\n",
    "plt.plot(alphas, accuracies, '--')\n",
    "plt.plot(alphas, precisions, '--')\n",
    "plt.plot(alphas, recalls, '--')\n",
    "plt.plot(alphas, f_measures, '--')\n",
    "plt.ylabel('Metrics value')\n",
    "plt.xlabel('Alpha')\n",
    "ax.legend(['Accuracy', 'Precision', 'Recall', 'F-measure'])\n",
    "plt.xlim(-0.1,1)\n",
    "plt.ylim(0.88,1)\n",
    "plt.title(\"SGD\")\n",
    "plt.show()"
   ]
  },
  {
   "cell_type": "code",
   "execution_count": 202,
   "metadata": {},
   "outputs": [],
   "source": [
    "alphas = [0.001, 0.005, 0.01, 0.05, 0.1, 0.2, 0.3, 0.4, 0.5, 0.75, 1, 2, 4, 8]\n",
    "accuracies = []\n",
    "precisions = []\n",
    "recalls = []\n",
    "f_measures = []\n",
    "\n",
    "for alpha in alphas:\n",
    "    current_model = LogisticRegression('gd', alpha = alpha, batch_size = 200, normalize = True)\n",
    "    current_model.fit(X_train, Y_train)\n",
    "    cur_Y_hat = current_model.predict(X_test, rounding = True)\n",
    "    accuracies.append(accuracy(Y_test, cur_Y_hat))\n",
    "    precisions.append(precision(Y_test, cur_Y_hat))\n",
    "    recalls.append(recall(Y_test, cur_Y_hat))\n",
    "    f_measures.append(F_measure(Y_test, cur_Y_hat))"
   ]
  },
  {
   "cell_type": "code",
   "execution_count": 208,
   "metadata": {},
   "outputs": [
    {
     "data": {
      "image/png": "[encoded data removed]",
      "text/plain": [
       "<Figure size 432x288 with 1 Axes>"
      ]
     },
     "metadata": {
      "needs_background": "light"
     },
     "output_type": "display_data"
    }
   ],
   "source": [
    "ax = plt.subplot(1,1,1)\n",
    "plt.plot(alphas, accuracies, '--')\n",
    "plt.plot(alphas, precisions, '--')\n",
    "plt.plot(alphas, recalls, '--')\n",
    "plt.plot(alphas, f_measures, '--')\n",
    "plt.ylabel('Metrics value')\n",
    "plt.xlabel('Alpha')\n",
    "ax.legend(['Accuracy', 'Precision', 'Recall', 'F-measure'])\n",
    "plt.xlim(-0.1,1)\n",
    "plt.title(\"GD\")\n",
    "plt.show()"
   ]
  },
  {
   "cell_type": "markdown",
   "metadata": {},
   "source": [
    "**Bank**"
   ]
  },
  {
   "cell_type": "code",
   "execution_count": 216,
   "metadata": {},
   "outputs": [],
   "source": [
    "np.random.seed(111)\n",
    "Y = Bank['y'].to_numpy()\n",
    "X = Bank.drop(columns=['y']).to_numpy()\n",
    "X_train, X_test, Y_train, Y_test = train_test_split(X, Y, test_size = 0.2)"
   ]
  },
  {
   "cell_type": "code",
   "execution_count": 217,
   "metadata": {},
   "outputs": [],
   "source": [
    "mod_sgd = LogisticRegression('sgd', alpha = 0.5, batch_size = 1000, normalize = True)\n",
    "mod_sgd.fit(X_train, Y_train, save_errors = True)\n",
    "Y_hat_sgd = mod_sgd.predict(X_test, rounding = True)"
   ]
  },
  {
   "cell_type": "code",
   "execution_count": 218,
   "metadata": {},
   "outputs": [
    {
     "name": "stdout",
     "output_type": "stream",
     "text": [
      "Acccuracy:  0.8994475138121547\n",
      "Precision:  0.717948717948718\n",
      "Recall:  0.25925925925925924\n",
      "F_measure:  0.38095238095238093\n",
      "R2_score:  0.04322923927691824\n"
     ]
    }
   ],
   "source": [
    "assess(Y_test, Y_hat_sgd)"
   ]
  },
  {
   "cell_type": "code",
   "execution_count": 219,
   "metadata": {},
   "outputs": [],
   "source": [
    "mod_gd = LogisticRegression('gd', alpha = 0.5, normalize = True)\n",
    "mod_gd.fit(X_train, Y_train, save_errors = True)\n",
    "Y_hat_gd = mod_gd.predict(X_test, rounding = True)"
   ]
  },
  {
   "cell_type": "code",
   "execution_count": 220,
   "metadata": {},
   "outputs": [
    {
     "name": "stdout",
     "output_type": "stream",
     "text": [
      "Acccuracy:  0.8994475138121547\n",
      "Precision:  0.717948717948718\n",
      "Recall:  0.25925925925925924\n",
      "F_measure:  0.38095238095238093\n",
      "R2_score:  0.04322923927691824\n"
     ]
    }
   ],
   "source": [
    "assess(Y_test, Y_hat_gd)"
   ]
  },
  {
   "cell_type": "code",
   "execution_count": 221,
   "metadata": {},
   "outputs": [],
   "source": [
    "mod_iwls = LogisticRegression('iwls', normalize = True, eps = 10**-8)\n",
    "mod_iwls.fit(X_train, Y_train, save_errors = True)\n",
    "Y_hat_iwls = mod_iwls.predict(X_test, rounding = True)"
   ]
  },
  {
   "cell_type": "code",
   "execution_count": 222,
   "metadata": {},
   "outputs": [
    {
     "name": "stdout",
     "output_type": "stream",
     "text": [
      "Acccuracy:  0.8994475138121547\n",
      "Precision:  0.717948717948718\n",
      "Recall:  0.25925925925925924\n",
      "F_measure:  0.38095238095238093\n",
      "R2_score:  0.04322923927691824\n"
     ]
    }
   ],
   "source": [
    "assess(Y_test, Y_hat_iwls)"
   ]
  },
  {
   "cell_type": "code",
   "execution_count": 223,
   "metadata": {},
   "outputs": [],
   "source": [
    "mod_powell = LogisticRegression('powell', normalize = True)\n",
    "mod_powell.fit(X_train, Y_train)\n",
    "Y_hat_powell = mod_iwls.predict(X_test, rounding = True)"
   ]
  },
  {
   "cell_type": "code",
   "execution_count": 224,
   "metadata": {},
   "outputs": [
    {
     "name": "stdout",
     "output_type": "stream",
     "text": [
      "Acccuracy:  0.8994475138121547\n",
      "Precision:  0.717948717948718\n",
      "Recall:  0.25925925925925924\n",
      "F_measure:  0.38095238095238093\n",
      "R2_score:  0.04322923927691824\n"
     ]
    }
   ],
   "source": [
    "assess(Y_test, Y_hat_powell)"
   ]
  },
  {
   "cell_type": "code",
   "execution_count": 225,
   "metadata": {},
   "outputs": [],
   "source": [
    "X_train_norm, X_test_norm = (X_train-X_train.mean(0))/X_train.std(0), (X_test-X_train.mean(0))/X_train.std(0)\n",
    "model = sklearn.linear_model.LogisticRegression()\n",
    "result = model.fit(X_train_norm, Y_train)\n",
    "Y_hat = result.predict(X_test_norm)"
   ]
  },
  {
   "cell_type": "code",
   "execution_count": 226,
   "metadata": {},
   "outputs": [
    {
     "name": "stdout",
     "output_type": "stream",
     "text": [
      "Acccuracy:  0.8994475138121547\n",
      "Precision:  0.717948717948718\n",
      "Recall:  0.25925925925925924\n",
      "F_measure:  0.38095238095238093\n",
      "R2_score:  0.04322923927691824\n"
     ]
    }
   ],
   "source": [
    "assess(Y_test, Y_hat)"
   ]
  },
  {
   "cell_type": "code",
   "execution_count": 227,
   "metadata": {},
   "outputs": [],
   "source": [
    "mod_lda = LinearDiscriminantAnalysis()\n",
    "mod_lda = mod_lda.fit(X_train_norm, Y_train)\n",
    "Y_hat_lda = mod_lda.predict(X_test_norm)"
   ]
  },
  {
   "cell_type": "code",
   "execution_count": 228,
   "metadata": {},
   "outputs": [
    {
     "name": "stdout",
     "output_type": "stream",
     "text": [
      "Acccuracy:  0.8983425414364641\n",
      "Precision:  0.6142857142857143\n",
      "Recall:  0.39814814814814814\n",
      "F_measure:  0.48314606741573035\n",
      "R2_score:  0.032715274873367894\n"
     ]
    }
   ],
   "source": [
    "assess(Y_test, Y_hat_lda)"
   ]
  },
  {
   "cell_type": "code",
   "execution_count": 229,
   "metadata": {},
   "outputs": [],
   "source": [
    "mod_qda = QuadraticDiscriminantAnalysis()\n",
    "mod_qda = mod_qda.fit(X_train_norm, Y_train)\n",
    "Y_hat_qda = mod_qda.predict(X_test_norm)"
   ]
  },
  {
   "cell_type": "code",
   "execution_count": 230,
   "metadata": {},
   "outputs": [
    {
     "name": "stdout",
     "output_type": "stream",
     "text": [
      "Acccuracy:  0.8519337016574585\n",
      "Precision:  0.3984375\n",
      "Recall:  0.4722222222222222\n",
      "F_measure:  0.43220338983050843\n",
      "R2_score:  -0.4088712300757469\n"
     ]
    }
   ],
   "source": [
    "assess(Y_test, Y_hat_qda)"
   ]
  },
  {
   "cell_type": "code",
   "execution_count": 231,
   "metadata": {},
   "outputs": [],
   "source": [
    "mod_knn = KNeighborsClassifier(n_neighbors=5)\n",
    "mod_knn.fit(X_train_norm, Y_train)\n",
    "Y_hat_knn = mod_knn.predict(X_test_norm)"
   ]
  },
  {
   "cell_type": "code",
   "execution_count": 232,
   "metadata": {},
   "outputs": [
    {
     "name": "stdout",
     "output_type": "stream",
     "text": [
      "Acccuracy:  0.8883977900552487\n",
      "Precision:  0.5945945945945946\n",
      "Recall:  0.2037037037037037\n",
      "F_measure:  0.30344827586206896\n",
      "R2_score:  -0.061910404758585225\n"
     ]
    }
   ],
   "source": [
    "assess(Y_test, Y_hat_knn)"
   ]
  },
  {
   "cell_type": "code",
   "execution_count": 238,
   "metadata": {},
   "outputs": [
    {
     "data": {
      "image/png": "[encoded data removed]",
      "text/plain": [
       "<Figure size 432x288 with 1 Axes>"
      ]
     },
     "metadata": {
      "needs_background": "light"
     },
     "output_type": "display_data"
    }
   ],
   "source": [
    "ax = plt.subplot(1,1,1)\n",
    "plt.plot(list(range(1,len(mod_sgd.errors)+1)), mod_sgd.errors, '--')\n",
    "plt.plot(list(range(1,len(mod_gd.errors)+1)), mod_gd.errors, '--')\n",
    "plt.plot(list(range(1,len(mod_iwls.errors)+1)), mod_iwls.errors,'--')\n",
    "plt.ylabel('Error (Cross Entropy)')\n",
    "plt.xlabel('No. of iteration')\n",
    "ax.legend(['SGD', 'GD', 'IWLS'])\n",
    "plt.xlim(0,100)\n",
    "plt.show()"
   ]
  },
  {
   "cell_type": "code",
   "execution_count": 239,
   "metadata": {},
   "outputs": [],
   "source": [
    "alphas = [0.001, 0.005, 0.01, 0.05, 0.1, 0.2, 0.3, 0.4, 0.5, 0.75, 1, 2, 4, 8]\n",
    "accuracies = []\n",
    "precisions = []\n",
    "recalls = []\n",
    "f_measures = []\n",
    "\n",
    "for alpha in alphas:\n",
    "    current_model = LogisticRegression('sgd', alpha = alpha, batch_size = 200, normalize = True)\n",
    "    current_model.fit(X_train, Y_train)\n",
    "    cur_Y_hat = current_model.predict(X_test, rounding = True)\n",
    "    accuracies.append(accuracy(Y_test, cur_Y_hat))\n",
    "    precisions.append(precision(Y_test, cur_Y_hat))\n",
    "    recalls.append(recall(Y_test, cur_Y_hat))\n",
    "    f_measures.append(F_measure(Y_test, cur_Y_hat))"
   ]
  },
  {
   "cell_type": "code",
   "execution_count": 246,
   "metadata": {},
   "outputs": [
    {
     "data": {
      "image/png": "[encoded data removed]",
      "text/plain": [
       "<Figure size 432x288 with 1 Axes>"
      ]
     },
     "metadata": {
      "needs_background": "light"
     },
     "output_type": "display_data"
    }
   ],
   "source": [
    "ax = plt.subplot(1,1,1)\n",
    "plt.plot(alphas, accuracies, '--')\n",
    "plt.plot(alphas, precisions, '--')\n",
    "plt.plot(alphas, recalls, '--')\n",
    "plt.plot(alphas, f_measures, '--')\n",
    "plt.ylabel('Metrics value')\n",
    "plt.xlabel('Alpha')\n",
    "ax.legend(['Accuracy', 'Precision', 'Recall', 'F-measure'])\n",
    "plt.title(\"SGD\")\n",
    "plt.xlim(-0.1,1)\n",
    "plt.ylim(0.1,0.95)\n",
    "plt.show()"
   ]
  },
  {
   "cell_type": "code",
   "execution_count": 247,
   "metadata": {},
   "outputs": [],
   "source": [
    "alphas = [0.001, 0.005, 0.01, 0.05, 0.1, 0.2, 0.3, 0.4, 0.5, 0.75, 1, 2, 4, 8]\n",
    "accuracies = []\n",
    "precisions = []\n",
    "recalls = []\n",
    "f_measures = []\n",
    "\n",
    "for alpha in alphas:\n",
    "    current_model = LogisticRegression('gd', alpha = alpha, batch_size = 200, normalize = True)\n",
    "    current_model.fit(X_train, Y_train)\n",
    "    cur_Y_hat = current_model.predict(X_test, rounding = True)\n",
    "    accuracies.append(accuracy(Y_test, cur_Y_hat))\n",
    "    precisions.append(precision(Y_test, cur_Y_hat))\n",
    "    recalls.append(recall(Y_test, cur_Y_hat))\n",
    "    f_measures.append(F_measure(Y_test, cur_Y_hat))"
   ]
  },
  {
   "cell_type": "code",
   "execution_count": 248,
   "metadata": {},
   "outputs": [
    {
     "data": {
      "image/png": "[encoded data removed]",
      "text/plain": [
       "<Figure size 432x288 with 1 Axes>"
      ]
     },
     "metadata": {
      "needs_background": "light"
     },
     "output_type": "display_data"
    }
   ],
   "source": [
    "ax = plt.subplot(1,1,1)\n",
    "plt.plot(alphas, accuracies, '--')\n",
    "plt.plot(alphas, precisions, '--')\n",
    "plt.plot(alphas, recalls, '--')\n",
    "plt.plot(alphas, f_measures, '--')\n",
    "plt.ylabel('Metrics value')\n",
    "plt.xlabel('Alpha')\n",
    "ax.legend(['Accuracy', 'Precision', 'Recall', 'F-measure'])\n",
    "plt.title(\"GD\")\n",
    "plt.xlim(-0.1,1)\n",
    "plt.ylim(0.1,0.95)\n",
    "plt.show()"
   ]
  },
  {
   "cell_type": "markdown",
   "metadata": {},
   "source": [
    "**Pokemon**"
   ]
  },
  {
   "cell_type": "code",
   "execution_count": 111,
   "metadata": {},
   "outputs": [],
   "source": [
    "np.random.seed(111)\n",
    "Y = Pokemon[\"is_legendary\"].to_numpy()\n",
    "X = Pokemon.drop(columns=[\"is_legendary\"]).to_numpy()\n",
    "X_train, X_test, Y_train, Y_test = train_test_split(X, Y, test_size = 0.2)"
   ]
  },
  {
   "cell_type": "code",
   "execution_count": 112,
   "metadata": {},
   "outputs": [],
   "source": [
    "mod_sgd = LogisticRegression('sgd', alpha = 0.01, batch_size = 200, normalize = True)\n",
    "mod_sgd.fit(X_train, Y_train, save_errors = True)\n",
    "Y_hat_sgd = mod_sgd.predict(X_test, rounding = True)"
   ]
  },
  {
   "cell_type": "code",
   "execution_count": 113,
   "metadata": {},
   "outputs": [
    {
     "name": "stdout",
     "output_type": "stream",
     "text": [
      "Acccuracy:  0.9813664596273292\n",
      "Precision:  0.9090909090909091\n",
      "Recall:  0.8333333333333334\n",
      "F_measure:  0.8695652173913043\n",
      "R2_score:  0.7298657718120806\n"
     ]
    }
   ],
   "source": [
    "assess(Y_test, Y_hat_sgd)"
   ]
  },
  {
   "cell_type": "code",
   "execution_count": 114,
   "metadata": {},
   "outputs": [],
   "source": [
    "mod_gd = LogisticRegression('gd', alpha = 0.01, normalize = True)\n",
    "mod_gd.fit(X_train, Y_train, save_errors = True)\n",
    "Y_hat_gd = mod_gd.predict(X_test, rounding = True)"
   ]
  },
  {
   "cell_type": "code",
   "execution_count": 115,
   "metadata": {},
   "outputs": [
    {
     "name": "stdout",
     "output_type": "stream",
     "text": [
      "Acccuracy:  0.9813664596273292\n",
      "Precision:  0.9090909090909091\n",
      "Recall:  0.8333333333333334\n",
      "F_measure:  0.8695652173913043\n",
      "R2_score:  0.7298657718120806\n"
     ]
    }
   ],
   "source": [
    "assess(Y_test, Y_hat_gd)"
   ]
  },
  {
   "cell_type": "code",
   "execution_count": 116,
   "metadata": {},
   "outputs": [],
   "source": [
    "mod_iwls = LogisticRegression('iwls', normalize = True, eps = 10**-6)\n",
    "mod_iwls.fit(X_train, Y_train, save_errors = True)\n",
    "Y_hat_iwls = mod_iwls.predict(X_test, rounding = True)"
   ]
  },
  {
   "cell_type": "code",
   "execution_count": 117,
   "metadata": {},
   "outputs": [
    {
     "name": "stdout",
     "output_type": "stream",
     "text": [
      "Acccuracy:  0.9627329192546584\n",
      "Precision:  0.7142857142857143\n",
      "Recall:  0.8333333333333334\n",
      "F_measure:  0.7692307692307692\n",
      "R2_score:  0.45973154362416113\n"
     ]
    }
   ],
   "source": [
    "assess(Y_test, Y_hat_iwls)"
   ]
  },
  {
   "cell_type": "code",
   "execution_count": 118,
   "metadata": {},
   "outputs": [],
   "source": [
    "mod_powell = LogisticRegression('powell', normalize = True)\n",
    "mod_powell.fit(X_train, Y_train)\n",
    "Y_hat_powell = mod_iwls.predict(X_test, rounding = True)"
   ]
  },
  {
   "cell_type": "code",
   "execution_count": 119,
   "metadata": {},
   "outputs": [
    {
     "name": "stdout",
     "output_type": "stream",
     "text": [
      "Acccuracy:  0.9627329192546584\n",
      "Precision:  0.7142857142857143\n",
      "Recall:  0.8333333333333334\n",
      "F_measure:  0.7692307692307692\n",
      "R2_score:  0.45973154362416113\n"
     ]
    }
   ],
   "source": [
    "assess(Y_test, Y_hat_powell)"
   ]
  },
  {
   "cell_type": "code",
   "execution_count": 120,
   "metadata": {},
   "outputs": [],
   "source": [
    "X_train_norm, X_test_norm = (X_train-X_train.mean(0))/X_train.std(0), (X_test-X_train.mean(0))/X_train.std(0)\n",
    "model = sklearn.linear_model.LogisticRegression()\n",
    "result = model.fit(X_train_norm, Y_train)\n",
    "Y_hat = result.predict(X_test_norm)"
   ]
  },
  {
   "cell_type": "code",
   "execution_count": 121,
   "metadata": {},
   "outputs": [
    {
     "name": "stdout",
     "output_type": "stream",
     "text": [
      "Acccuracy:  0.9751552795031055\n",
      "Precision:  0.8333333333333334\n",
      "Recall:  0.8333333333333334\n",
      "F_measure:  0.8333333333333334\n",
      "R2_score:  0.639821029082774\n"
     ]
    }
   ],
   "source": [
    "assess(Y_test, Y_hat)"
   ]
  },
  {
   "cell_type": "code",
   "execution_count": 122,
   "metadata": {},
   "outputs": [],
   "source": [
    "mod_lda = LinearDiscriminantAnalysis()\n",
    "mod_lda = mod_lda.fit(X_train_norm, Y_train)\n",
    "Y_hat_lda = mod_lda.predict(X_test_norm)"
   ]
  },
  {
   "cell_type": "code",
   "execution_count": 123,
   "metadata": {},
   "outputs": [
    {
     "name": "stdout",
     "output_type": "stream",
     "text": [
      "Acccuracy:  0.9813664596273292\n",
      "Precision:  0.9090909090909091\n",
      "Recall:  0.8333333333333334\n",
      "F_measure:  0.8695652173913043\n",
      "R2_score:  0.7298657718120806\n"
     ]
    }
   ],
   "source": [
    "assess(Y_test, Y_hat_lda)"
   ]
  },
  {
   "cell_type": "code",
   "execution_count": 124,
   "metadata": {},
   "outputs": [],
   "source": [
    "mod_qda = QuadraticDiscriminantAnalysis()\n",
    "mod_qda = mod_qda.fit(X_train_norm, Y_train)\n",
    "Y_hat_qda = mod_qda.predict(X_test_norm)"
   ]
  },
  {
   "cell_type": "code",
   "execution_count": 125,
   "metadata": {},
   "outputs": [
    {
     "name": "stdout",
     "output_type": "stream",
     "text": [
      "Acccuracy:  0.9565217391304348\n",
      "Precision:  0.6666666666666666\n",
      "Recall:  0.8333333333333334\n",
      "F_measure:  0.7407407407407408\n",
      "R2_score:  0.3696868008948546\n"
     ]
    }
   ],
   "source": [
    "assess(Y_test, Y_hat_qda)"
   ]
  },
  {
   "cell_type": "code",
   "execution_count": 126,
   "metadata": {},
   "outputs": [],
   "source": [
    "mod_knn = KNeighborsClassifier(n_neighbors=5)\n",
    "mod_knn.fit(X_train_norm, Y_train)\n",
    "Y_hat_knn = mod_knn.predict(X_test_norm)"
   ]
  },
  {
   "cell_type": "code",
   "execution_count": 127,
   "metadata": {},
   "outputs": [
    {
     "name": "stdout",
     "output_type": "stream",
     "text": [
      "Acccuracy:  0.9751552795031055\n",
      "Precision:  0.8333333333333334\n",
      "Recall:  0.8333333333333334\n",
      "F_measure:  0.8333333333333334\n",
      "R2_score:  0.639821029082774\n"
     ]
    }
   ],
   "source": [
    "assess(Y_test, Y_hat_knn)"
   ]
  },
  {
   "cell_type": "code",
   "execution_count": 331,
   "metadata": {},
   "outputs": [
    {
     "data": {
      "image/png": "[encoded data removed]",
      "text/plain": [
       "<Figure size 432x288 with 1 Axes>"
      ]
     },
     "metadata": {
      "needs_background": "light"
     },
     "output_type": "display_data"
    }
   ],
   "source": [
    "ax = plt.subplot(1,1,1)\n",
    "plt.plot(list(range(1,len(mod_sgd.errors)+1)), mod_sgd.errors, '--')\n",
    "plt.plot(list(range(1,len(mod_gd.errors)+1)), mod_gd.errors, '--')\n",
    "plt.plot(list(range(1,len(mod_iwls.errors)+1)), mod_iwls.errors,'--')\n",
    "plt.ylabel('Error (Cross Entropy)')\n",
    "plt.xlabel('No. of iteration')\n",
    "ax.legend(['SGD', 'GD', 'IWLS'])\n",
    "plt.xlim(0,1000)\n",
    "plt.show()"
   ]
  },
  {
   "cell_type": "code",
   "execution_count": 129,
   "metadata": {},
   "outputs": [],
   "source": [
    "alphas = [0.001, 0.005, 0.01, 0.05, 0.1, 0.2, 0.3, 0.4, 0.5, 0.75, 1, 2, 4, 8]\n",
    "accuracies = []\n",
    "precisions = []\n",
    "recalls = []\n",
    "f_measures = []\n",
    "\n",
    "for alpha in alphas:\n",
    "    current_model = LogisticRegression('sgd', alpha = alpha, batch_size = 200, normalize = True)\n",
    "    current_model.fit(X_train, Y_train)\n",
    "    cur_Y_hat = current_model.predict(X_test, rounding = True)\n",
    "    accuracies.append(accuracy(Y_test, cur_Y_hat))\n",
    "    precisions.append(precision(Y_test, cur_Y_hat))\n",
    "    recalls.append(recall(Y_test, cur_Y_hat))\n",
    "    f_measures.append(F_measure(Y_test, cur_Y_hat))"
   ]
  },
  {
   "cell_type": "code",
   "execution_count": 130,
   "metadata": {},
   "outputs": [
    {
     "data": {
      "image/png": "[encoded data removed]",
      "text/plain": [
       "<Figure size 432x288 with 1 Axes>"
      ]
     },
     "metadata": {
      "needs_background": "light"
     },
     "output_type": "display_data"
    }
   ],
   "source": [
    "ax = plt.subplot(1,1,1)\n",
    "plt.plot(alphas, accuracies, '--')\n",
    "plt.plot(alphas, precisions, '--')\n",
    "plt.plot(alphas, recalls, '--')\n",
    "plt.plot(alphas, f_measures, '--')\n",
    "plt.ylabel('Metrics value')\n",
    "plt.xlabel('Alpha')\n",
    "ax.legend(['Accuracy', 'Precision', 'Recall', 'F-measure'])\n",
    "plt.show()"
   ]
  },
  {
   "cell_type": "code",
   "execution_count": 131,
   "metadata": {},
   "outputs": [],
   "source": [
    "alphas = [0.001, 0.005, 0.01, 0.05, 0.1, 0.2, 0.3, 0.4, 0.5, 0.75, 1, 2, 4, 8]\n",
    "accuracies = []\n",
    "precisions = []\n",
    "recalls = []\n",
    "f_measures = []\n",
    "\n",
    "for alpha in alphas:\n",
    "    current_model = LogisticRegression('gd', alpha = alpha, batch_size = 200, normalize = True)\n",
    "    current_model.fit(X_train, Y_train)\n",
    "    cur_Y_hat = current_model.predict(X_test, rounding = True)\n",
    "    accuracies.append(accuracy(Y_test, cur_Y_hat))\n",
    "    precisions.append(precision(Y_test, cur_Y_hat))\n",
    "    recalls.append(recall(Y_test, cur_Y_hat))\n",
    "    f_measures.append(F_measure(Y_test, cur_Y_hat))"
   ]
  },
  {
   "cell_type": "code",
   "execution_count": 132,
   "metadata": {},
   "outputs": [
    {
     "data": {
      "image/png": "[encoded data removed]",
      "text/plain": [
       "<Figure size 432x288 with 1 Axes>"
      ]
     },
     "metadata": {
      "needs_background": "light"
     },
     "output_type": "display_data"
    }
   ],
   "source": [
    "ax = plt.subplot(1,1,1)\n",
    "plt.plot(alphas, accuracies, '--')\n",
    "plt.plot(alphas, precisions, '--')\n",
    "plt.plot(alphas, recalls, '--')\n",
    "plt.plot(alphas, f_measures, '--')\n",
    "plt.ylabel('Metrics value')\n",
    "plt.xlabel('Alpha')\n",
    "ax.legend(['Accuracy', 'Precision', 'Recall', 'F-measure'])\n",
    "plt.show()"
   ]
  },
  {
   "cell_type": "markdown",
   "metadata": {},
   "source": [
    "**Diabetes**"
   ]
  },
  {
   "cell_type": "code",
   "execution_count": 133,
   "metadata": {},
   "outputs": [],
   "source": [
    "np.random.seed(111)\n",
    "Y = Diabetes[\"class\"].to_numpy()\n",
    "X = Diabetes.drop(columns=[\"class\"]).to_numpy()\n",
    "X_train, X_test, Y_train, Y_test = train_test_split(X, Y, test_size = 0.2)"
   ]
  },
  {
   "cell_type": "code",
   "execution_count": 134,
   "metadata": {},
   "outputs": [],
   "source": [
    "mod_sgd = LogisticRegression('sgd', alpha = 0.5, batch_size = 200, normalize = True)\n",
    "mod_sgd.fit(X_train, Y_train, save_errors = True)\n",
    "Y_hat_sgd = mod_sgd.predict(X_test, rounding = True)"
   ]
  },
  {
   "cell_type": "code",
   "execution_count": 135,
   "metadata": {},
   "outputs": [
    {
     "name": "stdout",
     "output_type": "stream",
     "text": [
      "Acccuracy:  0.7597402597402597\n",
      "Precision:  0.66\n",
      "Recall:  0.6226415094339622\n",
      "F_measure:  0.6407766990291262\n",
      "R2_score:  -0.06444984121053587\n"
     ]
    }
   ],
   "source": [
    "assess(Y_test, Y_hat_sgd)"
   ]
  },
  {
   "cell_type": "code",
   "execution_count": 136,
   "metadata": {},
   "outputs": [],
   "source": [
    "mod_gd = LogisticRegression('gd',alpha = 0.01, normalize = True)\n",
    "mod_gd.fit(X_train, Y_train, save_errors = True)\n",
    "Y_hat_gd = mod_gd.predict(X_test, rounding = True)"
   ]
  },
  {
   "cell_type": "code",
   "execution_count": 137,
   "metadata": {},
   "outputs": [
    {
     "name": "stdout",
     "output_type": "stream",
     "text": [
      "Acccuracy:  0.7272727272727273\n",
      "Precision:  0.6222222222222222\n",
      "Recall:  0.5283018867924528\n",
      "F_measure:  0.5714285714285715\n",
      "R2_score:  -0.20829441434709484\n"
     ]
    }
   ],
   "source": [
    "assess(Y_test, Y_hat_gd)"
   ]
  },
  {
   "cell_type": "code",
   "execution_count": 138,
   "metadata": {},
   "outputs": [],
   "source": [
    "mod_iwls = LogisticRegression('iwls', normalize = True, eps = 10**-5)\n",
    "mod_iwls.fit(X_train, Y_train, save_errors = True)\n",
    "Y_hat_iwls = mod_iwls.predict(X_test, rounding = True)"
   ]
  },
  {
   "cell_type": "code",
   "execution_count": 139,
   "metadata": {},
   "outputs": [
    {
     "name": "stdout",
     "output_type": "stream",
     "text": [
      "Acccuracy:  0.7597402597402597\n",
      "Precision:  0.66\n",
      "Recall:  0.6226415094339622\n",
      "F_measure:  0.6407766990291262\n",
      "R2_score:  -0.06444984121053587\n"
     ]
    }
   ],
   "source": [
    "assess(Y_test, Y_hat_iwls)"
   ]
  },
  {
   "cell_type": "code",
   "execution_count": 140,
   "metadata": {},
   "outputs": [],
   "source": [
    "mod_powell = LogisticRegression('powell', normalize = True)\n",
    "mod_powell.fit(X_train, Y_train)\n",
    "Y_hat_powell = mod_iwls.predict(X_test, rounding = True)"
   ]
  },
  {
   "cell_type": "code",
   "execution_count": 141,
   "metadata": {},
   "outputs": [
    {
     "name": "stdout",
     "output_type": "stream",
     "text": [
      "Acccuracy:  0.7597402597402597\n",
      "Precision:  0.66\n",
      "Recall:  0.6226415094339622\n",
      "F_measure:  0.6407766990291262\n",
      "R2_score:  -0.06444984121053587\n"
     ]
    }
   ],
   "source": [
    "assess(Y_test, Y_hat_powell)"
   ]
  },
  {
   "cell_type": "code",
   "execution_count": 142,
   "metadata": {},
   "outputs": [],
   "source": [
    "X_train_norm, X_test_norm = (X_train-X_train.mean(0))/X_train.std(0), (X_test-X_train.mean(0))/X_train.std(0)\n",
    "model = sklearn.linear_model.LogisticRegression()\n",
    "result = model.fit(X_train_norm, Y_train)\n",
    "Y_hat = result.predict(X_test_norm)"
   ]
  },
  {
   "cell_type": "code",
   "execution_count": 143,
   "metadata": {},
   "outputs": [
    {
     "name": "stdout",
     "output_type": "stream",
     "text": [
      "Acccuracy:  0.7597402597402597\n",
      "Precision:  0.66\n",
      "Recall:  0.6226415094339622\n",
      "F_measure:  0.6407766990291262\n",
      "R2_score:  -0.06444984121053587\n"
     ]
    }
   ],
   "source": [
    "assess(Y_test, Y_hat)"
   ]
  },
  {
   "cell_type": "code",
   "execution_count": 144,
   "metadata": {},
   "outputs": [],
   "source": [
    "mod_lda = LinearDiscriminantAnalysis()\n",
    "mod_lda = mod_lda.fit(X_train_norm, Y_train)\n",
    "Y_hat_lda = mod_lda.predict(X_test_norm)"
   ]
  },
  {
   "cell_type": "code",
   "execution_count": 145,
   "metadata": {},
   "outputs": [
    {
     "name": "stdout",
     "output_type": "stream",
     "text": [
      "Acccuracy:  0.7467532467532467\n",
      "Precision:  0.6666666666666666\n",
      "Recall:  0.5283018867924528\n",
      "F_measure:  0.5894736842105263\n",
      "R2_score:  -0.12198767046515946\n"
     ]
    }
   ],
   "source": [
    "assess(Y_test, Y_hat_lda)"
   ]
  },
  {
   "cell_type": "code",
   "execution_count": 146,
   "metadata": {},
   "outputs": [],
   "source": [
    "mod_qda = QuadraticDiscriminantAnalysis()\n",
    "mod_qda = mod_qda.fit(X_train_norm, Y_train)\n",
    "Y_hat_qda = mod_qda.predict(X_test_norm)"
   ]
  },
  {
   "cell_type": "code",
   "execution_count": 147,
   "metadata": {},
   "outputs": [
    {
     "name": "stdout",
     "output_type": "stream",
     "text": [
      "Acccuracy:  0.7337662337662337\n",
      "Precision:  0.6153846153846154\n",
      "Recall:  0.6037735849056604\n",
      "F_measure:  0.6095238095238096\n",
      "R2_score:  -0.17952549971978304\n"
     ]
    }
   ],
   "source": [
    "assess(Y_test, Y_hat_qda)"
   ]
  },
  {
   "cell_type": "code",
   "execution_count": 148,
   "metadata": {},
   "outputs": [],
   "source": [
    "mod_knn = KNeighborsClassifier(n_neighbors=5)\n",
    "mod_knn.fit(X_train_norm, Y_train)\n",
    "Y_hat_knn = mod_knn.predict(X_test_norm)"
   ]
  },
  {
   "cell_type": "code",
   "execution_count": 149,
   "metadata": {},
   "outputs": [
    {
     "name": "stdout",
     "output_type": "stream",
     "text": [
      "Acccuracy:  0.6818181818181818\n",
      "Precision:  0.5384615384615384\n",
      "Recall:  0.5283018867924528\n",
      "F_measure:  0.5333333333333333\n",
      "R2_score:  -0.40967681673827716\n"
     ]
    }
   ],
   "source": [
    "assess(Y_test, Y_hat_knn)"
   ]
  },
  {
   "cell_type": "code",
   "execution_count": 150,
   "metadata": {},
   "outputs": [
    {
     "data": {
      "image/png": "[encoded data removed]",
      "text/plain": [
       "<Figure size 432x288 with 1 Axes>"
      ]
     },
     "metadata": {
      "needs_background": "light"
     },
     "output_type": "display_data"
    }
   ],
   "source": [
    "ax = plt.subplot(1,1,1)\n",
    "plt.plot(list(range(1,len(mod_sgd.errors)+1)), mod_sgd.errors, '--')\n",
    "plt.plot(list(range(1,len(mod_gd.errors)+1)), mod_gd.errors, '--')\n",
    "plt.plot(list(range(1,len(mod_iwls.errors)+1)), mod_iwls.errors,'--')\n",
    "plt.ylabel('Error (Cross Entropy)')\n",
    "plt.xlabel('No. of iteration')\n",
    "ax.legend(['SGD', 'GD', 'IWLS'])\n",
    "plt.xlim(0,100)\n",
    "plt.show()"
   ]
  },
  {
   "cell_type": "code",
   "execution_count": 151,
   "metadata": {},
   "outputs": [],
   "source": [
    "alphas = [0.001, 0.005, 0.01, 0.05, 0.1, 0.2, 0.3, 0.4, 0.5, 0.75, 1, 2, 4, 8]\n",
    "accuracies = []\n",
    "precisions = []\n",
    "recalls = []\n",
    "f_measures = []\n",
    "\n",
    "for alpha in alphas:\n",
    "    current_model = LogisticRegression('sgd', alpha = alpha, batch_size = 200, normalize = True)\n",
    "    current_model.fit(X_train, Y_train)\n",
    "    cur_Y_hat = current_model.predict(X_test, rounding = True)\n",
    "    accuracies.append(accuracy(Y_test, cur_Y_hat))\n",
    "    precisions.append(precision(Y_test, cur_Y_hat))\n",
    "    recalls.append(recall(Y_test, cur_Y_hat))\n",
    "    f_measures.append(F_measure(Y_test, cur_Y_hat))"
   ]
  },
  {
   "cell_type": "code",
   "execution_count": 152,
   "metadata": {},
   "outputs": [
    {
     "data": {
      "image/png": "[encoded data removed]",
      "text/plain": [
       "<Figure size 432x288 with 1 Axes>"
      ]
     },
     "metadata": {
      "needs_background": "light"
     },
     "output_type": "display_data"
    }
   ],
   "source": [
    "ax = plt.subplot(1,1,1)\n",
    "plt.plot(alphas, accuracies, '--')\n",
    "plt.plot(alphas, precisions, '--')\n",
    "plt.plot(alphas, recalls, '--')\n",
    "plt.plot(alphas, f_measures, '--')\n",
    "plt.ylabel('Metrics value')\n",
    "plt.xlabel('Alpha')\n",
    "ax.legend(['Accuracy', 'Precision', 'Recall', 'F-measure'])\n",
    "plt.show()"
   ]
  },
  {
   "cell_type": "code",
   "execution_count": 153,
   "metadata": {},
   "outputs": [],
   "source": [
    "alphas = [0.001, 0.005, 0.01, 0.05, 0.1, 0.2, 0.3, 0.4, 0.5, 0.75, 1, 2, 4, 8]\n",
    "accuracies = []\n",
    "precisions = []\n",
    "recalls = []\n",
    "f_measures = []\n",
    "\n",
    "for alpha in alphas:\n",
    "    current_model = LogisticRegression('gd', alpha = alpha, batch_size = 200, normalize = True)\n",
    "    current_model.fit(X_train, Y_train)\n",
    "    cur_Y_hat = current_model.predict(X_test, rounding = True)\n",
    "    accuracies.append(accuracy(Y_test, cur_Y_hat))\n",
    "    precisions.append(precision(Y_test, cur_Y_hat))\n",
    "    recalls.append(recall(Y_test, cur_Y_hat))\n",
    "    f_measures.append(F_measure(Y_test, cur_Y_hat))"
   ]
  },
  {
   "cell_type": "code",
   "execution_count": 154,
   "metadata": {},
   "outputs": [
    {
     "data": {
      "image/png": "[encoded data removed]",
      "text/plain": [
       "<Figure size 432x288 with 1 Axes>"
      ]
     },
     "metadata": {
      "needs_background": "light"
     },
     "output_type": "display_data"
    }
   ],
   "source": [
    "ax = plt.subplot(1,1,1)\n",
    "plt.plot(alphas, accuracies, '--')\n",
    "plt.plot(alphas, precisions, '--')\n",
    "plt.plot(alphas, recalls, '--')\n",
    "plt.plot(alphas, f_measures, '--')\n",
    "plt.ylabel('Metrics value')\n",
    "plt.xlabel('Alpha')\n",
    "ax.legend(['Accuracy', 'Precision', 'Recall', 'F-measure'])\n",
    "plt.show()"
   ]
  },
  {
   "cell_type": "markdown",
   "metadata": {},
   "source": [
    "**Titanic**"
   ]
  },
  {
   "cell_type": "code",
   "execution_count": 155,
   "metadata": {},
   "outputs": [],
   "source": [
    "np.random.seed(111)\n",
    "Y = Titanic[\"Survived\"].to_numpy()\n",
    "X = Titanic.drop(columns=[\"Survived\"]).to_numpy()\n",
    "X_train, X_test, Y_train, Y_test = train_test_split(X, Y, test_size = 0.2)"
   ]
  },
  {
   "cell_type": "code",
   "execution_count": 156,
   "metadata": {},
   "outputs": [],
   "source": [
    "mod_sgd = LogisticRegression('sgd', alpha = 0.1, batch_size = 100, normalize = True)\n",
    "mod_sgd.fit(X_train, Y_train, save_errors = True)\n",
    "Y_hat_sgd = mod_sgd.predict(X_test, rounding = True)"
   ]
  },
  {
   "cell_type": "code",
   "execution_count": 157,
   "metadata": {},
   "outputs": [
    {
     "name": "stdout",
     "output_type": "stream",
     "text": [
      "Acccuracy:  0.5238095238095238\n",
      "Precision:  0.6\n",
      "Recall:  0.07317073170731707\n",
      "F_measure:  0.13043478260869565\n",
      "R2_score:  -0.9058423142370962\n"
     ]
    }
   ],
   "source": [
    "assess(Y_test, Y_hat_sgd)"
   ]
  },
  {
   "cell_type": "code",
   "execution_count": 158,
   "metadata": {},
   "outputs": [],
   "source": [
    "mod_gd = LogisticRegression('gd', alpha = 0.1, normalize = True)\n",
    "mod_gd.fit(X_train, Y_train, save_errors = True)\n",
    "Y_hat_gd = mod_gd.predict(X_test, rounding = True)"
   ]
  },
  {
   "cell_type": "code",
   "execution_count": 159,
   "metadata": {},
   "outputs": [
    {
     "name": "stdout",
     "output_type": "stream",
     "text": [
      "Acccuracy:  0.5238095238095238\n",
      "Precision:  0.5714285714285714\n",
      "Recall:  0.0975609756097561\n",
      "F_measure:  0.16666666666666669\n",
      "R2_score:  -0.9058423142370962\n"
     ]
    }
   ],
   "source": [
    "assess(Y_test, Y_hat_gd)"
   ]
  },
  {
   "cell_type": "code",
   "execution_count": 160,
   "metadata": {},
   "outputs": [],
   "source": [
    "mod_iwls = LogisticRegression('iwls', normalize = True, eps = 10**-5)\n",
    "mod_iwls.fit(X_train, Y_train, save_errors = True)\n",
    "Y_hat_iwls = mod_iwls.predict(X_test, rounding = True)"
   ]
  },
  {
   "cell_type": "code",
   "execution_count": 161,
   "metadata": {},
   "outputs": [
    {
     "name": "stdout",
     "output_type": "stream",
     "text": [
      "Acccuracy:  0.5238095238095238\n",
      "Precision:  0.5714285714285714\n",
      "Recall:  0.0975609756097561\n",
      "F_measure:  0.16666666666666669\n",
      "R2_score:  -0.9058423142370962\n"
     ]
    }
   ],
   "source": [
    "assess(Y_test, Y_hat_iwls)"
   ]
  },
  {
   "cell_type": "code",
   "execution_count": 162,
   "metadata": {},
   "outputs": [],
   "source": [
    "mod_powell = LogisticRegression('powell', normalize = True)\n",
    "mod_powell.fit(X_train, Y_train)\n",
    "Y_hat_powell = mod_iwls.predict(X_test, rounding = True)"
   ]
  },
  {
   "cell_type": "code",
   "execution_count": 163,
   "metadata": {},
   "outputs": [
    {
     "name": "stdout",
     "output_type": "stream",
     "text": [
      "Acccuracy:  0.5238095238095238\n",
      "Precision:  0.5714285714285714\n",
      "Recall:  0.0975609756097561\n",
      "F_measure:  0.16666666666666669\n",
      "R2_score:  -0.9058423142370962\n"
     ]
    }
   ],
   "source": [
    "assess(Y_test, Y_hat_powell)"
   ]
  },
  {
   "cell_type": "code",
   "execution_count": 164,
   "metadata": {},
   "outputs": [],
   "source": [
    "X_train_norm, X_test_norm = (X_train-X_train.mean(0))/X_train.std(0), (X_test-X_train.mean(0))/X_train.std(0)\n",
    "model = sklearn.linear_model.LogisticRegression()\n",
    "result = model.fit(X_train_norm, Y_train)\n",
    "Y_hat = result.predict(X_test_norm)"
   ]
  },
  {
   "cell_type": "code",
   "execution_count": 165,
   "metadata": {},
   "outputs": [
    {
     "name": "stdout",
     "output_type": "stream",
     "text": [
      "Acccuracy:  0.5238095238095238\n",
      "Precision:  0.5714285714285714\n",
      "Recall:  0.0975609756097561\n",
      "F_measure:  0.16666666666666669\n",
      "R2_score:  -0.9058423142370962\n"
     ]
    }
   ],
   "source": [
    "assess(Y_test, Y_hat)"
   ]
  },
  {
   "cell_type": "code",
   "execution_count": 166,
   "metadata": {},
   "outputs": [],
   "source": [
    "mod_lda = LinearDiscriminantAnalysis()\n",
    "mod_lda = mod_lda.fit(X_train_norm, Y_train)\n",
    "Y_hat_lda = mod_lda.predict(X_test_norm)"
   ]
  },
  {
   "cell_type": "code",
   "execution_count": 167,
   "metadata": {},
   "outputs": [
    {
     "name": "stdout",
     "output_type": "stream",
     "text": [
      "Acccuracy:  0.5238095238095238\n",
      "Precision:  0.5714285714285714\n",
      "Recall:  0.0975609756097561\n",
      "F_measure:  0.16666666666666669\n",
      "R2_score:  -0.9058423142370962\n"
     ]
    }
   ],
   "source": [
    "assess(Y_test, Y_hat_lda)"
   ]
  },
  {
   "cell_type": "code",
   "execution_count": 168,
   "metadata": {},
   "outputs": [],
   "source": [
    "mod_qda = QuadraticDiscriminantAnalysis()\n",
    "mod_qda = mod_qda.fit(X_train_norm, Y_train)\n",
    "Y_hat_qda = mod_qda.predict(X_test_norm)"
   ]
  },
  {
   "cell_type": "code",
   "execution_count": 169,
   "metadata": {},
   "outputs": [
    {
     "name": "stdout",
     "output_type": "stream",
     "text": [
      "Acccuracy:  0.5833333333333334\n",
      "Precision:  0.6363636363636364\n",
      "Recall:  0.34146341463414637\n",
      "F_measure:  0.4444444444444445\n",
      "R2_score:  -0.6676120249574593\n"
     ]
    }
   ],
   "source": [
    "assess(Y_test, Y_hat_qda)"
   ]
  },
  {
   "cell_type": "code",
   "execution_count": 170,
   "metadata": {},
   "outputs": [],
   "source": [
    "mod_knn = KNeighborsClassifier(n_neighbors=5)\n",
    "mod_knn.fit(X_train_norm, Y_train)\n",
    "Y_hat_knn = mod_knn.predict(X_test_norm)"
   ]
  },
  {
   "cell_type": "code",
   "execution_count": 171,
   "metadata": {},
   "outputs": [
    {
     "name": "stdout",
     "output_type": "stream",
     "text": [
      "Acccuracy:  0.6071428571428571\n",
      "Precision:  0.6666666666666666\n",
      "Recall:  0.3902439024390244\n",
      "F_measure:  0.4923076923076923\n",
      "R2_score:  -0.5723199092456044\n"
     ]
    }
   ],
   "source": [
    "assess(Y_test, Y_hat_knn)"
   ]
  },
  {
   "cell_type": "code",
   "execution_count": 332,
   "metadata": {},
   "outputs": [
    {
     "data": {
      "image/png": "[encoded data removed]",
      "text/plain": [
       "<Figure size 432x288 with 1 Axes>"
      ]
     },
     "metadata": {
      "needs_background": "light"
     },
     "output_type": "display_data"
    }
   ],
   "source": [
    "ax = plt.subplot(1,1,1)\n",
    "plt.plot(list(range(1,len(mod_sgd.errors)+1)), mod_sgd.errors, '--')\n",
    "plt.plot(list(range(1,len(mod_gd.errors)+1)), mod_gd.errors, '--')\n",
    "plt.plot(list(range(1,len(mod_iwls.errors)+1)), mod_iwls.errors,'--')\n",
    "plt.ylabel('Error (Cross Entropy)')\n",
    "plt.xlabel('No. of iteration')\n",
    "ax.legend(['SGD', 'GD', 'IWLS'])\n",
    "plt.xlim(0,100)\n",
    "plt.show()"
   ]
  },
  {
   "cell_type": "code",
   "execution_count": 173,
   "metadata": {},
   "outputs": [],
   "source": [
    "alphas = [0.001, 0.005, 0.01, 0.05, 0.1, 0.2, 0.3, 0.4, 0.5, 0.75, 1, 2, 4, 8]\n",
    "accuracies = []\n",
    "precisions = []\n",
    "recalls = []\n",
    "f_measures = []\n",
    "\n",
    "for alpha in alphas:\n",
    "    current_model = LogisticRegression('sgd', alpha = alpha, batch_size = 200, normalize = True)\n",
    "    current_model.fit(X_train, Y_train)\n",
    "    cur_Y_hat = current_model.predict(X_test, rounding = True)\n",
    "    accuracies.append(accuracy(Y_test, cur_Y_hat))\n",
    "    precisions.append(precision(Y_test, cur_Y_hat))\n",
    "    recalls.append(recall(Y_test, cur_Y_hat))\n",
    "    f_measures.append(F_measure(Y_test, cur_Y_hat))"
   ]
  },
  {
   "cell_type": "code",
   "execution_count": 174,
   "metadata": {},
   "outputs": [
    {
     "data": {
      "image/png": "[encoded data removed]",
      "text/plain": [
       "<Figure size 432x288 with 1 Axes>"
      ]
     },
     "metadata": {
      "needs_background": "light"
     },
     "output_type": "display_data"
    }
   ],
   "source": [
    "ax = plt.subplot(1,1,1)\n",
    "plt.plot(alphas, accuracies, '--')\n",
    "plt.plot(alphas, precisions, '--')\n",
    "plt.plot(alphas, recalls, '--')\n",
    "plt.plot(alphas, f_measures, '--')\n",
    "plt.ylabel('Metrics value')\n",
    "plt.xlabel('Alpha')\n",
    "ax.legend(['Accuracy', 'Precision', 'Recall', 'F-measure'])\n",
    "plt.show()"
   ]
  },
  {
   "cell_type": "code",
   "execution_count": 175,
   "metadata": {},
   "outputs": [],
   "source": [
    "alphas = [0.001, 0.005, 0.01, 0.05, 0.1, 0.2, 0.3, 0.4, 0.5, 0.75, 1, 2, 4, 8]\n",
    "accuracies = []\n",
    "precisions = []\n",
    "recalls = []\n",
    "f_measures = []\n",
    "\n",
    "for alpha in alphas:\n",
    "    current_model = LogisticRegression('gd', alpha = alpha, batch_size = 200, normalize = True)\n",
    "    current_model.fit(X_train, Y_train)\n",
    "    cur_Y_hat = current_model.predict(X_test, rounding = True)\n",
    "    accuracies.append(accuracy(Y_test, cur_Y_hat))\n",
    "    precisions.append(precision(Y_test, cur_Y_hat))\n",
    "    recalls.append(recall(Y_test, cur_Y_hat))\n",
    "    f_measures.append(F_measure(Y_test, cur_Y_hat))"
   ]
  },
  {
   "cell_type": "code",
   "execution_count": 176,
   "metadata": {},
   "outputs": [
    {
     "data": {
      "image/png": "[encoded data removed]",
      "text/plain": [
       "<Figure size 432x288 with 1 Axes>"
      ]
     },
     "metadata": {
      "needs_background": "light"
     },
     "output_type": "display_data"
    }
   ],
   "source": [
    "ax = plt.subplot(1,1,1)\n",
    "plt.plot(alphas, accuracies, '--')\n",
    "plt.plot(alphas, precisions, '--')\n",
    "plt.plot(alphas, recalls, '--')\n",
    "plt.plot(alphas, f_measures, '--')\n",
    "plt.ylabel('Metrics value')\n",
    "plt.xlabel('Alpha')\n",
    "ax.legend(['Accuracy', 'Precision', 'Recall', 'F-measure'])\n",
    "plt.show()"
   ]
  }
 ],
 "metadata": {
  "kernelspec": {
   "display_name": "Python 3",
   "language": "python",
   "name": "python3"
  },
  "language_info": {
   "codemirror_mode": {
    "name": "ipython",
    "version": 3
   },
   "file_extension": ".py",
   "mimetype": "text/x-python",
   "name": "python",
   "nbconvert_exporter": "python",
   "pygments_lexer": "ipython3",
   "version": "3.8.5"
  }
 },
 "nbformat": 4,
 "nbformat_minor": 4
}
